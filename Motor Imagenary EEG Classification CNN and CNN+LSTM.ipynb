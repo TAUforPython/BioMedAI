{
  "nbformat": 4,
  "nbformat_minor": 0,
  "metadata": {
    "colab": {
      "provenance": [],
      "include_colab_link": true
    },
    "kernelspec": {
      "name": "python3",
      "display_name": "Python 3"
    },
    "accelerator": "GPU"
  },
  "cells": [
    {
      "cell_type": "markdown",
      "metadata": {
        "id": "view-in-github",
        "colab_type": "text"
      },
      "source": [
        "<a href=\"https://colab.research.google.com/github/TAUforPython/BioMedAI/blob/main/Motor%20Imagenary%20EEG%20Classification%20CNN%20and%20CNN%2BLSTM.ipynb\" target=\"_parent\"><img src=\"https://colab.research.google.com/assets/colab-badge.svg\" alt=\"Open In Colab\"/></a>"
      ]
    },
    {
      "cell_type": "markdown",
      "metadata": {
        "id": "YTqsBUIvQ78C"
      },
      "source": [
        "https://www.physionet.org/pn4/eegmmidb/\n",
        "\n",
        "2-class: MI trials of opening and closing either the right or the left fist. Due to some variability in the number of trials per subject, a subset of 105 subjects and 42 trials per subject were selected (21 for each side), although most subjects performed more than 42 trials."
      ]
    },
    {
      "cell_type": "markdown",
      "source": [
        "https://www.sciencedirect.com/science/article/pii/S0957417418305359?via%3Dihub"
      ],
      "metadata": {
        "id": "MUqc1yn-Ty3I"
      }
    },
    {
      "cell_type": "markdown",
      "metadata": {
        "id": "_t3diW985XCB"
      },
      "source": [
        "##CNN-2D и CNN-2D + LSTM + STFT + CWT"
      ]
    },
    {
      "cell_type": "code",
      "source": [
        "!pip install pywavelets --quiet"
      ],
      "metadata": {
        "colab": {
          "base_uri": "https://localhost:8080/"
        },
        "id": "WgtbOoHmLyHu",
        "outputId": "2631ac51-d6a8-43b4-c057-63d909f525ba"
      },
      "execution_count": 5,
      "outputs": [
        {
          "output_type": "stream",
          "name": "stdout",
          "text": [
            "\u001b[2K   \u001b[90m━━━━━━━━━━━━━━━━━━━━━━━━━━━━━━━━━━━━━━━━\u001b[0m \u001b[32m4.5/4.5 MB\u001b[0m \u001b[31m26.9 MB/s\u001b[0m eta \u001b[36m0:00:00\u001b[0m\n",
            "\u001b[?25h"
          ]
        }
      ]
    },
    {
      "cell_type": "code",
      "metadata": {
        "id": "Lu6G4RhARzNV"
      },
      "source": [
        "import numpy as np\n",
        "import pandas as pd\n",
        "import matplotlib.pyplot as plt\n",
        "import time\n",
        "from scipy.signal import spectrogram\n",
        "import pywt\n",
        "import cv2\n",
        "from sklearn.metrics import cohen_kappa_score, confusion_matrix\n",
        "from keras.models import Sequential\n",
        "from keras.layers import (Conv2D, MaxPool2D, Flatten, Dense, Dropout,\n",
        "                          TimeDistributed, LSTM)\n",
        "from keras.optimizers import Adam\n",
        "from keras import backend as K"
      ],
      "execution_count": 44,
      "outputs": []
    },
    {
      "cell_type": "code",
      "metadata": {
        "id": "13h1G0s9SES2"
      },
      "source": [
        "# download dataset\n",
        "x_train = pd.read_csv(\"MI-EEG-B9T.csv\",\n",
        "                      header=None)\n",
        "x_test = pd.read_csv(\"MI-EEG-B9E.csv\",\n",
        "                     header=None)\n",
        "y_train = pd.read_csv(\"etiquetas_train_9.csv\",\n",
        "                      header=None)\n",
        "y_test = pd.read_csv(\"etiquetas_test_9.csv\",\n",
        "                     header=None)"
      ],
      "execution_count": 45,
      "outputs": []
    },
    {
      "cell_type": "code",
      "metadata": {
        "colab": {
          "base_uri": "https://localhost:8080/"
        },
        "id": "c-IAvD7ZSEXD",
        "outputId": "8b5beb8f-c126-41fc-c4a1-6ff76212dc33"
      },
      "source": [
        "print(x_train.shape)\n",
        "print(x_test.shape)\n",
        "print(y_train.shape)\n",
        "print(y_test.shape)"
      ],
      "execution_count": 46,
      "outputs": [
        {
          "output_type": "stream",
          "name": "stdout",
          "text": [
            "(400, 3000)\n",
            "(320, 3000)\n",
            "(400, 1)\n",
            "(320, 1)\n"
          ]
        }
      ]
    },
    {
      "cell_type": "code",
      "metadata": {
        "colab": {
          "base_uri": "https://localhost:8080/"
        },
        "id": "xXyRGCPfSEbC",
        "outputId": "43002aba-388a-41a4-b252-d09800f66640"
      },
      "source": [
        "n_samples_train = len(y_train)\n",
        "n_samples_test = len(y_test)\n",
        "\n",
        "print(\"n_samples_train:\", n_samples_train)\n",
        "print(\"n_samples_test :\", n_samples_test)"
      ],
      "execution_count": 47,
      "outputs": [
        {
          "output_type": "stream",
          "name": "stdout",
          "text": [
            "n_samples_train: 400\n",
            "n_samples_test : 320\n"
          ]
        }
      ]
    },
    {
      "cell_type": "code",
      "metadata": {
        "colab": {
          "base_uri": "https://localhost:8080/"
        },
        "id": "iyrAptCCSEe3",
        "outputId": "03820e1c-d0ae-4008-d481-ccc4de75e760"
      },
      "source": [
        "# count classes\n",
        "n_classes = len(np.unique(y_test))\n",
        "\n",
        "print(\"n_classes:\", n_classes)"
      ],
      "execution_count": 48,
      "outputs": [
        {
          "output_type": "stream",
          "name": "stdout",
          "text": [
            "n_classes: 2\n"
          ]
        }
      ]
    },
    {
      "cell_type": "code",
      "metadata": {
        "id": "_TuppVHBSEi-"
      },
      "source": [
        "# calculate STFT\n",
        "\n",
        "def spectrogram_vertical(data, fs, alto, ancho, n_canales, pts_sig,\n",
        "                                 pts_superpuestos):\n",
        "  #fs = fs #frecuencia de muestreo\n",
        "  dataset = np.zeros((data.shape[0],alto, ancho))\n",
        "\n",
        "  # crear matriz 2D donde se guardara cada imagen del STFT\n",
        "  temporal = np.zeros((alto, ancho))\n",
        "\n",
        "  for i in range(data.shape[0]): # n muestras\n",
        "    for j in range(n_canales): # n canales\n",
        "\n",
        "      sig = data.iloc[i, j*pts_sig:(j+1)*pts_sig]\n",
        "\n",
        "      f, t, Sxx = spectrogram(sig, fs=fs, window='hann', nperseg=fs,\n",
        "                              noverlap=pts_superpuestos, nfft=fs*2,\n",
        "                              scaling='spectrum')\n",
        "\n",
        "      # concatenacion vertical chanels\n",
        "      temporal[j*45:(j+1)*45, :] = Sxx[16:61, :]\n",
        "\n",
        "    dataset[i] = temporal\n",
        "    if i % 100 == 0:\n",
        "      print(i)\n",
        "  return dataset"
      ],
      "execution_count": 49,
      "outputs": []
    },
    {
      "cell_type": "code",
      "metadata": {
        "id": "vPmTO6FOYl1N"
      },
      "source": [
        "# calculate scalogram CWT\n",
        "\n",
        "def scalogram_vertical(data, fs, alto, ancho, n_canales, pts_sig):\n",
        "  dim = (int(np.floor(ancho/2)), int(np.floor(alto/2))) # ancho, alto\n",
        "\n",
        "  # Wavelet Morlet 3-3\n",
        "  # frequency 8 - 30 Hz\n",
        "  scales = pywt.scale2frequency('cmor3-3', np.arange(8,30.5,0.5)) / (1/fs)\n",
        "\n",
        "  dataset = np.zeros((data.shape[0], int(np.floor(alto/2)),\n",
        "                    int(np.floor(ancho/2))))\n",
        "\n",
        "  temporal = np.zeros((alto, ancho))\n",
        "\n",
        "  for i in range(data.shape[0]):\n",
        "    for j in range(n_canales):\n",
        "\n",
        "      sig = data.iloc[i, j*pts_sig:(j+1)*pts_sig]\n",
        "\n",
        "      coef, freqs = pywt.cwt(sig, scales, 'cmor3-3',\n",
        "                             sampling_period = (1 / fs))\n",
        "\n",
        "      temporal[j*45:(j+1)*45, :] = abs(coef)\n",
        "\n",
        "    resized = cv2.resize(temporal, dim, interpolation=cv2.INTER_AREA)\n",
        "    dataset[i] = resized\n",
        "    if i % 100 == 0:\n",
        "      print(i)\n",
        "  return dataset"
      ],
      "execution_count": 50,
      "outputs": []
    },
    {
      "cell_type": "code",
      "metadata": {
        "colab": {
          "base_uri": "https://localhost:8080/"
        },
        "id": "kI3vya9ESEmy",
        "outputId": "bb08e98d-319f-4df0-cf71-baa48db3bbfb"
      },
      "source": [
        "initial_time = time.time()\n",
        "\n",
        "# STFT\n",
        "#x_train = spectrogram_vertical(x_train, 250, 135, 31, 3, 1000, 225)\n",
        "#x_test = spectrogram_vertical(x_test, 250, 135, 31, 3, 1000, 225)\n",
        "\n",
        "# CWT\n",
        "x_train = scalogram_vertical(x_train, 250, 135, 1000, 3, 1000)\n",
        "x_test = scalogram_vertical(x_test, 250, 135, 1000, 3, 1000)\n",
        "\n",
        "fin = time.time()\n",
        "print(\"Elapsed_time:\", fin - initial_time)"
      ],
      "execution_count": 51,
      "outputs": [
        {
          "output_type": "stream",
          "name": "stdout",
          "text": [
            "0\n",
            "100\n",
            "200\n",
            "300\n",
            "0\n",
            "100\n",
            "200\n",
            "300\n",
            "Tiempo: 35.31148886680603\n"
          ]
        }
      ]
    },
    {
      "cell_type": "code",
      "metadata": {
        "colab": {
          "base_uri": "https://localhost:8080/"
        },
        "id": "3AgOC1rySEq3",
        "outputId": "20c060c8-3908-494c-f63b-8245b783a0ef"
      },
      "source": [
        "print(x_train.shape)\n",
        "print(x_test.shape)"
      ],
      "execution_count": 52,
      "outputs": [
        {
          "output_type": "stream",
          "name": "stdout",
          "text": [
            "(400, 67, 500)\n",
            "(320, 67, 500)\n"
          ]
        }
      ]
    },
    {
      "cell_type": "code",
      "metadata": {
        "id": "4f_t8RyZSEx6"
      },
      "source": [
        "x = np.ceil(np.max(x_train))"
      ],
      "execution_count": 53,
      "outputs": []
    },
    {
      "cell_type": "code",
      "metadata": {
        "id": "8BlRiAIWSE1h"
      },
      "source": [
        "# convert to float\n",
        "x_train = x_train.astype('float32')\n",
        "x_test = x_test.astype('float32')\n",
        "\n",
        "x_train /= x\n",
        "x_test /= x"
      ],
      "execution_count": 54,
      "outputs": []
    },
    {
      "cell_type": "code",
      "metadata": {
        "colab": {
          "base_uri": "https://localhost:8080/",
          "height": 406
        },
        "id": "0GOuISIJSE8j",
        "outputId": "a826ee4c-a195-4ebd-8f07-486b6d00a473"
      },
      "source": [
        "plt.figure()\n",
        "plt.imshow(x_train[1])\n",
        "plt.colorbar()\n",
        "plt.show()"
      ],
      "execution_count": 55,
      "outputs": [
        {
          "output_type": "display_data",
          "data": {
            "text/plain": [
              "<Figure size 640x480 with 2 Axes>"
            ],
            "image/png": "[encoded data removed]"
          },
          "metadata": {}
        }
      ]
    },
    {
      "cell_type": "code",
      "metadata": {
        "colab": {
          "base_uri": "https://localhost:8080/"
        },
        "id": "O3mL4IGDSFAO",
        "outputId": "26b73b3e-3413-4171-8b04-af0038368382"
      },
      "source": [
        "#  reshape a 4D (for CNN-2D)\n",
        "#x_train = x_train.reshape((x_train.shape[0], x_train.shape[1], x_train.shape[2], 1))\n",
        "#x_test = x_test.reshape((x_test.shape[0], x_test.shape[1], x_test.shape[2], 1))\n",
        "\n",
        "# convert  3D to 5D (CNN-2D + LSTM)\n",
        "x_train = x_train.reshape((x_train.shape[0], 1, x_train.shape[1], x_train.shape[2], 1))\n",
        "x_test = x_test.reshape((x_test.shape[0], 1, x_test.shape[1], x_test.shape[2], 1))\n",
        "\n",
        "print(x_train.shape)\n",
        "print(x_test.shape)"
      ],
      "execution_count": 56,
      "outputs": [
        {
          "output_type": "stream",
          "name": "stdout",
          "text": [
            "(400, 1, 67, 500, 1)\n",
            "(320, 1, 67, 500, 1)\n"
          ]
        }
      ]
    },
    {
      "cell_type": "code",
      "metadata": {
        "id": "K8DVX3jnSFGi"
      },
      "source": [
        "# crear red neuronal CNN-2D\n",
        "\n",
        "def CNN_2D(n_filter, filter_size, n_neurons):\n",
        "  model = Sequential()\n",
        "  model.add(Conv2D(n_filter, filter_size, activation='relu', padding='same',\n",
        "                   input_shape=x_train.shape[1:]))\n",
        "  model.add(MaxPool2D((2,2)))\n",
        "  model.add(Conv2D(n_filter, filter_size, activation='relu', padding='same'))\n",
        "  model.add(MaxPool2D((2,2)))\n",
        "  model.add(Flatten())\n",
        "  model.add(Dense(n_neurons, activation='relu'))\n",
        "  model.add(Dropout(0.5))\n",
        "  model.add(Dense(n_classes, activation='softmax'))\n",
        "\n",
        "  optimizer = Adam(learning_rate=0.001)\n",
        "  model.compile(optimizer = optimizer,\n",
        "                loss = 'sparse_categorical_crossentropy',\n",
        "                metrics = ['accuracy'])\n",
        "  return model"
      ],
      "execution_count": 57,
      "outputs": []
    },
    {
      "cell_type": "code",
      "metadata": {
        "id": "IQtsCEzrXoWs"
      },
      "source": [
        "# crear red neuronal CNN-2D + LSTM\n",
        "\n",
        "def CNN_2D_LSTM_TD(n_filter, filter_size, n_neurons, num_LSTM):\n",
        "  model = Sequential()\n",
        "  model.add(TimeDistributed(Conv2D(n_filter, filter_size, activation='relu',\n",
        "                                   padding='same'),\n",
        "                            input_shape=x_train.shape[1:]))\n",
        "  model.add(TimeDistributed(MaxPool2D((2,2))))\n",
        "  model.add(TimeDistributed(Conv2D(n_filter, filter_size, activation='relu',\n",
        "                                   padding='same')))\n",
        "  model.add(TimeDistributed(MaxPool2D((2,2))))\n",
        "  model.add(TimeDistributed(Flatten()))\n",
        "  model.add(LSTM(num_LSTM, activation='tanh', dropout=0.5))\n",
        "  model.add(Dense(n_neurons, activation='relu'))\n",
        "  model.add(Dense(n_classes, activation='softmax'))\n",
        "\n",
        "  optimizer = Adam(learning_rate=1e-4)\n",
        "  model.compile(optimizer = optimizer,\n",
        "                loss = 'sparse_categorical_crossentropy',\n",
        "                metrics = ['accuracy'])\n",
        "  return model"
      ],
      "execution_count": 58,
      "outputs": []
    },
    {
      "cell_type": "code",
      "metadata": {
        "colab": {
          "base_uri": "https://localhost:8080/"
        },
        "id": "JhjOU6tRSFJl",
        "outputId": "8d0a0ee2-cfa3-4fb1-dddf-dcd32a0be47b"
      },
      "source": [
        "initial_time = time.time()\n",
        "array_loss = []\n",
        "array_acc = []\n",
        "array_kappa = []\n",
        "for i in range(5):\n",
        "  print(\"Iteration:\", i+1)\n",
        "\n",
        "\n",
        "  #model = CNN_2D(4, (3,3), 32)\n",
        "  model = CNN_2D_LSTM_TD(4, (3,3), 32, 4)\n",
        "\n",
        "  history = model.fit(x_train, y_train, epochs=4, batch_size=36,\n",
        "                      validation_data=(x_test, y_test), verbose=0)\n",
        "\n",
        "\n",
        "  test_loss, test_acc = model.evaluate(x_test, y_test, verbose=0)\n",
        "\n",
        "  array_loss.append(test_loss)\n",
        "  print(\"loss: \", test_loss)\n",
        "  array_acc.append(test_acc)\n",
        "  print(\"accuracy: \", test_acc)\n",
        "\n",
        "  probabilities = model.predict(x_test)\n",
        "\n",
        "\n",
        "  y_pred = np.argmax(probabilities, 1)\n",
        "\n",
        "  # calculate kappa cohen\n",
        "  kappa = cohen_kappa_score(y_test, y_pred)\n",
        "  array_kappa.append(kappa)\n",
        "  print(\"kappa: \", kappa)\n",
        "\n",
        "  #matriz_confusion = confusion_matrix(y_test, y_pred)\n",
        "  #print(\"confusion matrix:\\n\", matriz_confusion)"
      ],
      "execution_count": 59,
      "outputs": [
        {
          "output_type": "stream",
          "name": "stdout",
          "text": [
            "Iteration: 1\n"
          ]
        },
        {
          "output_type": "stream",
          "name": "stderr",
          "text": [
            "/usr/local/lib/python3.10/dist-packages/keras/src/layers/core/wrapper.py:27: UserWarning: Do not pass an `input_shape`/`input_dim` argument to a layer. When using Sequential models, prefer using an `Input(shape)` object as the first layer in the model instead.\n",
            "  super().__init__(**kwargs)\n"
          ]
        },
        {
          "output_type": "stream",
          "name": "stdout",
          "text": [
            "loss:  0.6926823258399963\n",
            "accuracy:  0.546875\n",
            "\u001b[1m10/10\u001b[0m \u001b[32m━━━━━━━━━━━━━━━━━━━━\u001b[0m\u001b[37m\u001b[0m \u001b[1m0s\u001b[0m 7ms/step\n",
            "kappa:  0.11875000000000002\n",
            "Iteration: 2\n"
          ]
        },
        {
          "output_type": "stream",
          "name": "stderr",
          "text": [
            "/usr/local/lib/python3.10/dist-packages/keras/src/layers/core/wrapper.py:27: UserWarning: Do not pass an `input_shape`/`input_dim` argument to a layer. When using Sequential models, prefer using an `Input(shape)` object as the first layer in the model instead.\n",
            "  super().__init__(**kwargs)\n"
          ]
        },
        {
          "output_type": "stream",
          "name": "stdout",
          "text": [
            "loss:  0.6909443736076355\n",
            "accuracy:  0.5375000238418579\n",
            "\u001b[1m10/10\u001b[0m \u001b[32m━━━━━━━━━━━━━━━━━━━━\u001b[0m\u001b[37m\u001b[0m \u001b[1m1s\u001b[0m 4ms/step  \n",
            "kappa:  0.0625\n",
            "Iteration: 3\n"
          ]
        },
        {
          "output_type": "stream",
          "name": "stderr",
          "text": [
            "/usr/local/lib/python3.10/dist-packages/keras/src/layers/core/wrapper.py:27: UserWarning: Do not pass an `input_shape`/`input_dim` argument to a layer. When using Sequential models, prefer using an `Input(shape)` object as the first layer in the model instead.\n",
            "  super().__init__(**kwargs)\n"
          ]
        },
        {
          "output_type": "stream",
          "name": "stdout",
          "text": [
            "loss:  0.6931104063987732\n",
            "accuracy:  0.4937500059604645\n",
            "\u001b[1m10/10\u001b[0m \u001b[32m━━━━━━━━━━━━━━━━━━━━\u001b[0m\u001b[37m\u001b[0m \u001b[1m0s\u001b[0m 3ms/step  \n",
            "kappa:  0.08750000000000002\n",
            "Iteration: 4\n"
          ]
        },
        {
          "output_type": "stream",
          "name": "stderr",
          "text": [
            "/usr/local/lib/python3.10/dist-packages/keras/src/layers/core/wrapper.py:27: UserWarning: Do not pass an `input_shape`/`input_dim` argument to a layer. When using Sequential models, prefer using an `Input(shape)` object as the first layer in the model instead.\n",
            "  super().__init__(**kwargs)\n"
          ]
        },
        {
          "output_type": "stream",
          "name": "stdout",
          "text": [
            "loss:  0.6930649876594543\n",
            "accuracy:  0.5\n",
            "\u001b[1m10/10\u001b[0m \u001b[32m━━━━━━━━━━━━━━━━━━━━\u001b[0m\u001b[37m\u001b[0m \u001b[1m0s\u001b[0m 4ms/step  \n",
            "kappa:  0.0\n",
            "Iteration: 5\n"
          ]
        },
        {
          "output_type": "stream",
          "name": "stderr",
          "text": [
            "/usr/local/lib/python3.10/dist-packages/keras/src/layers/core/wrapper.py:27: UserWarning: Do not pass an `input_shape`/`input_dim` argument to a layer. When using Sequential models, prefer using an `Input(shape)` object as the first layer in the model instead.\n",
            "  super().__init__(**kwargs)\n"
          ]
        },
        {
          "output_type": "stream",
          "name": "stdout",
          "text": [
            "loss:  0.6922308206558228\n",
            "accuracy:  0.5\n",
            "\u001b[1m10/10\u001b[0m \u001b[32m━━━━━━━━━━━━━━━━━━━━\u001b[0m\u001b[37m\u001b[0m \u001b[1m0s\u001b[0m 3ms/step  \n",
            "kappa:  0.0\n"
          ]
        }
      ]
    },
    {
      "cell_type": "code",
      "source": [
        "  plt.plot(history.history['accuracy'])\n",
        "  plt.plot(history.history['val_accuracy'])\n",
        "  plt.grid()\n",
        "  plt.xlabel('Epochs')\n",
        "  plt.ylabel('Accuracy')\n",
        "  plt.legend(['train', 'test'])\n",
        "  plt.show()\n",
        "  plt.plot(history.history['loss'])\n",
        "  plt.plot(history.history['val_loss'])\n",
        "  plt.grid()\n",
        "  plt.xlabel('Epochs')\n",
        "  plt.ylabel('Cross-Entropy')\n",
        "  plt.legend(['train', 'test'])\n",
        "  plt.show()\n",
        "\n",
        "print()\n",
        "print(\"Result:\")\n",
        "print(\"loss:\", array_loss)\n",
        "print(\"accuracy:\", array_acc)\n",
        "print(\"kappa:\", array_kappa)\n",
        "fin = time.time()\n",
        "Elapsed_time = fin - initial_time\n",
        "print(\"Elapsed_time:\", Elapsed_time)"
      ],
      "metadata": {
        "colab": {
          "base_uri": "https://localhost:8080/",
          "height": 983
        },
        "id": "W7tzWhHUSH8A",
        "outputId": "6123e251-7854-4343-e7b1-1690df6a90ff"
      },
      "execution_count": 60,
      "outputs": [
        {
          "output_type": "display_data",
          "data": {
            "text/plain": [
              "<Figure size 640x480 with 1 Axes>"
            ],
            "image/png": "[encoded data removed]"
          },
          "metadata": {}
        },
        {
          "output_type": "display_data",
          "data": {
            "text/plain": [
              "<Figure size 640x480 with 1 Axes>"
            ],
            "image/png": "[encoded data removed]"
          },
          "metadata": {}
        },
        {
          "output_type": "stream",
          "name": "stdout",
          "text": [
            "\n",
            "Resultados:\n",
            "loss: [0.6926823258399963, 0.6909443736076355, 0.6931104063987732, 0.6930649876594543, 0.6922308206558228]\n",
            "accuracy: [0.546875, 0.5375000238418579, 0.4937500059604645, 0.5, 0.5]\n",
            "kappa: [0.11875000000000002, 0.0625, 0.08750000000000002, 0.0, 0.0]\n",
            "Tiempo: 41.52324914932251\n"
          ]
        }
      ]
    },
    {
      "cell_type": "code",
      "metadata": {
        "id": "aNvEdrgoShME",
        "colab": {
          "base_uri": "https://localhost:8080/",
          "height": 481
        },
        "outputId": "def7f90e-e1e8-499c-f369-c6fe9fdc3ecf"
      },
      "source": [
        "model.summary()"
      ],
      "execution_count": 62,
      "outputs": [
        {
          "output_type": "display_data",
          "data": {
            "text/plain": [
              "\u001b[1mModel: \"sequential_12\"\u001b[0m\n"
            ],
            "text/html": [
              "<pre style=\"white-space:pre;overflow-x:auto;line-height:normal;font-family:Menlo,'DejaVu Sans Mono',consolas,'Courier New',monospace\"><span style=\"font-weight: bold\">Model: \"sequential_12\"</span>\n",
              "</pre>\n"
            ]
          },
          "metadata": {}
        },
        {
          "output_type": "display_data",
          "data": {
            "text/plain": [
              "┏━━━━━━━━━━━━━━━━━━━━━━━━━━━━━━━━━━━━━━┳━━━━━━━━━━━━━━━━━━━━━━━━━━━━━┳━━━━━━━━━━━━━━━━━┓\n",
              "┃\u001b[1m \u001b[0m\u001b[1mLayer (type)                        \u001b[0m\u001b[1m \u001b[0m┃\u001b[1m \u001b[0m\u001b[1mOutput Shape               \u001b[0m\u001b[1m \u001b[0m┃\u001b[1m \u001b[0m\u001b[1m        Param #\u001b[0m\u001b[1m \u001b[0m┃\n",
              "┡━━━━━━━━━━━━━━━━━━━━━━━━━━━━━━━━━━━━━━╇━━━━━━━━━━━━━━━━━━━━━━━━━━━━━╇━━━━━━━━━━━━━━━━━┩\n",
              "│ time_distributed_21                  │ (\u001b[38;5;45mNone\u001b[0m, \u001b[38;5;34m1\u001b[0m, \u001b[38;5;34m67\u001b[0m, \u001b[38;5;34m500\u001b[0m, \u001b[38;5;34m4\u001b[0m)       │              \u001b[38;5;34m40\u001b[0m │\n",
              "│ (\u001b[38;5;33mTimeDistributed\u001b[0m)                    │                             │                 │\n",
              "├──────────────────────────────────────┼─────────────────────────────┼─────────────────┤\n",
              "│ time_distributed_22                  │ (\u001b[38;5;45mNone\u001b[0m, \u001b[38;5;34m1\u001b[0m, \u001b[38;5;34m33\u001b[0m, \u001b[38;5;34m250\u001b[0m, \u001b[38;5;34m4\u001b[0m)       │               \u001b[38;5;34m0\u001b[0m │\n",
              "│ (\u001b[38;5;33mTimeDistributed\u001b[0m)                    │                             │                 │\n",
              "├──────────────────────────────────────┼─────────────────────────────┼─────────────────┤\n",
              "│ time_distributed_23                  │ (\u001b[38;5;45mNone\u001b[0m, \u001b[38;5;34m1\u001b[0m, \u001b[38;5;34m33\u001b[0m, \u001b[38;5;34m250\u001b[0m, \u001b[38;5;34m4\u001b[0m)       │             \u001b[38;5;34m148\u001b[0m │\n",
              "│ (\u001b[38;5;33mTimeDistributed\u001b[0m)                    │                             │                 │\n",
              "├──────────────────────────────────────┼─────────────────────────────┼─────────────────┤\n",
              "│ time_distributed_24                  │ (\u001b[38;5;45mNone\u001b[0m, \u001b[38;5;34m1\u001b[0m, \u001b[38;5;34m16\u001b[0m, \u001b[38;5;34m125\u001b[0m, \u001b[38;5;34m4\u001b[0m)       │               \u001b[38;5;34m0\u001b[0m │\n",
              "│ (\u001b[38;5;33mTimeDistributed\u001b[0m)                    │                             │                 │\n",
              "├──────────────────────────────────────┼─────────────────────────────┼─────────────────┤\n",
              "│ time_distributed_25                  │ (\u001b[38;5;45mNone\u001b[0m, \u001b[38;5;34m1\u001b[0m, \u001b[38;5;34m8000\u001b[0m)             │               \u001b[38;5;34m0\u001b[0m │\n",
              "│ (\u001b[38;5;33mTimeDistributed\u001b[0m)                    │                             │                 │\n",
              "├──────────────────────────────────────┼─────────────────────────────┼─────────────────┤\n",
              "│ lstm_4 (\u001b[38;5;33mLSTM\u001b[0m)                        │ (\u001b[38;5;45mNone\u001b[0m, \u001b[38;5;34m4\u001b[0m)                   │         \u001b[38;5;34m128,080\u001b[0m │\n",
              "├──────────────────────────────────────┼─────────────────────────────┼─────────────────┤\n",
              "│ dense_22 (\u001b[38;5;33mDense\u001b[0m)                     │ (\u001b[38;5;45mNone\u001b[0m, \u001b[38;5;34m32\u001b[0m)                  │             \u001b[38;5;34m160\u001b[0m │\n",
              "├──────────────────────────────────────┼─────────────────────────────┼─────────────────┤\n",
              "│ dense_23 (\u001b[38;5;33mDense\u001b[0m)                     │ (\u001b[38;5;45mNone\u001b[0m, \u001b[38;5;34m2\u001b[0m)                   │              \u001b[38;5;34m66\u001b[0m │\n",
              "└──────────────────────────────────────┴─────────────────────────────┴─────────────────┘\n"
            ],
            "text/html": [
              "<pre style=\"white-space:pre;overflow-x:auto;line-height:normal;font-family:Menlo,'DejaVu Sans Mono',consolas,'Courier New',monospace\">┏━━━━━━━━━━━━━━━━━━━━━━━━━━━━━━━━━━━━━━┳━━━━━━━━━━━━━━━━━━━━━━━━━━━━━┳━━━━━━━━━━━━━━━━━┓\n",
              "┃<span style=\"font-weight: bold\"> Layer (type)                         </span>┃<span style=\"font-weight: bold\"> Output Shape                </span>┃<span style=\"font-weight: bold\">         Param # </span>┃\n",
              "┡━━━━━━━━━━━━━━━━━━━━━━━━━━━━━━━━━━━━━━╇━━━━━━━━━━━━━━━━━━━━━━━━━━━━━╇━━━━━━━━━━━━━━━━━┩\n",
              "│ time_distributed_21                  │ (<span style=\"color: #00d7ff; text-decoration-color: #00d7ff\">None</span>, <span style=\"color: #00af00; text-decoration-color: #00af00\">1</span>, <span style=\"color: #00af00; text-decoration-color: #00af00\">67</span>, <span style=\"color: #00af00; text-decoration-color: #00af00\">500</span>, <span style=\"color: #00af00; text-decoration-color: #00af00\">4</span>)       │              <span style=\"color: #00af00; text-decoration-color: #00af00\">40</span> │\n",
              "│ (<span style=\"color: #0087ff; text-decoration-color: #0087ff\">TimeDistributed</span>)                    │                             │                 │\n",
              "├──────────────────────────────────────┼─────────────────────────────┼─────────────────┤\n",
              "│ time_distributed_22                  │ (<span style=\"color: #00d7ff; text-decoration-color: #00d7ff\">None</span>, <span style=\"color: #00af00; text-decoration-color: #00af00\">1</span>, <span style=\"color: #00af00; text-decoration-color: #00af00\">33</span>, <span style=\"color: #00af00; text-decoration-color: #00af00\">250</span>, <span style=\"color: #00af00; text-decoration-color: #00af00\">4</span>)       │               <span style=\"color: #00af00; text-decoration-color: #00af00\">0</span> │\n",
              "│ (<span style=\"color: #0087ff; text-decoration-color: #0087ff\">TimeDistributed</span>)                    │                             │                 │\n",
              "├──────────────────────────────────────┼─────────────────────────────┼─────────────────┤\n",
              "│ time_distributed_23                  │ (<span style=\"color: #00d7ff; text-decoration-color: #00d7ff\">None</span>, <span style=\"color: #00af00; text-decoration-color: #00af00\">1</span>, <span style=\"color: #00af00; text-decoration-color: #00af00\">33</span>, <span style=\"color: #00af00; text-decoration-color: #00af00\">250</span>, <span style=\"color: #00af00; text-decoration-color: #00af00\">4</span>)       │             <span style=\"color: #00af00; text-decoration-color: #00af00\">148</span> │\n",
              "│ (<span style=\"color: #0087ff; text-decoration-color: #0087ff\">TimeDistributed</span>)                    │                             │                 │\n",
              "├──────────────────────────────────────┼─────────────────────────────┼─────────────────┤\n",
              "│ time_distributed_24                  │ (<span style=\"color: #00d7ff; text-decoration-color: #00d7ff\">None</span>, <span style=\"color: #00af00; text-decoration-color: #00af00\">1</span>, <span style=\"color: #00af00; text-decoration-color: #00af00\">16</span>, <span style=\"color: #00af00; text-decoration-color: #00af00\">125</span>, <span style=\"color: #00af00; text-decoration-color: #00af00\">4</span>)       │               <span style=\"color: #00af00; text-decoration-color: #00af00\">0</span> │\n",
              "│ (<span style=\"color: #0087ff; text-decoration-color: #0087ff\">TimeDistributed</span>)                    │                             │                 │\n",
              "├──────────────────────────────────────┼─────────────────────────────┼─────────────────┤\n",
              "│ time_distributed_25                  │ (<span style=\"color: #00d7ff; text-decoration-color: #00d7ff\">None</span>, <span style=\"color: #00af00; text-decoration-color: #00af00\">1</span>, <span style=\"color: #00af00; text-decoration-color: #00af00\">8000</span>)             │               <span style=\"color: #00af00; text-decoration-color: #00af00\">0</span> │\n",
              "│ (<span style=\"color: #0087ff; text-decoration-color: #0087ff\">TimeDistributed</span>)                    │                             │                 │\n",
              "├──────────────────────────────────────┼─────────────────────────────┼─────────────────┤\n",
              "│ lstm_4 (<span style=\"color: #0087ff; text-decoration-color: #0087ff\">LSTM</span>)                        │ (<span style=\"color: #00d7ff; text-decoration-color: #00d7ff\">None</span>, <span style=\"color: #00af00; text-decoration-color: #00af00\">4</span>)                   │         <span style=\"color: #00af00; text-decoration-color: #00af00\">128,080</span> │\n",
              "├──────────────────────────────────────┼─────────────────────────────┼─────────────────┤\n",
              "│ dense_22 (<span style=\"color: #0087ff; text-decoration-color: #0087ff\">Dense</span>)                     │ (<span style=\"color: #00d7ff; text-decoration-color: #00d7ff\">None</span>, <span style=\"color: #00af00; text-decoration-color: #00af00\">32</span>)                  │             <span style=\"color: #00af00; text-decoration-color: #00af00\">160</span> │\n",
              "├──────────────────────────────────────┼─────────────────────────────┼─────────────────┤\n",
              "│ dense_23 (<span style=\"color: #0087ff; text-decoration-color: #0087ff\">Dense</span>)                     │ (<span style=\"color: #00d7ff; text-decoration-color: #00d7ff\">None</span>, <span style=\"color: #00af00; text-decoration-color: #00af00\">2</span>)                   │              <span style=\"color: #00af00; text-decoration-color: #00af00\">66</span> │\n",
              "└──────────────────────────────────────┴─────────────────────────────┴─────────────────┘\n",
              "</pre>\n"
            ]
          },
          "metadata": {}
        },
        {
          "output_type": "display_data",
          "data": {
            "text/plain": [
              "\u001b[1m Total params: \u001b[0m\u001b[38;5;34m385,484\u001b[0m (1.47 MB)\n"
            ],
            "text/html": [
              "<pre style=\"white-space:pre;overflow-x:auto;line-height:normal;font-family:Menlo,'DejaVu Sans Mono',consolas,'Courier New',monospace\"><span style=\"font-weight: bold\"> Total params: </span><span style=\"color: #00af00; text-decoration-color: #00af00\">385,484</span> (1.47 MB)\n",
              "</pre>\n"
            ]
          },
          "metadata": {}
        },
        {
          "output_type": "display_data",
          "data": {
            "text/plain": [
              "\u001b[1m Trainable params: \u001b[0m\u001b[38;5;34m128,494\u001b[0m (501.93 KB)\n"
            ],
            "text/html": [
              "<pre style=\"white-space:pre;overflow-x:auto;line-height:normal;font-family:Menlo,'DejaVu Sans Mono',consolas,'Courier New',monospace\"><span style=\"font-weight: bold\"> Trainable params: </span><span style=\"color: #00af00; text-decoration-color: #00af00\">128,494</span> (501.93 KB)\n",
              "</pre>\n"
            ]
          },
          "metadata": {}
        },
        {
          "output_type": "display_data",
          "data": {
            "text/plain": [
              "\u001b[1m Non-trainable params: \u001b[0m\u001b[38;5;34m0\u001b[0m (0.00 B)\n"
            ],
            "text/html": [
              "<pre style=\"white-space:pre;overflow-x:auto;line-height:normal;font-family:Menlo,'DejaVu Sans Mono',consolas,'Courier New',monospace\"><span style=\"font-weight: bold\"> Non-trainable params: </span><span style=\"color: #00af00; text-decoration-color: #00af00\">0</span> (0.00 B)\n",
              "</pre>\n"
            ]
          },
          "metadata": {}
        },
        {
          "output_type": "display_data",
          "data": {
            "text/plain": [
              "\u001b[1m Optimizer params: \u001b[0m\u001b[38;5;34m256,990\u001b[0m (1003.87 KB)\n"
            ],
            "text/html": [
              "<pre style=\"white-space:pre;overflow-x:auto;line-height:normal;font-family:Menlo,'DejaVu Sans Mono',consolas,'Courier New',monospace\"><span style=\"font-weight: bold\"> Optimizer params: </span><span style=\"color: #00af00; text-decoration-color: #00af00\">256,990</span> (1003.87 KB)\n",
              "</pre>\n"
            ]
          },
          "metadata": {}
        }
      ]
    },
    {
      "cell_type": "code",
      "metadata": {
        "id": "9kg-EkNtShPD",
        "colab": {
          "base_uri": "https://localhost:8080/"
        },
        "outputId": "50b9afbf-3ad6-41d5-9ac3-d8cddbdc7bba"
      },
      "source": [
        "print(\"Mean Accuracy: %.4f\" % np.mean(array_acc))\n",
        "print(\"std: (+/- %.4f)\" % np.std(array_acc))\n",
        "print(\"Mean Kappa: %.4f\" % np.mean(array_kappa))\n",
        "print(\"std: (+/- %.4f)\" % np.std(array_kappa))\n",
        "print(\"Max Accuracy: %.4f\" % np.max(array_acc))\n",
        "print(\"Max Kappa: %.4f\" % np.max(array_kappa))\n",
        "print(\"Elapsed_time:\", int(Elapsed_time))"
      ],
      "execution_count": 63,
      "outputs": [
        {
          "output_type": "stream",
          "name": "stdout",
          "text": [
            "Mean Accuracy: 0.5156\n",
            "std: (+/- 0.0220)\n",
            "Mean Kappa: 0.0538\n",
            "std: (+/- 0.0474)\n",
            "Max Accuracy: 0.5469\n",
            "Max Kappa: 0.1188\n",
            "Tiempo: 41\n"
          ]
        }
      ]
    }
  ]
}