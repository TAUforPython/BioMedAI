{
  "cells": [
    {
      "cell_type": "markdown",
      "metadata": {
        "id": "view-in-github",
        "colab_type": "text"
      },
      "source": [
        "<a href=\"https://colab.research.google.com/github/TAUforPython/BioMedAI/blob/main/LLM_med_NER.ipynb\" target=\"_parent\"><img src=\"https://colab.research.google.com/assets/colab-badge.svg\" alt=\"Open In Colab\"/></a>"
      ]
    },
    {
      "cell_type": "markdown",
      "id": "3efe299b",
      "metadata": {
        "id": "3efe299b"
      },
      "source": [
        "## Генерация диалога с помощью RuDlg-Mistral\n",
        "\n",
        "https://github.com/pineforest-ai/nlp_examples/tree/main"
      ]
    },
    {
      "cell_type": "code",
      "execution_count": 1,
      "id": "9d6b77d8",
      "metadata": {
        "id": "9d6b77d8"
      },
      "outputs": [],
      "source": [
        "import torch\n",
        "from peft import PeftModel\n",
        "from transformers import AutoModelForCausalLM, AutoTokenizer, GenerationConfig"
      ]
    },
    {
      "cell_type": "code",
      "execution_count": 45,
      "id": "f4854be8",
      "metadata": {
        "id": "f4854be8"
      },
      "outputs": [],
      "source": [
        "#BASE_MODEL = \"Open-Orca/Mistral-7B-SlimOrca\"\n",
        "BASE_MODEL = \"Mykes/rubert_ner_SDDCS\"\n",
        "#BASE_MODEL = \"cointegrated/rubert-tiny2\""
      ]
    },
    {
      "cell_type": "markdown",
      "source": [
        "В контексте модели Mistral или других языковых моделей (LLM), adapter_model — это дополнительный модуль или слой, который можно \"подключить\" к основной модели для адаптации её под конкретные задачи или домены без необходимости полного переобучения модели.\n",
        "\n",
        "Что такое адаптеры?\n",
        "\n",
        "Адаптеры — это небольшие, легковесные модули, которые добавляются к слоям основной модели. Они обучаются на специфических данных, позволяя модели лучше справляться с конкретными задачами (например, классификация текста, перевод, анализ тональности и т.д.), при этом основная модель остаётся неизменной. Это особенно полезно, когда у вас ограничены вычислительные ресурсы или данные для полного переобучения модели."
      ],
      "metadata": {
        "id": "TCNi1VzECHeQ"
      },
      "id": "TCNi1VzECHeQ"
    },
    {
      "cell_type": "markdown",
      "source": [
        "offload_folder - нужен предотвращения ошибки переполнения дискового места окружения."
      ],
      "metadata": {
        "id": "pZh9_oXECwgp"
      },
      "id": "pZh9_oXECwgp"
    },
    {
      "cell_type": "code",
      "source": [
        "import os\n",
        "from huggingface_hub import login\n",
        "from google.colab import userdata\n",
        "\n",
        "os.environ[\"HF_token\"] = userdata.get(\"HF_token\")\n",
        "\n",
        "login(os.environ[\"HF_token\"])"
      ],
      "metadata": {
        "id": "uUP1mTnSDYyI"
      },
      "id": "uUP1mTnSDYyI",
      "execution_count": 12,
      "outputs": []
    },
    {
      "cell_type": "markdown",
      "source": [
        "Тонкая настройка больших предварительно обученных моделей часто оказывается слишком затратной из-за их масштаба. Методы эффективной тонкой настройки параметров (Parameter-Efficient Fine-Tuning, PEFT) позволяют эффективно адаптировать большие предварительно обученные модели к различным прикладным задачам путем тонкой настройки лишь небольшого количества дополнительных параметров модели вместо всех её параметров. Это значительно снижает вычислительные и стоимостные затраты. Современные передовые методы PEFT демонстрируют результаты, сопоставимые с полностью дообученными моделями.\n",
        "\n",
        "PEFT интегрирован с библиотеками Transformers для упрощения обучения и вывода моделей, Diffusers для удобного управления различными адаптерами и Accelerate для распределенного обучения и вывода при работе с действительно большими моделями."
      ],
      "metadata": {
        "id": "zfDBi-QaH27K"
      },
      "id": "zfDBi-QaH27K"
    },
    {
      "cell_type": "code",
      "source": [
        "from transformers import AutoTokenizer, AutoModelForTokenClassification\n",
        "\n",
        "tokenizer = AutoTokenizer.from_pretrained(\"Mykes/rubert_ner_SDDCS\")\n",
        "model = AutoModelForTokenClassification.from_pretrained(\"Mykes/rubert_ner_SDDCS\")\n",
        "model.eval()"
      ],
      "metadata": {
        "id": "HPr8I8o6Ig_p",
        "outputId": "730aaf00-63ff-4eee-94b6-6b142e62465b",
        "colab": {
          "base_uri": "https://localhost:8080/"
        }
      },
      "id": "HPr8I8o6Ig_p",
      "execution_count": 22,
      "outputs": [
        {
          "output_type": "execute_result",
          "data": {
            "text/plain": [
              "BertForTokenClassification(\n",
              "  (bert): BertModel(\n",
              "    (embeddings): BertEmbeddings(\n",
              "      (word_embeddings): Embedding(83828, 312, padding_idx=0)\n",
              "      (position_embeddings): Embedding(2048, 312)\n",
              "      (token_type_embeddings): Embedding(2, 312)\n",
              "      (LayerNorm): LayerNorm((312,), eps=1e-12, elementwise_affine=True)\n",
              "      (dropout): Dropout(p=0.1, inplace=False)\n",
              "    )\n",
              "    (encoder): BertEncoder(\n",
              "      (layer): ModuleList(\n",
              "        (0-2): 3 x BertLayer(\n",
              "          (attention): BertAttention(\n",
              "            (self): BertSdpaSelfAttention(\n",
              "              (query): Linear(in_features=312, out_features=312, bias=True)\n",
              "              (key): Linear(in_features=312, out_features=312, bias=True)\n",
              "              (value): Linear(in_features=312, out_features=312, bias=True)\n",
              "              (dropout): Dropout(p=0.1, inplace=False)\n",
              "            )\n",
              "            (output): BertSelfOutput(\n",
              "              (dense): Linear(in_features=312, out_features=312, bias=True)\n",
              "              (LayerNorm): LayerNorm((312,), eps=1e-12, elementwise_affine=True)\n",
              "              (dropout): Dropout(p=0.1, inplace=False)\n",
              "            )\n",
              "          )\n",
              "          (intermediate): BertIntermediate(\n",
              "            (dense): Linear(in_features=312, out_features=600, bias=True)\n",
              "            (intermediate_act_fn): GELUActivation()\n",
              "          )\n",
              "          (output): BertOutput(\n",
              "            (dense): Linear(in_features=600, out_features=312, bias=True)\n",
              "            (LayerNorm): LayerNorm((312,), eps=1e-12, elementwise_affine=True)\n",
              "            (dropout): Dropout(p=0.1, inplace=False)\n",
              "          )\n",
              "        )\n",
              "      )\n",
              "    )\n",
              "  )\n",
              "  (dropout): Dropout(p=0.1, inplace=False)\n",
              "  (classifier): Linear(in_features=312, out_features=14, bias=True)\n",
              ")"
            ]
          },
          "metadata": {},
          "execution_count": 22
        }
      ]
    },
    {
      "cell_type": "code",
      "source": [
        "from transformers import pipeline\n",
        "\n",
        "pipe = pipeline(task=\"ner\", model='Mykes/rubert_ner_SDDCS', tokenizer='Mykes/rubert_ner_SDDCS', aggregation_strategy=\"max\")\n",
        "# I made the misspelled words on purpose\n",
        "query = \"У ребенка треога и норушения сна, потеря сознания, раньше ставили паническое расстройство. Подскажи психиатра в районе метро Октбрьской.\"\n",
        "pipe(query.lower())"
      ],
      "metadata": {
        "id": "qWHYSHGWI5Ha",
        "outputId": "81833033-a299-48b9-ad42-74b08fcd39aa",
        "colab": {
          "base_uri": "https://localhost:8080/"
        }
      },
      "id": "qWHYSHGWI5Ha",
      "execution_count": 32,
      "outputs": [
        {
          "output_type": "stream",
          "name": "stderr",
          "text": [
            "Device set to use cpu\n"
          ]
        },
        {
          "output_type": "execute_result",
          "data": {
            "text/plain": [
              "[{'entity_group': 'AGE',\n",
              "  'score': 0.9990075,\n",
              "  'word': 'ребенка',\n",
              "  'start': 2,\n",
              "  'end': 9},\n",
              " {'entity_group': 'SYMPTOM',\n",
              "  'score': 0.9982822,\n",
              "  'word': 'треога',\n",
              "  'start': 10,\n",
              "  'end': 16},\n",
              " {'entity_group': 'SYMPTOM',\n",
              "  'score': 0.9274422,\n",
              "  'word': 'норушения сна',\n",
              "  'start': 19,\n",
              "  'end': 32},\n",
              " {'entity_group': 'SYMPTOM',\n",
              "  'score': 0.99990046,\n",
              "  'word': 'потеря сознания',\n",
              "  'start': 34,\n",
              "  'end': 49},\n",
              " {'entity_group': 'DISEASE',\n",
              "  'score': 0.99987423,\n",
              "  'word': 'паническое расстройство',\n",
              "  'start': 66,\n",
              "  'end': 89},\n",
              " {'entity_group': 'SUBWAY',\n",
              "  'score': 0.96067816,\n",
              "  'word': 'октбрьской',\n",
              "  'start': 125,\n",
              "  'end': 135}]"
            ]
          },
          "metadata": {},
          "execution_count": 32
        }
      ]
    },
    {
      "cell_type": "code",
      "source": [
        "import spacy\n",
        "from spacy import displacy\n",
        "\n",
        "def convert_to_displacy_format(text, ner_results):\n",
        "    entities = []\n",
        "    for result in ner_results:\n",
        "        # Convert the Hugging Face output into the format displacy expects\n",
        "        entities.append({\n",
        "            \"start\": result['start'],\n",
        "            \"end\": result['end'],\n",
        "            \"label\": result['entity_group']\n",
        "        })\n",
        "    return {\n",
        "        \"text\": text,\n",
        "        \"ents\": entities,\n",
        "        \"title\": None\n",
        "    }\n",
        "query = \"У ребенка треога и норушения сна, потеря сознания, раньше ставили паническое расстройство, принимал атаракс. Подскажи хорошего психиатра в районе метро Октбрьской.\"\n",
        "ner_results = pipe(query.lower())\n",
        "displacy_data = convert_to_displacy_format(query, ner_results)\n",
        "colors = {\n",
        "    \"SPECIALITY\": \"linear-gradient(90deg, #aa9cfc, #fc9ce7)\",\n",
        "    \"CITY\": \"linear-gradient(90deg, #feca57, #ff9f43)\",\n",
        "    \"DRUG\": \"linear-gradient(90deg, #55efc4, #81ecec)\",\n",
        "    \"DISEASE\": \"linear-gradient(90deg, #fab1a0, #ff7675)\",\n",
        "    \"SUBWAY\": \"linear-gradient(90deg, #00add0, #0039a6)\",\n",
        "    \"AGE\": \"linear-gradient(90deg, #f39c12, #e67e22)\",\n",
        "    \"SYMPTOM\": \"linear-gradient(90deg, #e74c3c, #c0392b)\"\n",
        "}\n",
        "options = {\"ents\": [\"SPECIALITY\", \"CITY\", \"DRUG\", \"DISEASE\", \"SYMPTOM\", \"AGE\", \"SUBWAY\"], \"colors\": colors}\n",
        "html = displacy.render(displacy_data, style=\"ent\", manual=True, options=options, jupyter=False)\n",
        "with open(\"ner_visualization_with_colors.html\", \"w\", encoding=\"utf-8\") as f:\n",
        "    f.write(html)\n",
        "from IPython.display import display, HTML\n",
        "display(HTML(html))"
      ],
      "metadata": {
        "id": "-ZMeO9o3JBR0",
        "outputId": "4cb401b1-fd55-4820-b466-67b71e7d5b52",
        "colab": {
          "base_uri": "https://localhost:8080/",
          "height": 87
        }
      },
      "id": "-ZMeO9o3JBR0",
      "execution_count": 26,
      "outputs": [
        {
          "output_type": "display_data",
          "data": {
            "text/plain": [
              "<IPython.core.display.HTML object>"
            ],
            "text/html": [
              "<div class=\"entities\" style=\"line-height: 2.5; direction: ltr\">У \n",
              "<mark class=\"entity\" style=\"background: linear-gradient(90deg, #f39c12, #e67e22); padding: 0.45em 0.6em; margin: 0 0.25em; line-height: 1; border-radius: 0.35em;\">\n",
              "    ребенка\n",
              "    <span style=\"font-size: 0.8em; font-weight: bold; line-height: 1; border-radius: 0.35em; vertical-align: middle; margin-left: 0.5rem\">AGE</span>\n",
              "</mark>\n",
              " \n",
              "<mark class=\"entity\" style=\"background: linear-gradient(90deg, #e74c3c, #c0392b); padding: 0.45em 0.6em; margin: 0 0.25em; line-height: 1; border-radius: 0.35em;\">\n",
              "    треога\n",
              "    <span style=\"font-size: 0.8em; font-weight: bold; line-height: 1; border-radius: 0.35em; vertical-align: middle; margin-left: 0.5rem\">SYMPTOM</span>\n",
              "</mark>\n",
              " и \n",
              "<mark class=\"entity\" style=\"background: linear-gradient(90deg, #e74c3c, #c0392b); padding: 0.45em 0.6em; margin: 0 0.25em; line-height: 1; border-radius: 0.35em;\">\n",
              "    норушения сна\n",
              "    <span style=\"font-size: 0.8em; font-weight: bold; line-height: 1; border-radius: 0.35em; vertical-align: middle; margin-left: 0.5rem\">SYMPTOM</span>\n",
              "</mark>\n",
              ", \n",
              "<mark class=\"entity\" style=\"background: linear-gradient(90deg, #e74c3c, #c0392b); padding: 0.45em 0.6em; margin: 0 0.25em; line-height: 1; border-radius: 0.35em;\">\n",
              "    потеря сознания\n",
              "    <span style=\"font-size: 0.8em; font-weight: bold; line-height: 1; border-radius: 0.35em; vertical-align: middle; margin-left: 0.5rem\">SYMPTOM</span>\n",
              "</mark>\n",
              ", раньше ставили \n",
              "<mark class=\"entity\" style=\"background: linear-gradient(90deg, #fab1a0, #ff7675); padding: 0.45em 0.6em; margin: 0 0.25em; line-height: 1; border-radius: 0.35em;\">\n",
              "    паническое расстройство\n",
              "    <span style=\"font-size: 0.8em; font-weight: bold; line-height: 1; border-radius: 0.35em; vertical-align: middle; margin-left: 0.5rem\">DISEASE</span>\n",
              "</mark>\n",
              ", принимал атаракс. Подскажи хорошего психиатра в районе метро \n",
              "<mark class=\"entity\" style=\"background: linear-gradient(90deg, #00add0, #0039a6); padding: 0.45em 0.6em; margin: 0 0.25em; line-height: 1; border-radius: 0.35em;\">\n",
              "    Октбрьской\n",
              "    <span style=\"font-size: 0.8em; font-weight: bold; line-height: 1; border-radius: 0.35em; vertical-align: middle; margin-left: 0.5rem\">SUBWAY</span>\n",
              "</mark>\n",
              ".</div>"
            ]
          },
          "metadata": {}
        }
      ]
    },
    {
      "cell_type": "markdown",
      "source": [
        "Named Entity Recognition (NER) model based on the cointegrated/rubert-tiny2 model with only 29.4M params, designed to detect russian medical entities like diseases, drugs, symptoms"
      ],
      "metadata": {
        "id": "6oWajJktJWYR"
      },
      "id": "6oWajJktJWYR"
    }
  ],
  "metadata": {
    "kernelspec": {
      "display_name": "Python 3",
      "language": "python",
      "name": "python3"
    },
    "language_info": {
      "codemirror_mode": {
        "name": "ipython",
        "version": 3
      },
      "file_extension": ".py",
      "mimetype": "text/x-python",
      "name": "python",
      "nbconvert_exporter": "python",
      "pygments_lexer": "ipython3",
      "version": "3.8.8"
    },
    "colab": {
      "provenance": [],
      "include_colab_link": true
    }
  },
  "nbformat": 4,
  "nbformat_minor": 5
}