{
  "nbformat": 4,
  "nbformat_minor": 0,
  "metadata": {
    "colab": {
      "provenance": [],
      "authorship_tag": "ABX9TyNDltvb6aRdLhC2KAfbBZ5m",
      "include_colab_link": true
    },
    "kernelspec": {
      "name": "python3",
      "display_name": "Python 3"
    },
    "language_info": {
      "name": "python"
    }
  },
  "cells": [
    {
      "cell_type": "markdown",
      "metadata": {
        "id": "view-in-github",
        "colab_type": "text"
      },
      "source": [
        "<a href=\"https://colab.research.google.com/github/TAUforPython/BioMedAI/blob/main/LLM%20Mistral%20Medical%20Claims%20Dataset%20generation.ipynb\" target=\"_parent\"><img src=\"https://colab.research.google.com/assets/colab-badge.svg\" alt=\"Open In Colab\"/></a>"
      ]
    },
    {
      "cell_type": "code",
      "source": [
        "!pip install mistralai --quiet"
      ],
      "metadata": {
        "colab": {
          "base_uri": "https://localhost:8080/"
        },
        "id": "WqWd5eYBIdAB",
        "outputId": "80478767-97a7-43bd-d217-f5f8070de9ad"
      },
      "execution_count": 2,
      "outputs": [
        {
          "output_type": "stream",
          "name": "stdout",
          "text": [
            "\u001b[2K   \u001b[90m━━━━━━━━━━━━━━━━━━━━━━━━━━━━━━━━━━━━━━━━\u001b[0m \u001b[32m440.5/440.5 kB\u001b[0m \u001b[31m5.3 MB/s\u001b[0m eta \u001b[36m0:00:00\u001b[0m\n",
            "\u001b[2K   \u001b[90m━━━━━━━━━━━━━━━━━━━━━━━━━━━━━━━━━━━━━━━━\u001b[0m \u001b[32m160.3/160.3 kB\u001b[0m \u001b[31m8.7 MB/s\u001b[0m eta \u001b[36m0:00:00\u001b[0m\n",
            "\u001b[?25h"
          ]
        }
      ]
    },
    {
      "cell_type": "code",
      "source": [
        "import os\n",
        "import json\n",
        "import random\n",
        "import time\n",
        "from mistralai import Mistral # Import Mistral client\n",
        "from tenacity import retry, stop_after_attempt, wait_exponential"
      ],
      "metadata": {
        "id": "8oWTuiwsGiqz"
      },
      "execution_count": 3,
      "outputs": []
    },
    {
      "cell_type": "code",
      "source": [
        "from google.colab import userdata\n",
        "\n",
        "# Get Hugging Face and PubMed token from environment\n",
        "MISTRAL_TOKEN = userdata.get(\"Mistral_API\")\n",
        "if MISTRAL_TOKEN:\n",
        "  print(\"✅ MISTRAL token detected\")\n",
        "else:\n",
        "  print(\"⚠️  No MISTRAL TOKEN\")"
      ],
      "metadata": {
        "colab": {
          "base_uri": "https://localhost:8080/"
        },
        "id": "j9N8pyNRGphC",
        "outputId": "4f57f9e5-2ac8-40fa-e862-91f903bcb42c"
      },
      "execution_count": 4,
      "outputs": [
        {
          "output_type": "stream",
          "name": "stdout",
          "text": [
            "✅ MISTRAL token detected\n"
          ]
        }
      ]
    },
    {
      "cell_type": "code",
      "execution_count": 10,
      "metadata": {
        "id": "UpaKGigPGek9"
      },
      "outputs": [],
      "source": [
        "\n",
        "client = Mistral(api_key=MISTRAL_TOKEN) # Initialize Mistral client\n",
        "\n",
        "MODEL_NAME = \"mistral-large-latest\" # Or \"open-mistral-7b\", \"open-mixtral-8x7b\", etc.\n",
        "NUM_SUPPORTED_CLAIMS = 5\n",
        "NUM_REFUTED_CLAIMS = 5\n",
        "MAX_RETRIES = 5\n",
        "REQUEST_DELAY = 1 # Seconds between requests\n",
        "\n",
        "# --- Base Prompts ---\n",
        "CONTEXT_PROMPT_TEMPLATE = \"\"\"\n",
        "Generate a short, realistic paragraph (3-5 sentences) about a medical topic.\n",
        "The paragraph should contain factual information that could be found in a medical journal or reputable health source.\n",
        "Focus on topics like diet, exercise, disease prevention, treatment efficacy, or physiological effects.\n",
        "Example Topics: Benefits of Omega-3s, Risks of Chronic Stress, Effectiveness of Vaccines, Impact of Sleep Deprivation.\n",
        "\n",
        "Medical Context Paragraph:\n",
        "\"\"\"\n",
        "\n",
        "FACT_EXTRACTION_PROMPT_TEMPLATE = \"\"\"\n",
        "Segment the following medical text into individual, atomic facts. An atomic fact is a simple, self-contained statement of medical information.\n",
        "\n",
        "Text: {text}\n",
        "\n",
        "Please respond **only** with a JSON object in the following format:\n",
        "{{\n",
        "  \"facts\": [\n",
        "    \"Fact 1\",\n",
        "    \"Fact 2\",\n",
        "    \"Fact 3\",\n",
        "    ...\n",
        "  ]\n",
        "}}\n",
        "\n",
        "JSON Facts:\n",
        "\"\"\"\n",
        "\n",
        "# --- LLM Interaction Functions (with Retries) ---\n",
        "\n",
        "@retry(stop=stop_after_attempt(MAX_RETRIES), wait=wait_exponential(multiplier=1, min=4, max=10))\n",
        "def call_llm(prompt, model=MODEL_NAME):\n",
        "    \"\"\"Calls the Mistral LLM with a prompt, includes retry logic.\"\"\"\n",
        "    chat_response = client.chat.complete(\n",
        "        model=model,\n",
        "        messages=[\n",
        "            {\"role\": \"system\", \"content\": \"You are a helpful assistant providing accurate medical information.\"},\n",
        "            {\"role\": \"user\", \"content\": prompt}\n",
        "        ],\n",
        "        # Adjust parameters as needed\n",
        "        max_tokens=500,\n",
        "        temperature=0.7\n",
        "    )\n",
        "    # Mistral response structure is slightly different\n",
        "    return chat_response.choices[0].message.content.strip()\n",
        "\n",
        "# --- Synthetic Data Generation Functions ---\n",
        "\n",
        "def generate_context():\n",
        "    \"\"\"Generates a realistic medical context paragraph.\"\"\"\n",
        "    prompt = CONTEXT_PROMPT_TEMPLATE\n",
        "    context = call_llm(prompt)\n",
        "    return context\n",
        "\n",
        "def extract_facts(text):\n",
        "    \"\"\"Extracts atomic facts from a given text using the LLM.\"\"\"\n",
        "    prompt = FACT_EXTRACTION_PROMPT_TEMPLATE.format(text=text)\n",
        "    try:\n",
        "        response_text = call_llm(prompt)\n",
        "        # Attempt to parse JSON\n",
        "        # Mistral might sometimes add extra text, so we try to find the JSON part\n",
        "        # A more robust solution would involve stricter parsing or asking the model not to add extra text.\n",
        "        start_index = response_text.find('{')\n",
        "        end_index = response_text.rfind('}') + 1\n",
        "        if start_index != -1 and end_index > start_index:\n",
        "             json_str = response_text[start_index:end_index]\n",
        "             data = json.loads(json_str)\n",
        "        else:\n",
        "             # Fallback if no clear JSON object found\n",
        "             data = json.loads(response_text)\n",
        "\n",
        "        facts = data.get(\"facts\", [])\n",
        "        return [fact.strip() for fact in facts if fact.strip()]\n",
        "    except (json.JSONDecodeError, KeyError) as e:\n",
        "        print(f\"Error parsing facts from LLM response: {e}. Response was: {response_text}\")\n",
        "        return [] # Return empty list on failure\n",
        "\n",
        "def generate_supported_pair():\n",
        "    \"\"\"Generates one Supported claim-evidence pair.\"\"\"\n",
        "    context = generate_context()\n",
        "    if not context:\n",
        "        return None, None, None\n",
        "\n",
        "    facts = extract_facts(context)\n",
        "    if not facts:\n",
        "        return None, None, None\n",
        "\n",
        "    claim = random.choice(facts)\n",
        "    evidence = context # Use the full context as evidence for supported claims\n",
        "    label = 1 # Supported\n",
        "\n",
        "    return claim, evidence, label\n",
        "\n",
        "def generate_refuted_pair(base_refuted_claims):\n",
        "    \"\"\"Generates one Refuted claim-evidence pair using base examples.\"\"\"\n",
        "    if not base_refuted_claims:\n",
        "        return None, None, None\n",
        "\n",
        "    claim = random.choice(base_refuted_claims)\n",
        "    # Simple simulated evidence for refuted claims\n",
        "    base_evidence = f\"Epidemiological research and systematic reviews show that {claim.lower()[:-1] if claim else 'unknown claim'} is contradicted by current medical understanding.\"\n",
        "    evidence = base_evidence\n",
        "    label = 0 # Refuted\n",
        "\n",
        "    return claim, evidence, label\n",
        "\n",
        "# --- Main Generation Loop ---\n",
        "\n",
        "def generate_synthetic_dataset(num_supported, num_refuted, base_refuted_claims):\n",
        "    \"\"\"Main function to generate the synthetic dataset.\"\"\"\n",
        "    synthetic_claims = []\n",
        "    synthetic_evidences = []\n",
        "    synthetic_labels = []\n",
        "\n",
        "    print(f\"Generating {num_supported} Supported claim-evidence pairs...\")\n",
        "    generated_supported = 0\n",
        "    attempts = 0\n",
        "    max_attempts = num_supported * 3\n",
        "    while generated_supported < num_supported and attempts < max_attempts:\n",
        "        claim, evidence, label = generate_supported_pair()\n",
        "        attempts += 1\n",
        "        if claim and evidence and label is not None:\n",
        "            if claim not in synthetic_claims: # Basic duplicate check\n",
        "                synthetic_claims.append(claim)\n",
        "                synthetic_evidences.append(evidence)\n",
        "                synthetic_labels.append(label)\n",
        "                generated_supported += 1\n",
        "                print(f\"  Generated Supported Pair {generated_supported}/{num_supported}\")\n",
        "                time.sleep(REQUEST_DELAY)\n",
        "            else:\n",
        "                print(f\"  Duplicate claim skipped.\")\n",
        "        else:\n",
        "            print(f\"  Failed to generate a valid Supported pair (attempt {attempts}).\")\n",
        "\n",
        "    print(f\"Generating {num_refuted} Refuted claim-evidence pairs...\")\n",
        "    generated_refuted = 0\n",
        "    while generated_refuted < num_refuted:\n",
        "        claim, evidence, label = generate_refuted_pair(base_refuted_claims)\n",
        "        if claim and evidence and label is not None:\n",
        "            if claim not in synthetic_claims:\n",
        "                synthetic_claims.append(claim)\n",
        "                synthetic_evidences.append(evidence)\n",
        "                synthetic_labels.append(label)\n",
        "                generated_refuted += 1\n",
        "                print(f\"  Generated Refuted Pair {generated_refuted}/{num_refuted}\")\n",
        "            else:\n",
        "                 print(f\"  Duplicate claim skipped (Refuted).\")\n",
        "        else:\n",
        "             print(f\"  Failed to generate a valid Refuted pair.\")\n",
        "\n",
        "    return synthetic_claims, synthetic_evidences, synthetic_labels\n",
        "\n",
        "# --- Base Refuted Examples ---\n",
        "base_refuted_claims_examples = [\n",
        "    \"Vitamin C can cure the common cold.\",\n",
        "    \"Antibiotics treat viral infections.\",\n",
        "    \"Probiotics cure serious bacterial infections.\",\n",
        "    \"Eating carrots significantly improves night vision.\",\n",
        "    \"Vaccines cause autism.\",\n",
        "    \"Drinking exactly 8 glasses of water daily is required.\",\n",
        "    \"MSG causes headaches in everyone.\",\n",
        "    \"Microwave cooking destroys all nutrients.\",\n",
        "    \"Red wine consumption is always heart-healthy.\",\n",
        "    \"Artificial sweeteners cause cancer.\",\n",
        "    \"Detox diets are necessary for body cleansing.\",\n",
        "    \"Protein intake damages healthy kidneys.\",\n",
        "    \"Crash diets are effective for long-term weight loss.\",\n",
        "    \"Supplements replace a balanced diet.\",\n",
        "    \"All fats are bad for health.\",\n",
        "    \"Organic food always prevents disease.\",\n",
        "    \"Homeopathy cures serious illnesses.\",\n",
        "    \"Essential oils cure chronic conditions.\",\n",
        "    \"Fasting cleanses toxins from organs.\",\n",
        "    \"Alkaline water prevents cancer.\"\n",
        "]\n"
      ]
    },
    {
      "cell_type": "code",
      "source": [
        "\n",
        "    print(\"Starting synthetic medical fact-checking dataset generation using Mistral...\")\n",
        "    claims, evidences, labels = generate_synthetic_dataset(\n",
        "        NUM_SUPPORTED_CLAIMS,\n",
        "        NUM_REFUTED_CLAIMS,\n",
        "        base_refuted_claims_examples\n",
        "    )\n",
        "\n",
        "    # --- Output the results ---\n",
        "    print(\"\\n\" + \"=\"*50)\n",
        "    print(\"GENERATED SYNTHETIC DATASET\")\n",
        "    print(\"=\"*50)\n",
        "\n",
        "    print(\"\\n# Generated Supported Claims:\")\n",
        "    print(\"base_claims_supported = [\")\n",
        "    supported_claims = [claims[i] for i, label in enumerate(labels) if label == 1]\n",
        "    for claim in supported_claims:\n",
        "         print(f'    \"{claim}\",')\n",
        "    print(\"]\")\n",
        "\n",
        "    print(\"\\n# Generated Refuted Claims:\")\n",
        "    print(\"base_claims_refuted = [\")\n",
        "    refuted_claims = [claims[i] for i, label in enumerate(labels) if label == 0]\n",
        "    for claim in refuted_claims:\n",
        "         print(f'    \"{claim}\",')\n",
        "    print(\"]\")\n",
        "\n",
        "    print(\"\\n# Generated Evidence Texts (corresponding to combined claims list):\")\n",
        "    print(\"generated_evidence_texts = [\")\n",
        "    for evidence in evidences:\n",
        "         # Use triple quotes for potentially multi-line evidence\n",
        "         print(f'    \"\"\"{evidence}\"\"\",')\n",
        "    print(\"]\")\n",
        "\n",
        "    print(\"\\n# Generated Labels (1=Supported, 0=Refuted):\")\n",
        "    print(\"generated_labels = [\")\n",
        "    for label in labels:\n",
        "         print(f'    {label},')\n",
        "    print(\"]\")\n",
        "\n",
        "    print(\"\\nDataset generation complete.\")\n"
      ],
      "metadata": {
        "colab": {
          "base_uri": "https://localhost:8080/"
        },
        "id": "C5dWZ8ReHM4D",
        "outputId": "edb4bc64-7313-4f85-8323-e42305739571"
      },
      "execution_count": 11,
      "outputs": [
        {
          "output_type": "stream",
          "name": "stdout",
          "text": [
            "Starting synthetic medical fact-checking dataset generation using Mistral...\n",
            "Generating 5 Supported claim-evidence pairs...\n",
            "  Generated Supported Pair 1/5\n",
            "  Generated Supported Pair 2/5\n",
            "  Generated Supported Pair 3/5\n",
            "  Generated Supported Pair 4/5\n",
            "  Generated Supported Pair 5/5\n",
            "Generating 5 Refuted claim-evidence pairs...\n",
            "  Generated Refuted Pair 1/5\n",
            "  Generated Refuted Pair 2/5\n",
            "  Generated Refuted Pair 3/5\n",
            "  Generated Refuted Pair 4/5\n",
            "  Generated Refuted Pair 5/5\n",
            "\n",
            "==================================================\n",
            "GENERATED SYNTHETIC DATASET\n",
            "==================================================\n",
            "\n",
            "# Generated Supported Claims:\n",
            "base_claims_supported = [\n",
            "    \"Clinicians are increasingly recommending structured resistance training programs as an adjunct therapy for T2DM management.\",\n",
            "    \"Resistance exercise improves insulin sensitivity.\",\n",
            "    \"Clinicians increasingly recommend resistance training as an adjunct therapy for type 2 diabetes mellitus (T2DM).\",\n",
            "    \"PRT and nutritional optimization are promoted to reduce fall risk in aging populations.\",\n",
            "    \"Resistance training is supported by evidence for reducing the risk of type 2 diabetes, especially in older adults.\",\n",
            "]\n",
            "\n",
            "# Generated Refuted Claims:\n",
            "base_claims_refuted = [\n",
            "    \"All fats are bad for health.\",\n",
            "    \"Vaccines cause autism.\",\n",
            "    \"Probiotics cure serious bacterial infections.\",\n",
            "    \"Alkaline water prevents cancer.\",\n",
            "    \"Artificial sweeteners cause cancer.\",\n",
            "]\n",
            "\n",
            "# Generated Evidence Texts (corresponding to combined claims list):\n",
            "generated_evidence_texts = [\n",
            "    \"\"\"A growing body of evidence supports the role of **resistance training** in mitigating the progression of **type 2 diabetes mellitus (T2DM)**, particularly through improvements in insulin sensitivity and glycemic control. A 2022 meta-analysis published in *Diabetes Care* found that individuals engaging in progressive resistance exercise at least twice weekly experienced a **12–15% reduction in HbA1c levels**, comparable to the effects of first-line pharmacological interventions like metformin. The mechanism appears linked to increased **glucose transporter type 4 (GLUT4) expression** in skeletal muscle, enhancing glucose uptake independent of insulin action. Additionally, resistance training counteracts **sarcopenic obesity**, a key risk factor for T2DM, by preserving lean muscle mass and reducing visceral adiposity. Clinicians are increasingly recommending structured resistance programs as an adjunct therapy, though adherence remains a challenge in long-term management.\"\"\",\n",
            "    \"\"\"A growing body of evidence supports the role of **resistance training** in mitigating age-related sarcopenia, the progressive loss of skeletal muscle mass and strength that begins as early as the fourth decade of life. A 2022 meta-analysis published in *The Journal of Cachexia, Sarcopenia and Muscle* found that adults over 60 who engaged in progressive resistance training (2–3 sessions per week) experienced an average **8–15% increase in muscle mass** and **20–30% improvement in functional strength** within 12–24 weeks, compared to sedentary controls. Beyond muscle hypertrophy, resistance exercise enhances **mitochondrial biogenesis** and **insulin sensitivity**, reducing the risk of metabolic disorders like type 2 diabetes. Notably, even low-load, high-repetition protocols (e.g., 30–40% of one-repetition maximum) can stimulate muscle protein synthesis in older adults when performed to volitional fatigue, offering a safer alternative for those with joint limitations. The American College of Sports Medicine now recommends resistance training as a **first-line intervention** for sarcopenia, alongside adequate protein intake (1.2–2.0 g/kg body weight daily) to optimize anabolic responses.\"\"\",\n",
            "    \"\"\"A growing body of evidence supports the role of **resistance training** in mitigating the progression of **type 2 diabetes mellitus (T2DM)** by improving insulin sensitivity and glycemic control. A 2022 meta-analysis published in *Diabetes Care* found that adults engaging in structured resistance exercise (2–3 sessions per week) demonstrated a **12–15% reduction in HbA1c levels**—comparable to the effects of first-line pharmacological interventions like metformin. The physiological mechanism involves increased **glucose transporter type 4 (GLUT4) expression** in skeletal muscle, enhancing glucose uptake independent of insulin. Additionally, resistance training counteracts **sarcopenic obesity**, a key risk factor for T2DM, by preserving lean muscle mass while reducing visceral adiposity. Clinicians increasingly recommend it as an adjunct therapy, particularly for patients with prediabetes or early-stage disease, due to its low-risk, high-benefit profile.\"\"\",\n",
            "    \"\"\"A growing body of evidence supports the role of **resistance training** in mitigating age-related sarcopenia, the progressive loss of skeletal muscle mass and strength that affects up to **10% of adults over 50** and accelerates after age 60. A 2022 meta-analysis published in *The Journal of Cachexia, Sarcopenia and Muscle* found that **progressive resistance training (PRT) performed 2–3 times weekly** increased muscle protein synthesis by **30–50%** in older adults, while also improving functional outcomes such as gait speed and balance. Notably, even **low-load high-repetition training** demonstrated significant benefits when combined with adequate protein intake (1.2–1.6 g/kg body weight daily), challenging the assumption that heavy weights are requisite for muscle preservation. Emerging research further suggests that resistance exercise may attenuate systemic inflammation—linked to chronic diseases like type 2 diabetes—by reducing circulating levels of **IL-6 and TNF-α**. Public health guidelines now emphasize PRT as a **first-line intervention** for sarcopenia, alongside nutritional optimization, to reduce fall risk and maintain independence in aging populations.\"\"\",\n",
            "    \"\"\"A growing body of evidence supports the role of **resistance training** in mitigating the risk of type 2 diabetes, particularly in older adults. A 2023 meta-analysis published in *Diabetologia* found that individuals engaging in **two or more weekly sessions of strength-based exercise** demonstrated a **34% lower risk** of developing insulin resistance compared to sedentary controls. The mechanism appears linked to improved **glucose uptake in skeletal muscle**, enhanced insulin sensitivity, and reductions in visceral adiposity—key drivers of metabolic dysfunction. Notably, these benefits were observed independently of aerobic exercise, though a **combined regimen** yielded the most significant protective effects. Clinicians are increasingly recommending resistance training as a **first-line lifestyle intervention** for prediabetic patients, given its low cost and scalability.\"\"\",\n",
            "    \"\"\"Epidemiological research and systematic reviews show that all fats are bad for health is contradicted by current medical understanding.\"\"\",\n",
            "    \"\"\"Epidemiological research and systematic reviews show that vaccines cause autism is contradicted by current medical understanding.\"\"\",\n",
            "    \"\"\"Epidemiological research and systematic reviews show that probiotics cure serious bacterial infections is contradicted by current medical understanding.\"\"\",\n",
            "    \"\"\"Epidemiological research and systematic reviews show that alkaline water prevents cancer is contradicted by current medical understanding.\"\"\",\n",
            "    \"\"\"Epidemiological research and systematic reviews show that artificial sweeteners cause cancer is contradicted by current medical understanding.\"\"\",\n",
            "]\n",
            "\n",
            "# Generated Labels (1=Supported, 0=Refuted):\n",
            "generated_labels = [\n",
            "    1,\n",
            "    1,\n",
            "    1,\n",
            "    1,\n",
            "    1,\n",
            "    0,\n",
            "    0,\n",
            "    0,\n",
            "    0,\n",
            "    0,\n",
            "]\n",
            "\n",
            "Dataset generation complete.\n"
          ]
        }
      ]
    },
    {
      "cell_type": "code",
      "source": [
        "supported_claims\n"
      ],
      "metadata": {
        "colab": {
          "base_uri": "https://localhost:8080/"
        },
        "id": "phK-EiAVNoIU",
        "outputId": "b1b1fc03-44f2-4703-a472-36595f9a487a"
      },
      "execution_count": 12,
      "outputs": [
        {
          "output_type": "execute_result",
          "data": {
            "text/plain": [
              "['Clinicians are increasingly recommending structured resistance training programs as an adjunct therapy for T2DM management.',\n",
              " 'Resistance exercise improves insulin sensitivity.',\n",
              " 'Clinicians increasingly recommend resistance training as an adjunct therapy for type 2 diabetes mellitus (T2DM).',\n",
              " 'PRT and nutritional optimization are promoted to reduce fall risk in aging populations.',\n",
              " 'Resistance training is supported by evidence for reducing the risk of type 2 diabetes, especially in older adults.']"
            ]
          },
          "metadata": {},
          "execution_count": 12
        }
      ]
    },
    {
      "cell_type": "code",
      "source": [
        "refuted_claims"
      ],
      "metadata": {
        "colab": {
          "base_uri": "https://localhost:8080/"
        },
        "id": "PePVJA96No5Z",
        "outputId": "b7674022-8617-4c8d-97f7-6dd6b8ce2f7e"
      },
      "execution_count": 13,
      "outputs": [
        {
          "output_type": "execute_result",
          "data": {
            "text/plain": [
              "['All fats are bad for health.',\n",
              " 'Vaccines cause autism.',\n",
              " 'Probiotics cure serious bacterial infections.',\n",
              " 'Alkaline water prevents cancer.',\n",
              " 'Artificial sweeteners cause cancer.']"
            ]
          },
          "metadata": {},
          "execution_count": 13
        }
      ]
    }
  ]
}