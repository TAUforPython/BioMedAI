{
  "nbformat": 4,
  "nbformat_minor": 0,
  "metadata": {
    "colab": {
      "provenance": [],
      "include_colab_link": true
    },
    "kernelspec": {
      "name": "python3",
      "display_name": "Python 3"
    },
    "language_info": {
      "name": "python"
    }
  },
  "cells": [
    {
      "cell_type": "markdown",
      "metadata": {
        "id": "view-in-github",
        "colab_type": "text"
      },
      "source": [
        "<a href=\"https://colab.research.google.com/github/TAUforPython/BioMedAI/blob/main/EEG%20DFA%20investigation.ipynb\" target=\"_parent\"><img src=\"https://colab.research.google.com/assets/colab-badge.svg\" alt=\"Open In Colab\"/></a>"
      ]
    },
    {
      "cell_type": "markdown",
      "source": [],
      "metadata": {
        "id": "k6mUXnQQ8asn"
      }
    },
    {
      "cell_type": "code",
      "source": [
        "!pip install mne==1.1 --quiet"
      ],
      "metadata": {
        "id": "Z5whYkCojqK6",
        "outputId": "b716ebea-f0cc-4d4e-8cd8-d62d2aeccbe0",
        "colab": {
          "base_uri": "https://localhost:8080/"
        }
      },
      "execution_count": 1,
      "outputs": [
        {
          "output_type": "stream",
          "name": "stdout",
          "text": [
            "\u001b[2K   \u001b[90m━━━━━━━━━━━━━━━━━━━━━━━━━━━━━━━━━━━━━━━━\u001b[0m \u001b[32m7.5/7.5 MB\u001b[0m \u001b[31m1.7 MB/s\u001b[0m eta \u001b[36m0:00:00\u001b[0m\n",
            "\u001b[?25h"
          ]
        }
      ]
    },
    {
      "cell_type": "code",
      "source": [
        "import mne"
      ],
      "metadata": {
        "id": "EsJckii1lCGI"
      },
      "execution_count": 3,
      "outputs": []
    },
    {
      "cell_type": "code",
      "source": [
        "!pip install pyEDFlib"
      ],
      "metadata": {
        "id": "I4_uMCauoWg7",
        "outputId": "69ad2071-5e76-4d93-e77a-d8700a047cfb",
        "colab": {
          "base_uri": "https://localhost:8080/"
        }
      },
      "execution_count": 9,
      "outputs": [
        {
          "output_type": "stream",
          "name": "stdout",
          "text": [
            "Collecting pyEDFlib\n",
            "  Downloading pyEDFlib-0.1.38-cp310-cp310-manylinux_2_17_x86_64.manylinux2014_x86_64.whl.metadata (6.3 kB)\n",
            "Requirement already satisfied: numpy>=1.9.1 in /usr/local/lib/python3.10/dist-packages (from pyEDFlib) (1.26.4)\n",
            "Downloading pyEDFlib-0.1.38-cp310-cp310-manylinux_2_17_x86_64.manylinux2014_x86_64.whl (2.7 MB)\n",
            "\u001b[2K   \u001b[90m━━━━━━━━━━━━━━━━━━━━━━━━━━━━━━━━━━━━━━━━\u001b[0m \u001b[32m2.7/2.7 MB\u001b[0m \u001b[31m18.5 MB/s\u001b[0m eta \u001b[36m0:00:00\u001b[0m\n",
            "\u001b[?25hInstalling collected packages: pyEDFlib\n",
            "Successfully installed pyEDFlib-0.1.38\n"
          ]
        }
      ]
    },
    {
      "cell_type": "code",
      "source": [
        "import pyedflib\n",
        "from pyedflib import highlevel"
      ],
      "metadata": {
        "id": "P9898DSRoajN"
      },
      "execution_count": 12,
      "outputs": []
    },
    {
      "cell_type": "code",
      "source": [
        "path = \"https://github.com/TAUforPython/BioMedAI/raw/refs/heads/main/test_datasets/EDF_example_FS_healthy.edf\"\n",
        "signals, signal_headers, header = highlevel.read_edf(path)"
      ],
      "metadata": {
        "id": "27iSJ40KoIeB",
        "outputId": "cfbb2d46-d2d8-4317-f685-3acd35ca6688",
        "colab": {
          "base_uri": "https://localhost:8080/",
          "height": 428
        }
      },
      "execution_count": 13,
      "outputs": [
        {
          "output_type": "error",
          "ename": "FileNotFoundError",
          "evalue": "https://github.com/TAUforPython/BioMedAI/raw/refs/heads/main/test_datasets/EDF_example_FS_healthy.edf: can not open file, no such file or directory",
          "traceback": [
            "\u001b[0;31m---------------------------------------------------------------------------\u001b[0m",
            "\u001b[0;31mFileNotFoundError\u001b[0m                         Traceback (most recent call last)",
            "\u001b[0;32m<ipython-input-13-a209bf602e48>\u001b[0m in \u001b[0;36m<cell line: 2>\u001b[0;34m()\u001b[0m\n\u001b[1;32m      1\u001b[0m \u001b[0mpath\u001b[0m \u001b[0;34m=\u001b[0m \u001b[0;34m\"https://github.com/TAUforPython/BioMedAI/raw/refs/heads/main/test_datasets/EDF_example_FS_healthy.edf\"\u001b[0m\u001b[0;34m\u001b[0m\u001b[0;34m\u001b[0m\u001b[0m\n\u001b[0;32m----> 2\u001b[0;31m \u001b[0msignals\u001b[0m\u001b[0;34m,\u001b[0m \u001b[0msignal_headers\u001b[0m\u001b[0;34m,\u001b[0m \u001b[0mheader\u001b[0m \u001b[0;34m=\u001b[0m \u001b[0mhighlevel\u001b[0m\u001b[0;34m.\u001b[0m\u001b[0mread_edf\u001b[0m\u001b[0;34m(\u001b[0m\u001b[0mpath\u001b[0m\u001b[0;34m)\u001b[0m\u001b[0;34m\u001b[0m\u001b[0;34m\u001b[0m\u001b[0m\n\u001b[0m",
            "\u001b[0;32m/usr/local/lib/python3.10/dist-packages/pyedflib/highlevel.py\u001b[0m in \u001b[0;36mread_edf\u001b[0;34m(edf_file, ch_nrs, ch_names, digital, verbose)\u001b[0m\n\u001b[1;32m    356\u001b[0m         \u001b[0;32mnot\u001b[0m \u001b[0misinstance\u001b[0m\u001b[0;34m(\u001b[0m\u001b[0mch_names\u001b[0m\u001b[0;34m,\u001b[0m \u001b[0mlist\u001b[0m\u001b[0;34m)\u001b[0m\u001b[0;34m:\u001b[0m \u001b[0mch_names\u001b[0m \u001b[0;34m=\u001b[0m \u001b[0;34m[\u001b[0m\u001b[0mch_names\u001b[0m\u001b[0;34m]\u001b[0m\u001b[0;34m\u001b[0m\u001b[0;34m\u001b[0m\u001b[0m\n\u001b[1;32m    357\u001b[0m \u001b[0;34m\u001b[0m\u001b[0m\n\u001b[0;32m--> 358\u001b[0;31m     \u001b[0;32mwith\u001b[0m \u001b[0mpyedflib\u001b[0m\u001b[0;34m.\u001b[0m\u001b[0mEdfReader\u001b[0m\u001b[0;34m(\u001b[0m\u001b[0medf_file\u001b[0m\u001b[0;34m)\u001b[0m \u001b[0;32mas\u001b[0m \u001b[0mf\u001b[0m\u001b[0;34m:\u001b[0m\u001b[0;34m\u001b[0m\u001b[0;34m\u001b[0m\u001b[0m\n\u001b[0m\u001b[1;32m    359\u001b[0m         \u001b[0;31m# see which channels we want to load\u001b[0m\u001b[0;34m\u001b[0m\u001b[0;34m\u001b[0m\u001b[0m\n\u001b[1;32m    360\u001b[0m         \u001b[0mavailable_chs\u001b[0m \u001b[0;34m=\u001b[0m \u001b[0;34m[\u001b[0m\u001b[0mch\u001b[0m\u001b[0;34m.\u001b[0m\u001b[0mupper\u001b[0m\u001b[0;34m(\u001b[0m\u001b[0;34m)\u001b[0m \u001b[0;32mfor\u001b[0m \u001b[0mch\u001b[0m \u001b[0;32min\u001b[0m \u001b[0mf\u001b[0m\u001b[0;34m.\u001b[0m\u001b[0mgetSignalLabels\u001b[0m\u001b[0;34m(\u001b[0m\u001b[0;34m)\u001b[0m\u001b[0;34m]\u001b[0m\u001b[0;34m\u001b[0m\u001b[0;34m\u001b[0m\u001b[0m\n",
            "\u001b[0;32mpyedflib/_extensions/_pyedflib.pyx\u001b[0m in \u001b[0;36mpyedflib._extensions._pyedflib.CyEdfReader.__init__\u001b[0;34m()\u001b[0m\n",
            "\u001b[0;32mpyedflib/_extensions/_pyedflib.pyx\u001b[0m in \u001b[0;36mpyedflib._extensions._pyedflib.CyEdfReader.__init__\u001b[0;34m()\u001b[0m\n",
            "\u001b[0;32mpyedflib/_extensions/_pyedflib.pyx\u001b[0m in \u001b[0;36mpyedflib._extensions._pyedflib.CyEdfReader.open\u001b[0;34m()\u001b[0m\n",
            "\u001b[0;32mpyedflib/_extensions/_pyedflib.pyx\u001b[0m in \u001b[0;36mpyedflib._extensions._pyedflib.CyEdfReader.check_open_ok\u001b[0;34m()\u001b[0m\n",
            "\u001b[0;31mFileNotFoundError\u001b[0m: https://github.com/TAUforPython/BioMedAI/raw/refs/heads/main/test_datasets/EDF_example_FS_healthy.edf: can not open file, no such file or directory"
          ]
        }
      ]
    },
    {
      "cell_type": "code",
      "source": [
        "edf_path = 'EDF_example_FS_healthy.edf'\n",
        "# загрузка файла (данные в структуре переданы в переменную)\n",
        "data_from_raw_edf = mne.io.read_raw_edf(edf_path, preload=True)"
      ],
      "metadata": {
        "id": "0jKMShqxkofy",
        "outputId": "1566c3ab-c620-4f36-d66c-81b7140fa77e",
        "colab": {
          "base_uri": "https://localhost:8080/"
        }
      },
      "execution_count": 14,
      "outputs": [
        {
          "output_type": "stream",
          "name": "stdout",
          "text": [
            "Extracting EDF parameters from /content/EDF_example_FS_healthy.edf...\n",
            "EDF file detected\n",
            "Setting channel info structure...\n",
            "Creating raw.info structure...\n",
            "Reading 0 ... 28799  =      0.000 ...   224.992 secs...\n"
          ]
        }
      ]
    },
    {
      "cell_type": "code",
      "source": [
        "!pip install hurst"
      ],
      "metadata": {
        "colab": {
          "base_uri": "https://localhost:8080/"
        },
        "id": "wV_jwOUccLmW",
        "outputId": "61a72167-1551-4c2f-bf01-050813523f50"
      },
      "execution_count": 15,
      "outputs": [
        {
          "output_type": "stream",
          "name": "stdout",
          "text": [
            "Collecting hurst\n",
            "  Downloading hurst-0.0.5-py3-none-any.whl.metadata (3.6 kB)\n",
            "Requirement already satisfied: pandas>=0.18 in /usr/local/lib/python3.10/dist-packages (from hurst) (2.2.2)\n",
            "Requirement already satisfied: numpy>=1.10 in /usr/local/lib/python3.10/dist-packages (from hurst) (1.26.4)\n",
            "Requirement already satisfied: python-dateutil>=2.8.2 in /usr/local/lib/python3.10/dist-packages (from pandas>=0.18->hurst) (2.8.2)\n",
            "Requirement already satisfied: pytz>=2020.1 in /usr/local/lib/python3.10/dist-packages (from pandas>=0.18->hurst) (2024.2)\n",
            "Requirement already satisfied: tzdata>=2022.7 in /usr/local/lib/python3.10/dist-packages (from pandas>=0.18->hurst) (2024.2)\n",
            "Requirement already satisfied: six>=1.5 in /usr/local/lib/python3.10/dist-packages (from python-dateutil>=2.8.2->pandas>=0.18->hurst) (1.16.0)\n",
            "Downloading hurst-0.0.5-py3-none-any.whl (5.9 kB)\n",
            "Installing collected packages: hurst\n",
            "Successfully installed hurst-0.0.5\n"
          ]
        }
      ]
    },
    {
      "cell_type": "code",
      "source": [
        "!pip install MFDFA"
      ],
      "metadata": {
        "colab": {
          "base_uri": "https://localhost:8080/"
        },
        "id": "gkxZTQ_ZcTgO",
        "outputId": "04406c4a-0efd-4372-f1cc-4efabbef932c"
      },
      "execution_count": 16,
      "outputs": [
        {
          "output_type": "stream",
          "name": "stdout",
          "text": [
            "Collecting MFDFA\n",
            "  Downloading MFDFA-0.4.3-py3-none-any.whl.metadata (9.2 kB)\n",
            "Requirement already satisfied: numpy in /usr/local/lib/python3.10/dist-packages (from MFDFA) (1.26.4)\n",
            "Downloading MFDFA-0.4.3-py3-none-any.whl (16 kB)\n",
            "Installing collected packages: MFDFA\n",
            "Successfully installed MFDFA-0.4.3\n"
          ]
        }
      ]
    },
    {
      "cell_type": "code",
      "source": [
        "from scipy import signal\n",
        "import numpy as np\n",
        "from scipy.signal import welch\n",
        "import matplotlib.pyplot as plt\n",
        "from MFDFA import MFDFA\n",
        "import pandas as pd\n",
        "from scipy.stats import linregress"
      ],
      "metadata": {
        "id": "IsA6VPOtZzwT"
      },
      "execution_count": 18,
      "outputs": []
    },
    {
      "cell_type": "code",
      "source": [
        "data_from_raw_edf.info"
      ],
      "metadata": {
        "colab": {
          "base_uri": "https://localhost:8080/",
          "height": 250
        },
        "id": "R1IW7JfE3XFR",
        "outputId": "dd20574b-296e-47e3-e633-b706c27be5ff"
      },
      "execution_count": 20,
      "outputs": [
        {
          "output_type": "execute_result",
          "data": {
            "text/plain": [
              "<Info | 7 non-empty values\n",
              " bads: []\n",
              " ch_names: EEG Fp1-G2, EEG Fpz-G2, EEG Fp2-G2, EEG F7-G2, EEG F3-G2, EEG ...\n",
              " chs: 28 EEG\n",
              " custom_ref_applied: False\n",
              " highpass: 1.0 Hz\n",
              " lowpass: 70.0 Hz\n",
              " meas_date: 2020-10-15 15:49:54 UTC\n",
              " nchan: 28\n",
              " projs: []\n",
              " sfreq: 128.0 Hz\n",
              ">"
            ],
            "text/html": [
              "<table class=\"table table-hover table-striped table-sm table-responsive small\">\n",
              "    <tr>\n",
              "        <th>Measurement date</th>\n",
              "        \n",
              "        <td>October 15, 2020  15:49:54 GMT</td>\n",
              "        \n",
              "    </tr>\n",
              "    <tr>\n",
              "        <th>Experimenter</th>\n",
              "        \n",
              "        <td>Unknown</td>\n",
              "        \n",
              "    </tr>\n",
              "        <th>Participant</th>\n",
              "        \n",
              "        <td>Unknown</td>\n",
              "        \n",
              "    </tr>\n",
              "    <tr>\n",
              "        <th>Digitized points</th>\n",
              "        \n",
              "        <td>Not available</td>\n",
              "        \n",
              "    </tr>\n",
              "    <tr>\n",
              "        <th>Good channels</th>\n",
              "        <td>28 EEG</td>\n",
              "    </tr>\n",
              "    <tr>\n",
              "        <th>Bad channels</th>\n",
              "        <td>None</td>\n",
              "    </tr>\n",
              "    <tr>\n",
              "        <th>EOG channels</th>\n",
              "        <td>Not available</td>\n",
              "    </tr>\n",
              "    <tr>\n",
              "        <th>ECG channels</th>\n",
              "        <td>Not available</td>\n",
              "    \n",
              "    <tr>\n",
              "        <th>Sampling frequency</th>\n",
              "        <td>128.00 Hz</td>\n",
              "    </tr>\n",
              "    \n",
              "    \n",
              "    <tr>\n",
              "        <th>Highpass</th>\n",
              "        <td>1.00 Hz</td>\n",
              "    </tr>\n",
              "    \n",
              "    \n",
              "    <tr>\n",
              "        <th>Lowpass</th>\n",
              "        <td>70.00 Hz</td>\n",
              "    </tr>\n",
              "    \n",
              "    \n",
              "</table>"
            ]
          },
          "metadata": {},
          "execution_count": 20
        }
      ]
    },
    {
      "cell_type": "code",
      "source": [
        "data_from_raw_edf.ch_names"
      ],
      "metadata": {
        "id": "O0czaZmIryaQ",
        "outputId": "4c442cc5-7348-4d20-98fa-4e46d05090dd",
        "colab": {
          "base_uri": "https://localhost:8080/"
        }
      },
      "execution_count": 23,
      "outputs": [
        {
          "output_type": "execute_result",
          "data": {
            "text/plain": [
              "['EEG Fp1-G2',\n",
              " 'EEG Fpz-G2',\n",
              " 'EEG Fp2-G2',\n",
              " 'EEG F7-G2',\n",
              " 'EEG F3-G2',\n",
              " 'EEG Fz-G2',\n",
              " 'EEG F4-G2',\n",
              " 'EEG F8-G2',\n",
              " 'EEG T3-G2',\n",
              " 'EEG C3-G2',\n",
              " 'EEG Cz-G2',\n",
              " 'EEG C4-G2',\n",
              " 'EEG T4-G2',\n",
              " 'EEG T5-G2',\n",
              " 'EEG P3-G2',\n",
              " 'EEG Pz-G2',\n",
              " 'EEG P4-G2',\n",
              " 'EEG T6-G2',\n",
              " 'EEG O1-G2',\n",
              " 'EEG O2-G2',\n",
              " 'EEG F9-G2',\n",
              " 'EEG T9-G2',\n",
              " 'EEG ECG-G2',\n",
              " 'EEG P9-G2',\n",
              " 'EEG F10-G2',\n",
              " 'EEG T10-G2',\n",
              " 'EEG P10-G2',\n",
              " 'Value MKR+-MKR-']"
            ]
          },
          "metadata": {},
          "execution_count": 23
        }
      ]
    },
    {
      "cell_type": "code",
      "source": [
        "eeg_data, eeg_times = data_from_raw_edf.get_data(return_times=True)\n",
        "data_from_raw_edf.drop_channels('Value MKR+-MKR-')"
      ],
      "metadata": {
        "id": "9_T6PMJxzqMh",
        "colab": {
          "base_uri": "https://localhost:8080/",
          "height": 292
        },
        "outputId": "8169e2f7-422a-40fd-a3f3-a77f252c2ac0"
      },
      "execution_count": 24,
      "outputs": [
        {
          "output_type": "execute_result",
          "data": {
            "text/plain": [
              "<RawEDF | EDF_example_FS_healthy.edf, 27 x 28800 (225.0 s), ~6.0 MB, data loaded>"
            ],
            "text/html": [
              "<table class=\"table table-hover table-striped table-sm table-responsive small\">\n",
              "    <tr>\n",
              "        <th>Measurement date</th>\n",
              "        \n",
              "        <td>October 15, 2020  15:49:54 GMT</td>\n",
              "        \n",
              "    </tr>\n",
              "    <tr>\n",
              "        <th>Experimenter</th>\n",
              "        \n",
              "        <td>Unknown</td>\n",
              "        \n",
              "    </tr>\n",
              "        <th>Participant</th>\n",
              "        \n",
              "        <td>Unknown</td>\n",
              "        \n",
              "    </tr>\n",
              "    <tr>\n",
              "        <th>Digitized points</th>\n",
              "        \n",
              "        <td>Not available</td>\n",
              "        \n",
              "    </tr>\n",
              "    <tr>\n",
              "        <th>Good channels</th>\n",
              "        <td>27 EEG</td>\n",
              "    </tr>\n",
              "    <tr>\n",
              "        <th>Bad channels</th>\n",
              "        <td>None</td>\n",
              "    </tr>\n",
              "    <tr>\n",
              "        <th>EOG channels</th>\n",
              "        <td>Not available</td>\n",
              "    </tr>\n",
              "    <tr>\n",
              "        <th>ECG channels</th>\n",
              "        <td>Not available</td>\n",
              "    \n",
              "    <tr>\n",
              "        <th>Sampling frequency</th>\n",
              "        <td>128.00 Hz</td>\n",
              "    </tr>\n",
              "    \n",
              "    \n",
              "    <tr>\n",
              "        <th>Highpass</th>\n",
              "        <td>1.00 Hz</td>\n",
              "    </tr>\n",
              "    \n",
              "    \n",
              "    <tr>\n",
              "        <th>Lowpass</th>\n",
              "        <td>70.00 Hz</td>\n",
              "    </tr>\n",
              "    \n",
              "    \n",
              "    \n",
              "    <tr>\n",
              "        <th>Filenames</th>\n",
              "        <td>EDF_example_FS_healthy.edf</td>\n",
              "    </tr>\n",
              "    \n",
              "    <tr>\n",
              "        <th>Duration</th>\n",
              "        <td>00:03:44 (HH:MM:SS)</td>\n",
              "    </tr>\n",
              "</table>"
            ]
          },
          "metadata": {},
          "execution_count": 24
        }
      ]
    },
    {
      "cell_type": "code",
      "source": [
        "rename_dict = {\n",
        "    'EEG Fp1-G2-0': 'Fp1',\n",
        "    'EEG Fp2-G2-0': 'Fp2',\n",
        "    #'EEG Fp2-G2-1': 'F3',\n",
        "    #'EEG F4-G2': 'F4',\n",
        "    'EEG Fp2-G2-1': 'F7',\n",
        "    'EEG Fp1-G2-1': 'F8',\n",
        "    #'EEG Fz-G2': 'Fz',\n",
        "    'EEG C3-G2': 'C3',\n",
        "    'EEG C4-G2': 'C4',\n",
        "    #'EEG Cz-G2': 'Cz',\n",
        "    #'EEG P3-G2': 'P3',\n",
        "    #'EEG P4-G2': 'P4',\n",
        "    #'EEG Pz-G2': 'Pz',\n",
        "    #'EEG O1-G2': 'O1',\n",
        "    #'EEG O2-G2': 'O2',\n",
        "    'EEG T3-G2': 'T3',\n",
        "    'EEG T4-G2': 'T4',\n",
        "    #'EEG T5-G2': 'T5',\n",
        "    #'EEG T6-G2': 'T6',\n",
        "    #'EEG T9-G2': 'T9',\n",
        "    #'EEG P9-G2': 'P9',\n",
        "    #'EEG F10-G2': 'F10',\n",
        "    #'EEG T10-G2': 'T10',\n",
        "    #'EEG P10-G2': 'P10'\n",
        "}\n",
        "data_from_raw_edf.rename_channels(rename_dict)"
      ],
      "metadata": {
        "colab": {
          "base_uri": "https://localhost:8080/",
          "height": 384
        },
        "id": "Vssy33mqWYYI",
        "outputId": "7380e189-5ec5-47d1-a254-a54d6c1e1507"
      },
      "execution_count": 26,
      "outputs": [
        {
          "output_type": "error",
          "ename": "ValueError",
          "evalue": "Invalid channel name(s) {'EEG Fp2-G2-0', 'EEG Fp1-G2-0', 'EEG Fp2-G2-1', 'EEG Fp1-G2-1'} are not present in info",
          "traceback": [
            "\u001b[0;31m---------------------------------------------------------------------------\u001b[0m",
            "\u001b[0;31mValueError\u001b[0m                                Traceback (most recent call last)",
            "\u001b[0;32m<ipython-input-26-f7491386d70e>\u001b[0m in \u001b[0;36m<cell line: 27>\u001b[0;34m()\u001b[0m\n\u001b[1;32m     25\u001b[0m     \u001b[0;31m#'EEG P10-G2': 'P10'\u001b[0m\u001b[0;34m\u001b[0m\u001b[0;34m\u001b[0m\u001b[0m\n\u001b[1;32m     26\u001b[0m }\n\u001b[0;32m---> 27\u001b[0;31m \u001b[0mdata_from_raw_edf\u001b[0m\u001b[0;34m.\u001b[0m\u001b[0mrename_channels\u001b[0m\u001b[0;34m(\u001b[0m\u001b[0mrename_dict\u001b[0m\u001b[0;34m)\u001b[0m\u001b[0;34m\u001b[0m\u001b[0;34m\u001b[0m\u001b[0m\n\u001b[0m",
            "\u001b[0;32m<decorator-gen-198>\u001b[0m in \u001b[0;36mrename_channels\u001b[0;34m(self, mapping, allow_duplicates, verbose)\u001b[0m\n",
            "\u001b[0;32m/usr/local/lib/python3.10/dist-packages/mne/channels/channels.py\u001b[0m in \u001b[0;36mrename_channels\u001b[0;34m(self, mapping, allow_duplicates, verbose)\u001b[0m\n\u001b[1;32m    408\u001b[0m \u001b[0;34m\u001b[0m\u001b[0m\n\u001b[1;32m    409\u001b[0m         \u001b[0mch_names_orig\u001b[0m \u001b[0;34m=\u001b[0m \u001b[0mlist\u001b[0m\u001b[0;34m(\u001b[0m\u001b[0mself\u001b[0m\u001b[0;34m.\u001b[0m\u001b[0minfo\u001b[0m\u001b[0;34m[\u001b[0m\u001b[0;34m'ch_names'\u001b[0m\u001b[0;34m]\u001b[0m\u001b[0;34m)\u001b[0m\u001b[0;34m\u001b[0m\u001b[0;34m\u001b[0m\u001b[0m\n\u001b[0;32m--> 410\u001b[0;31m         \u001b[0mrename_channels\u001b[0m\u001b[0;34m(\u001b[0m\u001b[0mself\u001b[0m\u001b[0;34m.\u001b[0m\u001b[0minfo\u001b[0m\u001b[0;34m,\u001b[0m \u001b[0mmapping\u001b[0m\u001b[0;34m,\u001b[0m \u001b[0mallow_duplicates\u001b[0m\u001b[0;34m)\u001b[0m\u001b[0;34m\u001b[0m\u001b[0;34m\u001b[0m\u001b[0m\n\u001b[0m\u001b[1;32m    411\u001b[0m \u001b[0;34m\u001b[0m\u001b[0m\n\u001b[1;32m    412\u001b[0m         \u001b[0;31m# Update self._orig_units for Raw\u001b[0m\u001b[0;34m\u001b[0m\u001b[0;34m\u001b[0m\u001b[0m\n",
            "\u001b[0;32m<decorator-gen-206>\u001b[0m in \u001b[0;36mrename_channels\u001b[0;34m(info, mapping, allow_duplicates, verbose)\u001b[0m\n",
            "\u001b[0;32m/usr/local/lib/python3.10/dist-packages/mne/channels/channels.py\u001b[0m in \u001b[0;36mrename_channels\u001b[0;34m(info, mapping, allow_duplicates, verbose)\u001b[0m\n\u001b[1;32m   1127\u001b[0m     \u001b[0;31m# first check and assemble clean mappings of index and name\u001b[0m\u001b[0;34m\u001b[0m\u001b[0;34m\u001b[0m\u001b[0m\n\u001b[1;32m   1128\u001b[0m     \u001b[0;32mif\u001b[0m \u001b[0misinstance\u001b[0m\u001b[0;34m(\u001b[0m\u001b[0mmapping\u001b[0m\u001b[0;34m,\u001b[0m \u001b[0mdict\u001b[0m\u001b[0;34m)\u001b[0m\u001b[0;34m:\u001b[0m\u001b[0;34m\u001b[0m\u001b[0;34m\u001b[0m\u001b[0m\n\u001b[0;32m-> 1129\u001b[0;31m         _check_dict_keys(mapping, ch_names, key_description=\"channel name(s)\",\n\u001b[0m\u001b[1;32m   1130\u001b[0m                          valid_key_source=\"info\")\n\u001b[1;32m   1131\u001b[0m         new_names = [(ch_names.index(ch_name), new_name)\n",
            "\u001b[0;32m/usr/local/lib/python3.10/dist-packages/mne/utils/check.py\u001b[0m in \u001b[0;36m_check_dict_keys\u001b[0;34m(mapping, valid_keys, key_description, valid_key_source)\u001b[0m\n\u001b[1;32m    711\u001b[0m         msg = (f'Invalid {key_description} {missing} {_is} not present in '\n\u001b[1;32m    712\u001b[0m                f'{valid_key_source}')\n\u001b[0;32m--> 713\u001b[0;31m         \u001b[0;32mraise\u001b[0m \u001b[0mValueError\u001b[0m\u001b[0;34m(\u001b[0m\u001b[0mmsg\u001b[0m\u001b[0;34m)\u001b[0m\u001b[0;34m\u001b[0m\u001b[0;34m\u001b[0m\u001b[0m\n\u001b[0m\u001b[1;32m    714\u001b[0m \u001b[0;34m\u001b[0m\u001b[0m\n\u001b[1;32m    715\u001b[0m     \u001b[0;32mreturn\u001b[0m \u001b[0mmapping\u001b[0m\u001b[0;34m\u001b[0m\u001b[0;34m\u001b[0m\u001b[0m\n",
            "\u001b[0;31mValueError\u001b[0m: Invalid channel name(s) {'EEG Fp2-G2-0', 'EEG Fp1-G2-0', 'EEG Fp2-G2-1', 'EEG Fp1-G2-1'} are not present in info"
          ]
        }
      ]
    },
    {
      "cell_type": "code",
      "source": [
        "channel_names = data_from_raw_edf.info['ch_names']\n",
        "hurst_exponents = []"
      ],
      "metadata": {
        "id": "SWMZvJ9T1m_M"
      },
      "execution_count": 27,
      "outputs": []
    },
    {
      "cell_type": "code",
      "source": [
        "def butter_bandpass_filter(data, lowcut, highcut, fs, order=5):\n",
        "    nyquist = 0.5 * fs\n",
        "    low = lowcut / nyquist\n",
        "    high = highcut / nyquist\n",
        "    b, a = signal.butter(order, [low, high], btype='band')\n",
        "    filtered_data = signal.lfilter(b, a, data)\n",
        "    return filtered_data"
      ],
      "metadata": {
        "id": "evoaJ_RlsRS8"
      },
      "execution_count": 28,
      "outputs": []
    },
    {
      "cell_type": "code",
      "source": [
        "for channel_index, channel_name in enumerate(channel_names):\n",
        "    fs = data_from_raw_edf.info['sfreq']\n",
        "    lowcut = 1\n",
        "    highcut = 40\n",
        "    c_signal = eeg_data[channel_index]\n",
        "    filtered_signal = butter_bandpass_filter(c_signal, lowcut, highcut, fs)\n",
        "    eeg_data[channel_index] = filtered_signal\n",
        "    lag = np.unique(np.logspace(0.5, 3, 100, dtype=int))\n",
        "    q = 2\n",
        "    order = 1\n",
        "\n",
        "    try:\n",
        "        lag, dfa = MFDFA(filtered_signal, lag=lag, q=q, order=order)\n",
        "        del_nan = np.argwhere(np.isnan(dfa))\n",
        "        dfa = np.delete(dfa,del_nan[:,0])\n",
        "        lag = np.delete(lag,del_nan[:,0])\n",
        "        H_hat, C_hat = np.polyfit(np.log10(lag)[0:-1],np.log10(dfa[0:-1]),1)\n",
        "        hurst_exponents.append((channel_name, H_hat))\n",
        "    except Exception as e:\n",
        "        print(f\"Ошибка при обработке канала {channel_name}: {e}\")\n",
        "        hurst_exponents.append((channel_name, np.nan))\n",
        "hurst_df = pd.DataFrame(hurst_exponents, columns=['Имя канала', 'Показатель индекса Херста'])\n",
        "print(hurst_df)\n"
      ],
      "metadata": {
        "colab": {
          "base_uri": "https://localhost:8080/"
        },
        "id": "cbDuLJX01zJk",
        "outputId": "e8b6aec5-0313-4362-e11a-3e66ac4ec497"
      },
      "execution_count": 30,
      "outputs": [
        {
          "output_type": "stream",
          "name": "stdout",
          "text": [
            "    Имя канала  Показатель индекса Херста\n",
            "0   EEG Fp1-G2                   0.872085\n",
            "1   EEG Fpz-G2                   0.631794\n",
            "2   EEG Fp2-G2                   0.757056\n",
            "3    EEG F7-G2                   0.688901\n",
            "4    EEG F3-G2                   0.678048\n",
            "5    EEG Fz-G2                   0.640029\n",
            "6    EEG F4-G2                   0.695151\n",
            "7    EEG F8-G2                   0.679648\n",
            "8    EEG T3-G2                   0.785492\n",
            "9    EEG C3-G2                   0.654630\n",
            "10   EEG Cz-G2                   0.627682\n",
            "11   EEG C4-G2                   0.673498\n",
            "12   EEG T4-G2                   0.684726\n",
            "13   EEG T5-G2                   0.689828\n",
            "14   EEG P3-G2                   0.663250\n",
            "15   EEG Pz-G2                   0.660840\n",
            "16   EEG P4-G2                   0.635859\n",
            "17   EEG T6-G2                   0.689457\n",
            "18   EEG O1-G2                   0.661934\n",
            "19   EEG O2-G2                   0.677929\n",
            "20   EEG F9-G2                   0.705500\n",
            "21   EEG T9-G2                   0.682150\n",
            "22  EEG ECG-G2                   0.547096\n",
            "23   EEG P9-G2                   0.686587\n",
            "24  EEG F10-G2                   0.718028\n",
            "25  EEG T10-G2                   0.701837\n",
            "26  EEG P10-G2                   0.673619\n"
          ]
        }
      ]
    },
    {
      "cell_type": "code",
      "source": [
        "montage = mne.channels.make_standard_montage('standard_1020')\n",
        "pos = montage.get_positions()['ch_pos']"
      ],
      "metadata": {
        "colab": {
          "base_uri": "https://localhost:8080/"
        },
        "id": "oT9ShtKpVzLd",
        "outputId": "a0872f3c-1d0f-4a3d-e23e-a15819201f8e"
      },
      "execution_count": 31,
      "outputs": [
        {
          "output_type": "stream",
          "name": "stderr",
          "text": [
            "/usr/local/lib/python3.10/dist-packages/mne/io/open.py:161: DeprecationWarning: Conversion of an array with ndim > 0 to a scalar is deprecated, and will error in future. Ensure you extract a single element from your array before performing this operation. (Deprecated NumPy 1.25.)\n",
            "  dirpos = int(tag.data)\n",
            "/usr/local/lib/python3.10/dist-packages/mne/io/tag.py:299: DeprecationWarning: Conversion of an array with ndim > 0 to a scalar is deprecated, and will error in future. Ensure you extract a single element from your array before performing this operation. (Deprecated NumPy 1.25.)\n",
            "  version=int(np.frombuffer(fid.read(4), dtype=\">i4\")),\n",
            "/usr/local/lib/python3.10/dist-packages/mne/io/tag.py:301: DeprecationWarning: Conversion of an array with ndim > 0 to a scalar is deprecated, and will error in future. Ensure you extract a single element from your array before performing this operation. (Deprecated NumPy 1.25.)\n",
            "  secs=int(np.frombuffer(fid.read(4), dtype=\">i4\")),\n",
            "/usr/local/lib/python3.10/dist-packages/mne/io/tag.py:302: DeprecationWarning: Conversion of an array with ndim > 0 to a scalar is deprecated, and will error in future. Ensure you extract a single element from your array before performing this operation. (Deprecated NumPy 1.25.)\n",
            "  usecs=int(np.frombuffer(fid.read(4), dtype=\">i4\")))\n",
            "/usr/local/lib/python3.10/dist-packages/mne/io/tree.py:61: DeprecationWarning: Conversion of an array with ndim > 0 to a scalar is deprecated, and will error in future. Ensure you extract a single element from your array before performing this operation. (Deprecated NumPy 1.25.)\n",
            "  logger.debug('    ' * indent + 'start { %d' % block)\n",
            "/usr/local/lib/python3.10/dist-packages/mne/io/tree.py:109: DeprecationWarning: Conversion of an array with ndim > 0 to a scalar is deprecated, and will error in future. Ensure you extract a single element from your array before performing this operation. (Deprecated NumPy 1.25.)\n",
            "  logger.debug('    ' * (indent + 1) + 'block = %d nent = %d nchild = %d'\n",
            "/usr/local/lib/python3.10/dist-packages/mne/io/tree.py:111: DeprecationWarning: Conversion of an array with ndim > 0 to a scalar is deprecated, and will error in future. Ensure you extract a single element from your array before performing this operation. (Deprecated NumPy 1.25.)\n",
            "  logger.debug('    ' * indent + 'end } %d' % block)\n",
            "/usr/local/lib/python3.10/dist-packages/mne/io/tag.py:307: DeprecationWarning: Conversion of an array with ndim > 0 to a scalar is deprecated, and will error in future. Ensure you extract a single element from your array before performing this operation. (Deprecated NumPy 1.25.)\n",
            "  kind = int(np.frombuffer(fid.read(4), dtype=\">i4\"))\n",
            "/usr/local/lib/python3.10/dist-packages/mne/io/tag.py:309: DeprecationWarning: Conversion of an array with ndim > 0 to a scalar is deprecated, and will error in future. Ensure you extract a single element from your array before performing this operation. (Deprecated NumPy 1.25.)\n",
            "  ident = int(np.frombuffer(fid.read(4), dtype=\">i4\"))\n",
            "/usr/local/lib/python3.10/dist-packages/mne/io/tag.py:307: DeprecationWarning: Conversion of an array with ndim > 0 to a scalar is deprecated, and will error in future. Ensure you extract a single element from your array before performing this operation. (Deprecated NumPy 1.25.)\n",
            "  kind = int(np.frombuffer(fid.read(4), dtype=\">i4\"))\n",
            "/usr/local/lib/python3.10/dist-packages/mne/io/tag.py:309: DeprecationWarning: Conversion of an array with ndim > 0 to a scalar is deprecated, and will error in future. Ensure you extract a single element from your array before performing this operation. (Deprecated NumPy 1.25.)\n",
            "  ident = int(np.frombuffer(fid.read(4), dtype=\">i4\"))\n",
            "/usr/local/lib/python3.10/dist-packages/mne/io/tag.py:307: DeprecationWarning: Conversion of an array with ndim > 0 to a scalar is deprecated, and will error in future. Ensure you extract a single element from your array before performing this operation. (Deprecated NumPy 1.25.)\n",
            "  kind = int(np.frombuffer(fid.read(4), dtype=\">i4\"))\n",
            "/usr/local/lib/python3.10/dist-packages/mne/io/tag.py:309: DeprecationWarning: Conversion of an array with ndim > 0 to a scalar is deprecated, and will error in future. Ensure you extract a single element from your array before performing this operation. (Deprecated NumPy 1.25.)\n",
            "  ident = int(np.frombuffer(fid.read(4), dtype=\">i4\"))\n"
          ]
        }
      ]
    },
    {
      "cell_type": "code",
      "source": [
        "all_montage_names = montage.ch_names\n",
        "channel_names = hurst_df['Имя канала'].tolist()\n",
        "filtered_names = [name for name in channel_names if name in all_montage_names]\n",
        "names = filtered_names\n",
        "names"
      ],
      "metadata": {
        "id": "B9nqhQKFedm1",
        "colab": {
          "base_uri": "https://localhost:8080/"
        },
        "outputId": "e520671b-05ad-4222-ea14-02af64f35eae"
      },
      "execution_count": 36,
      "outputs": [
        {
          "output_type": "execute_result",
          "data": {
            "text/plain": [
              "[]"
            ]
          },
          "metadata": {},
          "execution_count": 36
        }
      ]
    },
    {
      "cell_type": "code",
      "source": [
        "names_hurst = [f\"{row['Имя канала']}\\n{round(row['Показатель индекса Херста'], 5)}\" for index, row in hurst_df.iterrows()]\n",
        "print(names_hurst)"
      ],
      "metadata": {
        "colab": {
          "base_uri": "https://localhost:8080/"
        },
        "id": "MfH1kHpim3MP",
        "outputId": "a3c8327b-301a-490f-bd90-f497cd6c226d"
      },
      "execution_count": 33,
      "outputs": [
        {
          "output_type": "stream",
          "name": "stdout",
          "text": [
            "['EEG Fp1-G2\\n0.87209', 'EEG Fpz-G2\\n0.63179', 'EEG Fp2-G2\\n0.75706', 'EEG F7-G2\\n0.6889', 'EEG F3-G2\\n0.67805', 'EEG Fz-G2\\n0.64003', 'EEG F4-G2\\n0.69515', 'EEG F8-G2\\n0.67965', 'EEG T3-G2\\n0.78549', 'EEG C3-G2\\n0.65463', 'EEG Cz-G2\\n0.62768', 'EEG C4-G2\\n0.6735', 'EEG T4-G2\\n0.68473', 'EEG T5-G2\\n0.68983', 'EEG P3-G2\\n0.66325', 'EEG Pz-G2\\n0.66084', 'EEG P4-G2\\n0.63586', 'EEG T6-G2\\n0.68946', 'EEG O1-G2\\n0.66193', 'EEG O2-G2\\n0.67793', 'EEG F9-G2\\n0.7055', 'EEG T9-G2\\n0.68215', 'EEG ECG-G2\\n0.5471', 'EEG P9-G2\\n0.68659', 'EEG F10-G2\\n0.71803', 'EEG T10-G2\\n0.70184', 'EEG P10-G2\\n0.67362']\n"
          ]
        }
      ]
    },
    {
      "cell_type": "code",
      "source": [
        "hurst_values = np.array([hurst_df[hurst_df['Имя канала'] == name]['Показатель индекса Херста'].values[0] if name in hurst_df['Имя канала'].values else np.nan for name in names])"
      ],
      "metadata": {
        "id": "m67kCz2qXewP"
      },
      "execution_count": 34,
      "outputs": []
    },
    {
      "cell_type": "code",
      "source": [
        "pos_array = np.stack([pos[name] for name in names], axis=0)[:, :2]\n",
        "pos_array"
      ],
      "metadata": {
        "colab": {
          "base_uri": "https://localhost:8080/",
          "height": 275
        },
        "id": "tNj5_B9tXjCL",
        "outputId": "84293353-ce66-4f0a-eb07-9e89138ec12d"
      },
      "execution_count": 35,
      "outputs": [
        {
          "output_type": "error",
          "ename": "ValueError",
          "evalue": "need at least one array to stack",
          "traceback": [
            "\u001b[0;31m---------------------------------------------------------------------------\u001b[0m",
            "\u001b[0;31mValueError\u001b[0m                                Traceback (most recent call last)",
            "\u001b[0;32m<ipython-input-35-be0fc9087dd3>\u001b[0m in \u001b[0;36m<cell line: 1>\u001b[0;34m()\u001b[0m\n\u001b[0;32m----> 1\u001b[0;31m \u001b[0mpos_array\u001b[0m \u001b[0;34m=\u001b[0m \u001b[0mnp\u001b[0m\u001b[0;34m.\u001b[0m\u001b[0mstack\u001b[0m\u001b[0;34m(\u001b[0m\u001b[0;34m[\u001b[0m\u001b[0mpos\u001b[0m\u001b[0;34m[\u001b[0m\u001b[0mname\u001b[0m\u001b[0;34m]\u001b[0m \u001b[0;32mfor\u001b[0m \u001b[0mname\u001b[0m \u001b[0;32min\u001b[0m \u001b[0mnames\u001b[0m\u001b[0;34m]\u001b[0m\u001b[0;34m,\u001b[0m \u001b[0maxis\u001b[0m\u001b[0;34m=\u001b[0m\u001b[0;36m0\u001b[0m\u001b[0;34m)\u001b[0m\u001b[0;34m[\u001b[0m\u001b[0;34m:\u001b[0m\u001b[0;34m,\u001b[0m \u001b[0;34m:\u001b[0m\u001b[0;36m2\u001b[0m\u001b[0;34m]\u001b[0m\u001b[0;34m\u001b[0m\u001b[0;34m\u001b[0m\u001b[0m\n\u001b[0m\u001b[1;32m      2\u001b[0m \u001b[0mpos_array\u001b[0m\u001b[0;34m\u001b[0m\u001b[0;34m\u001b[0m\u001b[0m\n",
            "\u001b[0;32m/usr/local/lib/python3.10/dist-packages/numpy/core/shape_base.py\u001b[0m in \u001b[0;36mstack\u001b[0;34m(arrays, axis, out, dtype, casting)\u001b[0m\n\u001b[1;32m    443\u001b[0m     \u001b[0marrays\u001b[0m \u001b[0;34m=\u001b[0m \u001b[0;34m[\u001b[0m\u001b[0masanyarray\u001b[0m\u001b[0;34m(\u001b[0m\u001b[0marr\u001b[0m\u001b[0;34m)\u001b[0m \u001b[0;32mfor\u001b[0m \u001b[0marr\u001b[0m \u001b[0;32min\u001b[0m \u001b[0marrays\u001b[0m\u001b[0;34m]\u001b[0m\u001b[0;34m\u001b[0m\u001b[0;34m\u001b[0m\u001b[0m\n\u001b[1;32m    444\u001b[0m     \u001b[0;32mif\u001b[0m \u001b[0;32mnot\u001b[0m \u001b[0marrays\u001b[0m\u001b[0;34m:\u001b[0m\u001b[0;34m\u001b[0m\u001b[0;34m\u001b[0m\u001b[0m\n\u001b[0;32m--> 445\u001b[0;31m         \u001b[0;32mraise\u001b[0m \u001b[0mValueError\u001b[0m\u001b[0;34m(\u001b[0m\u001b[0;34m'need at least one array to stack'\u001b[0m\u001b[0;34m)\u001b[0m\u001b[0;34m\u001b[0m\u001b[0;34m\u001b[0m\u001b[0m\n\u001b[0m\u001b[1;32m    446\u001b[0m \u001b[0;34m\u001b[0m\u001b[0m\n\u001b[1;32m    447\u001b[0m     \u001b[0mshapes\u001b[0m \u001b[0;34m=\u001b[0m \u001b[0;34m{\u001b[0m\u001b[0marr\u001b[0m\u001b[0;34m.\u001b[0m\u001b[0mshape\u001b[0m \u001b[0;32mfor\u001b[0m \u001b[0marr\u001b[0m \u001b[0;32min\u001b[0m \u001b[0marrays\u001b[0m\u001b[0;34m}\u001b[0m\u001b[0;34m\u001b[0m\u001b[0;34m\u001b[0m\u001b[0m\n",
            "\u001b[0;31mValueError\u001b[0m: need at least one array to stack"
          ]
        }
      ]
    },
    {
      "cell_type": "code",
      "source": [
        "fig, ax = plt.subplots()\n",
        "im, cn = mne.viz.plot_topomap(hurst_values, pos_array, names=names_hurst, show_names=True, sensors=True, axes=ax)\n"
      ],
      "metadata": {
        "colab": {
          "base_uri": "https://localhost:8080/",
          "height": 574
        },
        "id": "MQCFHg79XmwK",
        "outputId": "ebbbe920-9647-4848-85b6-b59734901166"
      },
      "execution_count": 37,
      "outputs": [
        {
          "output_type": "error",
          "ename": "NameError",
          "evalue": "name 'pos_array' is not defined",
          "traceback": [
            "\u001b[0;31m---------------------------------------------------------------------------\u001b[0m",
            "\u001b[0;31mNameError\u001b[0m                                 Traceback (most recent call last)",
            "\u001b[0;32m<ipython-input-37-7fccd59ec862>\u001b[0m in \u001b[0;36m<cell line: 2>\u001b[0;34m()\u001b[0m\n\u001b[1;32m      1\u001b[0m \u001b[0mfig\u001b[0m\u001b[0;34m,\u001b[0m \u001b[0max\u001b[0m \u001b[0;34m=\u001b[0m \u001b[0mplt\u001b[0m\u001b[0;34m.\u001b[0m\u001b[0msubplots\u001b[0m\u001b[0;34m(\u001b[0m\u001b[0;34m)\u001b[0m\u001b[0;34m\u001b[0m\u001b[0;34m\u001b[0m\u001b[0m\n\u001b[0;32m----> 2\u001b[0;31m \u001b[0mim\u001b[0m\u001b[0;34m,\u001b[0m \u001b[0mcn\u001b[0m \u001b[0;34m=\u001b[0m \u001b[0mmne\u001b[0m\u001b[0;34m.\u001b[0m\u001b[0mviz\u001b[0m\u001b[0;34m.\u001b[0m\u001b[0mplot_topomap\u001b[0m\u001b[0;34m(\u001b[0m\u001b[0mhurst_values\u001b[0m\u001b[0;34m,\u001b[0m \u001b[0mpos_array\u001b[0m\u001b[0;34m,\u001b[0m \u001b[0mnames\u001b[0m\u001b[0;34m=\u001b[0m\u001b[0mnames_hurst\u001b[0m\u001b[0;34m,\u001b[0m \u001b[0mshow_names\u001b[0m\u001b[0;34m=\u001b[0m\u001b[0;32mTrue\u001b[0m\u001b[0;34m,\u001b[0m \u001b[0msensors\u001b[0m\u001b[0;34m=\u001b[0m\u001b[0;32mTrue\u001b[0m\u001b[0;34m,\u001b[0m \u001b[0maxes\u001b[0m\u001b[0;34m=\u001b[0m\u001b[0max\u001b[0m\u001b[0;34m)\u001b[0m\u001b[0;34m\u001b[0m\u001b[0;34m\u001b[0m\u001b[0m\n\u001b[0m",
            "\u001b[0;31mNameError\u001b[0m: name 'pos_array' is not defined"
          ]
        },
        {
          "output_type": "display_data",
          "data": {
            "text/plain": [
              "<Figure size 640x480 with 1 Axes>"
            ],
            "image/png": "[encoded data removed]"
          },
          "metadata": {}
        }
      ]
    },
    {
      "cell_type": "code",
      "source": [
        "def compute_energy_in_frequency_band(freqs, psd, band):\n",
        "    indices = np.where((freqs >= band[0]) & (freqs <= band[1]))[0]\n",
        "    energy = np.trapz(psd[indices], freqs[indices])\n",
        "    return energy\n",
        "\n",
        "def plot_spectrogram_and_energy(signal, sample_rate):\n",
        "    freqs, psd = welch(signal, sample_rate)\n",
        "\n",
        "    delta_band = (0.5, 4)\n",
        "    theta_band = (4, 8)\n",
        "    alpha_band = (8, 13)\n",
        "    beta_band = (13, 30)\n",
        "    gamma_band = (30, 100)\n",
        "\n",
        "    energy_delta = compute_energy_in_frequency_band(freqs, psd, delta_band)\n",
        "    energy_theta = compute_energy_in_frequency_band(freqs, psd, theta_band)\n",
        "    energy_alpha = compute_energy_in_frequency_band(freqs, psd, alpha_band)\n",
        "    energy_beta  = compute_energy_in_frequency_band(freqs, psd, beta_band)\n",
        "    energy_gamma = compute_energy_in_frequency_band(freqs, psd, gamma_band)\n",
        "\n",
        "    plt.figure(figsize=(12, 6))\n",
        "    plt.subplot(2, 1, 1)\n",
        "    plt.plot(freqs, psd)\n",
        "    plt.title('Power Spectral Density')\n",
        "    plt.xlabel('Frequency (Hz)')\n",
        "    plt.ylabel('Power/Frequency (dB/Hz)')\n",
        "    plt.grid(which='both', axis='both', linestyle='--', linewidth=0.5)\n",
        "    plt.minorticks_on()\n",
        "\n",
        "    plt.subplot(2, 1, 2)\n",
        "    bands = ['Delta', 'Theta', 'Alpha', 'Beta', 'Gamma']\n",
        "    energies = [energy_delta, energy_theta, energy_alpha, energy_beta, energy_gamma]\n",
        "    plt.bar(bands, energies, color=['blue', 'orange', 'green', 'red', 'purple'])\n",
        "    plt.title('Energy in Different Frequency Bands')\n",
        "    plt.xlabel('Frequency Band')\n",
        "    plt.xticks(np.arange(5), ('Delta, 0.5..4', 'Theta, 4..8', 'Alpha, 8..13', 'Beta, 13..30', 'Gamma, 30..'))\n",
        "    plt.ylabel('Energy')\n",
        "    plt.grid(which='both', axis='both', linestyle='--', linewidth=0.5)\n",
        "    plt.minorticks_on()\n",
        "\n",
        "    plt.tight_layout()\n",
        "    plt.show()\n",
        "\n",
        "\n",
        "sample_rate = data_from_raw_edf.info['sfreq']\n",
        "\n",
        "\n",
        "for channel_index, channel_name in enumerate(names):\n",
        "    print(f\"Обработка канала: {channel_name}\")\n",
        "    signal = eeg_data[channel_index]\n",
        "    plot_spectrogram_and_energy(signal, sample_rate)"
      ],
      "metadata": {
        "id": "Ba8MKsnmTCjN"
      },
      "execution_count": 39,
      "outputs": []
    },
    {
      "cell_type": "code",
      "source": [
        "c_index = channel_names.index(channel_names[0])\n",
        "c_signal = eeg_data[c_index]\n",
        "fs = data_from_raw_edf.info['sfreq']\n",
        "lowcut = 1\n",
        "highcut = 40"
      ],
      "metadata": {
        "id": "dmMHXlfuuZVc"
      },
      "execution_count": 42,
      "outputs": []
    },
    {
      "cell_type": "code",
      "source": [
        "# delta_t = 450\n",
        "# delta_t = 900\n",
        "delta_t = 18\n",
        "window_size = int(delta_t * fs)\n",
        "windows = [c_signal[i:i + window_size] for i in range(0, len(c_signal), window_size) if len(c_signal[i:i + window_size]) == window_size]\n",
        "hurst_exponents_windowed = []"
      ],
      "metadata": {
        "id": "KrjMdyuVvNsK"
      },
      "execution_count": 46,
      "outputs": []
    },
    {
      "cell_type": "code",
      "source": [
        "for window_index, window in enumerate(windows):\n",
        "  lag = np.unique(np.logspace(0.5, 3, 100, dtype=int))\n",
        "  q = 2\n",
        "  order = 1\n",
        "\n",
        "  try:\n",
        "      lag, dfa = MFDFA(window, lag=lag, q=q, order=order)\n",
        "      del_nan = np.argwhere(np.isnan(dfa))\n",
        "      dfa = np.delete(dfa, del_nan[:,0])\n",
        "      lag = np.delete(lag, del_nan[:,0])\n",
        "      H_hat, C_hat = np.polyfit(np.log10(lag)[0:-1], np.log10(dfa[0:-1]), 1)\n",
        "      hurst_exponents_windowed.append((window_index + 1, H_hat))\n",
        "  except Exception as e:\n",
        "      print(f\"Ошибка при обработке окна {window_index + 1}: {e}\")\n",
        "      hurst_exponents_windowed.append((window_index + 1, np.nan))"
      ],
      "metadata": {
        "id": "lVvpXd8vyE1C"
      },
      "execution_count": 47,
      "outputs": []
    },
    {
      "cell_type": "code",
      "source": [
        "hurst_df_windowed = pd.DataFrame(hurst_exponents_windowed, columns=['Номер окна', 'Показатель индекса Херста'])\n",
        "print(hurst_df_windowed)"
      ],
      "metadata": {
        "colab": {
          "base_uri": "https://localhost:8080/"
        },
        "id": "oCjU38bWydNA",
        "outputId": "90cbf3d5-1b61-436a-847c-c4dac7c9a1e6"
      },
      "execution_count": 48,
      "outputs": [
        {
          "output_type": "stream",
          "name": "stdout",
          "text": [
            "    Номер окна  Показатель индекса Херста\n",
            "0            1                   0.695969\n",
            "1            2                   0.805684\n",
            "2            3                   0.877112\n",
            "3            4                   0.830621\n",
            "4            5                   0.800244\n",
            "5            6                   0.739141\n",
            "6            7                   0.809378\n",
            "7            8                   0.899084\n",
            "8            9                   0.797025\n",
            "9           10                   0.823127\n",
            "10          11                   0.881146\n",
            "11          12                   0.938588\n"
          ]
        }
      ]
    },
    {
      "cell_type": "code",
      "source": [
        "xticks_values = np.linspace(0,200, 10)\n",
        "xticks_values"
      ],
      "metadata": {
        "id": "bTF7pHGPtD5c",
        "outputId": "e1e45ee7-532c-4154-a936-2fab57413295",
        "colab": {
          "base_uri": "https://localhost:8080/"
        }
      },
      "execution_count": 52,
      "outputs": [
        {
          "output_type": "execute_result",
          "data": {
            "text/plain": [
              "array([  0.        ,  22.22222222,  44.44444444,  66.66666667,\n",
              "        88.88888889, 111.11111111, 133.33333333, 155.55555556,\n",
              "       177.77777778, 200.        ])"
            ]
          },
          "metadata": {},
          "execution_count": 52
        }
      ]
    },
    {
      "cell_type": "code",
      "source": [
        "plt.figure(figsize=(13, 5))\n",
        "times = (np.arange(len(hurst_df_windowed)) + 1) * delta_t\n",
        "plt.plot(times, hurst_df_windowed['Показатель индекса Херста'], marker='o')\n",
        "\n",
        "plt.grid(which='minor', linestyle=':', linewidth='0.5', color='gray')\n",
        "plt.grid(which='major', linestyle='-', linewidth='0.5', color='black')\n",
        "plt.xlabel('Время,с')\n",
        "plt.ylabel('Показатель индекса Херста')\n",
        "plt.title('Зависимость показателя индекса Херста от времени')\n",
        "plt.grid(True)\n",
        "plt.show()"
      ],
      "metadata": {
        "colab": {
          "base_uri": "https://localhost:8080/",
          "height": 487
        },
        "id": "4i_HMqPcyftx",
        "outputId": "afe29a28-0a6e-4d4f-b640-84c63a380a82"
      },
      "execution_count": 56,
      "outputs": [
        {
          "output_type": "display_data",
          "data": {
            "text/plain": [
              "<Figure size 1300x500 with 1 Axes>"
            ],
            "image/png": "[encoded data removed]"
          },
          "metadata": {}
        }
      ]
    },
    {
      "cell_type": "code",
      "source": [
        "i = 1\n",
        "hurst_values = []\n",
        "window_sizes = []\n",
        "while True:\n",
        "    window_size = int(delta_t * i * fs)\n",
        "    if window_size > len(c_signal):\n",
        "        break\n",
        "    window_signal = c_signal[:window_size]\n",
        "    try:\n",
        "        lag, dfa = MFDFA(window_signal, lag=lag, q=q, order=order)\n",
        "        del_nan = np.argwhere(np.isnan(dfa))\n",
        "        dfa = np.delete(dfa, del_nan[:, 0])\n",
        "        lag = np.delete(lag, del_nan[:, 0])\n",
        "        H_hat, _ = np.polyfit(np.log10(lag)[0:-1], np.log10(dfa[0:-1]), 1)\n",
        "        hurst_values.append(H_hat)\n",
        "        window_sizes.append(window_size / fs)\n",
        "    except Exception as e:\n",
        "        print(f\"Ошибка при обработке окна {i}: {e}\")\n",
        "        hurst_values.append(np.nan)\n",
        "    i += 1\n",
        "window_numbers = list(range(1, len(hurst_values) + 1))\n",
        "results_df = pd.DataFrame({\n",
        "    'Номер окна': window_numbers,\n",
        "    'Показатель индекса Херста': hurst_values\n",
        "})\n",
        "\n",
        "print(results_df)"
      ],
      "metadata": {
        "colab": {
          "base_uri": "https://localhost:8080/"
        },
        "id": "uAbjg2hE3PyK",
        "outputId": "fad5632d-ee66-4aca-d2c5-7fb2ebda95ad"
      },
      "execution_count": 57,
      "outputs": [
        {
          "output_type": "stream",
          "name": "stdout",
          "text": [
            "    Номер окна  Показатель индекса Херста\n",
            "0            1                   0.695969\n",
            "1            2                   0.697891\n",
            "2            3                   0.700833\n",
            "3            4                   0.707804\n",
            "4            5                   0.710609\n",
            "5            6                   0.714490\n",
            "6            7                   0.714573\n",
            "7            8                   0.720153\n",
            "8            9                   0.722122\n",
            "9           10                   0.725112\n",
            "10          11                   0.735396\n",
            "11          12                   0.835916\n"
          ]
        }
      ]
    },
    {
      "cell_type": "code",
      "source": [
        "plt.figure(figsize=(13, 5))\n",
        "plt.plot(window_sizes, hurst_values, marker='o')\n",
        "\n",
        "plt.grid(which='minor', linestyle=':', linewidth='0.5', color='gray')\n",
        "plt.grid(which='major', linestyle='-', linewidth='0.5', color='black')\n",
        "plt.xlabel('Время, с')\n",
        "plt.ylabel('Индекс экспоненты Херста')\n",
        "plt.title('Зависимость индекса экспоненты Херста от кумулятивного времени')\n",
        "plt.grid(True)\n",
        "plt.show()"
      ],
      "metadata": {
        "colab": {
          "base_uri": "https://localhost:8080/",
          "height": 487
        },
        "id": "qD_Oq7lg3hRZ",
        "outputId": "a1d5d696-91c3-4074-d0e1-e047ebcae43c"
      },
      "execution_count": 59,
      "outputs": [
        {
          "output_type": "display_data",
          "data": {
            "text/plain": [
              "<Figure size 1300x500 with 1 Axes>"
            ],
            "image/png": "[encoded data removed]"
          },
          "metadata": {}
        }
      ]
    }
  ]
}