{
  "nbformat": 4,
  "nbformat_minor": 0,
  "metadata": {
    "colab": {
      "provenance": [],
      "gpuType": "T4",
      "include_colab_link": true
    },
    "kernelspec": {
      "name": "python3",
      "display_name": "Python 3"
    },
    "language_info": {
      "name": "python"
    },
    "accelerator": "GPU"
  },
  "cells": [
    {
      "cell_type": "markdown",
      "metadata": {
        "id": "view-in-github",
        "colab_type": "text"
      },
      "source": [
        "<a href=\"https://colab.research.google.com/github/TAUforPython/BioMedAI/blob/main/EEGNet.ipynb\" target=\"_parent\"><img src=\"https://colab.research.google.com/assets/colab-badge.svg\" alt=\"Open In Colab\"/></a>"
      ]
    },
    {
      "cell_type": "markdown",
      "source": [
        "# Motor Imagery Task Classification\n"
      ],
      "metadata": {
        "id": "x_5wKiVyBTzL"
      }
    },
    {
      "cell_type": "markdown",
      "source": [
        "#Extracting Data"
      ],
      "metadata": {
        "id": "O-3Lg9veBge0"
      }
    },
    {
      "cell_type": "markdown",
      "source": [
        "##Downloading BCI Competition IV 2a Dataset"
      ],
      "metadata": {
        "id": "W4JrI64nBl52"
      }
    },
    {
      "cell_type": "code",
      "execution_count": 1,
      "metadata": {
        "id": "_6jNZi8rBNjN",
        "colab": {
          "base_uri": "https://localhost:8080/"
        },
        "outputId": "b3dc1fa1-1b19-4ae0-be46-3b68c277ae5a"
      },
      "outputs": [
        {
          "output_type": "stream",
          "name": "stdout",
          "text": [
            "--2024-10-22 16:53:00--  https://www.bbci.de/competition/download/competition_iv/BCICIV_2a_gdf.zip\n",
            "Resolving www.bbci.de (www.bbci.de)... 130.149.80.149\n",
            "Connecting to www.bbci.de (www.bbci.de)|130.149.80.149|:443... connected.\n",
            "HTTP request sent, awaiting response... 200 OK\n",
            "Length: 439968864 (420M) [application/zip]\n",
            "Saving to: ‘BCICIV_2a_gdf.zip’\n",
            "\n",
            "BCICIV_2a_gdf.zip   100%[===================>] 419.59M  11.3MB/s    in 40s     \n",
            "\n",
            "2024-10-22 16:53:41 (10.6 MB/s) - ‘BCICIV_2a_gdf.zip’ saved [439968864/439968864]\n",
            "\n"
          ]
        }
      ],
      "source": [
        "!wget https://www.bbci.de/competition/download/competition_iv/BCICIV_2a_gdf.zip"
      ]
    },
    {
      "cell_type": "code",
      "source": [
        "!mkdir -p /content/cleaned_data/"
      ],
      "metadata": {
        "id": "5DbydQswB27q"
      },
      "execution_count": 2,
      "outputs": []
    },
    {
      "cell_type": "code",
      "source": [
        "%%capture\n",
        "!unzip /content/BCICIV_2a_gdf.zip -d raw_data"
      ],
      "metadata": {
        "id": "50hgj12yB54U"
      },
      "execution_count": 3,
      "outputs": []
    },
    {
      "cell_type": "markdown",
      "source": [
        "#Installing Packages"
      ],
      "metadata": {
        "id": "Y_mkff9aB-9w"
      }
    },
    {
      "cell_type": "code",
      "source": [
        "%%capture\n",
        "!pip install mne"
      ],
      "metadata": {
        "id": "mqHVmwYyCBsB"
      },
      "execution_count": 4,
      "outputs": []
    },
    {
      "cell_type": "code",
      "source": [
        "%%capture\n",
        "!pip install torch-summary"
      ],
      "metadata": {
        "id": "ueJFbf8KCCPw"
      },
      "execution_count": 5,
      "outputs": []
    },
    {
      "cell_type": "markdown",
      "source": [
        "#Libraries Used"
      ],
      "metadata": {
        "id": "crxgIV9ICD2T"
      }
    },
    {
      "cell_type": "code",
      "source": [
        "import os\n",
        "import mne\n",
        "import math\n",
        "import copy\n",
        "import gdown\n",
        "import random\n",
        "import scipy.io\n",
        "import numpy as np\n",
        "import pandas as pd\n",
        "import seaborn as sn\n",
        "import matplotlib.pyplot as plt\n",
        "\n",
        "# Torch\n",
        "import torch\n",
        "import torch.nn as nn\n",
        "import torch.optim as optim\n",
        "import torch.nn.functional as F\n",
        "from torchsummary import summary\n",
        "from torch.autograd import Variable\n",
        "from torch.utils.data import DataLoader, TensorDataset, random_split\n",
        "\n",
        "# Scikit-Learn\n",
        "from sklearn.feature_selection import mutual_info_classif\n",
        "from sklearn.metrics import confusion_matrix, accuracy_score\n",
        "from sklearn.model_selection import train_test_split"
      ],
      "metadata": {
        "id": "CEp96MytCGei"
      },
      "execution_count": 6,
      "outputs": []
    },
    {
      "cell_type": "markdown",
      "source": [
        "# Building Dataset"
      ],
      "metadata": {
        "id": "nn8IHP2_CQbH"
      }
    },
    {
      "cell_type": "code",
      "source": [
        "!mkdir -p /content/cleaned_data/first_session\n",
        "!mkdir -p /content/cleaned_data/second_session"
      ],
      "metadata": {
        "id": "JFtUH89-G48b"
      },
      "execution_count": 7,
      "outputs": []
    },
    {
      "cell_type": "markdown",
      "source": [
        "##First Session"
      ],
      "metadata": {
        "id": "f6Bmm_acGc4g"
      }
    },
    {
      "cell_type": "code",
      "source": [
        "raw_data_folder = '/content/raw_data/'\n",
        "cleaned_data_folder = '/content/cleaned_data/first_session/'\n",
        "files = os.listdir(raw_data_folder)\n",
        "\n",
        "# Selecting files with suffix 'T.gdf'\n",
        "filtered_files = [file for file in files if file.endswith('T.gdf')]\n",
        "\n",
        "raw_list = []\n",
        "\n",
        "# Iterating through filtered files\n",
        "for file in filtered_files:\n",
        "    file_path = os.path.join(raw_data_folder, file)\n",
        "\n",
        "    # Reading raw data\n",
        "    raw = mne.io.read_raw_gdf(file_path, eog=['EOG-left', 'EOG-central', 'EOG-right'], preload=True)\n",
        "    # Droping EOG channels\n",
        "    raw.drop_channels(['EOG-left', 'EOG-central', 'EOG-right'])\n",
        "\n",
        "    # High Pass Filtering 4-40 Hz\n",
        "    raw.filter(l_freq=4, h_freq=40, method='iir')\n",
        "\n",
        "    # Notch filter for Removal of Line Voltage\n",
        "    raw.notch_filter(freqs=50)\n",
        "\n",
        "    # Saving the modified raw data to a file with .fif suffix\n",
        "    new_file_path = os.path.join(cleaned_data_folder, file[:-4] + '.fif')\n",
        "    raw.save(new_file_path, overwrite=True)\n",
        "    # Appending data to the list\n",
        "    raw_list.append(raw)\n",
        "\n",
        "final_raw = mne.concatenate_raws(raw_list)\n",
        "new_file_path = os.path.join(cleaned_data_folder, 'First_Session_Subjects.fif')\n",
        "final_raw.save(new_file_path, overwrite=True)\n"
      ],
      "metadata": {
        "id": "X6ViqHGaCUWY",
        "colab": {
          "base_uri": "https://localhost:8080/"
        },
        "outputId": "d8e5d699-f223-44ef-b98e-cdb59120db49"
      },
      "execution_count": 8,
      "outputs": [
        {
          "output_type": "stream",
          "name": "stdout",
          "text": [
            "Extracting EDF parameters from /content/raw_data/A06T.gdf...\n",
            "GDF file detected\n",
            "Setting channel info structure...\n",
            "Could not determine channel type of the following channels, they will be set as EEG:\n",
            "EEG-Fz, EEG, EEG, EEG, EEG, EEG, EEG, EEG-C3, EEG, EEG-Cz, EEG, EEG-C4, EEG, EEG, EEG, EEG, EEG, EEG, EEG, EEG-Pz, EEG, EEG\n",
            "Creating raw.info structure...\n"
          ]
        },
        {
          "output_type": "stream",
          "name": "stderr",
          "text": [
            "/usr/lib/python3.10/contextlib.py:142: RuntimeWarning: Channel names are not unique, found duplicates for: {'EEG'}. Applying running numbers for duplicates.\n",
            "  next(self.gen)\n"
          ]
        },
        {
          "output_type": "stream",
          "name": "stdout",
          "text": [
            "Reading 0 ... 678979  =      0.000 ...  2715.916 secs...\n",
            "Filtering raw data in 1 contiguous segment\n",
            "Setting up band-pass filter from 4 - 40 Hz\n",
            "\n",
            "IIR filter parameters\n",
            "---------------------\n",
            "Butterworth bandpass zero-phase (two-pass forward and reverse) non-causal filter:\n",
            "- Filter order 16 (effective, after forward-backward)\n",
            "- Cutoffs at 4.00, 40.00 Hz: -6.02, -6.02 dB\n",
            "\n",
            "Filtering raw data in 1 contiguous segment\n",
            "Setting up band-stop filter from 49 - 51 Hz\n",
            "\n",
            "FIR filter parameters\n",
            "---------------------\n",
            "Designing a one-pass, zero-phase, non-causal bandstop filter:\n",
            "- Windowed time-domain design (firwin) method\n",
            "- Hamming window with 0.0194 passband ripple and 53 dB stopband attenuation\n",
            "- Lower passband edge: 49.38\n",
            "- Lower transition bandwidth: 0.50 Hz (-6 dB cutoff frequency: 49.12 Hz)\n",
            "- Upper passband edge: 50.62 Hz\n",
            "- Upper transition bandwidth: 0.50 Hz (-6 dB cutoff frequency: 50.88 Hz)\n",
            "- Filter length: 1651 samples (6.604 s)\n",
            "\n",
            "Writing /content/cleaned_data/first_session/A06T.fif\n"
          ]
        },
        {
          "output_type": "stream",
          "name": "stderr",
          "text": [
            "[Parallel(n_jobs=1)]: Done  17 tasks      | elapsed:    0.4s\n",
            "<ipython-input-8-52d09285b9e3>:27: RuntimeWarning: This filename (/content/cleaned_data/first_session/A06T.fif) does not conform to MNE naming conventions. All raw files should end with raw.fif, raw_sss.fif, raw_tsss.fif, _meg.fif, _eeg.fif, _ieeg.fif, raw.fif.gz, raw_sss.fif.gz, raw_tsss.fif.gz, _meg.fif.gz, _eeg.fif.gz or _ieeg.fif.gz\n",
            "  raw.save(new_file_path, overwrite=True)\n"
          ]
        },
        {
          "output_type": "stream",
          "name": "stdout",
          "text": [
            "Closing /content/cleaned_data/first_session/A06T.fif\n",
            "[done]\n",
            "Extracting EDF parameters from /content/raw_data/A09T.gdf...\n",
            "GDF file detected\n",
            "Setting channel info structure...\n",
            "Could not determine channel type of the following channels, they will be set as EEG:\n",
            "EEG-Fz, EEG, EEG, EEG, EEG, EEG, EEG, EEG-C3, EEG, EEG-Cz, EEG, EEG-C4, EEG, EEG, EEG, EEG, EEG, EEG, EEG, EEG-Pz, EEG, EEG\n",
            "Creating raw.info structure...\n",
            "Reading 0 ... 673327  =      0.000 ...  2693.308 secs...\n"
          ]
        },
        {
          "output_type": "stream",
          "name": "stderr",
          "text": [
            "/usr/lib/python3.10/contextlib.py:142: RuntimeWarning: Channel names are not unique, found duplicates for: {'EEG'}. Applying running numbers for duplicates.\n",
            "  next(self.gen)\n"
          ]
        },
        {
          "output_type": "stream",
          "name": "stdout",
          "text": [
            "Filtering raw data in 1 contiguous segment\n",
            "Setting up band-pass filter from 4 - 40 Hz\n",
            "\n",
            "IIR filter parameters\n",
            "---------------------\n",
            "Butterworth bandpass zero-phase (two-pass forward and reverse) non-causal filter:\n",
            "- Filter order 16 (effective, after forward-backward)\n",
            "- Cutoffs at 4.00, 40.00 Hz: -6.02, -6.02 dB\n",
            "\n",
            "Filtering raw data in 1 contiguous segment\n",
            "Setting up band-stop filter from 49 - 51 Hz\n",
            "\n",
            "FIR filter parameters\n",
            "---------------------\n",
            "Designing a one-pass, zero-phase, non-causal bandstop filter:\n",
            "- Windowed time-domain design (firwin) method\n",
            "- Hamming window with 0.0194 passband ripple and 53 dB stopband attenuation\n",
            "- Lower passband edge: 49.38\n",
            "- Lower transition bandwidth: 0.50 Hz (-6 dB cutoff frequency: 49.12 Hz)\n",
            "- Upper passband edge: 50.62 Hz\n",
            "- Upper transition bandwidth: 0.50 Hz (-6 dB cutoff frequency: 50.88 Hz)\n",
            "- Filter length: 1651 samples (6.604 s)\n",
            "\n",
            "Writing /content/cleaned_data/first_session/A09T.fif\n"
          ]
        },
        {
          "output_type": "stream",
          "name": "stderr",
          "text": [
            "[Parallel(n_jobs=1)]: Done  17 tasks      | elapsed:    0.3s\n",
            "<ipython-input-8-52d09285b9e3>:27: RuntimeWarning: This filename (/content/cleaned_data/first_session/A09T.fif) does not conform to MNE naming conventions. All raw files should end with raw.fif, raw_sss.fif, raw_tsss.fif, _meg.fif, _eeg.fif, _ieeg.fif, raw.fif.gz, raw_sss.fif.gz, raw_tsss.fif.gz, _meg.fif.gz, _eeg.fif.gz or _ieeg.fif.gz\n",
            "  raw.save(new_file_path, overwrite=True)\n"
          ]
        },
        {
          "output_type": "stream",
          "name": "stdout",
          "text": [
            "Closing /content/cleaned_data/first_session/A09T.fif\n",
            "[done]\n",
            "Extracting EDF parameters from /content/raw_data/A05T.gdf...\n",
            "GDF file detected\n",
            "Setting channel info structure...\n",
            "Could not determine channel type of the following channels, they will be set as EEG:\n",
            "EEG-Fz, EEG, EEG, EEG, EEG, EEG, EEG, EEG-C3, EEG, EEG-Cz, EEG, EEG-C4, EEG, EEG, EEG, EEG, EEG, EEG, EEG, EEG-Pz, EEG, EEG\n",
            "Creating raw.info structure...\n",
            "Reading 0 ... 686119  =      0.000 ...  2744.476 secs...\n"
          ]
        },
        {
          "output_type": "stream",
          "name": "stderr",
          "text": [
            "/usr/lib/python3.10/contextlib.py:142: RuntimeWarning: Channel names are not unique, found duplicates for: {'EEG'}. Applying running numbers for duplicates.\n",
            "  next(self.gen)\n"
          ]
        },
        {
          "output_type": "stream",
          "name": "stdout",
          "text": [
            "Filtering raw data in 1 contiguous segment\n",
            "Setting up band-pass filter from 4 - 40 Hz\n",
            "\n",
            "IIR filter parameters\n",
            "---------------------\n",
            "Butterworth bandpass zero-phase (two-pass forward and reverse) non-causal filter:\n",
            "- Filter order 16 (effective, after forward-backward)\n",
            "- Cutoffs at 4.00, 40.00 Hz: -6.02, -6.02 dB\n",
            "\n",
            "Filtering raw data in 1 contiguous segment\n",
            "Setting up band-stop filter from 49 - 51 Hz\n",
            "\n",
            "FIR filter parameters\n",
            "---------------------\n",
            "Designing a one-pass, zero-phase, non-causal bandstop filter:\n",
            "- Windowed time-domain design (firwin) method\n",
            "- Hamming window with 0.0194 passband ripple and 53 dB stopband attenuation\n",
            "- Lower passband edge: 49.38\n",
            "- Lower transition bandwidth: 0.50 Hz (-6 dB cutoff frequency: 49.12 Hz)\n",
            "- Upper passband edge: 50.62 Hz\n",
            "- Upper transition bandwidth: 0.50 Hz (-6 dB cutoff frequency: 50.88 Hz)\n",
            "- Filter length: 1651 samples (6.604 s)\n",
            "\n"
          ]
        },
        {
          "output_type": "stream",
          "name": "stderr",
          "text": [
            "[Parallel(n_jobs=1)]: Done  17 tasks      | elapsed:    0.6s\n"
          ]
        },
        {
          "output_type": "stream",
          "name": "stdout",
          "text": [
            "Writing /content/cleaned_data/first_session/A05T.fif\n"
          ]
        },
        {
          "output_type": "stream",
          "name": "stderr",
          "text": [
            "<ipython-input-8-52d09285b9e3>:27: RuntimeWarning: This filename (/content/cleaned_data/first_session/A05T.fif) does not conform to MNE naming conventions. All raw files should end with raw.fif, raw_sss.fif, raw_tsss.fif, _meg.fif, _eeg.fif, _ieeg.fif, raw.fif.gz, raw_sss.fif.gz, raw_tsss.fif.gz, _meg.fif.gz, _eeg.fif.gz or _ieeg.fif.gz\n",
            "  raw.save(new_file_path, overwrite=True)\n"
          ]
        },
        {
          "output_type": "stream",
          "name": "stdout",
          "text": [
            "Closing /content/cleaned_data/first_session/A05T.fif\n",
            "[done]\n",
            "Extracting EDF parameters from /content/raw_data/A03T.gdf...\n",
            "GDF file detected\n",
            "Setting channel info structure...\n",
            "Could not determine channel type of the following channels, they will be set as EEG:\n",
            "EEG-Fz, EEG, EEG, EEG, EEG, EEG, EEG, EEG-C3, EEG, EEG-Cz, EEG, EEG-C4, EEG, EEG, EEG, EEG, EEG, EEG, EEG, EEG-Pz, EEG, EEG\n",
            "Creating raw.info structure...\n",
            "Reading 0 ... 660529  =      0.000 ...  2642.116 secs...\n"
          ]
        },
        {
          "output_type": "stream",
          "name": "stderr",
          "text": [
            "/usr/lib/python3.10/contextlib.py:142: RuntimeWarning: Channel names are not unique, found duplicates for: {'EEG'}. Applying running numbers for duplicates.\n",
            "  next(self.gen)\n"
          ]
        },
        {
          "output_type": "stream",
          "name": "stdout",
          "text": [
            "Filtering raw data in 1 contiguous segment\n",
            "Setting up band-pass filter from 4 - 40 Hz\n",
            "\n",
            "IIR filter parameters\n",
            "---------------------\n",
            "Butterworth bandpass zero-phase (two-pass forward and reverse) non-causal filter:\n",
            "- Filter order 16 (effective, after forward-backward)\n",
            "- Cutoffs at 4.00, 40.00 Hz: -6.02, -6.02 dB\n",
            "\n",
            "Filtering raw data in 1 contiguous segment\n",
            "Setting up band-stop filter from 49 - 51 Hz\n",
            "\n",
            "FIR filter parameters\n",
            "---------------------\n",
            "Designing a one-pass, zero-phase, non-causal bandstop filter:\n",
            "- Windowed time-domain design (firwin) method\n",
            "- Hamming window with 0.0194 passband ripple and 53 dB stopband attenuation\n",
            "- Lower passband edge: 49.38\n",
            "- Lower transition bandwidth: 0.50 Hz (-6 dB cutoff frequency: 49.12 Hz)\n",
            "- Upper passband edge: 50.62 Hz\n",
            "- Upper transition bandwidth: 0.50 Hz (-6 dB cutoff frequency: 50.88 Hz)\n",
            "- Filter length: 1651 samples (6.604 s)\n",
            "\n",
            "Writing /content/cleaned_data/first_session/A03T.fif\n"
          ]
        },
        {
          "output_type": "stream",
          "name": "stderr",
          "text": [
            "[Parallel(n_jobs=1)]: Done  17 tasks      | elapsed:    0.4s\n",
            "<ipython-input-8-52d09285b9e3>:27: RuntimeWarning: This filename (/content/cleaned_data/first_session/A03T.fif) does not conform to MNE naming conventions. All raw files should end with raw.fif, raw_sss.fif, raw_tsss.fif, _meg.fif, _eeg.fif, _ieeg.fif, raw.fif.gz, raw_sss.fif.gz, raw_tsss.fif.gz, _meg.fif.gz, _eeg.fif.gz or _ieeg.fif.gz\n",
            "  raw.save(new_file_path, overwrite=True)\n"
          ]
        },
        {
          "output_type": "stream",
          "name": "stdout",
          "text": [
            "Closing /content/cleaned_data/first_session/A03T.fif\n",
            "[done]\n",
            "Extracting EDF parameters from /content/raw_data/A08T.gdf...\n",
            "GDF file detected\n",
            "Setting channel info structure...\n",
            "Could not determine channel type of the following channels, they will be set as EEG:\n",
            "EEG-Fz, EEG, EEG, EEG, EEG, EEG, EEG, EEG-C3, EEG, EEG-Cz, EEG, EEG-C4, EEG, EEG, EEG, EEG, EEG, EEG, EEG, EEG-Pz, EEG, EEG\n",
            "Creating raw.info structure...\n",
            "Reading 0 ... 675269  =      0.000 ...  2701.076 secs...\n"
          ]
        },
        {
          "output_type": "stream",
          "name": "stderr",
          "text": [
            "/usr/lib/python3.10/contextlib.py:142: RuntimeWarning: Channel names are not unique, found duplicates for: {'EEG'}. Applying running numbers for duplicates.\n",
            "  next(self.gen)\n"
          ]
        },
        {
          "output_type": "stream",
          "name": "stdout",
          "text": [
            "Filtering raw data in 1 contiguous segment\n",
            "Setting up band-pass filter from 4 - 40 Hz\n",
            "\n",
            "IIR filter parameters\n",
            "---------------------\n",
            "Butterworth bandpass zero-phase (two-pass forward and reverse) non-causal filter:\n",
            "- Filter order 16 (effective, after forward-backward)\n",
            "- Cutoffs at 4.00, 40.00 Hz: -6.02, -6.02 dB\n",
            "\n",
            "Filtering raw data in 1 contiguous segment\n",
            "Setting up band-stop filter from 49 - 51 Hz\n",
            "\n",
            "FIR filter parameters\n",
            "---------------------\n",
            "Designing a one-pass, zero-phase, non-causal bandstop filter:\n",
            "- Windowed time-domain design (firwin) method\n",
            "- Hamming window with 0.0194 passband ripple and 53 dB stopband attenuation\n",
            "- Lower passband edge: 49.38\n",
            "- Lower transition bandwidth: 0.50 Hz (-6 dB cutoff frequency: 49.12 Hz)\n",
            "- Upper passband edge: 50.62 Hz\n",
            "- Upper transition bandwidth: 0.50 Hz (-6 dB cutoff frequency: 50.88 Hz)\n",
            "- Filter length: 1651 samples (6.604 s)\n",
            "\n",
            "Writing /content/cleaned_data/first_session/A08T.fif\n"
          ]
        },
        {
          "output_type": "stream",
          "name": "stderr",
          "text": [
            "[Parallel(n_jobs=1)]: Done  17 tasks      | elapsed:    0.3s\n",
            "<ipython-input-8-52d09285b9e3>:27: RuntimeWarning: This filename (/content/cleaned_data/first_session/A08T.fif) does not conform to MNE naming conventions. All raw files should end with raw.fif, raw_sss.fif, raw_tsss.fif, _meg.fif, _eeg.fif, _ieeg.fif, raw.fif.gz, raw_sss.fif.gz, raw_tsss.fif.gz, _meg.fif.gz, _eeg.fif.gz or _ieeg.fif.gz\n",
            "  raw.save(new_file_path, overwrite=True)\n"
          ]
        },
        {
          "output_type": "stream",
          "name": "stdout",
          "text": [
            "Closing /content/cleaned_data/first_session/A08T.fif\n",
            "[done]\n",
            "Extracting EDF parameters from /content/raw_data/A01T.gdf...\n",
            "GDF file detected\n",
            "Setting channel info structure...\n",
            "Could not determine channel type of the following channels, they will be set as EEG:\n",
            "EEG-Fz, EEG, EEG, EEG, EEG, EEG, EEG, EEG-C3, EEG, EEG-Cz, EEG, EEG-C4, EEG, EEG, EEG, EEG, EEG, EEG, EEG, EEG-Pz, EEG, EEG\n",
            "Creating raw.info structure...\n",
            "Reading 0 ... 672527  =      0.000 ...  2690.108 secs...\n"
          ]
        },
        {
          "output_type": "stream",
          "name": "stderr",
          "text": [
            "/usr/lib/python3.10/contextlib.py:142: RuntimeWarning: Channel names are not unique, found duplicates for: {'EEG'}. Applying running numbers for duplicates.\n",
            "  next(self.gen)\n"
          ]
        },
        {
          "output_type": "stream",
          "name": "stdout",
          "text": [
            "Filtering raw data in 1 contiguous segment\n",
            "Setting up band-pass filter from 4 - 40 Hz\n",
            "\n",
            "IIR filter parameters\n",
            "---------------------\n",
            "Butterworth bandpass zero-phase (two-pass forward and reverse) non-causal filter:\n",
            "- Filter order 16 (effective, after forward-backward)\n",
            "- Cutoffs at 4.00, 40.00 Hz: -6.02, -6.02 dB\n",
            "\n",
            "Filtering raw data in 1 contiguous segment\n",
            "Setting up band-stop filter from 49 - 51 Hz\n",
            "\n",
            "FIR filter parameters\n",
            "---------------------\n",
            "Designing a one-pass, zero-phase, non-causal bandstop filter:\n",
            "- Windowed time-domain design (firwin) method\n",
            "- Hamming window with 0.0194 passband ripple and 53 dB stopband attenuation\n",
            "- Lower passband edge: 49.38\n",
            "- Lower transition bandwidth: 0.50 Hz (-6 dB cutoff frequency: 49.12 Hz)\n",
            "- Upper passband edge: 50.62 Hz\n",
            "- Upper transition bandwidth: 0.50 Hz (-6 dB cutoff frequency: 50.88 Hz)\n",
            "- Filter length: 1651 samples (6.604 s)\n",
            "\n",
            "Writing /content/cleaned_data/first_session/A01T.fif\n"
          ]
        },
        {
          "output_type": "stream",
          "name": "stderr",
          "text": [
            "[Parallel(n_jobs=1)]: Done  17 tasks      | elapsed:    0.4s\n",
            "<ipython-input-8-52d09285b9e3>:27: RuntimeWarning: This filename (/content/cleaned_data/first_session/A01T.fif) does not conform to MNE naming conventions. All raw files should end with raw.fif, raw_sss.fif, raw_tsss.fif, _meg.fif, _eeg.fif, _ieeg.fif, raw.fif.gz, raw_sss.fif.gz, raw_tsss.fif.gz, _meg.fif.gz, _eeg.fif.gz or _ieeg.fif.gz\n",
            "  raw.save(new_file_path, overwrite=True)\n"
          ]
        },
        {
          "output_type": "stream",
          "name": "stdout",
          "text": [
            "Closing /content/cleaned_data/first_session/A01T.fif\n",
            "[done]\n",
            "Extracting EDF parameters from /content/raw_data/A04T.gdf...\n",
            "GDF file detected\n",
            "Setting channel info structure...\n",
            "Could not determine channel type of the following channels, they will be set as EEG:\n",
            "EEG-Fz, EEG, EEG, EEG, EEG, EEG, EEG, EEG-C3, EEG, EEG-Cz, EEG, EEG-C4, EEG, EEG, EEG, EEG, EEG, EEG, EEG, EEG-Pz, EEG, EEG\n",
            "Creating raw.info structure...\n",
            "Reading 0 ... 600914  =      0.000 ...  2403.656 secs...\n"
          ]
        },
        {
          "output_type": "stream",
          "name": "stderr",
          "text": [
            "/usr/lib/python3.10/contextlib.py:142: RuntimeWarning: Channel names are not unique, found duplicates for: {'EEG'}. Applying running numbers for duplicates.\n",
            "  next(self.gen)\n"
          ]
        },
        {
          "output_type": "stream",
          "name": "stdout",
          "text": [
            "Filtering raw data in 1 contiguous segment\n",
            "Setting up band-pass filter from 4 - 40 Hz\n",
            "\n",
            "IIR filter parameters\n",
            "---------------------\n",
            "Butterworth bandpass zero-phase (two-pass forward and reverse) non-causal filter:\n",
            "- Filter order 16 (effective, after forward-backward)\n",
            "- Cutoffs at 4.00, 40.00 Hz: -6.02, -6.02 dB\n",
            "\n",
            "Filtering raw data in 1 contiguous segment\n",
            "Setting up band-stop filter from 49 - 51 Hz\n",
            "\n",
            "FIR filter parameters\n",
            "---------------------\n",
            "Designing a one-pass, zero-phase, non-causal bandstop filter:\n",
            "- Windowed time-domain design (firwin) method\n",
            "- Hamming window with 0.0194 passband ripple and 53 dB stopband attenuation\n",
            "- Lower passband edge: 49.38\n",
            "- Lower transition bandwidth: 0.50 Hz (-6 dB cutoff frequency: 49.12 Hz)\n",
            "- Upper passband edge: 50.62 Hz\n",
            "- Upper transition bandwidth: 0.50 Hz (-6 dB cutoff frequency: 50.88 Hz)\n",
            "- Filter length: 1651 samples (6.604 s)\n",
            "\n",
            "Writing /content/cleaned_data/first_session/A04T.fif\n"
          ]
        },
        {
          "output_type": "stream",
          "name": "stderr",
          "text": [
            "[Parallel(n_jobs=1)]: Done  17 tasks      | elapsed:    0.3s\n",
            "<ipython-input-8-52d09285b9e3>:27: RuntimeWarning: This filename (/content/cleaned_data/first_session/A04T.fif) does not conform to MNE naming conventions. All raw files should end with raw.fif, raw_sss.fif, raw_tsss.fif, _meg.fif, _eeg.fif, _ieeg.fif, raw.fif.gz, raw_sss.fif.gz, raw_tsss.fif.gz, _meg.fif.gz, _eeg.fif.gz or _ieeg.fif.gz\n",
            "  raw.save(new_file_path, overwrite=True)\n"
          ]
        },
        {
          "output_type": "stream",
          "name": "stdout",
          "text": [
            "Closing /content/cleaned_data/first_session/A04T.fif\n",
            "[done]\n",
            "Extracting EDF parameters from /content/raw_data/A02T.gdf...\n",
            "GDF file detected\n",
            "Setting channel info structure...\n",
            "Could not determine channel type of the following channels, they will be set as EEG:\n",
            "EEG-Fz, EEG, EEG, EEG, EEG, EEG, EEG, EEG-C3, EEG, EEG-Cz, EEG, EEG-C4, EEG, EEG, EEG, EEG, EEG, EEG, EEG, EEG-Pz, EEG, EEG\n",
            "Creating raw.info structure...\n",
            "Reading 0 ... 677168  =      0.000 ...  2708.672 secs...\n"
          ]
        },
        {
          "output_type": "stream",
          "name": "stderr",
          "text": [
            "/usr/lib/python3.10/contextlib.py:142: RuntimeWarning: Channel names are not unique, found duplicates for: {'EEG'}. Applying running numbers for duplicates.\n",
            "  next(self.gen)\n"
          ]
        },
        {
          "output_type": "stream",
          "name": "stdout",
          "text": [
            "Filtering raw data in 1 contiguous segment\n",
            "Setting up band-pass filter from 4 - 40 Hz\n",
            "\n",
            "IIR filter parameters\n",
            "---------------------\n",
            "Butterworth bandpass zero-phase (two-pass forward and reverse) non-causal filter:\n",
            "- Filter order 16 (effective, after forward-backward)\n",
            "- Cutoffs at 4.00, 40.00 Hz: -6.02, -6.02 dB\n",
            "\n",
            "Filtering raw data in 1 contiguous segment\n",
            "Setting up band-stop filter from 49 - 51 Hz\n",
            "\n",
            "FIR filter parameters\n",
            "---------------------\n",
            "Designing a one-pass, zero-phase, non-causal bandstop filter:\n",
            "- Windowed time-domain design (firwin) method\n",
            "- Hamming window with 0.0194 passband ripple and 53 dB stopband attenuation\n",
            "- Lower passband edge: 49.38\n",
            "- Lower transition bandwidth: 0.50 Hz (-6 dB cutoff frequency: 49.12 Hz)\n",
            "- Upper passband edge: 50.62 Hz\n",
            "- Upper transition bandwidth: 0.50 Hz (-6 dB cutoff frequency: 50.88 Hz)\n",
            "- Filter length: 1651 samples (6.604 s)\n",
            "\n"
          ]
        },
        {
          "output_type": "stream",
          "name": "stderr",
          "text": [
            "[Parallel(n_jobs=1)]: Done  17 tasks      | elapsed:    0.9s\n"
          ]
        },
        {
          "output_type": "stream",
          "name": "stdout",
          "text": [
            "Writing /content/cleaned_data/first_session/A02T.fif\n"
          ]
        },
        {
          "output_type": "stream",
          "name": "stderr",
          "text": [
            "<ipython-input-8-52d09285b9e3>:27: RuntimeWarning: This filename (/content/cleaned_data/first_session/A02T.fif) does not conform to MNE naming conventions. All raw files should end with raw.fif, raw_sss.fif, raw_tsss.fif, _meg.fif, _eeg.fif, _ieeg.fif, raw.fif.gz, raw_sss.fif.gz, raw_tsss.fif.gz, _meg.fif.gz, _eeg.fif.gz or _ieeg.fif.gz\n",
            "  raw.save(new_file_path, overwrite=True)\n"
          ]
        },
        {
          "output_type": "stream",
          "name": "stdout",
          "text": [
            "Closing /content/cleaned_data/first_session/A02T.fif\n",
            "[done]\n",
            "Extracting EDF parameters from /content/raw_data/A07T.gdf...\n",
            "GDF file detected\n",
            "Setting channel info structure...\n",
            "Could not determine channel type of the following channels, they will be set as EEG:\n",
            "EEG-Fz, EEG, EEG, EEG, EEG, EEG, EEG, EEG-C3, EEG, EEG-Cz, EEG, EEG-C4, EEG, EEG, EEG, EEG, EEG, EEG, EEG, EEG-Pz, EEG, EEG\n",
            "Creating raw.info structure...\n",
            "Reading 0 ... 681070  =      0.000 ...  2724.280 secs...\n"
          ]
        },
        {
          "output_type": "stream",
          "name": "stderr",
          "text": [
            "/usr/lib/python3.10/contextlib.py:142: RuntimeWarning: Channel names are not unique, found duplicates for: {'EEG'}. Applying running numbers for duplicates.\n",
            "  next(self.gen)\n"
          ]
        },
        {
          "output_type": "stream",
          "name": "stdout",
          "text": [
            "Filtering raw data in 1 contiguous segment\n",
            "Setting up band-pass filter from 4 - 40 Hz\n",
            "\n",
            "IIR filter parameters\n",
            "---------------------\n",
            "Butterworth bandpass zero-phase (two-pass forward and reverse) non-causal filter:\n",
            "- Filter order 16 (effective, after forward-backward)\n",
            "- Cutoffs at 4.00, 40.00 Hz: -6.02, -6.02 dB\n",
            "\n",
            "Filtering raw data in 1 contiguous segment\n",
            "Setting up band-stop filter from 49 - 51 Hz\n",
            "\n",
            "FIR filter parameters\n",
            "---------------------\n",
            "Designing a one-pass, zero-phase, non-causal bandstop filter:\n",
            "- Windowed time-domain design (firwin) method\n",
            "- Hamming window with 0.0194 passband ripple and 53 dB stopband attenuation\n",
            "- Lower passband edge: 49.38\n",
            "- Lower transition bandwidth: 0.50 Hz (-6 dB cutoff frequency: 49.12 Hz)\n",
            "- Upper passband edge: 50.62 Hz\n",
            "- Upper transition bandwidth: 0.50 Hz (-6 dB cutoff frequency: 50.88 Hz)\n",
            "- Filter length: 1651 samples (6.604 s)\n",
            "\n",
            "Writing /content/cleaned_data/first_session/A07T.fif\n"
          ]
        },
        {
          "output_type": "stream",
          "name": "stderr",
          "text": [
            "[Parallel(n_jobs=1)]: Done  17 tasks      | elapsed:    0.4s\n",
            "<ipython-input-8-52d09285b9e3>:27: RuntimeWarning: This filename (/content/cleaned_data/first_session/A07T.fif) does not conform to MNE naming conventions. All raw files should end with raw.fif, raw_sss.fif, raw_tsss.fif, _meg.fif, _eeg.fif, _ieeg.fif, raw.fif.gz, raw_sss.fif.gz, raw_tsss.fif.gz, _meg.fif.gz, _eeg.fif.gz or _ieeg.fif.gz\n",
            "  raw.save(new_file_path, overwrite=True)\n"
          ]
        },
        {
          "output_type": "stream",
          "name": "stdout",
          "text": [
            "Closing /content/cleaned_data/first_session/A07T.fif\n",
            "[done]\n",
            "Writing /content/cleaned_data/first_session/First_Session_Subjects.fif\n"
          ]
        },
        {
          "output_type": "stream",
          "name": "stderr",
          "text": [
            "<ipython-input-8-52d09285b9e3>:33: RuntimeWarning: This filename (/content/cleaned_data/first_session/First_Session_Subjects.fif) does not conform to MNE naming conventions. All raw files should end with raw.fif, raw_sss.fif, raw_tsss.fif, _meg.fif, _eeg.fif, _ieeg.fif, raw.fif.gz, raw_sss.fif.gz, raw_tsss.fif.gz, _meg.fif.gz, _eeg.fif.gz or _ieeg.fif.gz\n",
            "  final_raw.save(new_file_path, overwrite=True)\n"
          ]
        },
        {
          "output_type": "stream",
          "name": "stdout",
          "text": [
            "Closing /content/cleaned_data/first_session/First_Session_Subjects.fif\n",
            "[done]\n"
          ]
        }
      ]
    },
    {
      "cell_type": "markdown",
      "source": [
        "**List of the events**  \n",
        "'1023': 1 Rejected trial  \n",
        "'1072': 2 Eye movements  \n",
        "'276': 3 Idling EEG (eyes open)  \n",
        "'277': 4 Idling EEG (eyes closed)  \n",
        "'32766': 5 Start of a new run  \n",
        "'768': 6 Start of a trial  \n",
        "'769': 7 Cue onset **Left** (class 1) : 0  \n",
        "'770': 8 Cue onset **Right** (class 2) : 1  \n",
        "'771': 9 Cue onset **Foot** (class 3) : 2  \n",
        "'772': 10 Cue onset **Tongue** (class 4): 3"
      ],
      "metadata": {
        "id": "wNqq3V3rCiPn"
      }
    },
    {
      "cell_type": "code",
      "source": [
        "events = mne.events_from_annotations(final_raw)\n",
        "events[1]"
      ],
      "metadata": {
        "id": "-9RZjQbWCoc0",
        "colab": {
          "base_uri": "https://localhost:8080/"
        },
        "outputId": "5c5f667d-1adb-44cc-a338-e68ad8031827"
      },
      "execution_count": 9,
      "outputs": [
        {
          "output_type": "stream",
          "name": "stdout",
          "text": [
            "Used Annotations descriptions: ['1023', '1072', '276', '277', '32766', '768', '769', '770', '771', '772']\n"
          ]
        },
        {
          "output_type": "execute_result",
          "data": {
            "text/plain": [
              "{'1023': 1,\n",
              " '1072': 2,\n",
              " '276': 3,\n",
              " '277': 4,\n",
              " '32766': 5,\n",
              " '768': 6,\n",
              " '769': 7,\n",
              " '770': 8,\n",
              " '771': 9,\n",
              " '772': 10}"
            ]
          },
          "metadata": {},
          "execution_count": 9
        }
      ]
    },
    {
      "cell_type": "markdown",
      "source": [
        "**Time choice:**  \n",
        "[0.s, 4s] Post Cue on set:  [2s, 6s]"
      ],
      "metadata": {
        "id": "PJAI_olujhxI"
      }
    },
    {
      "cell_type": "code",
      "source": [
        "epochs = mne.Epochs(final_raw, events[0], event_id=[7, 8, 9, 10], tmin=0, tmax=4, reject=None, baseline=None, preload=True)\n",
        "first_session_data = epochs.get_data(copy=True)\n",
        "first_session_labels = epochs.events[:,-1]"
      ],
      "metadata": {
        "id": "OaAuA1mQCqcP",
        "colab": {
          "base_uri": "https://localhost:8080/"
        },
        "outputId": "809664a1-3d6b-4368-be45-17c0bef43f62"
      },
      "execution_count": 10,
      "outputs": [
        {
          "output_type": "stream",
          "name": "stdout",
          "text": [
            "Not setting metadata\n",
            "2592 matching events found\n",
            "No baseline correction applied\n",
            "0 projection items activated\n",
            "Using data from preloaded Raw for 2592 events and 1001 original time points ...\n",
            "0 bad epochs dropped\n"
          ]
        }
      ]
    },
    {
      "cell_type": "code",
      "source": [
        "print(\"First_session_dataset shape:\",first_session_data.shape)"
      ],
      "metadata": {
        "id": "rVNRjQbfCs3-",
        "colab": {
          "base_uri": "https://localhost:8080/"
        },
        "outputId": "4d4f87d9-6a79-4f04-828a-4816c246ffc9"
      },
      "execution_count": 11,
      "outputs": [
        {
          "output_type": "stream",
          "name": "stdout",
          "text": [
            "First_session_dataset shape: (2592, 22, 1001)\n"
          ]
        }
      ]
    },
    {
      "cell_type": "markdown",
      "source": [
        "##Second Session"
      ],
      "metadata": {
        "id": "JJva8vhuMAtc"
      }
    },
    {
      "cell_type": "markdown",
      "source": [
        "###Extracting Labels for datas with \"E.gdf\" prefix"
      ],
      "metadata": {
        "id": "bzQH8SI9MI72"
      }
    },
    {
      "cell_type": "code",
      "source": [
        "# Replace this with your actual shareable link\n",
        "shareable_link = 'https://drive.google.com/file/d/11Ke2Xta1kv2xu2Mybuu_X51zJYjQ-VFo/view?usp=drive_link'\n",
        "\n",
        "# Extract file ID from the shareable link\n",
        "file_id = shareable_link.split('/d/')[1].split('/view')[0]\n",
        "\n",
        "# Create the direct download link\n",
        "download_url = f'https://drive.google.com/uc?id={file_id}&export=download'\n",
        "\n",
        "# Specify the output file path\n",
        "output_file = 'true_labels.zip'\n",
        "\n",
        "# Download the file\n",
        "gdown.download(download_url, output_file, quiet=False)"
      ],
      "metadata": {
        "id": "MjLuwdcgMD_l",
        "colab": {
          "base_uri": "https://localhost:8080/",
          "height": 103
        },
        "outputId": "bf943fd4-b775-4a2f-82b1-4497d7c9f753"
      },
      "execution_count": 12,
      "outputs": [
        {
          "output_type": "stream",
          "name": "stderr",
          "text": [
            "Downloading...\n",
            "From: https://drive.google.com/uc?id=11Ke2Xta1kv2xu2Mybuu_X51zJYjQ-VFo&export=download\n",
            "To: /content/true_labels.zip\n",
            "100%|██████████| 7.20k/7.20k [00:00<00:00, 8.68MB/s]\n"
          ]
        },
        {
          "output_type": "execute_result",
          "data": {
            "text/plain": [
              "'true_labels.zip'"
            ],
            "application/vnd.google.colaboratory.intrinsic+json": {
              "type": "string"
            }
          },
          "metadata": {},
          "execution_count": 12
        }
      ]
    },
    {
      "cell_type": "code",
      "source": [
        "%%capture\n",
        "!unzip /content/true_labels.zip -d second_session_labels"
      ],
      "metadata": {
        "id": "03wA4VGpMZNS"
      },
      "execution_count": 13,
      "outputs": []
    },
    {
      "cell_type": "markdown",
      "source": [
        "###Extracting datas of second session"
      ],
      "metadata": {
        "id": "1iijTs3RMdCo"
      }
    },
    {
      "cell_type": "code",
      "source": [
        "raw_data_folder = '/content/raw_data/'\n",
        "cleaned_data_folder = '/content/cleaned_data/second_session/'\n",
        "mat_folder = '/content/second_session_labels/'\n",
        "\n",
        "# Selecting files with suffix 'E.mat'\n",
        "mat_files = os.listdir(mat_folder)\n",
        "filtered_math_labels = [file for file in mat_files if file.endswith('E.mat')]\n",
        "\n",
        "# Selecting files with suffix 'E.gdf'\n",
        "files = os.listdir(raw_data_folder)\n",
        "filtered_files = [file for file in files if file.endswith('E.gdf')]\n",
        "\n",
        "raw_list = []\n",
        "second_session_labels = np.array([])\n",
        "# Iterating through filtered files\n",
        "for file in filtered_files:\n",
        "    file_path = os.path.join(raw_data_folder, file)\n",
        "\n",
        "    # Reading raw data\n",
        "    raw = mne.io.read_raw_gdf(file_path, eog=['EOG-left', 'EOG-central', 'EOG-right'], preload=True)\n",
        "    # Droping EOG channels\n",
        "    raw.drop_channels(['EOG-left', 'EOG-central', 'EOG-right'])\n",
        "\n",
        "    # High Pass Filtering 4-40 Hz\n",
        "    raw.filter(l_freq=4, h_freq=40, method='iir')\n",
        "\n",
        "    # Saving the modified raw data to a file with .fif suffix\n",
        "    new_file_path = os.path.join(cleaned_data_folder, file[:-4] + '.fif')\n",
        "    raw.save(new_file_path, overwrite=True)\n",
        "    # Appending data to t he list\n",
        "    raw_list.append(raw)\n",
        "\n",
        "    # Mat files for the labels\n",
        "    mat_file_name = file.replace('.gdf', '.mat')\n",
        "    mat_file_path = os.path.join(mat_folder, mat_file_name)\n",
        "    print(f\"data:{file}, label:{mat_file_name}\")\n",
        "\n",
        "    if os.path.exists(mat_file_path):\n",
        "        mat_data = scipy.io.loadmat(mat_file_path)\n",
        "        class_labels = mat_data.get('classlabel', [])\n",
        "\n",
        "        # Check if 'classlabel' key exists and is not empty\n",
        "        if class_labels.size > 0:\n",
        "             # Convert to a NumPy array and flatten\n",
        "            class_labels_array = np.array(class_labels, dtype=int).flatten()\n",
        "            # Concatenate with the existing test_labels array\n",
        "            second_session_labels = np.concatenate((second_session_labels, class_labels_array))\n",
        "        else:\n",
        "            print(f\"Warning: 'classlabel' not found or empty in {mat_file_name}.\")\n",
        "    else:\n",
        "        print(f\"Warning: {mat_file_name} not found.\")\n",
        "\n",
        "final_raw = mne.concatenate_raws(raw_list)\n",
        "new_file_path = os.path.join(cleaned_data_folder, 'Second_Session_Subjects.fif')\n",
        "final_raw.save(new_file_path, overwrite=True)"
      ],
      "metadata": {
        "id": "GbOQB2gDMgOf",
        "colab": {
          "base_uri": "https://localhost:8080/"
        },
        "outputId": "57be7896-e8f6-4d11-b0f1-d9d2004f652d"
      },
      "execution_count": 14,
      "outputs": [
        {
          "output_type": "stream",
          "name": "stdout",
          "text": [
            "Extracting EDF parameters from /content/raw_data/A01E.gdf...\n",
            "GDF file detected\n",
            "Setting channel info structure...\n",
            "Could not determine channel type of the following channels, they will be set as EEG:\n",
            "EEG-Fz, EEG, EEG, EEG, EEG, EEG, EEG, EEG-C3, EEG, EEG-Cz, EEG, EEG-C4, EEG, EEG, EEG, EEG, EEG, EEG, EEG, EEG-Pz, EEG, EEG\n",
            "Creating raw.info structure...\n",
            "Reading 0 ... 686999  =      0.000 ...  2747.996 secs...\n"
          ]
        },
        {
          "output_type": "stream",
          "name": "stderr",
          "text": [
            "/usr/lib/python3.10/contextlib.py:142: RuntimeWarning: Channel names are not unique, found duplicates for: {'EEG'}. Applying running numbers for duplicates.\n",
            "  next(self.gen)\n"
          ]
        },
        {
          "output_type": "stream",
          "name": "stdout",
          "text": [
            "Filtering raw data in 1 contiguous segment\n",
            "Setting up band-pass filter from 4 - 40 Hz\n",
            "\n",
            "IIR filter parameters\n",
            "---------------------\n",
            "Butterworth bandpass zero-phase (two-pass forward and reverse) non-causal filter:\n",
            "- Filter order 16 (effective, after forward-backward)\n",
            "- Cutoffs at 4.00, 40.00 Hz: -6.02, -6.02 dB\n",
            "\n",
            "Writing /content/cleaned_data/second_session/A01E.fif\n"
          ]
        },
        {
          "output_type": "stream",
          "name": "stderr",
          "text": [
            "<ipython-input-14-17b2bcb1c589>:29: RuntimeWarning: This filename (/content/cleaned_data/second_session/A01E.fif) does not conform to MNE naming conventions. All raw files should end with raw.fif, raw_sss.fif, raw_tsss.fif, _meg.fif, _eeg.fif, _ieeg.fif, raw.fif.gz, raw_sss.fif.gz, raw_tsss.fif.gz, _meg.fif.gz, _eeg.fif.gz or _ieeg.fif.gz\n",
            "  raw.save(new_file_path, overwrite=True)\n"
          ]
        },
        {
          "output_type": "stream",
          "name": "stdout",
          "text": [
            "Closing /content/cleaned_data/second_session/A01E.fif\n",
            "[done]\n",
            "data:A01E.gdf, label:A01E.mat\n",
            "Extracting EDF parameters from /content/raw_data/A05E.gdf...\n",
            "GDF file detected\n",
            "Setting channel info structure...\n",
            "Could not determine channel type of the following channels, they will be set as EEG:\n",
            "EEG-Fz, EEG, EEG, EEG, EEG, EEG, EEG, EEG-C3, EEG, EEG-Cz, EEG, EEG-C4, EEG, EEG, EEG, EEG, EEG, EEG, EEG, EEG-Pz, EEG, EEG\n",
            "Creating raw.info structure...\n",
            "Reading 0 ... 679862  =      0.000 ...  2719.448 secs...\n"
          ]
        },
        {
          "output_type": "stream",
          "name": "stderr",
          "text": [
            "/usr/lib/python3.10/contextlib.py:142: RuntimeWarning: Channel names are not unique, found duplicates for: {'EEG'}. Applying running numbers for duplicates.\n",
            "  next(self.gen)\n"
          ]
        },
        {
          "output_type": "stream",
          "name": "stdout",
          "text": [
            "Filtering raw data in 1 contiguous segment\n",
            "Setting up band-pass filter from 4 - 40 Hz\n",
            "\n",
            "IIR filter parameters\n",
            "---------------------\n",
            "Butterworth bandpass zero-phase (two-pass forward and reverse) non-causal filter:\n",
            "- Filter order 16 (effective, after forward-backward)\n",
            "- Cutoffs at 4.00, 40.00 Hz: -6.02, -6.02 dB\n",
            "\n",
            "Writing /content/cleaned_data/second_session/A05E.fif\n"
          ]
        },
        {
          "output_type": "stream",
          "name": "stderr",
          "text": [
            "<ipython-input-14-17b2bcb1c589>:29: RuntimeWarning: This filename (/content/cleaned_data/second_session/A05E.fif) does not conform to MNE naming conventions. All raw files should end with raw.fif, raw_sss.fif, raw_tsss.fif, _meg.fif, _eeg.fif, _ieeg.fif, raw.fif.gz, raw_sss.fif.gz, raw_tsss.fif.gz, _meg.fif.gz, _eeg.fif.gz or _ieeg.fif.gz\n",
            "  raw.save(new_file_path, overwrite=True)\n"
          ]
        },
        {
          "output_type": "stream",
          "name": "stdout",
          "text": [
            "Closing /content/cleaned_data/second_session/A05E.fif\n",
            "[done]\n",
            "data:A05E.gdf, label:A05E.mat\n",
            "Extracting EDF parameters from /content/raw_data/A08E.gdf...\n",
            "GDF file detected\n",
            "Setting channel info structure...\n",
            "Could not determine channel type of the following channels, they will be set as EEG:\n",
            "EEG-Fz, EEG, EEG, EEG, EEG, EEG, EEG, EEG-C3, EEG, EEG-Cz, EEG, EEG-C4, EEG, EEG, EEG, EEG, EEG, EEG, EEG, EEG-Pz, EEG, EEG\n",
            "Creating raw.info structure...\n",
            "Reading 0 ... 687791  =      0.000 ...  2751.164 secs...\n"
          ]
        },
        {
          "output_type": "stream",
          "name": "stderr",
          "text": [
            "/usr/lib/python3.10/contextlib.py:142: RuntimeWarning: Channel names are not unique, found duplicates for: {'EEG'}. Applying running numbers for duplicates.\n",
            "  next(self.gen)\n"
          ]
        },
        {
          "output_type": "stream",
          "name": "stdout",
          "text": [
            "Filtering raw data in 1 contiguous segment\n",
            "Setting up band-pass filter from 4 - 40 Hz\n",
            "\n",
            "IIR filter parameters\n",
            "---------------------\n",
            "Butterworth bandpass zero-phase (two-pass forward and reverse) non-causal filter:\n",
            "- Filter order 16 (effective, after forward-backward)\n",
            "- Cutoffs at 4.00, 40.00 Hz: -6.02, -6.02 dB\n",
            "\n",
            "Writing /content/cleaned_data/second_session/A08E.fif\n"
          ]
        },
        {
          "output_type": "stream",
          "name": "stderr",
          "text": [
            "<ipython-input-14-17b2bcb1c589>:29: RuntimeWarning: This filename (/content/cleaned_data/second_session/A08E.fif) does not conform to MNE naming conventions. All raw files should end with raw.fif, raw_sss.fif, raw_tsss.fif, _meg.fif, _eeg.fif, _ieeg.fif, raw.fif.gz, raw_sss.fif.gz, raw_tsss.fif.gz, _meg.fif.gz, _eeg.fif.gz or _ieeg.fif.gz\n",
            "  raw.save(new_file_path, overwrite=True)\n"
          ]
        },
        {
          "output_type": "stream",
          "name": "stdout",
          "text": [
            "Closing /content/cleaned_data/second_session/A08E.fif\n",
            "[done]\n",
            "data:A08E.gdf, label:A08E.mat\n",
            "Extracting EDF parameters from /content/raw_data/A09E.gdf...\n",
            "GDF file detected\n",
            "Setting channel info structure...\n",
            "Could not determine channel type of the following channels, they will be set as EEG:\n",
            "EEG-Fz, EEG, EEG, EEG, EEG, EEG, EEG, EEG-C3, EEG, EEG-Cz, EEG, EEG-C4, EEG, EEG, EEG, EEG, EEG, EEG, EEG, EEG-Pz, EEG, EEG\n",
            "Creating raw.info structure...\n",
            "Reading 0 ... 675097  =      0.000 ...  2700.388 secs...\n"
          ]
        },
        {
          "output_type": "stream",
          "name": "stderr",
          "text": [
            "/usr/lib/python3.10/contextlib.py:142: RuntimeWarning: Channel names are not unique, found duplicates for: {'EEG'}. Applying running numbers for duplicates.\n",
            "  next(self.gen)\n"
          ]
        },
        {
          "output_type": "stream",
          "name": "stdout",
          "text": [
            "Filtering raw data in 1 contiguous segment\n",
            "Setting up band-pass filter from 4 - 40 Hz\n",
            "\n",
            "IIR filter parameters\n",
            "---------------------\n",
            "Butterworth bandpass zero-phase (two-pass forward and reverse) non-causal filter:\n",
            "- Filter order 16 (effective, after forward-backward)\n",
            "- Cutoffs at 4.00, 40.00 Hz: -6.02, -6.02 dB\n",
            "\n",
            "Writing /content/cleaned_data/second_session/A09E.fif\n"
          ]
        },
        {
          "output_type": "stream",
          "name": "stderr",
          "text": [
            "<ipython-input-14-17b2bcb1c589>:29: RuntimeWarning: This filename (/content/cleaned_data/second_session/A09E.fif) does not conform to MNE naming conventions. All raw files should end with raw.fif, raw_sss.fif, raw_tsss.fif, _meg.fif, _eeg.fif, _ieeg.fif, raw.fif.gz, raw_sss.fif.gz, raw_tsss.fif.gz, _meg.fif.gz, _eeg.fif.gz or _ieeg.fif.gz\n",
            "  raw.save(new_file_path, overwrite=True)\n"
          ]
        },
        {
          "output_type": "stream",
          "name": "stdout",
          "text": [
            "Closing /content/cleaned_data/second_session/A09E.fif\n",
            "[done]\n",
            "data:A09E.gdf, label:A09E.mat\n",
            "Extracting EDF parameters from /content/raw_data/A03E.gdf...\n",
            "GDF file detected\n",
            "Setting channel info structure...\n",
            "Could not determine channel type of the following channels, they will be set as EEG:\n",
            "EEG-Fz, EEG, EEG, EEG, EEG, EEG, EEG, EEG-C3, EEG, EEG-Cz, EEG, EEG-C4, EEG, EEG, EEG, EEG, EEG, EEG, EEG, EEG-Pz, EEG, EEG\n",
            "Creating raw.info structure...\n",
            "Reading 0 ... 648774  =      0.000 ...  2595.096 secs...\n"
          ]
        },
        {
          "output_type": "stream",
          "name": "stderr",
          "text": [
            "/usr/lib/python3.10/contextlib.py:142: RuntimeWarning: Channel names are not unique, found duplicates for: {'EEG'}. Applying running numbers for duplicates.\n",
            "  next(self.gen)\n"
          ]
        },
        {
          "output_type": "stream",
          "name": "stdout",
          "text": [
            "Filtering raw data in 1 contiguous segment\n",
            "Setting up band-pass filter from 4 - 40 Hz\n",
            "\n",
            "IIR filter parameters\n",
            "---------------------\n",
            "Butterworth bandpass zero-phase (two-pass forward and reverse) non-causal filter:\n",
            "- Filter order 16 (effective, after forward-backward)\n",
            "- Cutoffs at 4.00, 40.00 Hz: -6.02, -6.02 dB\n",
            "\n",
            "Writing /content/cleaned_data/second_session/A03E.fif\n"
          ]
        },
        {
          "output_type": "stream",
          "name": "stderr",
          "text": [
            "<ipython-input-14-17b2bcb1c589>:29: RuntimeWarning: This filename (/content/cleaned_data/second_session/A03E.fif) does not conform to MNE naming conventions. All raw files should end with raw.fif, raw_sss.fif, raw_tsss.fif, _meg.fif, _eeg.fif, _ieeg.fif, raw.fif.gz, raw_sss.fif.gz, raw_tsss.fif.gz, _meg.fif.gz, _eeg.fif.gz or _ieeg.fif.gz\n",
            "  raw.save(new_file_path, overwrite=True)\n"
          ]
        },
        {
          "output_type": "stream",
          "name": "stdout",
          "text": [
            "Closing /content/cleaned_data/second_session/A03E.fif\n",
            "[done]\n",
            "data:A03E.gdf, label:A03E.mat\n",
            "Extracting EDF parameters from /content/raw_data/A07E.gdf...\n",
            "GDF file detected\n",
            "Setting channel info structure...\n",
            "Could not determine channel type of the following channels, they will be set as EEG:\n",
            "EEG-Fz, EEG, EEG, EEG, EEG, EEG, EEG, EEG-C3, EEG, EEG-Cz, EEG, EEG-C4, EEG, EEG, EEG, EEG, EEG, EEG, EEG, EEG-Pz, EEG, EEG\n",
            "Creating raw.info structure...\n",
            "Reading 0 ... 673134  =      0.000 ...  2692.536 secs...\n"
          ]
        },
        {
          "output_type": "stream",
          "name": "stderr",
          "text": [
            "/usr/lib/python3.10/contextlib.py:142: RuntimeWarning: Channel names are not unique, found duplicates for: {'EEG'}. Applying running numbers for duplicates.\n",
            "  next(self.gen)\n"
          ]
        },
        {
          "output_type": "stream",
          "name": "stdout",
          "text": [
            "Filtering raw data in 1 contiguous segment\n",
            "Setting up band-pass filter from 4 - 40 Hz\n",
            "\n",
            "IIR filter parameters\n",
            "---------------------\n",
            "Butterworth bandpass zero-phase (two-pass forward and reverse) non-causal filter:\n",
            "- Filter order 16 (effective, after forward-backward)\n",
            "- Cutoffs at 4.00, 40.00 Hz: -6.02, -6.02 dB\n",
            "\n",
            "Writing /content/cleaned_data/second_session/A07E.fif\n"
          ]
        },
        {
          "output_type": "stream",
          "name": "stderr",
          "text": [
            "<ipython-input-14-17b2bcb1c589>:29: RuntimeWarning: This filename (/content/cleaned_data/second_session/A07E.fif) does not conform to MNE naming conventions. All raw files should end with raw.fif, raw_sss.fif, raw_tsss.fif, _meg.fif, _eeg.fif, _ieeg.fif, raw.fif.gz, raw_sss.fif.gz, raw_tsss.fif.gz, _meg.fif.gz, _eeg.fif.gz or _ieeg.fif.gz\n",
            "  raw.save(new_file_path, overwrite=True)\n"
          ]
        },
        {
          "output_type": "stream",
          "name": "stdout",
          "text": [
            "Closing /content/cleaned_data/second_session/A07E.fif\n",
            "[done]\n",
            "data:A07E.gdf, label:A07E.mat\n",
            "Extracting EDF parameters from /content/raw_data/A02E.gdf...\n",
            "GDF file detected\n",
            "Setting channel info structure...\n",
            "Could not determine channel type of the following channels, they will be set as EEG:\n",
            "EEG-Fz, EEG, EEG, EEG, EEG, EEG, EEG, EEG-C3, EEG, EEG-Cz, EEG, EEG-C4, EEG, EEG, EEG, EEG, EEG, EEG, EEG, EEG-Pz, EEG, EEG\n",
            "Creating raw.info structure...\n",
            "Reading 0 ... 662665  =      0.000 ...  2650.660 secs...\n"
          ]
        },
        {
          "output_type": "stream",
          "name": "stderr",
          "text": [
            "/usr/lib/python3.10/contextlib.py:142: RuntimeWarning: Channel names are not unique, found duplicates for: {'EEG'}. Applying running numbers for duplicates.\n",
            "  next(self.gen)\n"
          ]
        },
        {
          "output_type": "stream",
          "name": "stdout",
          "text": [
            "Filtering raw data in 1 contiguous segment\n",
            "Setting up band-pass filter from 4 - 40 Hz\n",
            "\n",
            "IIR filter parameters\n",
            "---------------------\n",
            "Butterworth bandpass zero-phase (two-pass forward and reverse) non-causal filter:\n",
            "- Filter order 16 (effective, after forward-backward)\n",
            "- Cutoffs at 4.00, 40.00 Hz: -6.02, -6.02 dB\n",
            "\n",
            "Writing /content/cleaned_data/second_session/A02E.fif\n"
          ]
        },
        {
          "output_type": "stream",
          "name": "stderr",
          "text": [
            "<ipython-input-14-17b2bcb1c589>:29: RuntimeWarning: This filename (/content/cleaned_data/second_session/A02E.fif) does not conform to MNE naming conventions. All raw files should end with raw.fif, raw_sss.fif, raw_tsss.fif, _meg.fif, _eeg.fif, _ieeg.fif, raw.fif.gz, raw_sss.fif.gz, raw_tsss.fif.gz, _meg.fif.gz, _eeg.fif.gz or _ieeg.fif.gz\n",
            "  raw.save(new_file_path, overwrite=True)\n"
          ]
        },
        {
          "output_type": "stream",
          "name": "stdout",
          "text": [
            "Closing /content/cleaned_data/second_session/A02E.fif\n",
            "[done]\n",
            "data:A02E.gdf, label:A02E.mat\n",
            "Extracting EDF parameters from /content/raw_data/A06E.gdf...\n",
            "GDF file detected\n",
            "Setting channel info structure...\n",
            "Could not determine channel type of the following channels, they will be set as EEG:\n",
            "EEG-Fz, EEG, EEG, EEG, EEG, EEG, EEG, EEG-C3, EEG, EEG-Cz, EEG, EEG-C4, EEG, EEG, EEG, EEG, EEG, EEG, EEG, EEG-Pz, EEG, EEG\n",
            "Creating raw.info structure...\n",
            "Reading 0 ... 666372  =      0.000 ...  2665.488 secs...\n"
          ]
        },
        {
          "output_type": "stream",
          "name": "stderr",
          "text": [
            "/usr/lib/python3.10/contextlib.py:142: RuntimeWarning: Channel names are not unique, found duplicates for: {'EEG'}. Applying running numbers for duplicates.\n",
            "  next(self.gen)\n"
          ]
        },
        {
          "output_type": "stream",
          "name": "stdout",
          "text": [
            "Filtering raw data in 1 contiguous segment\n",
            "Setting up band-pass filter from 4 - 40 Hz\n",
            "\n",
            "IIR filter parameters\n",
            "---------------------\n",
            "Butterworth bandpass zero-phase (two-pass forward and reverse) non-causal filter:\n",
            "- Filter order 16 (effective, after forward-backward)\n",
            "- Cutoffs at 4.00, 40.00 Hz: -6.02, -6.02 dB\n",
            "\n",
            "Writing /content/cleaned_data/second_session/A06E.fif\n"
          ]
        },
        {
          "output_type": "stream",
          "name": "stderr",
          "text": [
            "<ipython-input-14-17b2bcb1c589>:29: RuntimeWarning: This filename (/content/cleaned_data/second_session/A06E.fif) does not conform to MNE naming conventions. All raw files should end with raw.fif, raw_sss.fif, raw_tsss.fif, _meg.fif, _eeg.fif, _ieeg.fif, raw.fif.gz, raw_sss.fif.gz, raw_tsss.fif.gz, _meg.fif.gz, _eeg.fif.gz or _ieeg.fif.gz\n",
            "  raw.save(new_file_path, overwrite=True)\n"
          ]
        },
        {
          "output_type": "stream",
          "name": "stdout",
          "text": [
            "Closing /content/cleaned_data/second_session/A06E.fif\n",
            "[done]\n",
            "data:A06E.gdf, label:A06E.mat\n",
            "Extracting EDF parameters from /content/raw_data/A04E.gdf...\n",
            "GDF file detected\n",
            "Setting channel info structure...\n",
            "Could not determine channel type of the following channels, they will be set as EEG:\n",
            "EEG-Fz, EEG, EEG, EEG, EEG, EEG, EEG, EEG-C3, EEG, EEG-Cz, EEG, EEG-C4, EEG, EEG, EEG, EEG, EEG, EEG, EEG, EEG-Pz, EEG, EEG\n",
            "Creating raw.info structure...\n",
            "Reading 0 ... 660046  =      0.000 ...  2640.184 secs...\n"
          ]
        },
        {
          "output_type": "stream",
          "name": "stderr",
          "text": [
            "/usr/lib/python3.10/contextlib.py:142: RuntimeWarning: Channel names are not unique, found duplicates for: {'EEG'}. Applying running numbers for duplicates.\n",
            "  next(self.gen)\n"
          ]
        },
        {
          "output_type": "stream",
          "name": "stdout",
          "text": [
            "Filtering raw data in 1 contiguous segment\n",
            "Setting up band-pass filter from 4 - 40 Hz\n",
            "\n",
            "IIR filter parameters\n",
            "---------------------\n",
            "Butterworth bandpass zero-phase (two-pass forward and reverse) non-causal filter:\n",
            "- Filter order 16 (effective, after forward-backward)\n",
            "- Cutoffs at 4.00, 40.00 Hz: -6.02, -6.02 dB\n",
            "\n",
            "Writing /content/cleaned_data/second_session/A04E.fif\n"
          ]
        },
        {
          "output_type": "stream",
          "name": "stderr",
          "text": [
            "<ipython-input-14-17b2bcb1c589>:29: RuntimeWarning: This filename (/content/cleaned_data/second_session/A04E.fif) does not conform to MNE naming conventions. All raw files should end with raw.fif, raw_sss.fif, raw_tsss.fif, _meg.fif, _eeg.fif, _ieeg.fif, raw.fif.gz, raw_sss.fif.gz, raw_tsss.fif.gz, _meg.fif.gz, _eeg.fif.gz or _ieeg.fif.gz\n",
            "  raw.save(new_file_path, overwrite=True)\n"
          ]
        },
        {
          "output_type": "stream",
          "name": "stdout",
          "text": [
            "Closing /content/cleaned_data/second_session/A04E.fif\n",
            "[done]\n",
            "data:A04E.gdf, label:A04E.mat\n",
            "Writing /content/cleaned_data/second_session/Second_Session_Subjects.fif\n"
          ]
        },
        {
          "output_type": "stream",
          "name": "stderr",
          "text": [
            "<ipython-input-14-17b2bcb1c589>:55: RuntimeWarning: This filename (/content/cleaned_data/second_session/Second_Session_Subjects.fif) does not conform to MNE naming conventions. All raw files should end with raw.fif, raw_sss.fif, raw_tsss.fif, _meg.fif, _eeg.fif, _ieeg.fif, raw.fif.gz, raw_sss.fif.gz, raw_tsss.fif.gz, _meg.fif.gz, _eeg.fif.gz or _ieeg.fif.gz\n",
            "  final_raw.save(new_file_path, overwrite=True)\n"
          ]
        },
        {
          "output_type": "stream",
          "name": "stdout",
          "text": [
            "Closing /content/cleaned_data/second_session/Second_Session_Subjects.fif\n",
            "[done]\n"
          ]
        }
      ]
    },
    {
      "cell_type": "markdown",
      "source": [
        "**List of the events**  \n",
        "'1023': 1 Rejected trial  \n",
        "'1072': 2 Eye movements  \n",
        "'276': 3 Idling EEG (eyes open)  \n",
        "'277': 4 Idling EEG (eyes closed)  \n",
        "'32766': 5 Start of a new run  \n",
        "'768': 6 Start of a trial  \n",
        "'783': 7 Cue unknown"
      ],
      "metadata": {
        "id": "kgSKXweNM87Q"
      }
    },
    {
      "cell_type": "code",
      "source": [
        "events = mne.events_from_annotations(final_raw)\n",
        "events[1]"
      ],
      "metadata": {
        "id": "KIuyfy9DNAvO",
        "colab": {
          "base_uri": "https://localhost:8080/"
        },
        "outputId": "78cb3c90-0afa-4c20-95c5-a3e8990b6a1a"
      },
      "execution_count": 15,
      "outputs": [
        {
          "output_type": "stream",
          "name": "stdout",
          "text": [
            "Used Annotations descriptions: ['1023', '1072', '276', '277', '32766', '768', '783']\n"
          ]
        },
        {
          "output_type": "execute_result",
          "data": {
            "text/plain": [
              "{'1023': 1, '1072': 2, '276': 3, '277': 4, '32766': 5, '768': 6, '783': 7}"
            ]
          },
          "metadata": {},
          "execution_count": 15
        }
      ]
    },
    {
      "cell_type": "code",
      "source": [
        "epochs = mne.Epochs(final_raw, events[0], event_id=7, tmin=0, tmax=4, reject=None, baseline=None, preload=None)\n",
        "second_session_data = epochs.get_data(copy=True)"
      ],
      "metadata": {
        "id": "KGDah5f4NCBr",
        "colab": {
          "base_uri": "https://localhost:8080/"
        },
        "outputId": "a5ec2cc6-bf25-44f3-a241-7ac962fd372f"
      },
      "execution_count": 16,
      "outputs": [
        {
          "output_type": "stream",
          "name": "stdout",
          "text": [
            "Not setting metadata\n",
            "2592 matching events found\n",
            "No baseline correction applied\n",
            "0 projection items activated\n",
            "Using data from preloaded Raw for 2592 events and 1001 original time points ...\n",
            "0 bad epochs dropped\n"
          ]
        }
      ]
    },
    {
      "cell_type": "code",
      "source": [
        "print(\"Second Session Dataset shape:\",second_session_data.shape)"
      ],
      "metadata": {
        "id": "HFCG-UXrNRSZ",
        "colab": {
          "base_uri": "https://localhost:8080/"
        },
        "outputId": "a3354b6d-b255-43ae-f3f8-5ea2051c89a0"
      },
      "execution_count": 17,
      "outputs": [
        {
          "output_type": "stream",
          "name": "stdout",
          "text": [
            "Second Session Dataset shape: (2592, 22, 1001)\n"
          ]
        }
      ]
    },
    {
      "cell_type": "markdown",
      "source": [
        "###Structuring Data"
      ],
      "metadata": {
        "id": "nA0Hr5BMPE5e"
      }
    },
    {
      "cell_type": "code",
      "source": [
        "# Choosing Device\n",
        "device = torch.device(\"cuda\" if torch.cuda.is_available() else \"cpu\")\n",
        "\n",
        "# Loss Function\n",
        "criterion = nn.CrossEntropyLoss()\n",
        "\n",
        "# Normalizing Labels to [0, 1, 2, 3]\n",
        "y_train = first_session_labels - np.min(first_session_labels)\n",
        "y_test = second_session_labels - np.min(second_session_labels)\n",
        "\n",
        "# Normalizing Input features: z-score(mean=0, std=1)\n",
        "X_first_session = (first_session_data - np.mean(first_session_data)) / np.std(first_session_data)\n",
        "X_second_session = (second_session_data - np.mean(second_session_data)) / np.std(second_session_data)\n",
        "\n",
        "X = np.concatenate((X_first_session, X_second_session))\n",
        "y = np.concatenate((y_train, y_test))\n",
        "\n",
        "# Spliting  Data: 90% for Train and 10% for Test\n",
        "X_train, X_test, y_train, y_test = train_test_split(X, y, test_size=0.1, random_state=42, stratify=y)\n",
        "\n",
        "# Converting to Tensor\n",
        "X_train = torch.Tensor(X_train).unsqueeze(1).to(device)\n",
        "X_test = torch.Tensor(X_test).unsqueeze(1).to(device)\n",
        "y_train = torch.LongTensor(y_train).to(device)\n",
        "y_test = torch.LongTensor(y_test).to(device)\n",
        "\n",
        "# Creating Tensor Dataset\n",
        "train_dataset = TensorDataset(X_train, y_train)\n",
        "test_dataset = TensorDataset(X_test, y_test)\n",
        "\n",
        "# Printing the sizes\n",
        "print(\"Size of X_train:\", X_train.size())\n",
        "print(\"Size of X_test:\", X_test.size())\n",
        "print(\"Size of y_train:\", y_train.size())\n",
        "print(\"Size of y_test:\", y_test.size())\n"
      ],
      "metadata": {
        "id": "D5dF6ZydC2PP",
        "colab": {
          "base_uri": "https://localhost:8080/"
        },
        "outputId": "5c063661-0d7a-4f3c-c23e-f38c758d06c1"
      },
      "execution_count": 18,
      "outputs": [
        {
          "output_type": "stream",
          "name": "stdout",
          "text": [
            "Size of X_train: torch.Size([4665, 1, 22, 1001])\n",
            "Size of X_test: torch.Size([519, 1, 22, 1001])\n",
            "Size of y_train: torch.Size([4665])\n",
            "Size of y_test: torch.Size([519])\n"
          ]
        }
      ]
    },
    {
      "cell_type": "markdown",
      "source": [
        "#Training Class"
      ],
      "metadata": {
        "id": "xyXDZiZ4E4a_"
      }
    },
    {
      "cell_type": "code",
      "source": [
        "class TrainModel():\n",
        "    def __init__(self,):\n",
        "        self.device = torch.device(\"cuda\" if torch.cuda.is_available() else \"cpu\")\n",
        "\n",
        "    def train_model(self, model, train_dataset, learning_rate=0.001, batch_size=64, epochs=500):\n",
        "        model = model.to(self.device)\n",
        "        criterion = nn.CrossEntropyLoss()\n",
        "        optimizer = optim.Adam(model.parameters(), lr=learning_rate)\n",
        "        train_loader = DataLoader(train_dataset, batch_size=batch_size, shuffle=True)\n",
        "        highest_train_accuracy = 0.0\n",
        "\n",
        "        for epoch in range(epochs):\n",
        "            model.train()\n",
        "            running_loss = 0.0\n",
        "            correct = 0\n",
        "            total = 0\n",
        "            for inputs, labels in train_loader:\n",
        "                inputs = inputs.to(self.device)\n",
        "                labels = labels.to(self.device)\n",
        "\n",
        "                optimizer.zero_grad()\n",
        "                outputs = model(inputs)\n",
        "                loss = criterion(outputs, labels)\n",
        "                loss.backward()\n",
        "                optimizer.step()\n",
        "\n",
        "                running_loss += loss.item() * inputs.size(0)\n",
        "                _, predicted = torch.max(outputs, 1)\n",
        "                total += labels.size(0)\n",
        "                correct += (predicted == labels).sum().item()\n",
        "\n",
        "            epoch_loss = running_loss / len(train_loader.dataset)\n",
        "            epoch_accuracy = correct / total\n",
        "            if epoch_accuracy > highest_train_accuracy:\n",
        "                highest_train_accuracy = epoch_accuracy\n",
        "            print(f\"Epoch {epoch+1}/{epochs}, Loss: {epoch_loss:.4f}, Accuracy: {(epoch_accuracy*100):.2f}%\")\n",
        "\n",
        "        average_loss = running_loss / len(train_loader.dataset)\n",
        "        print(\"Average Loss:\", average_loss)\n",
        "        print(\"Highest Train Accuracy:\", highest_train_accuracy)\n",
        "\n",
        "        # Saving model\n",
        "        torch.save(model.state_dict(), 'eegnet_model.pth')\n",
        "        return model\n"
      ],
      "metadata": {
        "id": "F3nUwuQHE8Hi"
      },
      "execution_count": 19,
      "outputs": []
    },
    {
      "cell_type": "markdown",
      "source": [
        "#Evaluating Model"
      ],
      "metadata": {
        "id": "ObMKFBTxFLBJ"
      }
    },
    {
      "cell_type": "code",
      "source": [
        "class EvalModel():\n",
        "    def __init__(self, model):\n",
        "        self.model = model.to(device)\n",
        "        self.device = torch.device(\"cuda\" if torch.cuda.is_available() else \"cpu\")\n",
        "    def test_model(self, test_dataset):\n",
        "        self.model.eval()\n",
        "        correct = 0\n",
        "        total = 0\n",
        "        test_loader = DataLoader(test_dataset, batch_size=1, shuffle=False)\n",
        "\n",
        "        with torch.no_grad():\n",
        "            for inputs, labels in test_loader:\n",
        "                inputs = inputs.to(self.device)\n",
        "                labels = labels.to(self.device)\n",
        "                outputs = self.model(inputs)\n",
        "                _, predicted = torch.max(outputs.data, 1)\n",
        "                total += labels.size(0)\n",
        "                correct += (predicted == labels).sum().item()\n",
        "\n",
        "        accuracy = (correct / total) * 100\n",
        "        print(\"/------------------------------/\")\n",
        "        print(f\"Test Accuracy: {accuracy:.2f}%\")\n",
        "        print(\"/------------------------------/\")\n",
        "        return accuracy\n",
        "\n",
        "    def plot_confusion_matrix(self, test_dataset, classes):\n",
        "        self.model.eval()\n",
        "        y_pred = []\n",
        "        y_true = []\n",
        "        test_loader = DataLoader(test_dataset, batch_size=1, shuffle=False)\n",
        "\n",
        "        with torch.no_grad():\n",
        "            for inputs, labels in test_loader:\n",
        "                inputs = inputs.to(self.device)\n",
        "                labels = labels.to(self.device)\n",
        "                outputs = self.model(inputs)\n",
        "                _, predicted = torch.max(outputs.data, 1)\n",
        "                y_pred.append(predicted.item())\n",
        "                y_true.append(labels.item())\n",
        "\n",
        "        cf_matrix = confusion_matrix(y_true, y_pred)\n",
        "        cf_matrix = cf_matrix.astype('float') / cf_matrix.sum(axis=1)[:, np.newaxis]\n",
        "\n",
        "        df_cm = pd.DataFrame(cf_matrix, index=classes, columns=classes)\n",
        "\n",
        "        plt.figure(figsize=(10, 7))\n",
        "        sn.heatmap(df_cm, annot=True, cmap='Blues', fmt='.2f')\n",
        "        plt.xlabel('Predicted labels')\n",
        "        plt.ylabel('True labels')\n",
        "        plt.title('Confusion Matrix')\n",
        "        plt.savefig('confusion_matrix_model.png')\n",
        "        plt.show()\n"
      ],
      "metadata": {
        "id": "GxVYOQ_YFM4b"
      },
      "execution_count": 20,
      "outputs": []
    },
    {
      "cell_type": "markdown",
      "source": [
        "#EEGNet Model"
      ],
      "metadata": {
        "id": "vR2z57zqC5iS"
      }
    },
    {
      "cell_type": "code",
      "source": [
        "class EEGNetModel(nn.Module): # EEGNET-8,2\n",
        "    def __init__(self, chans=22, classes=4, time_points=1001, temp_kernel=32,\n",
        "                 f1=16, f2=32, d=2, pk1=8, pk2=16, dropout_rate=0.5, max_norm1=1, max_norm2=0.25):\n",
        "        super(EEGNetModel, self).__init__()\n",
        "        # Calculating FC input features\n",
        "        linear_size = (time_points//(pk1*pk2))*f2\n",
        "\n",
        "        # Temporal Filters\n",
        "        self.block1 = nn.Sequential(\n",
        "            nn.Conv2d(1, f1, (1, temp_kernel), padding='same', bias=False),\n",
        "            nn.BatchNorm2d(f1),\n",
        "        )\n",
        "        # Spatial Filters\n",
        "        self.block2 = nn.Sequential(\n",
        "            nn.Conv2d(f1, d * f1, (chans, 1), groups=f1, bias=False), # Depthwise Conv\n",
        "            nn.BatchNorm2d(d * f1),\n",
        "            nn.ELU(),\n",
        "            nn.AvgPool2d((1, pk1)),\n",
        "            nn.Dropout(dropout_rate)\n",
        "        )\n",
        "        self.block3 = nn.Sequential(\n",
        "            nn.Conv2d(d * f1, f2, (1, 16),  groups=f2, bias=False, padding='same'), # Separable Conv\n",
        "            nn.Conv2d(f2, f2, kernel_size=1, bias=False), # Pointwise Conv\n",
        "            nn.BatchNorm2d(f2),\n",
        "            nn.ELU(),\n",
        "            nn.AvgPool2d((1, pk2)),\n",
        "            nn.Dropout(dropout_rate)\n",
        "        )\n",
        "        self.flatten = nn.Flatten()\n",
        "        self.fc = nn.Linear(linear_size, classes)\n",
        "\n",
        "        # Apply max_norm constraint to the depthwise layer in block2\n",
        "        self._apply_max_norm(self.block2[0], max_norm1)\n",
        "\n",
        "        # Apply max_norm constraint to the linear layer\n",
        "        self._apply_max_norm(self.fc, max_norm2)\n",
        "\n",
        "    def _apply_max_norm(self, layer, max_norm):\n",
        "        for name, param in layer.named_parameters():\n",
        "            if 'weight' in name:\n",
        "                param.data = torch.renorm(param.data, p=2, dim=0, maxnorm=max_norm)\n",
        "\n",
        "    def forward(self, x):\n",
        "        x = self.block1(x)\n",
        "        x = self.block2(x)\n",
        "        x = self.block3(x)\n",
        "        x = self.flatten(x)\n",
        "        x = self.fc(x)\n",
        "        return x\n"
      ],
      "metadata": {
        "id": "SmFhrHzSC8BE"
      },
      "execution_count": 21,
      "outputs": []
    },
    {
      "cell_type": "markdown",
      "source": [
        "##Model Summery"
      ],
      "metadata": {
        "id": "M49ks2b8C_dP"
      }
    },
    {
      "cell_type": "code",
      "source": [
        "input_size = (1, 22, 1001)\n",
        "eegnet_model = EEGNetModel().to(device)\n",
        "summary(eegnet_model, input_size)"
      ],
      "metadata": {
        "id": "7NdOeIRtDAOn",
        "colab": {
          "base_uri": "https://localhost:8080/"
        },
        "outputId": "69cbaa80-6b68-4e78-e046-77c48f1e9280"
      },
      "execution_count": 22,
      "outputs": [
        {
          "output_type": "stream",
          "name": "stderr",
          "text": [
            "/usr/local/lib/python3.10/dist-packages/torch/nn/modules/conv.py:454: UserWarning: Using padding='same' with even kernel lengths and odd dilation may require a zero-padded copy of the input be created (Triggered internally at ../aten/src/ATen/native/Convolution.cpp:1031.)\n",
            "  return F.conv2d(input, weight, bias, self.stride,\n"
          ]
        },
        {
          "output_type": "stream",
          "name": "stdout",
          "text": [
            "==========================================================================================\n",
            "Layer (type:depth-idx)                   Output Shape              Param #\n",
            "==========================================================================================\n",
            "├─Sequential: 1-1                        [-1, 16, 22, 1001]        --\n",
            "|    └─Conv2d: 2-1                       [-1, 16, 22, 1001]        512\n",
            "|    └─BatchNorm2d: 2-2                  [-1, 16, 22, 1001]        32\n",
            "├─Sequential: 1-2                        [-1, 32, 1, 125]          --\n",
            "|    └─Conv2d: 2-3                       [-1, 32, 1, 1001]         704\n",
            "|    └─BatchNorm2d: 2-4                  [-1, 32, 1, 1001]         64\n",
            "|    └─ELU: 2-5                          [-1, 32, 1, 1001]         --\n",
            "|    └─AvgPool2d: 2-6                    [-1, 32, 1, 125]          --\n",
            "|    └─Dropout: 2-7                      [-1, 32, 1, 125]          --\n",
            "├─Sequential: 1-3                        [-1, 32, 1, 7]            --\n",
            "|    └─Conv2d: 2-8                       [-1, 32, 1, 125]          512\n",
            "|    └─Conv2d: 2-9                       [-1, 32, 1, 125]          1,024\n",
            "|    └─BatchNorm2d: 2-10                 [-1, 32, 1, 125]          64\n",
            "|    └─ELU: 2-11                         [-1, 32, 1, 125]          --\n",
            "|    └─AvgPool2d: 2-12                   [-1, 32, 1, 7]            --\n",
            "|    └─Dropout: 2-13                     [-1, 32, 1, 7]            --\n",
            "├─Flatten: 1-4                           [-1, 224]                 --\n",
            "├─Linear: 1-5                            [-1, 4]                   900\n",
            "==========================================================================================\n",
            "Total params: 3,812\n",
            "Trainable params: 3,812\n",
            "Non-trainable params: 0\n",
            "Total mult-adds (M): 12.18\n",
            "==========================================================================================\n",
            "Input size (MB): 0.08\n",
            "Forward/backward pass size (MB): 5.96\n",
            "Params size (MB): 0.01\n",
            "Estimated Total Size (MB): 6.06\n",
            "==========================================================================================\n"
          ]
        },
        {
          "output_type": "execute_result",
          "data": {
            "text/plain": [
              "==========================================================================================\n",
              "Layer (type:depth-idx)                   Output Shape              Param #\n",
              "==========================================================================================\n",
              "├─Sequential: 1-1                        [-1, 16, 22, 1001]        --\n",
              "|    └─Conv2d: 2-1                       [-1, 16, 22, 1001]        512\n",
              "|    └─BatchNorm2d: 2-2                  [-1, 16, 22, 1001]        32\n",
              "├─Sequential: 1-2                        [-1, 32, 1, 125]          --\n",
              "|    └─Conv2d: 2-3                       [-1, 32, 1, 1001]         704\n",
              "|    └─BatchNorm2d: 2-4                  [-1, 32, 1, 1001]         64\n",
              "|    └─ELU: 2-5                          [-1, 32, 1, 1001]         --\n",
              "|    └─AvgPool2d: 2-6                    [-1, 32, 1, 125]          --\n",
              "|    └─Dropout: 2-7                      [-1, 32, 1, 125]          --\n",
              "├─Sequential: 1-3                        [-1, 32, 1, 7]            --\n",
              "|    └─Conv2d: 2-8                       [-1, 32, 1, 125]          512\n",
              "|    └─Conv2d: 2-9                       [-1, 32, 1, 125]          1,024\n",
              "|    └─BatchNorm2d: 2-10                 [-1, 32, 1, 125]          64\n",
              "|    └─ELU: 2-11                         [-1, 32, 1, 125]          --\n",
              "|    └─AvgPool2d: 2-12                   [-1, 32, 1, 7]            --\n",
              "|    └─Dropout: 2-13                     [-1, 32, 1, 7]            --\n",
              "├─Flatten: 1-4                           [-1, 224]                 --\n",
              "├─Linear: 1-5                            [-1, 4]                   900\n",
              "==========================================================================================\n",
              "Total params: 3,812\n",
              "Trainable params: 3,812\n",
              "Non-trainable params: 0\n",
              "Total mult-adds (M): 12.18\n",
              "==========================================================================================\n",
              "Input size (MB): 0.08\n",
              "Forward/backward pass size (MB): 5.96\n",
              "Params size (MB): 0.01\n",
              "Estimated Total Size (MB): 6.06\n",
              "=========================================================================================="
            ]
          },
          "metadata": {},
          "execution_count": 22
        }
      ]
    },
    {
      "cell_type": "markdown",
      "source": [
        "##Training Model"
      ],
      "metadata": {
        "id": "95r4EymoDCIv"
      }
    },
    {
      "cell_type": "code",
      "source": [
        "eegnet_model = EEGNetModel().to(device)\n",
        "\n",
        "# Training Hyperparameters\n",
        "EPOCHS = 5\n",
        "BATCH_SIZE = 64\n",
        "LEARNING_RATE = 0.001\n",
        "trainer = TrainModel()\n",
        "trained_eegnet_model = trainer.train_model(eegnet_model, train_dataset, learning_rate=LEARNING_RATE,\n",
        "                                   batch_size=BATCH_SIZE, epochs=EPOCHS)\n",
        "torch.save(trained_eegnet_model.state_dict(), 'eegnet_model.pth')\n"
      ],
      "metadata": {
        "id": "TJzl6On9DFcp",
        "colab": {
          "base_uri": "https://localhost:8080/"
        },
        "outputId": "b062e0d7-96ae-4440-a88d-141b0d0f88fd"
      },
      "execution_count": 24,
      "outputs": [
        {
          "output_type": "stream",
          "name": "stdout",
          "text": [
            "Epoch 1/5, Loss: 1.3764, Accuracy: 27.70%\n",
            "Epoch 2/5, Loss: 1.3457, Accuracy: 33.29%\n",
            "Epoch 3/5, Loss: 1.2995, Accuracy: 37.26%\n",
            "Epoch 4/5, Loss: 1.2570, Accuracy: 42.34%\n",
            "Epoch 5/5, Loss: 1.2245, Accuracy: 44.42%\n",
            "Average Loss: 1.2245365645213397\n",
            "Highest Train Accuracy: 0.4441586280814577\n"
          ]
        }
      ]
    },
    {
      "cell_type": "markdown",
      "source": [
        "##Evaluating Model"
      ],
      "metadata": {
        "id": "-3fKnNHxDKwn"
      }
    },
    {
      "cell_type": "code",
      "source": [
        "classes_list = ['Left', 'Right', 'Foot', 'Tongue']\n",
        "eval_model = EvalModel(trained_eegnet_model)\n",
        "test_accuracy = eval_model.test_model(test_dataset)\n",
        "eval_model.plot_confusion_matrix(test_dataset, classes_list)\n"
      ],
      "metadata": {
        "id": "aHsstvZSDLb1",
        "colab": {
          "base_uri": "https://localhost:8080/",
          "height": 692
        },
        "outputId": "6cfefd52-9b77-4f39-8afa-6c840c35071e"
      },
      "execution_count": 25,
      "outputs": [
        {
          "output_type": "stream",
          "name": "stdout",
          "text": [
            "/------------------------------/\n",
            "Test Accuracy: 48.75%\n",
            "/------------------------------/\n"
          ]
        },
        {
          "output_type": "display_data",
          "data": {
            "text/plain": [
              "<Figure size 1000x700 with 2 Axes>"
            ],
            "image/png": "[encoded data removed]"
          },
          "metadata": {}
        }
      ]
    }
  ]
}