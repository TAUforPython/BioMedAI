{
  "nbformat": 4,
  "nbformat_minor": 0,
  "metadata": {
    "kernelspec": {
      "display_name": "Python 3",
      "language": "python",
      "name": "python3"
    },
    "language_info": {
      "codemirror_mode": {
        "name": "ipython",
        "version": 3
      },
      "file_extension": ".py",
      "mimetype": "text/x-python",
      "name": "python",
      "nbconvert_exporter": "python",
      "pygments_lexer": "ipython3",
      "version": "3.6.5"
    },
    "colab": {
      "provenance": [],
      "include_colab_link": true
    }
  },
  "cells": [
    {
      "cell_type": "markdown",
      "metadata": {
        "id": "view-in-github",
        "colab_type": "text"
      },
      "source": [
        "<a href=\"https://colab.research.google.com/github/TAUforPython/BioMedAI/blob/main/%D0%BF%D1%80%D0%B8%D0%BC%D0%B5%D1%80_%D0%B0%D0%B2%D1%82%D0%BE%D1%8D%D0%BD%D0%BA%D0%BE%D0%B4%D0%B5%D1%80.ipynb\" target=\"_parent\"><img src=\"https://colab.research.google.com/assets/colab-badge.svg\" alt=\"Open In Colab\"/></a>"
      ]
    },
    {
      "cell_type": "markdown",
      "metadata": {
        "id": "gsfFGf-d5MWI"
      },
      "source": [
        "# Примеры автоэнкодеров\n",
        "\n",
        "В этом ноутбуке использованы примеры из статьи: https://habr.com/ru/post/331382/\n",
        "\n",
        "Загрузим уже известный нам набор данных MNIST с рукописными цифрами."
      ]
    },
    {
      "cell_type": "code",
      "source": [],
      "metadata": {
        "id": "L5sULzcV-hKv"
      },
      "execution_count": null,
      "outputs": []
    },
    {
      "cell_type": "code",
      "metadata": {
        "id": "a1AlRz0-5MWU",
        "colab": {
          "base_uri": "https://localhost:8080/",
          "height": 129
        },
        "outputId": "522b2301-ad96-4d6f-8935-bc3923287a21"
      },
      "source": [
        "try:\n",
        "    from google.colab import drive\n",
        "    import os\n",
        "    drive.mount('/content/drive')\n",
        "    os.chdir('/content/drive/My Drive/Colab Notebooks/')\n",
        "except ImportError:\n",
        "    pass\n"
      ],
      "execution_count": null,
      "outputs": [
        {
          "output_type": "stream",
          "text": [
            "Go to this URL in a browser: https://accounts.google.com/o/oauth2/auth?client_id=947318989803-6bn6qk8qdgf4n4g3pfee6491hc0brc4i.apps.googleusercontent.com&redirect_uri=urn%3aietf%3awg%3aoauth%3a2.0%3aoob&response_type=code&scope=email%20https%3a%2f%2fwww.googleapis.com%2fauth%2fdocs.test%20https%3a%2f%2fwww.googleapis.com%2fauth%2fdrive%20https%3a%2f%2fwww.googleapis.com%2fauth%2fdrive.photos.readonly%20https%3a%2f%2fwww.googleapis.com%2fauth%2fpeopleapi.readonly\n",
            "\n",
            "Enter your authorization code:\n",
            "··········\n",
            "Mounted at /content/drive\n"
          ],
          "name": "stdout"
        }
      ]
    },
    {
      "cell_type": "code",
      "metadata": {
        "id": "nX1uMGHA5MWw",
        "colab": {
          "base_uri": "https://localhost:8080/",
          "height": 120
        },
        "outputId": "5cff99d7-4e02-4e97-dce7-86f17185ebfe"
      },
      "source": [
        "from keras.datasets import mnist\n",
        "import numpy as np\n",
        "\n",
        "(x_train, y_train), (x_test, y_test) = mnist.load_data()\n",
        "\n",
        "x_train = x_train.astype('float32') / 255.\n",
        "x_test  = x_test .astype('float32') / 255.\n",
        "x_train = np.reshape(x_train, (len(x_train), 28, 28, 1))\n",
        "x_test  = np.reshape(x_test,  (len(x_test),  28, 28, 1))"
      ],
      "execution_count": null,
      "outputs": [
        {
          "output_type": "stream",
          "text": [
            "Using TensorFlow backend.\n"
          ],
          "name": "stderr"
        },
        {
          "output_type": "display_data",
          "data": {
            "text/html": [
              "<p style=\"color: red;\">\n",
              "The default version of TensorFlow in Colab will soon switch to TensorFlow 2.x.<br>\n",
              "We recommend you <a href=\"https://www.tensorflow.org/guide/migrate\" target=\"_blank\">upgrade</a> now \n",
              "or ensure your notebook will continue to use TensorFlow 1.x via the <code>%tensorflow_version 1.x</code> magic:\n",
              "<a href=\"https://colab.research.google.com/notebooks/tensorflow_version.ipynb\" target=\"_blank\">more info</a>.</p>\n"
            ],
            "text/plain": [
              "<IPython.core.display.HTML object>"
            ]
          },
          "metadata": {
            "tags": []
          }
        },
        {
          "output_type": "stream",
          "text": [
            "Downloading data from https://s3.amazonaws.com/img-datasets/mnist.npz\n",
            "11493376/11490434 [==============================] - 1s 0us/step\n"
          ],
          "name": "stdout"
        }
      ]
    },
    {
      "cell_type": "markdown",
      "metadata": {
        "id": "ndeEyqKX5MXF"
      },
      "source": [
        "## Сжимающий автоэнкодер\n",
        "\n",
        "Рассмотрим самый простой сжимающий автоэнкодер: входные данные - наши картинки - имеют размерность 28 * 28 = 784 признака, а код на выходе энкодера пусть будет размерностью 49 признаков."
      ]
    },
    {
      "cell_type": "code",
      "metadata": {
        "id": "ubww9BTl5MXL"
      },
      "source": [
        "from keras.layers import Input, Dense, Flatten, Reshape\n",
        "from keras.models import Model\n",
        "\n",
        "def create_dense_ae():\n",
        "    # Размерность кодированного представления\n",
        "    encoding_dim = 49\n",
        "\n",
        "    # Энкодер\n",
        "    # Входной плейсхолдер\n",
        "    input_img = Input(shape=(28, 28, 1)) # 28, 28, 1 - размерности строк, столбцов, фильтров одной картинки, без батч-размерности\n",
        "    # Вспомогательный слой решейпинга\n",
        "    flat_img = Flatten()(input_img)\n",
        "    # Кодированное полносвязным слоем представление\n",
        "    encoded = Dense(encoding_dim, activation='relu')(flat_img)\n",
        "\n",
        "    # Декодер\n",
        "    # Раскодированное другим полносвязным слоем изображение\n",
        "    input_encoded = Input(shape=(encoding_dim,))\n",
        "    flat_decoded = Dense(28*28, activation='sigmoid')(input_encoded)\n",
        "    decoded = Reshape((28, 28, 1))(flat_decoded)\n",
        "\n",
        "    # Модели, в конструктор первым аргументом передаются входные слои, а вторым выходные слои\n",
        "    # Другие модели можно так же использовать как и слои\n",
        "    encoder = Model(input_img, encoded, name=\"encoder\")\n",
        "    decoder = Model(input_encoded, decoded, name=\"decoder\")\n",
        "    autoencoder = Model(input_img, decoder(encoder(input_img)), name=\"autoencoder\")\n",
        "    return encoder, decoder, autoencoder"
      ],
      "execution_count": null,
      "outputs": []
    },
    {
      "cell_type": "markdown",
      "metadata": {
        "id": "ZxNdgIRM5MXt"
      },
      "source": [
        "Скомпилируем нашу модель"
      ]
    },
    {
      "cell_type": "code",
      "metadata": {
        "id": "q3lG-r6f5MX2",
        "colab": {
          "base_uri": "https://localhost:8080/",
          "height": 277
        },
        "outputId": "d2aebdd2-1ae3-4d9e-c99f-50056daabde9"
      },
      "source": [
        "encoder, decoder, autoencoder = create_dense_ae()\n",
        "autoencoder.compile(optimizer='adam', loss='binary_crossentropy')"
      ],
      "execution_count": null,
      "outputs": [
        {
          "output_type": "stream",
          "text": [
            "WARNING:tensorflow:From /usr/local/lib/python3.6/dist-packages/keras/backend/tensorflow_backend.py:66: The name tf.get_default_graph is deprecated. Please use tf.compat.v1.get_default_graph instead.\n",
            "\n",
            "WARNING:tensorflow:From /usr/local/lib/python3.6/dist-packages/keras/backend/tensorflow_backend.py:541: The name tf.placeholder is deprecated. Please use tf.compat.v1.placeholder instead.\n",
            "\n",
            "WARNING:tensorflow:From /usr/local/lib/python3.6/dist-packages/keras/backend/tensorflow_backend.py:4432: The name tf.random_uniform is deprecated. Please use tf.random.uniform instead.\n",
            "\n",
            "WARNING:tensorflow:From /usr/local/lib/python3.6/dist-packages/keras/optimizers.py:793: The name tf.train.Optimizer is deprecated. Please use tf.compat.v1.train.Optimizer instead.\n",
            "\n",
            "WARNING:tensorflow:From /usr/local/lib/python3.6/dist-packages/keras/backend/tensorflow_backend.py:3657: The name tf.log is deprecated. Please use tf.math.log instead.\n",
            "\n",
            "WARNING:tensorflow:From /usr/local/lib/python3.6/dist-packages/tensorflow_core/python/ops/nn_impl.py:183: where (from tensorflow.python.ops.array_ops) is deprecated and will be removed in a future version.\n",
            "Instructions for updating:\n",
            "Use tf.where in 2.0, which has the same broadcast rule as np.where\n"
          ],
          "name": "stdout"
        }
      ]
    },
    {
      "cell_type": "code",
      "metadata": {
        "id": "91UJTUk_5MYN",
        "colab": {
          "base_uri": "https://localhost:8080/",
          "height": 276
        },
        "outputId": "a06dcb20-c5e9-460b-eace-b88be31c4059"
      },
      "source": [
        "autoencoder.summary()"
      ],
      "execution_count": null,
      "outputs": [
        {
          "output_type": "stream",
          "text": [
            "Model: \"autoencoder\"\n",
            "_________________________________________________________________\n",
            "Layer (type)                 Output Shape              Param #   \n",
            "=================================================================\n",
            "input_1 (InputLayer)         (None, 28, 28, 1)         0         \n",
            "_________________________________________________________________\n",
            "encoder (Model)              (None, 49)                38465     \n",
            "_________________________________________________________________\n",
            "decoder (Model)              (None, 28, 28, 1)         39200     \n",
            "=================================================================\n",
            "Total params: 77,665\n",
            "Trainable params: 77,665\n",
            "Non-trainable params: 0\n",
            "_________________________________________________________________\n"
          ],
          "name": "stdout"
        }
      ]
    },
    {
      "cell_type": "markdown",
      "metadata": {
        "id": "v9WBEF7I5MYk"
      },
      "source": [
        "Обучаем модель"
      ]
    },
    {
      "cell_type": "code",
      "metadata": {
        "id": "WFTNmGpn5MYq",
        "colab": {
          "base_uri": "https://localhost:8080/",
          "height": 1000
        },
        "outputId": "5ec710ba-520d-4ef0-bdcc-abdd30f2a70b"
      },
      "source": [
        "autoencoder.fit(x_train, x_train,\n",
        "                epochs=50,\n",
        "                batch_size=256,\n",
        "                shuffle=True,\n",
        "                validation_data=(x_test, x_test))"
      ],
      "execution_count": null,
      "outputs": [
        {
          "output_type": "stream",
          "text": [
            "WARNING:tensorflow:From /usr/local/lib/python3.6/dist-packages/keras/backend/tensorflow_backend.py:1033: The name tf.assign_add is deprecated. Please use tf.compat.v1.assign_add instead.\n",
            "\n",
            "WARNING:tensorflow:From /usr/local/lib/python3.6/dist-packages/keras/backend/tensorflow_backend.py:1020: The name tf.assign is deprecated. Please use tf.compat.v1.assign instead.\n",
            "\n",
            "WARNING:tensorflow:From /usr/local/lib/python3.6/dist-packages/keras/backend/tensorflow_backend.py:3005: The name tf.Session is deprecated. Please use tf.compat.v1.Session instead.\n",
            "\n",
            "Train on 60000 samples, validate on 10000 samples\n",
            "Epoch 1/50\n",
            "WARNING:tensorflow:From /usr/local/lib/python3.6/dist-packages/keras/backend/tensorflow_backend.py:190: The name tf.get_default_session is deprecated. Please use tf.compat.v1.get_default_session instead.\n",
            "\n",
            "WARNING:tensorflow:From /usr/local/lib/python3.6/dist-packages/keras/backend/tensorflow_backend.py:197: The name tf.ConfigProto is deprecated. Please use tf.compat.v1.ConfigProto instead.\n",
            "\n",
            "WARNING:tensorflow:From /usr/local/lib/python3.6/dist-packages/keras/backend/tensorflow_backend.py:207: The name tf.global_variables is deprecated. Please use tf.compat.v1.global_variables instead.\n",
            "\n",
            "WARNING:tensorflow:From /usr/local/lib/python3.6/dist-packages/keras/backend/tensorflow_backend.py:216: The name tf.is_variable_initialized is deprecated. Please use tf.compat.v1.is_variable_initialized instead.\n",
            "\n",
            "WARNING:tensorflow:From /usr/local/lib/python3.6/dist-packages/keras/backend/tensorflow_backend.py:223: The name tf.variables_initializer is deprecated. Please use tf.compat.v1.variables_initializer instead.\n",
            "\n",
            "60000/60000 [==============================] - 5s 87us/step - loss: 0.2581 - val_loss: 0.1739\n",
            "Epoch 2/50\n",
            "60000/60000 [==============================] - 4s 74us/step - loss: 0.1542 - val_loss: 0.1363\n",
            "Epoch 3/50\n",
            "60000/60000 [==============================] - 5s 75us/step - loss: 0.1276 - val_loss: 0.1178\n",
            "Epoch 4/50\n",
            "60000/60000 [==============================] - 4s 75us/step - loss: 0.1126 - val_loss: 0.1058\n",
            "Epoch 5/50\n",
            "60000/60000 [==============================] - 4s 73us/step - loss: 0.1025 - val_loss: 0.0974\n",
            "Epoch 6/50\n",
            "60000/60000 [==============================] - 5s 75us/step - loss: 0.0955 - val_loss: 0.0915\n",
            "Epoch 7/50\n",
            "60000/60000 [==============================] - 4s 71us/step - loss: 0.0905 - val_loss: 0.0874\n",
            "Epoch 8/50\n",
            "60000/60000 [==============================] - 4s 71us/step - loss: 0.0871 - val_loss: 0.0847\n",
            "Epoch 9/50\n",
            "60000/60000 [==============================] - 4s 74us/step - loss: 0.0847 - val_loss: 0.0828\n",
            "Epoch 10/50\n",
            "60000/60000 [==============================] - 5s 76us/step - loss: 0.0832 - val_loss: 0.0816\n",
            "Epoch 11/50\n",
            "60000/60000 [==============================] - 5s 78us/step - loss: 0.0821 - val_loss: 0.0807\n",
            "Epoch 12/50\n",
            "60000/60000 [==============================] - 4s 73us/step - loss: 0.0814 - val_loss: 0.0801\n",
            "Epoch 13/50\n",
            "60000/60000 [==============================] - 5s 77us/step - loss: 0.0808 - val_loss: 0.0797\n",
            "Epoch 14/50\n",
            "60000/60000 [==============================] - 4s 74us/step - loss: 0.0805 - val_loss: 0.0794\n",
            "Epoch 15/50\n",
            "60000/60000 [==============================] - 4s 72us/step - loss: 0.0802 - val_loss: 0.0792\n",
            "Epoch 16/50\n",
            "60000/60000 [==============================] - 5s 75us/step - loss: 0.0799 - val_loss: 0.0790\n",
            "Epoch 17/50\n",
            "60000/60000 [==============================] - 4s 73us/step - loss: 0.0797 - val_loss: 0.0788\n",
            "Epoch 18/50\n",
            "60000/60000 [==============================] - 4s 74us/step - loss: 0.0796 - val_loss: 0.0786\n",
            "Epoch 19/50\n",
            "60000/60000 [==============================] - 5s 75us/step - loss: 0.0795 - val_loss: 0.0786\n",
            "Epoch 20/50\n",
            "60000/60000 [==============================] - 5s 76us/step - loss: 0.0794 - val_loss: 0.0786\n",
            "Epoch 21/50\n",
            "60000/60000 [==============================] - 5s 77us/step - loss: 0.0793 - val_loss: 0.0785\n",
            "Epoch 22/50\n",
            "60000/60000 [==============================] - 5s 78us/step - loss: 0.0792 - val_loss: 0.0783\n",
            "Epoch 23/50\n",
            "60000/60000 [==============================] - 4s 74us/step - loss: 0.0791 - val_loss: 0.0783\n",
            "Epoch 24/50\n",
            "60000/60000 [==============================] - 4s 69us/step - loss: 0.0790 - val_loss: 0.0782\n",
            "Epoch 25/50\n",
            "60000/60000 [==============================] - 4s 68us/step - loss: 0.0790 - val_loss: 0.0782\n",
            "Epoch 26/50\n",
            "60000/60000 [==============================] - 4s 70us/step - loss: 0.0789 - val_loss: 0.0781\n",
            "Epoch 27/50\n",
            "60000/60000 [==============================] - 4s 69us/step - loss: 0.0789 - val_loss: 0.0781\n",
            "Epoch 28/50\n",
            "60000/60000 [==============================] - 4s 70us/step - loss: 0.0789 - val_loss: 0.0781\n",
            "Epoch 29/50\n",
            "60000/60000 [==============================] - 4s 74us/step - loss: 0.0788 - val_loss: 0.0780\n",
            "Epoch 30/50\n",
            "60000/60000 [==============================] - 5s 76us/step - loss: 0.0788 - val_loss: 0.0781\n",
            "Epoch 31/50\n",
            "60000/60000 [==============================] - 4s 75us/step - loss: 0.0788 - val_loss: 0.0780\n",
            "Epoch 32/50\n",
            "60000/60000 [==============================] - 4s 73us/step - loss: 0.0787 - val_loss: 0.0780\n",
            "Epoch 33/50\n",
            "60000/60000 [==============================] - 5s 75us/step - loss: 0.0787 - val_loss: 0.0780\n",
            "Epoch 34/50\n",
            "60000/60000 [==============================] - 5s 77us/step - loss: 0.0787 - val_loss: 0.0780\n",
            "Epoch 35/50\n",
            "60000/60000 [==============================] - 4s 71us/step - loss: 0.0787 - val_loss: 0.0779\n",
            "Epoch 36/50\n",
            "60000/60000 [==============================] - 5s 77us/step - loss: 0.0787 - val_loss: 0.0779\n",
            "Epoch 37/50\n",
            "60000/60000 [==============================] - 5s 76us/step - loss: 0.0786 - val_loss: 0.0779\n",
            "Epoch 38/50\n",
            "60000/60000 [==============================] - 5s 76us/step - loss: 0.0786 - val_loss: 0.0779\n",
            "Epoch 39/50\n",
            "60000/60000 [==============================] - 5s 75us/step - loss: 0.0786 - val_loss: 0.0778\n",
            "Epoch 40/50\n",
            "60000/60000 [==============================] - 5s 76us/step - loss: 0.0786 - val_loss: 0.0779\n",
            "Epoch 41/50\n",
            "60000/60000 [==============================] - 5s 76us/step - loss: 0.0786 - val_loss: 0.0778\n",
            "Epoch 42/50\n",
            "60000/60000 [==============================] - 4s 74us/step - loss: 0.0786 - val_loss: 0.0779\n",
            "Epoch 43/50\n",
            "60000/60000 [==============================] - 5s 76us/step - loss: 0.0785 - val_loss: 0.0780\n",
            "Epoch 44/50\n",
            "60000/60000 [==============================] - 4s 74us/step - loss: 0.0785 - val_loss: 0.0778\n",
            "Epoch 45/50\n",
            "60000/60000 [==============================] - 4s 74us/step - loss: 0.0785 - val_loss: 0.0778\n",
            "Epoch 46/50\n",
            "60000/60000 [==============================] - 4s 74us/step - loss: 0.0785 - val_loss: 0.0778\n",
            "Epoch 47/50\n",
            "60000/60000 [==============================] - 4s 74us/step - loss: 0.0785 - val_loss: 0.0778\n",
            "Epoch 48/50\n",
            "60000/60000 [==============================] - 4s 73us/step - loss: 0.0785 - val_loss: 0.0778\n",
            "Epoch 49/50\n",
            "60000/60000 [==============================] - 4s 73us/step - loss: 0.0785 - val_loss: 0.0778\n",
            "Epoch 50/50\n",
            "60000/60000 [==============================] - 4s 75us/step - loss: 0.0785 - val_loss: 0.0779\n"
          ],
          "name": "stdout"
        },
        {
          "output_type": "execute_result",
          "data": {
            "text/plain": [
              "<keras.callbacks.History at 0x7f89e326b048>"
            ]
          },
          "metadata": {
            "tags": []
          },
          "execution_count": 7
        }
      ]
    },
    {
      "cell_type": "markdown",
      "metadata": {
        "id": "eOM3tMS-5MZC"
      },
      "source": [
        "Напишем функцию, которая будет выводить картинки на экран"
      ]
    },
    {
      "cell_type": "code",
      "metadata": {
        "id": "xwTOL4PW5MZS"
      },
      "source": [
        "%matplotlib inline\n",
        "import seaborn as sns\n",
        "import matplotlib.pyplot as plt\n",
        "\n",
        "def plot_digits(*args):\n",
        "    args = [x.squeeze() for x in args]\n",
        "    n = min([x.shape[0] for x in args])\n",
        "\n",
        "    plt.figure(figsize=(2*n, 2*len(args)))\n",
        "    for j in range(n):\n",
        "        for i in range(len(args)):\n",
        "            ax = plt.subplot(len(args), n, i*n + j + 1)\n",
        "            plt.imshow(args[i][j])\n",
        "            plt.gray()\n",
        "            ax.get_xaxis().set_visible(False)\n",
        "            ax.get_yaxis().set_visible(False)\n",
        "\n",
        "    plt.show()"
      ],
      "execution_count": null,
      "outputs": []
    },
    {
      "cell_type": "markdown",
      "metadata": {
        "id": "wBCP64oC5MZ0"
      },
      "source": [
        "Давайте посмотрим на то, как одно из наших изображений будет представлено в полученном коде:"
      ]
    },
    {
      "cell_type": "code",
      "metadata": {
        "id": "p4zGvCqR5MZ8",
        "colab": {
          "base_uri": "https://localhost:8080/",
          "height": 202
        },
        "outputId": "0838f5e5-7207-4121-e142-3d4c39bb32f4"
      },
      "source": [
        "n = 10\n",
        "\n",
        "imgs = x_test[:n]\n",
        "encoded_imgs = encoder.predict(imgs, batch_size=n)\n",
        "encoded_imgs[0]"
      ],
      "execution_count": null,
      "outputs": [
        {
          "output_type": "execute_result",
          "data": {
            "text/plain": [
              "array([ 5.674725 ,  8.473352 ,  3.3438928,  5.13213  ,  7.6402087,\n",
              "        5.4998994,  7.5855618,  3.4434853, 10.569286 ,  5.075013 ,\n",
              "        6.7102823,  3.7057364,  6.4936867,  4.8141537,  4.795802 ,\n",
              "        7.7977633,  7.855522 ,  8.919613 , 12.528145 ,  6.435009 ,\n",
              "        3.4171033,  1.4935266,  3.078888 ,  3.8749516,  8.805156 ,\n",
              "        1.4498711,  6.3862295,  9.9258175,  6.7582455,  4.746064 ,\n",
              "        6.664613 ,  3.8312664,  5.0774035,  9.226733 ,  6.4350467,\n",
              "       11.662114 , 10.366592 ,  3.4048414,  4.26745  ,  8.155382 ,\n",
              "        7.0833426,  3.1504889,  8.499921 ,  6.9640427,  5.065351 ,\n",
              "       12.891302 ,  7.1606207,  7.9783897,  5.553196 ], dtype=float32)"
            ]
          },
          "metadata": {
            "tags": []
          },
          "execution_count": 9
        }
      ]
    },
    {
      "cell_type": "markdown",
      "metadata": {
        "id": "MKdwg3Vl5MaZ"
      },
      "source": [
        "И отобразим наши изображения, пропущенный через весь автоэнкодер:"
      ]
    },
    {
      "cell_type": "code",
      "metadata": {
        "id": "PggHpCBd5Mah",
        "colab": {
          "base_uri": "https://localhost:8080/",
          "height": 248
        },
        "outputId": "e1cb1446-3fa1-4c2d-ab1d-7b9c002dc7fb"
      },
      "source": [
        "decoded_imgs = decoder.predict(encoded_imgs, batch_size=n)\n",
        "\n",
        "plot_digits(imgs, decoded_imgs)"
      ],
      "execution_count": null,
      "outputs": [
        {
          "output_type": "display_data",
          "data": {
            "image/png": "[encoded data removed]",
            "text/plain": [
              "<Figure size 1440x288 with 20 Axes>"
            ]
          },
          "metadata": {
            "tags": []
          }
        }
      ]
    },
    {
      "cell_type": "markdown",
      "metadata": {
        "id": "Myu7yqCq5Ma_"
      },
      "source": [
        "## Глубокий автоэнкодер\n",
        "\n",
        "А что, если попробовать в автоэнкодере сделать несколько слоев? Тогда они смогут более эффективно находить нелинейные зависимости в наших картинках"
      ]
    },
    {
      "cell_type": "code",
      "metadata": {
        "id": "aodkxI8-5MbE",
        "colab": {
          "base_uri": "https://localhost:8080/",
          "height": 276
        },
        "outputId": "aef554af-e873-4106-ef2e-b9de1ac2c5be"
      },
      "source": [
        "def create_deep_dense_ae():\n",
        "    # Размерность кодированного представления\n",
        "    encoding_dim = 49\n",
        "\n",
        "    # Энкодер\n",
        "    input_img = Input(shape=(28, 28, 1))\n",
        "    flat_img = Flatten()(input_img)\n",
        "    x = Dense(encoding_dim*3, activation='relu')(flat_img)\n",
        "    x = Dense(encoding_dim*2, activation='relu')(x)\n",
        "    encoded = Dense(encoding_dim, activation='linear')(x)\n",
        "\n",
        "    # Декодер\n",
        "    input_encoded = Input(shape=(encoding_dim,))\n",
        "    x = Dense(encoding_dim*2, activation='relu')(input_encoded)\n",
        "    x = Dense(encoding_dim*3, activation='relu')(x)\n",
        "    flat_decoded = Dense(28*28, activation='sigmoid')(x)\n",
        "    decoded = Reshape((28, 28, 1))(flat_decoded)\n",
        "\n",
        "    # Модели\n",
        "    encoder = Model(input_img, encoded, name=\"encoder\")\n",
        "    decoder = Model(input_encoded, decoded, name=\"decoder\")\n",
        "    autoencoder = Model(input_img, decoder(encoder(input_img)), name=\"autoencoder\")\n",
        "    return encoder, decoder, autoencoder\n",
        "\n",
        "d_encoder, d_decoder, d_autoencoder = create_deep_dense_ae()\n",
        "d_autoencoder.compile(optimizer='adam', loss='binary_crossentropy')\n",
        "\n",
        "d_autoencoder.summary()"
      ],
      "execution_count": null,
      "outputs": [
        {
          "output_type": "stream",
          "text": [
            "Model: \"autoencoder\"\n",
            "_________________________________________________________________\n",
            "Layer (type)                 Output Shape              Param #   \n",
            "=================================================================\n",
            "input_3 (InputLayer)         (None, 28, 28, 1)         0         \n",
            "_________________________________________________________________\n",
            "encoder (Model)              (None, 49)                134750    \n",
            "_________________________________________________________________\n",
            "decoder (Model)              (None, 28, 28, 1)         135485    \n",
            "=================================================================\n",
            "Total params: 270,235\n",
            "Trainable params: 270,235\n",
            "Non-trainable params: 0\n",
            "_________________________________________________________________\n"
          ],
          "name": "stdout"
        }
      ]
    },
    {
      "cell_type": "markdown",
      "metadata": {
        "id": "lMxYFC0C5MbZ"
      },
      "source": [
        "Обучим модель"
      ]
    },
    {
      "cell_type": "code",
      "metadata": {
        "id": "PZzn1o3W5Mbg",
        "colab": {
          "base_uri": "https://localhost:8080/",
          "height": 1000
        },
        "outputId": "0081987b-92ab-4c0e-a63f-b5f1d696b2b7"
      },
      "source": [
        "d_autoencoder.fit(x_train, x_train,\n",
        "                  epochs=100,\n",
        "                  batch_size=256,\n",
        "                  shuffle=True,\n",
        "                  validation_data=(x_test, x_test))"
      ],
      "execution_count": null,
      "outputs": [
        {
          "output_type": "stream",
          "text": [
            "Train on 60000 samples, validate on 10000 samples\n",
            "Epoch 1/100\n",
            "60000/60000 [==============================] - 8s 129us/step - loss: 0.2279 - val_loss: 0.1470\n",
            "Epoch 2/100\n",
            "60000/60000 [==============================] - 7s 116us/step - loss: 0.1327 - val_loss: 0.1203\n",
            "Epoch 3/100\n",
            "60000/60000 [==============================] - 7s 115us/step - loss: 0.1167 - val_loss: 0.1116\n",
            "Epoch 4/100\n",
            "60000/60000 [==============================] - 7s 114us/step - loss: 0.1089 - val_loss: 0.1042\n",
            "Epoch 5/100\n",
            "60000/60000 [==============================] - 7s 118us/step - loss: 0.1033 - val_loss: 0.1002\n",
            "Epoch 6/100\n",
            "60000/60000 [==============================] - 7s 111us/step - loss: 0.0997 - val_loss: 0.0968\n",
            "Epoch 7/100\n",
            "60000/60000 [==============================] - 7s 111us/step - loss: 0.0970 - val_loss: 0.0945\n",
            "Epoch 8/100\n",
            "60000/60000 [==============================] - 7s 116us/step - loss: 0.0947 - val_loss: 0.0933\n",
            "Epoch 9/100\n",
            "60000/60000 [==============================] - 7s 119us/step - loss: 0.0930 - val_loss: 0.0912\n",
            "Epoch 10/100\n",
            "60000/60000 [==============================] - 7s 109us/step - loss: 0.0915 - val_loss: 0.0898\n",
            "Epoch 11/100\n",
            "60000/60000 [==============================] - 6s 103us/step - loss: 0.0902 - val_loss: 0.0885\n",
            "Epoch 12/100\n",
            "60000/60000 [==============================] - 6s 97us/step - loss: 0.0890 - val_loss: 0.0876\n",
            "Epoch 13/100\n",
            "60000/60000 [==============================] - 6s 99us/step - loss: 0.0881 - val_loss: 0.0867\n",
            "Epoch 14/100\n",
            "60000/60000 [==============================] - 6s 102us/step - loss: 0.0870 - val_loss: 0.0858\n",
            "Epoch 15/100\n",
            "60000/60000 [==============================] - 7s 111us/step - loss: 0.0861 - val_loss: 0.0852\n",
            "Epoch 16/100\n",
            "60000/60000 [==============================] - 6s 98us/step - loss: 0.0855 - val_loss: 0.0844\n",
            "Epoch 17/100\n",
            "60000/60000 [==============================] - 6s 96us/step - loss: 0.0847 - val_loss: 0.0835\n",
            "Epoch 18/100\n",
            "60000/60000 [==============================] - 6s 103us/step - loss: 0.0840 - val_loss: 0.0831\n",
            "Epoch 19/100\n",
            "60000/60000 [==============================] - 7s 112us/step - loss: 0.0834 - val_loss: 0.0826\n",
            "Epoch 20/100\n",
            "60000/60000 [==============================] - 6s 96us/step - loss: 0.0829 - val_loss: 0.0821\n",
            "Epoch 21/100\n",
            "60000/60000 [==============================] - 7s 110us/step - loss: 0.0824 - val_loss: 0.0816\n",
            "Epoch 22/100\n",
            "60000/60000 [==============================] - 6s 108us/step - loss: 0.0819 - val_loss: 0.0815\n",
            "Epoch 23/100\n",
            "60000/60000 [==============================] - 6s 96us/step - loss: 0.0815 - val_loss: 0.0812\n",
            "Epoch 24/100\n",
            "60000/60000 [==============================] - 6s 102us/step - loss: 0.0811 - val_loss: 0.0805\n",
            "Epoch 25/100\n",
            "60000/60000 [==============================] - 6s 106us/step - loss: 0.0807 - val_loss: 0.0801\n",
            "Epoch 26/100\n",
            "60000/60000 [==============================] - 6s 102us/step - loss: 0.0805 - val_loss: 0.0798\n",
            "Epoch 27/100\n",
            "60000/60000 [==============================] - 6s 101us/step - loss: 0.0801 - val_loss: 0.0796\n",
            "Epoch 28/100\n",
            "60000/60000 [==============================] - 7s 109us/step - loss: 0.0798 - val_loss: 0.0799\n",
            "Epoch 29/100\n",
            "60000/60000 [==============================] - 7s 109us/step - loss: 0.0796 - val_loss: 0.0793\n",
            "Epoch 30/100\n",
            "60000/60000 [==============================] - 6s 95us/step - loss: 0.0793 - val_loss: 0.0786\n",
            "Epoch 31/100\n",
            "60000/60000 [==============================] - 6s 100us/step - loss: 0.0791 - val_loss: 0.0790\n",
            "Epoch 32/100\n",
            "60000/60000 [==============================] - 7s 112us/step - loss: 0.0788 - val_loss: 0.0785\n",
            "Epoch 33/100\n",
            "60000/60000 [==============================] - 7s 110us/step - loss: 0.0787 - val_loss: 0.0783\n",
            "Epoch 34/100\n",
            "60000/60000 [==============================] - 7s 113us/step - loss: 0.0784 - val_loss: 0.0779\n",
            "Epoch 35/100\n",
            "60000/60000 [==============================] - 7s 114us/step - loss: 0.0783 - val_loss: 0.0779\n",
            "Epoch 36/100\n",
            "60000/60000 [==============================] - 7s 112us/step - loss: 0.0781 - val_loss: 0.0773\n",
            "Epoch 37/100\n",
            "60000/60000 [==============================] - 6s 105us/step - loss: 0.0778 - val_loss: 0.0774\n",
            "Epoch 38/100\n",
            "60000/60000 [==============================] - 6s 105us/step - loss: 0.0777 - val_loss: 0.0776\n",
            "Epoch 39/100\n",
            "60000/60000 [==============================] - 7s 109us/step - loss: 0.0775 - val_loss: 0.0772\n",
            "Epoch 40/100\n",
            "60000/60000 [==============================] - 7s 113us/step - loss: 0.0774 - val_loss: 0.0770\n",
            "Epoch 41/100\n",
            "60000/60000 [==============================] - 7s 111us/step - loss: 0.0772 - val_loss: 0.0768\n",
            "Epoch 42/100\n",
            "60000/60000 [==============================] - 7s 110us/step - loss: 0.0770 - val_loss: 0.0770\n",
            "Epoch 43/100\n",
            "60000/60000 [==============================] - 7s 112us/step - loss: 0.0769 - val_loss: 0.0767\n",
            "Epoch 44/100\n",
            "60000/60000 [==============================] - 7s 112us/step - loss: 0.0768 - val_loss: 0.0766\n",
            "Epoch 45/100\n",
            "60000/60000 [==============================] - 7s 111us/step - loss: 0.0766 - val_loss: 0.0766\n",
            "Epoch 46/100\n",
            "60000/60000 [==============================] - 6s 107us/step - loss: 0.0765 - val_loss: 0.0761\n",
            "Epoch 47/100\n",
            "60000/60000 [==============================] - 6s 102us/step - loss: 0.0763 - val_loss: 0.0759\n",
            "Epoch 48/100\n",
            "60000/60000 [==============================] - 7s 113us/step - loss: 0.0763 - val_loss: 0.0761\n",
            "Epoch 49/100\n",
            "60000/60000 [==============================] - 7s 111us/step - loss: 0.0761 - val_loss: 0.0758\n",
            "Epoch 50/100\n",
            "60000/60000 [==============================] - 7s 115us/step - loss: 0.0760 - val_loss: 0.0759\n",
            "Epoch 51/100\n",
            "60000/60000 [==============================] - 7s 113us/step - loss: 0.0759 - val_loss: 0.0756\n",
            "Epoch 52/100\n",
            "60000/60000 [==============================] - 7s 112us/step - loss: 0.0757 - val_loss: 0.0755\n",
            "Epoch 53/100\n",
            "60000/60000 [==============================] - 7s 114us/step - loss: 0.0757 - val_loss: 0.0754\n",
            "Epoch 54/100\n",
            "60000/60000 [==============================] - 7s 114us/step - loss: 0.0756 - val_loss: 0.0755\n",
            "Epoch 55/100\n",
            "60000/60000 [==============================] - 7s 113us/step - loss: 0.0755 - val_loss: 0.0750\n",
            "Epoch 56/100\n",
            "60000/60000 [==============================] - 6s 108us/step - loss: 0.0754 - val_loss: 0.0751\n",
            "Epoch 57/100\n",
            "60000/60000 [==============================] - 6s 101us/step - loss: 0.0753 - val_loss: 0.0751\n",
            "Epoch 58/100\n",
            "60000/60000 [==============================] - 6s 98us/step - loss: 0.0753 - val_loss: 0.0749\n",
            "Epoch 59/100\n",
            "60000/60000 [==============================] - 6s 98us/step - loss: 0.0751 - val_loss: 0.0748\n",
            "Epoch 60/100\n",
            "60000/60000 [==============================] - 6s 105us/step - loss: 0.0751 - val_loss: 0.0747\n",
            "Epoch 61/100\n",
            "60000/60000 [==============================] - 7s 113us/step - loss: 0.0750 - val_loss: 0.0750\n",
            "Epoch 62/100\n",
            "60000/60000 [==============================] - 7s 115us/step - loss: 0.0749 - val_loss: 0.0747\n",
            "Epoch 63/100\n",
            "60000/60000 [==============================] - 7s 113us/step - loss: 0.0748 - val_loss: 0.0746\n",
            "Epoch 64/100\n",
            "60000/60000 [==============================] - 7s 108us/step - loss: 0.0747 - val_loss: 0.0748\n",
            "Epoch 65/100\n",
            "60000/60000 [==============================] - 6s 106us/step - loss: 0.0747 - val_loss: 0.0744\n",
            "Epoch 66/100\n",
            "60000/60000 [==============================] - 7s 108us/step - loss: 0.0746 - val_loss: 0.0742\n",
            "Epoch 67/100\n",
            "60000/60000 [==============================] - 7s 110us/step - loss: 0.0745 - val_loss: 0.0745\n",
            "Epoch 68/100\n",
            "60000/60000 [==============================] - 6s 97us/step - loss: 0.0745 - val_loss: 0.0743\n",
            "Epoch 69/100\n",
            "60000/60000 [==============================] - 7s 112us/step - loss: 0.0744 - val_loss: 0.0741\n",
            "Epoch 70/100\n",
            "60000/60000 [==============================] - 7s 112us/step - loss: 0.0744 - val_loss: 0.0741\n",
            "Epoch 71/100\n",
            "60000/60000 [==============================] - 7s 114us/step - loss: 0.0743 - val_loss: 0.0741\n",
            "Epoch 72/100\n",
            "60000/60000 [==============================] - 7s 114us/step - loss: 0.0742 - val_loss: 0.0740\n",
            "Epoch 73/100\n",
            "60000/60000 [==============================] - 6s 105us/step - loss: 0.0742 - val_loss: 0.0740\n",
            "Epoch 74/100\n",
            "60000/60000 [==============================] - 7s 115us/step - loss: 0.0741 - val_loss: 0.0740\n",
            "Epoch 75/100\n",
            "60000/60000 [==============================] - 6s 103us/step - loss: 0.0740 - val_loss: 0.0740\n",
            "Epoch 76/100\n",
            "60000/60000 [==============================] - 6s 98us/step - loss: 0.0740 - val_loss: 0.0740\n",
            "Epoch 77/100\n",
            "60000/60000 [==============================] - 6s 96us/step - loss: 0.0739 - val_loss: 0.0741\n",
            "Epoch 78/100\n",
            "60000/60000 [==============================] - 7s 109us/step - loss: 0.0738 - val_loss: 0.0736\n",
            "Epoch 79/100\n",
            "60000/60000 [==============================] - 7s 110us/step - loss: 0.0738 - val_loss: 0.0737\n",
            "Epoch 80/100\n",
            "60000/60000 [==============================] - 6s 104us/step - loss: 0.0738 - val_loss: 0.0740\n",
            "Epoch 81/100\n",
            "60000/60000 [==============================] - 6s 97us/step - loss: 0.0737 - val_loss: 0.0736\n",
            "Epoch 82/100\n",
            "60000/60000 [==============================] - 6s 98us/step - loss: 0.0736 - val_loss: 0.0736\n",
            "Epoch 83/100\n",
            "60000/60000 [==============================] - 6s 104us/step - loss: 0.0735 - val_loss: 0.0733\n",
            "Epoch 84/100\n",
            "60000/60000 [==============================] - 6s 108us/step - loss: 0.0735 - val_loss: 0.0734\n",
            "Epoch 85/100\n",
            "60000/60000 [==============================] - 7s 112us/step - loss: 0.0735 - val_loss: 0.0733\n",
            "Epoch 86/100\n",
            "60000/60000 [==============================] - 7s 112us/step - loss: 0.0734 - val_loss: 0.0734\n",
            "Epoch 87/100\n",
            "60000/60000 [==============================] - 7s 111us/step - loss: 0.0734 - val_loss: 0.0736\n",
            "Epoch 88/100\n",
            "60000/60000 [==============================] - 7s 112us/step - loss: 0.0734 - val_loss: 0.0732\n",
            "Epoch 89/100\n",
            "60000/60000 [==============================] - 7s 111us/step - loss: 0.0733 - val_loss: 0.0734\n",
            "Epoch 90/100\n",
            "60000/60000 [==============================] - 7s 112us/step - loss: 0.0733 - val_loss: 0.0730\n",
            "Epoch 91/100\n",
            "60000/60000 [==============================] - 6s 108us/step - loss: 0.0732 - val_loss: 0.0731\n",
            "Epoch 92/100\n",
            "60000/60000 [==============================] - 7s 111us/step - loss: 0.0732 - val_loss: 0.0734\n",
            "Epoch 93/100\n",
            "60000/60000 [==============================] - 7s 113us/step - loss: 0.0731 - val_loss: 0.0731\n",
            "Epoch 94/100\n",
            "60000/60000 [==============================] - 6s 104us/step - loss: 0.0731 - val_loss: 0.0730\n",
            "Epoch 95/100\n",
            "60000/60000 [==============================] - 7s 112us/step - loss: 0.0731 - val_loss: 0.0729\n",
            "Epoch 96/100\n",
            "60000/60000 [==============================] - 7s 113us/step - loss: 0.0730 - val_loss: 0.0730\n",
            "Epoch 97/100\n",
            "60000/60000 [==============================] - 6s 102us/step - loss: 0.0730 - val_loss: 0.0731\n",
            "Epoch 98/100\n",
            "60000/60000 [==============================] - 6s 103us/step - loss: 0.0729 - val_loss: 0.0729\n",
            "Epoch 99/100\n",
            "60000/60000 [==============================] - 7s 112us/step - loss: 0.0729 - val_loss: 0.0728\n",
            "Epoch 100/100\n",
            "60000/60000 [==============================] - 6s 108us/step - loss: 0.0729 - val_loss: 0.0727\n"
          ],
          "name": "stdout"
        },
        {
          "output_type": "execute_result",
          "data": {
            "text/plain": [
              "<keras.callbacks.History at 0x7f89e24c1dd8>"
            ]
          },
          "metadata": {
            "tags": []
          },
          "execution_count": 12
        }
      ]
    },
    {
      "cell_type": "markdown",
      "metadata": {
        "id": "lsRcO-MO5Mby"
      },
      "source": [
        "Снова посмотрим на то, как будут выглядеть наши картинки"
      ]
    },
    {
      "cell_type": "code",
      "metadata": {
        "id": "o1sO-gJh5Mb8",
        "colab": {
          "base_uri": "https://localhost:8080/",
          "height": 248
        },
        "outputId": "58257911-2657-434d-d359-9c6e5924e03b"
      },
      "source": [
        "n = 10\n",
        "\n",
        "imgs = x_test[:n]\n",
        "encoded_imgs = d_encoder.predict(imgs, batch_size=n)\n",
        "encoded_imgs[0]\n",
        "\n",
        "decoded_imgs = d_decoder.predict(encoded_imgs, batch_size=n)\n",
        "\n",
        "plot_digits(imgs, decoded_imgs)"
      ],
      "execution_count": null,
      "outputs": [
        {
          "output_type": "display_data",
          "data": {
            "image/png": "[encoded data removed]",
            "text/plain": [
              "<Figure size 1440x288 with 20 Axes>"
            ]
          },
          "metadata": {
            "tags": []
          }
        }
      ]
    },
    {
      "cell_type": "markdown",
      "metadata": {
        "id": "UMEDLgmC5McN"
      },
      "source": [
        "Картинки стали более похожи на оригинал, соответственно, и ошибка снизилась: с 0.0785 до 0.0748 на 50-й эпохе, а дальше стала еще ниже."
      ]
    },
    {
      "cell_type": "markdown",
      "metadata": {
        "id": "_h60XVZP5McS"
      },
      "source": [
        "## Сверточный энкодер\n",
        "\n",
        "Мы же работаем с картинками, а с ними во многих задачах хорошо справляются сверточные сетки. Давайте применим этот же подход для автоэнкодера"
      ]
    },
    {
      "cell_type": "code",
      "metadata": {
        "id": "6-SWbmcm5McX",
        "colab": {
          "base_uri": "https://localhost:8080/",
          "height": 369
        },
        "outputId": "934a76c4-f2cf-4de4-d90f-f23788cb42c3"
      },
      "source": [
        "from keras.layers import Conv2D, MaxPooling2D, UpSampling2D\n",
        "\n",
        "def create_deep_conv_ae():\n",
        "    input_img = Input(shape=(28, 28, 1))\n",
        "\n",
        "    x = Conv2D(128, (7, 7), activation='relu', padding='same')(input_img)\n",
        "    x = MaxPooling2D((2, 2), padding='same')(x)\n",
        "    x = Conv2D(32, (2, 2), activation='relu', padding='same')(x)\n",
        "    x = MaxPooling2D((2, 2), padding='same')(x)\n",
        "    encoded = Conv2D(1, (7, 7), activation='relu', padding='same')(x)\n",
        "\n",
        "    # На этом моменте представление  (7, 7, 1) т.е. 49-размерное\n",
        "\n",
        "    input_encoded = Input(shape=(7, 7, 1))\n",
        "    x = Conv2D(32, (7, 7), activation='relu', padding='same')(input_encoded)\n",
        "    x = UpSampling2D((2, 2))(x)\n",
        "    x = Conv2D(128, (2, 2), activation='relu', padding='same')(x)\n",
        "    x = UpSampling2D((2, 2))(x)\n",
        "    decoded = Conv2D(1, (7, 7), activation='sigmoid', padding='same')(x)\n",
        "\n",
        "    # Модели\n",
        "    encoder = Model(input_img, encoded, name=\"encoder\")\n",
        "    decoder = Model(input_encoded, decoded, name=\"decoder\")\n",
        "    autoencoder = Model(input_img, decoder(encoder(input_img)), name=\"autoencoder\")\n",
        "    return encoder, decoder, autoencoder\n",
        "\n",
        "c_encoder, c_decoder, c_autoencoder = create_deep_conv_ae()\n",
        "c_autoencoder.compile(optimizer='adam', loss='binary_crossentropy')\n",
        "\n",
        "c_autoencoder.summary()"
      ],
      "execution_count": null,
      "outputs": [
        {
          "output_type": "stream",
          "text": [
            "WARNING:tensorflow:From /usr/local/lib/python3.6/dist-packages/keras/backend/tensorflow_backend.py:4267: The name tf.nn.max_pool is deprecated. Please use tf.nn.max_pool2d instead.\n",
            "\n",
            "WARNING:tensorflow:From /usr/local/lib/python3.6/dist-packages/keras/backend/tensorflow_backend.py:2239: The name tf.image.resize_nearest_neighbor is deprecated. Please use tf.compat.v1.image.resize_nearest_neighbor instead.\n",
            "\n",
            "Model: \"autoencoder\"\n",
            "_________________________________________________________________\n",
            "Layer (type)                 Output Shape              Param #   \n",
            "=================================================================\n",
            "input_5 (InputLayer)         (None, 28, 28, 1)         0         \n",
            "_________________________________________________________________\n",
            "encoder (Model)              (None, 7, 7, 1)           24385     \n",
            "_________________________________________________________________\n",
            "decoder (Model)              (None, 28, 28, 1)         24385     \n",
            "=================================================================\n",
            "Total params: 48,770\n",
            "Trainable params: 48,770\n",
            "Non-trainable params: 0\n",
            "_________________________________________________________________\n"
          ],
          "name": "stdout"
        }
      ]
    },
    {
      "cell_type": "code",
      "metadata": {
        "id": "-xvs1QEl5Mcr",
        "colab": {
          "base_uri": "https://localhost:8080/",
          "height": 72
        },
        "outputId": "28d5e048-16d5-435f-a458-e9dd45b33aa3"
      },
      "source": [
        "c_autoencoder.fit(x_train, x_train,\n",
        "                epochs=64,\n",
        "                batch_size=256,\n",
        "                shuffle=True,\n",
        "                validation_data=(x_test, x_test))"
      ],
      "execution_count": null,
      "outputs": [
        {
          "output_type": "stream",
          "text": [
            "Train on 60000 samples, validate on 10000 samples\n",
            "Epoch 1/64\n",
            "10496/60000 [====>.........................] - ETA: 25:27 - loss: 0.3721"
          ],
          "name": "stdout"
        }
      ]
    },
    {
      "cell_type": "code",
      "metadata": {
        "id": "CUMJPVHt5Mc6"
      },
      "source": [
        "n = 10\n",
        "\n",
        "imgs = x_test[:n]\n",
        "encoded_imgs = c_encoder.predict(imgs, batch_size=n)\n",
        "decoded_imgs = c_decoder.predict(encoded_imgs, batch_size=n)\n",
        "\n",
        "plot_digits(imgs, decoded_imgs)"
      ],
      "execution_count": null,
      "outputs": []
    },
    {
      "cell_type": "markdown",
      "metadata": {
        "id": "y3Ra6KLC5MdM"
      },
      "source": [
        "Итого - параметров меньше, качество выше."
      ]
    },
    {
      "cell_type": "markdown",
      "metadata": {
        "id": "j4Zy5d6h5MdQ"
      },
      "source": [
        "## Denoising autoencoder\n",
        "\n",
        "Давайте рассмотрим еще одну задачу, которую могут решать автоэнкодеры - очистка картинок от шума. Для этого нужно всего лишь на вход автоэнкодеру подавать зашумленные данные, а на выход - изначальные."
      ]
    },
    {
      "cell_type": "code",
      "metadata": {
        "id": "iD4xxQqX5MdV"
      },
      "source": [
        "import keras.backend as K\n",
        "from keras.layers import Lambda\n",
        "\n",
        "batch_size = 16\n",
        "\n",
        "def create_denoising_model(autoencoder):\n",
        "    # функция, которая добавляет шум на картинку\n",
        "    def add_noise(x):\n",
        "        noise_factor = 0.5\n",
        "        x = x + K.random_normal(x.get_shape(), 0.5, noise_factor)\n",
        "        x = K.clip(x, 0., 1.)\n",
        "        return x\n",
        "\n",
        "    input_img  = Input(batch_shape=(batch_size, 28, 28, 1))\n",
        "    # собсно, на этом слое и добавляем шум\n",
        "    noised_img = Lambda(add_noise)(input_img)\n",
        "\n",
        "    noiser = Model(input_img, noised_img, name=\"noiser\")\n",
        "    denoiser_model = Model(input_img, autoencoder(noiser(input_img)), name=\"denoiser\")\n",
        "    return noiser, denoiser_model\n",
        "\n",
        "\n",
        "noiser, denoiser_model = create_denoising_model(autoencoder)\n",
        "denoiser_model.compile(optimizer='adam', loss='binary_crossentropy')"
      ],
      "execution_count": null,
      "outputs": []
    },
    {
      "cell_type": "code",
      "metadata": {
        "id": "2ghNzh595Mdi"
      },
      "source": [
        "denoiser_modeler_model.summary()"
      ],
      "execution_count": null,
      "outputs": []
    },
    {
      "cell_type": "code",
      "metadata": {
        "id": "Bu4Q5Bsi5Md3"
      },
      "source": [
        "denoiser_model.fit(x_train, x_train,\n",
        "                   epochs=200,\n",
        "                   batch_size=batch_size,\n",
        "                   shuffle=True,\n",
        "                   validation_data=(x_test, x_test))"
      ],
      "execution_count": null,
      "outputs": []
    },
    {
      "cell_type": "code",
      "metadata": {
        "id": "ebloAmzh5MeH"
      },
      "source": [
        "n = 10\n",
        "\n",
        "imgs = x_test[:batch_size]\n",
        "noised_imgs = noiser.predict(imgs, batch_size=batch_size)\n",
        "encoded_imgs = encoder.predict(noised_imgs[:n],  batch_size=n)\n",
        "decoded_imgs = decoder.predict(encoded_imgs[:n], batch_size=n)\n",
        "\n",
        "plot_digits(imgs[:n], noised_imgs, decoded_imgs)"
      ],
      "execution_count": null,
      "outputs": []
    },
    {
      "cell_type": "markdown",
      "metadata": {
        "id": "1l9ccQkR5Mec"
      },
      "source": [
        "Итак, шум убран успешно"
      ]
    },
    {
      "cell_type": "markdown",
      "metadata": {
        "id": "NDbaJTtO5Meh"
      },
      "source": [
        "## Другие автоэнкодеры\n",
        "\n",
        "Мы рассмотрели только малую часть задач, которые могут быть решены с использованием автоэнкодера. В общем случае так же работает и перенос стиля изображения, и любое другое изменение и восстановление размерности данных"
      ]
    }
  ]
}