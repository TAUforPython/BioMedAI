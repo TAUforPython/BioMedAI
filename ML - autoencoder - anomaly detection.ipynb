{
  "nbformat": 4,
  "nbformat_minor": 0,
  "metadata": {
    "colab": {
      "provenance": [],
      "include_colab_link": true
    },
    "kernelspec": {
      "name": "python3",
      "display_name": "Python 3"
    },
    "language_info": {
      "name": "python"
    }
  },
  "cells": [
    {
      "cell_type": "markdown",
      "metadata": {
        "id": "view-in-github",
        "colab_type": "text"
      },
      "source": [
        "<a href=\"https://colab.research.google.com/github/TAUforPython/BioMedAI/blob/main/ML%20-%20autoencoder%20-%20anomaly%20detection.ipynb\" target=\"_parent\"><img src=\"https://colab.research.google.com/assets/colab-badge.svg\" alt=\"Open In Colab\"/></a>"
      ]
    },
    {
      "cell_type": "markdown",
      "source": [
        "# Автокодировщики для задач обнаружения аномалий"
      ],
      "metadata": {
        "id": "ICmyVtGsNrwr"
      }
    },
    {
      "cell_type": "markdown",
      "source": [
        "Автокодировщики могут быть полезны для задач обнаружения аномалий, так как они обучаются восстанавливать нормальные данные, а для аномальных данных ошибка восстановления будет значительно выше. Давайте напишем пример простой нейронной сети на базе автокодировщика."
      ],
      "metadata": {
        "id": "OS7-S4-2OXeJ"
      }
    },
    {
      "cell_type": "code",
      "source": [
        "import torch\n",
        "import torch.nn as nn\n",
        "import torch.optim as optim\n",
        "from torch.utils.data import DataLoader, Dataset\n",
        "import numpy as np\n",
        "import matplotlib.pyplot as plt"
      ],
      "metadata": {
        "id": "BKP287c6MqLe"
      },
      "execution_count": null,
      "outputs": []
    },
    {
      "cell_type": "code",
      "source": [
        "# Генерация синтетических данных\n",
        "class SyntheticDataset(Dataset):\n",
        "    def __init__(self, num_samples=1000):\n",
        "        self.num_samples = num_samples\n",
        "        # Нормальные данные (около нуля)\n",
        "        self.data = np.random.randn(num_samples, 2)\n",
        "        # Добавляем аномалии (несколько точек вдали от нуля)\n",
        "        num_anomalies = int(0.05 * num_samples)\n",
        "        anomalies = np.random.uniform(low=6, high=8, size=(num_anomalies, 2))\n",
        "        self.data[:num_anomalies] = anomalies\n",
        "\n",
        "    def __len__(self):\n",
        "        return self.num_samples\n",
        "\n",
        "    def __getitem__(self, idx):\n",
        "        return torch.tensor(self.data[idx], dtype=torch.float32)"
      ],
      "metadata": {
        "id": "LkgA1ZW3MsFu"
      },
      "execution_count": null,
      "outputs": []
    },
    {
      "cell_type": "code",
      "source": [
        "# Модель автокодировщика\n",
        "class Autoencoder(nn.Module):\n",
        "    def __init__(self):\n",
        "        super(Autoencoder, self).__init__()\n",
        "        # Энкодер\n",
        "        self.encoder = nn.Sequential(\n",
        "            nn.Linear(2, 16),\n",
        "            nn.ReLU(),\n",
        "            nn.Linear(16, 8),\n",
        "            nn.ReLU(),\n",
        "            nn.Linear(8, 2)  # Сжатое представление\n",
        "        )\n",
        "        # Декодер\n",
        "        self.decoder = nn.Sequential(\n",
        "            nn.Linear(2, 8),\n",
        "            nn.ReLU(),\n",
        "            nn.Linear(8, 16),\n",
        "            nn.ReLU(),\n",
        "            nn.Linear(16, 2)  # Восстановление исходного размера\n",
        "        )\n",
        "\n",
        "    def forward(self, x):\n",
        "        encoded = self.encoder(x)\n",
        "        decoded = self.decoder(encoded)\n",
        "        return decoded"
      ],
      "metadata": {
        "id": "UTTcfL7uMvll"
      },
      "execution_count": null,
      "outputs": []
    },
    {
      "cell_type": "code",
      "source": [
        "# Обучение модели на нормальных данных (исключая аномалии)\n",
        "def train_model(model, dataloader, epochs=50, lr=0.001):\n",
        "    criterion = nn.MSELoss()\n",
        "    optimizer = optim.Adam(model.parameters(), lr=lr)\n",
        "\n",
        "    for epoch in range(epochs):\n",
        "        total_loss = 0\n",
        "        for batch in dataloader:\n",
        "            # Прямой проход\n",
        "            outputs = model(batch)\n",
        "            loss = criterion(outputs, batch)\n",
        "\n",
        "            # Обратный проход и оптимизация\n",
        "            optimizer.zero_grad()\n",
        "            loss.backward()\n",
        "            optimizer.step()\n",
        "\n",
        "            total_loss += loss.item()\n",
        "\n",
        "        print(f'Epoch [{epoch+1}/{epochs}], Loss: {total_loss/len(dataloader):.4f}')\n",
        "\n",
        "    print('Training complete.')"
      ],
      "metadata": {
        "id": "4QMmTi2xND9l"
      },
      "execution_count": null,
      "outputs": []
    },
    {
      "cell_type": "code",
      "source": [
        "# Оценка аномалий с вычислением порога\n",
        "def detect_anomalies(model, dataset, quantile=0.95):\n",
        "    model.eval()\n",
        "    reconstruction_errors = []\n",
        "    with torch.no_grad():\n",
        "        for sample in dataset:\n",
        "            sample = sample.unsqueeze(0)\n",
        "            output = model(sample)\n",
        "            reconstruction_error = torch.mean((output - sample) ** 2).item()\n",
        "            reconstruction_errors.append(reconstruction_error)\n",
        "\n",
        "    # Устанавливаем порог на основе квантиля ошибок восстановления\n",
        "    threshold = np.quantile(reconstruction_errors, quantile)\n",
        "    print(f'threshold: {threshold:.4f}')\n",
        "\n",
        "    # Определяем аномалии по порогу ошибки\n",
        "    anomalies = np.where(np.array(reconstruction_errors) > threshold)[0]\n",
        "    return anomalies, reconstruction_errors, threshold"
      ],
      "metadata": {
        "id": "84xtSywLNHek"
      },
      "execution_count": null,
      "outputs": []
    },
    {
      "cell_type": "code",
      "source": [
        "# Создаем набор данных\n",
        "dataset = SyntheticDataset()"
      ],
      "metadata": {
        "id": "SRlm7sK7NP3g"
      },
      "execution_count": null,
      "outputs": []
    },
    {
      "cell_type": "code",
      "source": [
        "# Отбираем только нормальные данные для обучения\n",
        "normal_data = dataset.data[int(0.05 * dataset.num_samples):]  # Исключаем первые 5% аномалий\n",
        "normal_dataset = torch.tensor(normal_data, dtype=torch.float32)"
      ],
      "metadata": {
        "id": "xvi6ltCDNRc6"
      },
      "execution_count": null,
      "outputs": []
    },
    {
      "cell_type": "code",
      "source": [
        "# Создаем DataLoader для нормальных данных\n",
        "dataloader = DataLoader(normal_dataset, batch_size=32, shuffle=True)"
      ],
      "metadata": {
        "id": "ZsC3gdLKNUg9"
      },
      "execution_count": null,
      "outputs": []
    },
    {
      "cell_type": "markdown",
      "source": [
        "- Обучение на нормальных данных: исключаем аномалии из тренировочного набора данных, используя только нормальные данные для обучения автокодировщика.\n",
        "\n",
        "- Квантильный порог: Порог для обнаружения аномалий теперь вычисляется на основе 95-го процентиля ошибок восстановления, что позволит более гибко разделять нормальные данные и аномалии."
      ],
      "metadata": {
        "id": "mUr98BWfN37j"
      }
    },
    {
      "cell_type": "code",
      "source": [
        "# Инициализация модели\n",
        "model = Autoencoder()\n",
        "\n",
        "# Обучение модели на нормальных данных\n",
        "train_model(model, dataloader, epochs=100)\n",
        "\n",
        "# Детектирование аномалий с порогом на основе 95% квантиля\n",
        "anomalies, reconstruction_errors, threshold = detect_anomalies(model, dataset)"
      ],
      "metadata": {
        "colab": {
          "base_uri": "https://localhost:8080/"
        },
        "id": "iiT5gkaNNZpO",
        "outputId": "96de07a4-898b-42a6-b244-fa6c928be41e"
      },
      "execution_count": null,
      "outputs": [
        {
          "output_type": "stream",
          "name": "stdout",
          "text": [
            "Epoch [1/100], Loss: 0.9909\n",
            "Epoch [2/100], Loss: 0.9422\n",
            "Epoch [3/100], Loss: 0.8394\n",
            "Epoch [4/100], Loss: 0.6683\n",
            "Epoch [5/100], Loss: 0.4628\n",
            "Epoch [6/100], Loss: 0.2599\n",
            "Epoch [7/100], Loss: 0.0934\n",
            "Epoch [8/100], Loss: 0.0437\n",
            "Epoch [9/100], Loss: 0.0276\n",
            "Epoch [10/100], Loss: 0.0220\n",
            "Epoch [11/100], Loss: 0.0183\n",
            "Epoch [12/100], Loss: 0.0160\n",
            "Epoch [13/100], Loss: 0.0138\n",
            "Epoch [14/100], Loss: 0.0122\n",
            "Epoch [15/100], Loss: 0.0104\n",
            "Epoch [16/100], Loss: 0.0090\n",
            "Epoch [17/100], Loss: 0.0076\n",
            "Epoch [18/100], Loss: 0.0065\n",
            "Epoch [19/100], Loss: 0.0057\n",
            "Epoch [20/100], Loss: 0.0048\n",
            "Epoch [21/100], Loss: 0.0040\n",
            "Epoch [22/100], Loss: 0.0033\n",
            "Epoch [23/100], Loss: 0.0028\n",
            "Epoch [24/100], Loss: 0.0025\n",
            "Epoch [25/100], Loss: 0.0023\n",
            "Epoch [26/100], Loss: 0.0020\n",
            "Epoch [27/100], Loss: 0.0018\n",
            "Epoch [28/100], Loss: 0.0017\n",
            "Epoch [29/100], Loss: 0.0016\n",
            "Epoch [30/100], Loss: 0.0015\n",
            "Epoch [31/100], Loss: 0.0014\n",
            "Epoch [32/100], Loss: 0.0013\n",
            "Epoch [33/100], Loss: 0.0013\n",
            "Epoch [34/100], Loss: 0.0012\n",
            "Epoch [35/100], Loss: 0.0012\n",
            "Epoch [36/100], Loss: 0.0012\n",
            "Epoch [37/100], Loss: 0.0011\n",
            "Epoch [38/100], Loss: 0.0010\n",
            "Epoch [39/100], Loss: 0.0010\n",
            "Epoch [40/100], Loss: 0.0010\n",
            "Epoch [41/100], Loss: 0.0010\n",
            "Epoch [42/100], Loss: 0.0009\n",
            "Epoch [43/100], Loss: 0.0009\n",
            "Epoch [44/100], Loss: 0.0009\n",
            "Epoch [45/100], Loss: 0.0008\n",
            "Epoch [46/100], Loss: 0.0008\n",
            "Epoch [47/100], Loss: 0.0008\n",
            "Epoch [48/100], Loss: 0.0008\n",
            "Epoch [49/100], Loss: 0.0008\n",
            "Epoch [50/100], Loss: 0.0008\n",
            "Epoch [51/100], Loss: 0.0008\n",
            "Epoch [52/100], Loss: 0.0007\n",
            "Epoch [53/100], Loss: 0.0007\n",
            "Epoch [54/100], Loss: 0.0007\n",
            "Epoch [55/100], Loss: 0.0007\n",
            "Epoch [56/100], Loss: 0.0007\n",
            "Epoch [57/100], Loss: 0.0006\n",
            "Epoch [58/100], Loss: 0.0006\n",
            "Epoch [59/100], Loss: 0.0006\n",
            "Epoch [60/100], Loss: 0.0007\n",
            "Epoch [61/100], Loss: 0.0006\n",
            "Epoch [62/100], Loss: 0.0006\n",
            "Epoch [63/100], Loss: 0.0005\n",
            "Epoch [64/100], Loss: 0.0005\n",
            "Epoch [65/100], Loss: 0.0005\n",
            "Epoch [66/100], Loss: 0.0006\n",
            "Epoch [67/100], Loss: 0.0006\n",
            "Epoch [68/100], Loss: 0.0005\n",
            "Epoch [69/100], Loss: 0.0005\n",
            "Epoch [70/100], Loss: 0.0005\n",
            "Epoch [71/100], Loss: 0.0005\n",
            "Epoch [72/100], Loss: 0.0005\n",
            "Epoch [73/100], Loss: 0.0005\n",
            "Epoch [74/100], Loss: 0.0005\n",
            "Epoch [75/100], Loss: 0.0005\n",
            "Epoch [76/100], Loss: 0.0005\n",
            "Epoch [77/100], Loss: 0.0005\n",
            "Epoch [78/100], Loss: 0.0004\n",
            "Epoch [79/100], Loss: 0.0004\n",
            "Epoch [80/100], Loss: 0.0004\n",
            "Epoch [81/100], Loss: 0.0004\n",
            "Epoch [82/100], Loss: 0.0004\n",
            "Epoch [83/100], Loss: 0.0004\n",
            "Epoch [84/100], Loss: 0.0004\n",
            "Epoch [85/100], Loss: 0.0004\n",
            "Epoch [86/100], Loss: 0.0004\n",
            "Epoch [87/100], Loss: 0.0004\n",
            "Epoch [88/100], Loss: 0.0004\n",
            "Epoch [89/100], Loss: 0.0004\n",
            "Epoch [90/100], Loss: 0.0004\n",
            "Epoch [91/100], Loss: 0.0004\n",
            "Epoch [92/100], Loss: 0.0004\n",
            "Epoch [93/100], Loss: 0.0004\n",
            "Epoch [94/100], Loss: 0.0004\n",
            "Epoch [95/100], Loss: 0.0003\n",
            "Epoch [96/100], Loss: 0.0003\n",
            "Epoch [97/100], Loss: 0.0004\n",
            "Epoch [98/100], Loss: 0.0003\n",
            "Epoch [99/100], Loss: 0.0004\n",
            "Epoch [100/100], Loss: 0.0003\n",
            "Training complete.\n",
            "threshold: 0.1197\n"
          ]
        }
      ]
    },
    {
      "cell_type": "code",
      "execution_count": null,
      "metadata": {
        "colab": {
          "base_uri": "https://localhost:8080/",
          "height": 430
        },
        "id": "sGRy4h9FGNI3",
        "outputId": "03a56fd7-b97d-4491-b4b5-7836ad09f93b"
      },
      "outputs": [
        {
          "output_type": "display_data",
          "data": {
            "text/plain": [
              "<Figure size 640x480 with 1 Axes>"
            ],
            "image/png": "[encoded data removed]"
          },
          "metadata": {}
        }
      ],
      "source": [
        "# Визуализация результатов\n",
        "data = dataset.data\n",
        "plt.scatter(data[:, 0], data[:, 1], label='Data')\n",
        "plt.scatter(data[anomalies, 0], data[anomalies, 1], color='r', label='Anomalies')\n",
        "plt.legend()\n",
        "plt.show()\n",
        "\n"
      ]
    },
    {
      "cell_type": "code",
      "source": [],
      "metadata": {
        "id": "vJihzTaNGVJZ"
      },
      "execution_count": null,
      "outputs": []
    }
  ]
}