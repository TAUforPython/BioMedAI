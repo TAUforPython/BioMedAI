{
  "cells": [
    {
      "cell_type": "markdown",
      "metadata": {
        "id": "view-in-github",
        "colab_type": "text"
      },
      "source": [
        "<a href=\"https://colab.research.google.com/github/TAUforPython/BioMedAI/blob/main/autoencoder_deep_learning_v1_EB.ipynb\" target=\"_parent\"><img src=\"https://colab.research.google.com/assets/colab-badge.svg\" alt=\"Open In Colab\"/></a>"
      ]
    },
    {
      "cell_type": "markdown",
      "metadata": {
        "id": "9Wge59bnv4dt"
      },
      "source": [
        "## Загрузка библиотек и подготовка файла к обработке"
      ]
    },
    {
      "cell_type": "code",
      "execution_count": null,
      "metadata": {
        "colab": {
          "base_uri": "https://localhost:8080/"
        },
        "collapsed": true,
        "id": "zwufpzeULSz6",
        "outputId": "0d5f0149-8a28-4356-b237-134d5a5cf008"
      },
      "outputs": [
        {
          "output_type": "stream",
          "name": "stdout",
          "text": [
            "Collecting mne\n",
            "  Downloading mne-1.7.1-py3-none-any.whl (7.4 MB)\n",
            "\u001b[2K     \u001b[90m━━━━━━━━━━━━━━━━━━━━━━━━━━━━━━━━━━━━━━━━\u001b[0m \u001b[32m7.4/7.4 MB\u001b[0m \u001b[31m13.1 MB/s\u001b[0m eta \u001b[36m0:00:00\u001b[0m\n",
            "\u001b[?25hRequirement already satisfied: pywavelets in /usr/local/lib/python3.10/dist-packages (1.6.0)\n",
            "Requirement already satisfied: numpy in /usr/local/lib/python3.10/dist-packages (1.25.2)\n",
            "Requirement already satisfied: matplotlib in /usr/local/lib/python3.10/dist-packages (3.7.1)\n",
            "Collecting pyedflib\n",
            "  Downloading pyEDFlib-0.1.37-cp310-cp310-manylinux_2_17_x86_64.manylinux2014_x86_64.whl (2.7 MB)\n",
            "\u001b[2K     \u001b[90m━━━━━━━━━━━━━━━━━━━━━━━━━━━━━━━━━━━━━━━━\u001b[0m \u001b[32m2.7/2.7 MB\u001b[0m \u001b[31m12.2 MB/s\u001b[0m eta \u001b[36m0:00:00\u001b[0m\n",
            "\u001b[?25hRequirement already satisfied: scipy in /usr/local/lib/python3.10/dist-packages (1.11.4)\n",
            "Requirement already satisfied: tensorflow in /usr/local/lib/python3.10/dist-packages (2.15.0)\n",
            "Requirement already satisfied: decorator in /usr/local/lib/python3.10/dist-packages (from mne) (4.4.2)\n",
            "Requirement already satisfied: jinja2 in /usr/local/lib/python3.10/dist-packages (from mne) (3.1.4)\n",
            "Requirement already satisfied: lazy-loader>=0.3 in /usr/local/lib/python3.10/dist-packages (from mne) (0.4)\n",
            "Requirement already satisfied: packaging in /usr/local/lib/python3.10/dist-packages (from mne) (24.1)\n",
            "Requirement already satisfied: pooch>=1.5 in /usr/local/lib/python3.10/dist-packages (from mne) (1.8.2)\n",
            "Requirement already satisfied: tqdm in /usr/local/lib/python3.10/dist-packages (from mne) (4.66.4)\n",
            "Requirement already satisfied: contourpy>=1.0.1 in /usr/local/lib/python3.10/dist-packages (from matplotlib) (1.2.1)\n",
            "Requirement already satisfied: cycler>=0.10 in /usr/local/lib/python3.10/dist-packages (from matplotlib) (0.12.1)\n",
            "Requirement already satisfied: fonttools>=4.22.0 in /usr/local/lib/python3.10/dist-packages (from matplotlib) (4.53.0)\n",
            "Requirement already satisfied: kiwisolver>=1.0.1 in /usr/local/lib/python3.10/dist-packages (from matplotlib) (1.4.5)\n",
            "Requirement already satisfied: pillow>=6.2.0 in /usr/local/lib/python3.10/dist-packages (from matplotlib) (9.4.0)\n",
            "Requirement already satisfied: pyparsing>=2.3.1 in /usr/local/lib/python3.10/dist-packages (from matplotlib) (3.1.2)\n",
            "Requirement already satisfied: python-dateutil>=2.7 in /usr/local/lib/python3.10/dist-packages (from matplotlib) (2.8.2)\n",
            "Requirement already satisfied: absl-py>=1.0.0 in /usr/local/lib/python3.10/dist-packages (from tensorflow) (1.4.0)\n",
            "Requirement already satisfied: astunparse>=1.6.0 in /usr/local/lib/python3.10/dist-packages (from tensorflow) (1.6.3)\n",
            "Requirement already satisfied: flatbuffers>=23.5.26 in /usr/local/lib/python3.10/dist-packages (from tensorflow) (24.3.25)\n",
            "Requirement already satisfied: gast!=0.5.0,!=0.5.1,!=0.5.2,>=0.2.1 in /usr/local/lib/python3.10/dist-packages (from tensorflow) (0.5.4)\n",
            "Requirement already satisfied: google-pasta>=0.1.1 in /usr/local/lib/python3.10/dist-packages (from tensorflow) (0.2.0)\n",
            "Requirement already satisfied: h5py>=2.9.0 in /usr/local/lib/python3.10/dist-packages (from tensorflow) (3.9.0)\n",
            "Requirement already satisfied: libclang>=13.0.0 in /usr/local/lib/python3.10/dist-packages (from tensorflow) (18.1.1)\n",
            "Requirement already satisfied: ml-dtypes~=0.2.0 in /usr/local/lib/python3.10/dist-packages (from tensorflow) (0.2.0)\n",
            "Requirement already satisfied: opt-einsum>=2.3.2 in /usr/local/lib/python3.10/dist-packages (from tensorflow) (3.3.0)\n",
            "Requirement already satisfied: protobuf!=4.21.0,!=4.21.1,!=4.21.2,!=4.21.3,!=4.21.4,!=4.21.5,<5.0.0dev,>=3.20.3 in /usr/local/lib/python3.10/dist-packages (from tensorflow) (3.20.3)\n",
            "Requirement already satisfied: setuptools in /usr/local/lib/python3.10/dist-packages (from tensorflow) (67.7.2)\n",
            "Requirement already satisfied: six>=1.12.0 in /usr/local/lib/python3.10/dist-packages (from tensorflow) (1.16.0)\n",
            "Requirement already satisfied: termcolor>=1.1.0 in /usr/local/lib/python3.10/dist-packages (from tensorflow) (2.4.0)\n",
            "Requirement already satisfied: typing-extensions>=3.6.6 in /usr/local/lib/python3.10/dist-packages (from tensorflow) (4.12.2)\n",
            "Requirement already satisfied: wrapt<1.15,>=1.11.0 in /usr/local/lib/python3.10/dist-packages (from tensorflow) (1.14.1)\n",
            "Requirement already satisfied: tensorflow-io-gcs-filesystem>=0.23.1 in /usr/local/lib/python3.10/dist-packages (from tensorflow) (0.37.0)\n",
            "Requirement already satisfied: grpcio<2.0,>=1.24.3 in /usr/local/lib/python3.10/dist-packages (from tensorflow) (1.64.1)\n",
            "Requirement already satisfied: tensorboard<2.16,>=2.15 in /usr/local/lib/python3.10/dist-packages (from tensorflow) (2.15.2)\n",
            "Requirement already satisfied: tensorflow-estimator<2.16,>=2.15.0 in /usr/local/lib/python3.10/dist-packages (from tensorflow) (2.15.0)\n",
            "Requirement already satisfied: keras<2.16,>=2.15.0 in /usr/local/lib/python3.10/dist-packages (from tensorflow) (2.15.0)\n",
            "Requirement already satisfied: wheel<1.0,>=0.23.0 in /usr/local/lib/python3.10/dist-packages (from astunparse>=1.6.0->tensorflow) (0.43.0)\n",
            "Requirement already satisfied: platformdirs>=2.5.0 in /usr/local/lib/python3.10/dist-packages (from pooch>=1.5->mne) (4.2.2)\n",
            "Requirement already satisfied: requests>=2.19.0 in /usr/local/lib/python3.10/dist-packages (from pooch>=1.5->mne) (2.31.0)\n",
            "Requirement already satisfied: google-auth<3,>=1.6.3 in /usr/local/lib/python3.10/dist-packages (from tensorboard<2.16,>=2.15->tensorflow) (2.27.0)\n",
            "Requirement already satisfied: google-auth-oauthlib<2,>=0.5 in /usr/local/lib/python3.10/dist-packages (from tensorboard<2.16,>=2.15->tensorflow) (1.2.0)\n",
            "Requirement already satisfied: markdown>=2.6.8 in /usr/local/lib/python3.10/dist-packages (from tensorboard<2.16,>=2.15->tensorflow) (3.6)\n",
            "Requirement already satisfied: tensorboard-data-server<0.8.0,>=0.7.0 in /usr/local/lib/python3.10/dist-packages (from tensorboard<2.16,>=2.15->tensorflow) (0.7.2)\n",
            "Requirement already satisfied: werkzeug>=1.0.1 in /usr/local/lib/python3.10/dist-packages (from tensorboard<2.16,>=2.15->tensorflow) (3.0.3)\n",
            "Requirement already satisfied: MarkupSafe>=2.0 in /usr/local/lib/python3.10/dist-packages (from jinja2->mne) (2.1.5)\n",
            "Requirement already satisfied: cachetools<6.0,>=2.0.0 in /usr/local/lib/python3.10/dist-packages (from google-auth<3,>=1.6.3->tensorboard<2.16,>=2.15->tensorflow) (5.3.3)\n",
            "Requirement already satisfied: pyasn1-modules>=0.2.1 in /usr/local/lib/python3.10/dist-packages (from google-auth<3,>=1.6.3->tensorboard<2.16,>=2.15->tensorflow) (0.4.0)\n",
            "Requirement already satisfied: rsa<5,>=3.1.4 in /usr/local/lib/python3.10/dist-packages (from google-auth<3,>=1.6.3->tensorboard<2.16,>=2.15->tensorflow) (4.9)\n",
            "Requirement already satisfied: requests-oauthlib>=0.7.0 in /usr/local/lib/python3.10/dist-packages (from google-auth-oauthlib<2,>=0.5->tensorboard<2.16,>=2.15->tensorflow) (1.3.1)\n",
            "Requirement already satisfied: charset-normalizer<4,>=2 in /usr/local/lib/python3.10/dist-packages (from requests>=2.19.0->pooch>=1.5->mne) (3.3.2)\n",
            "Requirement already satisfied: idna<4,>=2.5 in /usr/local/lib/python3.10/dist-packages (from requests>=2.19.0->pooch>=1.5->mne) (3.7)\n",
            "Requirement already satisfied: urllib3<3,>=1.21.1 in /usr/local/lib/python3.10/dist-packages (from requests>=2.19.0->pooch>=1.5->mne) (2.0.7)\n",
            "Requirement already satisfied: certifi>=2017.4.17 in /usr/local/lib/python3.10/dist-packages (from requests>=2.19.0->pooch>=1.5->mne) (2024.6.2)\n",
            "Requirement already satisfied: pyasn1<0.7.0,>=0.4.6 in /usr/local/lib/python3.10/dist-packages (from pyasn1-modules>=0.2.1->google-auth<3,>=1.6.3->tensorboard<2.16,>=2.15->tensorflow) (0.6.0)\n",
            "Requirement already satisfied: oauthlib>=3.0.0 in /usr/local/lib/python3.10/dist-packages (from requests-oauthlib>=0.7.0->google-auth-oauthlib<2,>=0.5->tensorboard<2.16,>=2.15->tensorflow) (3.2.2)\n",
            "Installing collected packages: pyedflib, mne\n",
            "Successfully installed mne-1.7.1 pyedflib-0.1.37\n"
          ]
        }
      ],
      "source": [
        "!pip install mne pywavelets numpy matplotlib pyedflib scipy tensorflow\n",
        "import mne\n",
        "import numpy as np\n",
        "import matplotlib.pyplot as plt\n",
        "from scipy.signal import butter, filtfilt\n",
        "from sklearn.model_selection import train_test_split\n",
        "from sklearn.preprocessing import StandardScaler\n",
        "from sklearn.cluster import KMeans\n",
        "from sklearn.decomposition import PCA\n",
        "from sklearn.metrics import accuracy_score\n",
        "from tensorflow.keras.models import Sequential, Model\n",
        "from tensorflow.keras.layers import Input, Dense, Lambda\n",
        "from tensorflow.keras.optimizers import Adam\n",
        "import tensorflow.keras.backend as K\n",
        "import pyedflib\n",
        "import pywt\n",
        "from scipy import signal\n",
        "from sklearn.cluster import KMeans\n",
        "from sklearn.preprocessing import StandardScaler\n",
        "import tensorflow as tf"
      ]
    },
    {
      "cell_type": "code",
      "execution_count": null,
      "metadata": {
        "colab": {
          "base_uri": "https://localhost:8080/"
        },
        "id": "eeY8sYLOLXXi",
        "outputId": "dede7c46-3626-4ac9-f8da-7bc5a87dfb54"
      },
      "outputs": [
        {
          "output_type": "stream",
          "name": "stdout",
          "text": [
            "Mounted at /content/drive\n"
          ]
        }
      ],
      "source": [
        "from google.colab import drive\n",
        "drive.mount('/content/drive')"
      ]
    },
    {
      "cell_type": "code",
      "execution_count": null,
      "metadata": {
        "colab": {
          "base_uri": "https://localhost:8080/"
        },
        "id": "CwQXBvfqLaI6",
        "outputId": "7e8b775d-adcd-4aae-ca9a-ea7f3aefe85b"
      },
      "outputs": [
        {
          "output_type": "stream",
          "name": "stdout",
          "text": [
            "\u001b[?25l     \u001b[90m━━━━━━━━━━━━━━━━━━━━━━━━━━━━━━━━━━━━━━━━\u001b[0m \u001b[32m0.0/46.7 kB\u001b[0m \u001b[31m?\u001b[0m eta \u001b[36m-:--:--\u001b[0m\r\u001b[2K     \u001b[90m━━━━━━━━━━━━━━━━━━━━━━━━━━━━━━━━━━━━━━━━\u001b[0m \u001b[32m46.7/46.7 kB\u001b[0m \u001b[31m1.7 MB/s\u001b[0m eta \u001b[36m0:00:00\u001b[0m\n",
            "\u001b[?25h"
          ]
        }
      ],
      "source": [
        "!pip install -U -q PyDrive2\n",
        "from pydrive2.auth import GoogleAuth\n",
        "from pydrive2.drive import GoogleDrive\n",
        "from google.colab import auth\n",
        "from oauth2client.client import GoogleCredentials\n",
        "\n",
        "# Авторизация и создание клиента PyDrive\n",
        "auth.authenticate_user()\n",
        "gauth = GoogleAuth()\n",
        "gauth.credentials = GoogleCredentials.get_application_default()\n",
        "drive = GoogleDrive(gauth)\n"
      ]
    },
    {
      "cell_type": "markdown",
      "metadata": {
        "id": "lW8_1P7C3-6k"
      },
      "source": [
        "### Обработка данных"
      ]
    },
    {
      "cell_type": "code",
      "execution_count": null,
      "metadata": {
        "colab": {
          "base_uri": "https://localhost:8080/"
        },
        "collapsed": true,
        "id": "9wdGGuybLpvq",
        "outputId": "3a282368-2cec-46fd-f59f-e6de7504fbbe"
      },
      "outputs": [
        {
          "name": "stdout",
          "output_type": "stream",
          "text": [
            "Extracting EDF parameters from /content/drive/MyDrive/edf_process1/EEG_7134.edf...\n",
            "EDF file detected\n",
            "Setting channel info structure...\n",
            "Creating raw.info structure...\n",
            "Reading 0 ... 3686527  =      0.000 ... 28800.992 secs...\n"
          ]
        },
        {
          "name": "stderr",
          "output_type": "stream",
          "text": [
            "<ipython-input-39-63d548ab059b>:31: RuntimeWarning: Channel names are not unique, found duplicates for: {'EEG Fp2-G2', 'EEG Fp1-G2'}. Applying running numbers for duplicates.\n",
            "  raw_data = mne.io.read_raw_edf(file_path, preload=True)  # Загрузка данных\n",
            "<ipython-input-39-63d548ab059b>:31: RuntimeWarning: Channels contain different highpass filters. Highest filter setting will be stored.\n",
            "  raw_data = mne.io.read_raw_edf(file_path, preload=True)  # Загрузка данных\n",
            "<ipython-input-39-63d548ab059b>:31: RuntimeWarning: Channels contain different lowpass filters. Lowest filter setting will be stored.\n",
            "  raw_data = mne.io.read_raw_edf(file_path, preload=True)  # Загрузка данных\n"
          ]
        },
        {
          "name": "stdout",
          "output_type": "stream",
          "text": [
            "Filtering raw data in 1 contiguous segment\n",
            "Setting up band-pass filter from 0.5 - 50 Hz\n",
            "\n",
            "FIR filter parameters\n",
            "---------------------\n",
            "Designing a one-pass, zero-phase, non-causal bandpass filter:\n",
            "- Windowed time-domain design (firwin) method\n",
            "- Hamming window with 0.0194 passband ripple and 53 dB stopband attenuation\n",
            "- Lower passband edge: 0.50\n",
            "- Lower transition bandwidth: 0.50 Hz (-6 dB cutoff frequency: 0.25 Hz)\n",
            "- Upper passband edge: 50.00 Hz\n",
            "- Upper transition bandwidth: 12.50 Hz (-6 dB cutoff frequency: 56.25 Hz)\n",
            "- Filter length: 845 samples (6.602 s)\n",
            "\n",
            "\n",
            "FIR filter parameters\n",
            "---------------------\n",
            "Designing a one-pass, zero-phase, non-causal allpass filter:\n",
            "- Windowed frequency-domain design (firwin2) method\n",
            "- Hamming window\n",
            "- Filter length: 1 samples (0.008 s)\n",
            "\n",
            "\n",
            "FIR filter parameters\n",
            "---------------------\n",
            "Designing a one-pass, zero-phase, non-causal allpass filter:\n",
            "- Windowed frequency-domain design (firwin2) method\n",
            "- Hamming window\n",
            "- Filter length: 1 samples (0.008 s)\n",
            "\n",
            "Creating RawArray with float64 data, n_channels=9, n_times=3686528\n",
            "    Range : 0 ... 3686527 =      0.000 ... 28800.992 secs\n",
            "Ready.\n",
            "Extracting EDF parameters from /content/drive/MyDrive/edf_process1/EEG_7129.edf...\n",
            "EDF file detected\n",
            "Setting channel info structure...\n",
            "Creating raw.info structure...\n",
            "Reading 0 ... 1134975  =      0.000 ...  8866.992 secs...\n"
          ]
        },
        {
          "name": "stderr",
          "output_type": "stream",
          "text": [
            "<ipython-input-39-63d548ab059b>:31: RuntimeWarning: Channel names are not unique, found duplicates for: {'EEG Fp2-G2', 'EEG Fp1-G2'}. Applying running numbers for duplicates.\n",
            "  raw_data = mne.io.read_raw_edf(file_path, preload=True)  # Загрузка данных\n",
            "<ipython-input-39-63d548ab059b>:31: RuntimeWarning: Channels contain different highpass filters. Highest filter setting will be stored.\n",
            "  raw_data = mne.io.read_raw_edf(file_path, preload=True)  # Загрузка данных\n",
            "<ipython-input-39-63d548ab059b>:31: RuntimeWarning: Channels contain different lowpass filters. Lowest filter setting will be stored.\n",
            "  raw_data = mne.io.read_raw_edf(file_path, preload=True)  # Загрузка данных\n"
          ]
        },
        {
          "name": "stdout",
          "output_type": "stream",
          "text": [
            "Filtering raw data in 1 contiguous segment\n",
            "Setting up band-pass filter from 0.5 - 50 Hz\n",
            "\n",
            "FIR filter parameters\n",
            "---------------------\n",
            "Designing a one-pass, zero-phase, non-causal bandpass filter:\n",
            "- Windowed time-domain design (firwin) method\n",
            "- Hamming window with 0.0194 passband ripple and 53 dB stopband attenuation\n",
            "- Lower passband edge: 0.50\n",
            "- Lower transition bandwidth: 0.50 Hz (-6 dB cutoff frequency: 0.25 Hz)\n",
            "- Upper passband edge: 50.00 Hz\n",
            "- Upper transition bandwidth: 12.50 Hz (-6 dB cutoff frequency: 56.25 Hz)\n",
            "- Filter length: 845 samples (6.602 s)\n",
            "\n",
            "\n",
            "FIR filter parameters\n",
            "---------------------\n",
            "Designing a one-pass, zero-phase, non-causal allpass filter:\n",
            "- Windowed frequency-domain design (firwin2) method\n",
            "- Hamming window\n",
            "- Filter length: 1 samples (0.008 s)\n",
            "\n",
            "\n",
            "FIR filter parameters\n",
            "---------------------\n",
            "Designing a one-pass, zero-phase, non-causal allpass filter:\n",
            "- Windowed frequency-domain design (firwin2) method\n",
            "- Hamming window\n",
            "- Filter length: 1 samples (0.008 s)\n",
            "\n",
            "Creating RawArray with float64 data, n_channels=9, n_times=1134976\n",
            "    Range : 0 ... 1134975 =      0.000 ...  8866.992 secs\n",
            "Ready.\n",
            "Extracting EDF parameters from /content/drive/MyDrive/edf_process1/EEG_2171.edf...\n",
            "EDF file detected\n",
            "Setting channel info structure...\n",
            "Creating raw.info structure...\n",
            "Reading 0 ... 3686527  =      0.000 ... 28800.992 secs...\n"
          ]
        },
        {
          "name": "stderr",
          "output_type": "stream",
          "text": [
            "<ipython-input-39-63d548ab059b>:31: RuntimeWarning: Channel names are not unique, found duplicates for: {'EEG Fp2-G2', 'EEG Fp1-G2'}. Applying running numbers for duplicates.\n",
            "  raw_data = mne.io.read_raw_edf(file_path, preload=True)  # Загрузка данных\n",
            "<ipython-input-39-63d548ab059b>:31: RuntimeWarning: Channels contain different highpass filters. Highest filter setting will be stored.\n",
            "  raw_data = mne.io.read_raw_edf(file_path, preload=True)  # Загрузка данных\n",
            "<ipython-input-39-63d548ab059b>:31: RuntimeWarning: Channels contain different lowpass filters. Lowest filter setting will be stored.\n",
            "  raw_data = mne.io.read_raw_edf(file_path, preload=True)  # Загрузка данных\n"
          ]
        },
        {
          "name": "stdout",
          "output_type": "stream",
          "text": [
            "Filtering raw data in 1 contiguous segment\n",
            "Setting up band-pass filter from 0.5 - 50 Hz\n",
            "\n",
            "FIR filter parameters\n",
            "---------------------\n",
            "Designing a one-pass, zero-phase, non-causal bandpass filter:\n",
            "- Windowed time-domain design (firwin) method\n",
            "- Hamming window with 0.0194 passband ripple and 53 dB stopband attenuation\n",
            "- Lower passband edge: 0.50\n",
            "- Lower transition bandwidth: 0.50 Hz (-6 dB cutoff frequency: 0.25 Hz)\n",
            "- Upper passband edge: 50.00 Hz\n",
            "- Upper transition bandwidth: 12.50 Hz (-6 dB cutoff frequency: 56.25 Hz)\n",
            "- Filter length: 845 samples (6.602 s)\n",
            "\n",
            "\n",
            "FIR filter parameters\n",
            "---------------------\n",
            "Designing a one-pass, zero-phase, non-causal allpass filter:\n",
            "- Windowed frequency-domain design (firwin2) method\n",
            "- Hamming window\n",
            "- Filter length: 1 samples (0.008 s)\n",
            "\n",
            "\n",
            "FIR filter parameters\n",
            "---------------------\n",
            "Designing a one-pass, zero-phase, non-causal allpass filter:\n",
            "- Windowed frequency-domain design (firwin2) method\n",
            "- Hamming window\n",
            "- Filter length: 1 samples (0.008 s)\n",
            "\n",
            "Creating RawArray with float64 data, n_channels=9, n_times=3686528\n",
            "    Range : 0 ... 3686527 =      0.000 ... 28800.992 secs\n",
            "Ready.\n",
            "Extracting EDF parameters from /content/drive/MyDrive/edf_process1/EEG_1747.edf...\n",
            "EDF file detected\n",
            "Setting channel info structure...\n",
            "Creating raw.info structure...\n",
            "Reading 0 ... 3686783  =      0.000 ... 28802.992 secs...\n"
          ]
        },
        {
          "name": "stderr",
          "output_type": "stream",
          "text": [
            "<ipython-input-39-63d548ab059b>:31: RuntimeWarning: Channel names are not unique, found duplicates for: {'EEG Fp2-G2', 'EEG Fp1-G2'}. Applying running numbers for duplicates.\n",
            "  raw_data = mne.io.read_raw_edf(file_path, preload=True)  # Загрузка данных\n",
            "<ipython-input-39-63d548ab059b>:31: RuntimeWarning: Channels contain different highpass filters. Highest filter setting will be stored.\n",
            "  raw_data = mne.io.read_raw_edf(file_path, preload=True)  # Загрузка данных\n",
            "<ipython-input-39-63d548ab059b>:31: RuntimeWarning: Channels contain different lowpass filters. Lowest filter setting will be stored.\n",
            "  raw_data = mne.io.read_raw_edf(file_path, preload=True)  # Загрузка данных\n"
          ]
        },
        {
          "name": "stdout",
          "output_type": "stream",
          "text": [
            "Filtering raw data in 1 contiguous segment\n",
            "Setting up band-pass filter from 0.5 - 50 Hz\n",
            "\n",
            "FIR filter parameters\n",
            "---------------------\n",
            "Designing a one-pass, zero-phase, non-causal bandpass filter:\n",
            "- Windowed time-domain design (firwin) method\n",
            "- Hamming window with 0.0194 passband ripple and 53 dB stopband attenuation\n",
            "- Lower passband edge: 0.50\n",
            "- Lower transition bandwidth: 0.50 Hz (-6 dB cutoff frequency: 0.25 Hz)\n",
            "- Upper passband edge: 50.00 Hz\n",
            "- Upper transition bandwidth: 12.50 Hz (-6 dB cutoff frequency: 56.25 Hz)\n",
            "- Filter length: 845 samples (6.602 s)\n",
            "\n",
            "\n",
            "FIR filter parameters\n",
            "---------------------\n",
            "Designing a one-pass, zero-phase, non-causal allpass filter:\n",
            "- Windowed frequency-domain design (firwin2) method\n",
            "- Hamming window\n",
            "- Filter length: 1 samples (0.008 s)\n",
            "\n",
            "\n",
            "FIR filter parameters\n",
            "---------------------\n",
            "Designing a one-pass, zero-phase, non-causal allpass filter:\n",
            "- Windowed frequency-domain design (firwin2) method\n",
            "- Hamming window\n",
            "- Filter length: 1 samples (0.008 s)\n",
            "\n",
            "Creating RawArray with float64 data, n_channels=9, n_times=3686784\n",
            "    Range : 0 ... 3686783 =      0.000 ... 28802.992 secs\n",
            "Ready.\n",
            "Extracting EDF parameters from /content/drive/MyDrive/edf_process1/EEG_1732.edf...\n",
            "EDF file detected\n",
            "Setting channel info structure...\n",
            "Creating raw.info structure...\n",
            "Reading 0 ... 3686527  =      0.000 ... 28800.992 secs...\n"
          ]
        },
        {
          "name": "stderr",
          "output_type": "stream",
          "text": [
            "<ipython-input-39-63d548ab059b>:31: RuntimeWarning: Channel names are not unique, found duplicates for: {'EEG Fp2-G2', 'EEG Fp1-G2'}. Applying running numbers for duplicates.\n",
            "  raw_data = mne.io.read_raw_edf(file_path, preload=True)  # Загрузка данных\n",
            "<ipython-input-39-63d548ab059b>:31: RuntimeWarning: Channels contain different highpass filters. Highest filter setting will be stored.\n",
            "  raw_data = mne.io.read_raw_edf(file_path, preload=True)  # Загрузка данных\n",
            "<ipython-input-39-63d548ab059b>:31: RuntimeWarning: Channels contain different lowpass filters. Lowest filter setting will be stored.\n",
            "  raw_data = mne.io.read_raw_edf(file_path, preload=True)  # Загрузка данных\n"
          ]
        },
        {
          "name": "stdout",
          "output_type": "stream",
          "text": [
            "Filtering raw data in 1 contiguous segment\n",
            "Setting up band-pass filter from 0.5 - 50 Hz\n",
            "\n",
            "FIR filter parameters\n",
            "---------------------\n",
            "Designing a one-pass, zero-phase, non-causal bandpass filter:\n",
            "- Windowed time-domain design (firwin) method\n",
            "- Hamming window with 0.0194 passband ripple and 53 dB stopband attenuation\n",
            "- Lower passband edge: 0.50\n",
            "- Lower transition bandwidth: 0.50 Hz (-6 dB cutoff frequency: 0.25 Hz)\n",
            "- Upper passband edge: 50.00 Hz\n",
            "- Upper transition bandwidth: 12.50 Hz (-6 dB cutoff frequency: 56.25 Hz)\n",
            "- Filter length: 845 samples (6.602 s)\n",
            "\n",
            "\n",
            "FIR filter parameters\n",
            "---------------------\n",
            "Designing a one-pass, zero-phase, non-causal allpass filter:\n",
            "- Windowed frequency-domain design (firwin2) method\n",
            "- Hamming window\n",
            "- Filter length: 1 samples (0.008 s)\n",
            "\n",
            "\n",
            "FIR filter parameters\n",
            "---------------------\n",
            "Designing a one-pass, zero-phase, non-causal allpass filter:\n",
            "- Windowed frequency-domain design (firwin2) method\n",
            "- Hamming window\n",
            "- Filter length: 1 samples (0.008 s)\n",
            "\n",
            "Creating RawArray with float64 data, n_channels=9, n_times=3686528\n",
            "    Range : 0 ... 3686527 =      0.000 ... 28800.992 secs\n",
            "Ready.\n",
            "Extracting EDF parameters from /content/drive/MyDrive/edf_process1/EEG_1728.edf...\n",
            "EDF file detected\n",
            "Setting channel info structure...\n",
            "Creating raw.info structure...\n",
            "Reading 0 ... 3686527  =      0.000 ... 28800.992 secs...\n"
          ]
        },
        {
          "name": "stderr",
          "output_type": "stream",
          "text": [
            "<ipython-input-39-63d548ab059b>:31: RuntimeWarning: Channel names are not unique, found duplicates for: {'EEG Fp2-G2', 'EEG Fp1-G2'}. Applying running numbers for duplicates.\n",
            "  raw_data = mne.io.read_raw_edf(file_path, preload=True)  # Загрузка данных\n",
            "<ipython-input-39-63d548ab059b>:31: RuntimeWarning: Channels contain different highpass filters. Highest filter setting will be stored.\n",
            "  raw_data = mne.io.read_raw_edf(file_path, preload=True)  # Загрузка данных\n",
            "<ipython-input-39-63d548ab059b>:31: RuntimeWarning: Channels contain different lowpass filters. Lowest filter setting will be stored.\n",
            "  raw_data = mne.io.read_raw_edf(file_path, preload=True)  # Загрузка данных\n"
          ]
        },
        {
          "name": "stdout",
          "output_type": "stream",
          "text": [
            "Filtering raw data in 1 contiguous segment\n",
            "Setting up band-pass filter from 0.5 - 50 Hz\n",
            "\n",
            "FIR filter parameters\n",
            "---------------------\n",
            "Designing a one-pass, zero-phase, non-causal bandpass filter:\n",
            "- Windowed time-domain design (firwin) method\n",
            "- Hamming window with 0.0194 passband ripple and 53 dB stopband attenuation\n",
            "- Lower passband edge: 0.50\n",
            "- Lower transition bandwidth: 0.50 Hz (-6 dB cutoff frequency: 0.25 Hz)\n",
            "- Upper passband edge: 50.00 Hz\n",
            "- Upper transition bandwidth: 12.50 Hz (-6 dB cutoff frequency: 56.25 Hz)\n",
            "- Filter length: 845 samples (6.602 s)\n",
            "\n",
            "\n",
            "FIR filter parameters\n",
            "---------------------\n",
            "Designing a one-pass, zero-phase, non-causal allpass filter:\n",
            "- Windowed frequency-domain design (firwin2) method\n",
            "- Hamming window\n",
            "- Filter length: 1 samples (0.008 s)\n",
            "\n",
            "\n",
            "FIR filter parameters\n",
            "---------------------\n",
            "Designing a one-pass, zero-phase, non-causal allpass filter:\n",
            "- Windowed frequency-domain design (firwin2) method\n",
            "- Hamming window\n",
            "- Filter length: 1 samples (0.008 s)\n",
            "\n",
            "Creating RawArray with float64 data, n_channels=9, n_times=3686528\n",
            "    Range : 0 ... 3686527 =      0.000 ... 28800.992 secs\n",
            "Ready.\n",
            "Extracting EDF parameters from /content/drive/MyDrive/edf_process1/EEG_1714.edf...\n",
            "EDF file detected\n",
            "Setting channel info structure...\n",
            "Creating raw.info structure...\n",
            "Reading 0 ... 3686527  =      0.000 ... 28800.992 secs...\n"
          ]
        },
        {
          "name": "stderr",
          "output_type": "stream",
          "text": [
            "<ipython-input-39-63d548ab059b>:31: RuntimeWarning: Channel names are not unique, found duplicates for: {'EEG Fp2-G2', 'EEG Fp1-G2'}. Applying running numbers for duplicates.\n",
            "  raw_data = mne.io.read_raw_edf(file_path, preload=True)  # Загрузка данных\n",
            "<ipython-input-39-63d548ab059b>:31: RuntimeWarning: Channels contain different highpass filters. Highest filter setting will be stored.\n",
            "  raw_data = mne.io.read_raw_edf(file_path, preload=True)  # Загрузка данных\n",
            "<ipython-input-39-63d548ab059b>:31: RuntimeWarning: Channels contain different lowpass filters. Lowest filter setting will be stored.\n",
            "  raw_data = mne.io.read_raw_edf(file_path, preload=True)  # Загрузка данных\n"
          ]
        },
        {
          "name": "stdout",
          "output_type": "stream",
          "text": [
            "Filtering raw data in 1 contiguous segment\n",
            "Setting up band-pass filter from 0.5 - 50 Hz\n",
            "\n",
            "FIR filter parameters\n",
            "---------------------\n",
            "Designing a one-pass, zero-phase, non-causal bandpass filter:\n",
            "- Windowed time-domain design (firwin) method\n",
            "- Hamming window with 0.0194 passband ripple and 53 dB stopband attenuation\n",
            "- Lower passband edge: 0.50\n",
            "- Lower transition bandwidth: 0.50 Hz (-6 dB cutoff frequency: 0.25 Hz)\n",
            "- Upper passband edge: 50.00 Hz\n",
            "- Upper transition bandwidth: 12.50 Hz (-6 dB cutoff frequency: 56.25 Hz)\n",
            "- Filter length: 845 samples (6.602 s)\n",
            "\n",
            "\n",
            "FIR filter parameters\n",
            "---------------------\n",
            "Designing a one-pass, zero-phase, non-causal allpass filter:\n",
            "- Windowed frequency-domain design (firwin2) method\n",
            "- Hamming window\n",
            "- Filter length: 1 samples (0.008 s)\n",
            "\n",
            "\n",
            "FIR filter parameters\n",
            "---------------------\n",
            "Designing a one-pass, zero-phase, non-causal allpass filter:\n",
            "- Windowed frequency-domain design (firwin2) method\n",
            "- Hamming window\n",
            "- Filter length: 1 samples (0.008 s)\n",
            "\n",
            "Creating RawArray with float64 data, n_channels=9, n_times=3686528\n",
            "    Range : 0 ... 3686527 =      0.000 ... 28800.992 secs\n",
            "Ready.\n",
            "Extracting EDF parameters from /content/drive/MyDrive/edf_process1/EEG_1697.edf...\n",
            "EDF file detected\n",
            "Setting channel info structure...\n",
            "Creating raw.info structure...\n",
            "Reading 0 ... 3686527  =      0.000 ... 28800.992 secs...\n"
          ]
        },
        {
          "name": "stderr",
          "output_type": "stream",
          "text": [
            "<ipython-input-39-63d548ab059b>:31: RuntimeWarning: Channel names are not unique, found duplicates for: {'EEG Fp2-G2', 'EEG Fp1-G2'}. Applying running numbers for duplicates.\n",
            "  raw_data = mne.io.read_raw_edf(file_path, preload=True)  # Загрузка данных\n",
            "<ipython-input-39-63d548ab059b>:31: RuntimeWarning: Channels contain different highpass filters. Highest filter setting will be stored.\n",
            "  raw_data = mne.io.read_raw_edf(file_path, preload=True)  # Загрузка данных\n",
            "<ipython-input-39-63d548ab059b>:31: RuntimeWarning: Channels contain different lowpass filters. Lowest filter setting will be stored.\n",
            "  raw_data = mne.io.read_raw_edf(file_path, preload=True)  # Загрузка данных\n"
          ]
        },
        {
          "name": "stdout",
          "output_type": "stream",
          "text": [
            "Filtering raw data in 1 contiguous segment\n",
            "Setting up band-pass filter from 0.5 - 50 Hz\n",
            "\n",
            "FIR filter parameters\n",
            "---------------------\n",
            "Designing a one-pass, zero-phase, non-causal bandpass filter:\n",
            "- Windowed time-domain design (firwin) method\n",
            "- Hamming window with 0.0194 passband ripple and 53 dB stopband attenuation\n",
            "- Lower passband edge: 0.50\n",
            "- Lower transition bandwidth: 0.50 Hz (-6 dB cutoff frequency: 0.25 Hz)\n",
            "- Upper passband edge: 50.00 Hz\n",
            "- Upper transition bandwidth: 12.50 Hz (-6 dB cutoff frequency: 56.25 Hz)\n",
            "- Filter length: 845 samples (6.602 s)\n",
            "\n",
            "\n",
            "FIR filter parameters\n",
            "---------------------\n",
            "Designing a one-pass, zero-phase, non-causal allpass filter:\n",
            "- Windowed frequency-domain design (firwin2) method\n",
            "- Hamming window\n",
            "- Filter length: 1 samples (0.008 s)\n",
            "\n",
            "\n",
            "FIR filter parameters\n",
            "---------------------\n",
            "Designing a one-pass, zero-phase, non-causal allpass filter:\n",
            "- Windowed frequency-domain design (firwin2) method\n",
            "- Hamming window\n",
            "- Filter length: 1 samples (0.008 s)\n",
            "\n",
            "Creating RawArray with float64 data, n_channels=9, n_times=3686528\n",
            "    Range : 0 ... 3686527 =      0.000 ... 28800.992 secs\n",
            "Ready.\n",
            "Extracting EDF parameters from /content/drive/MyDrive/edf_process1/EEG_1695.edf...\n",
            "EDF file detected\n",
            "Setting channel info structure...\n",
            "Creating raw.info structure...\n",
            "Reading 0 ... 3686527  =      0.000 ... 28800.992 secs...\n"
          ]
        },
        {
          "name": "stderr",
          "output_type": "stream",
          "text": [
            "<ipython-input-39-63d548ab059b>:31: RuntimeWarning: Channel names are not unique, found duplicates for: {'EEG Fp2-G2', 'EEG Fp1-G2'}. Applying running numbers for duplicates.\n",
            "  raw_data = mne.io.read_raw_edf(file_path, preload=True)  # Загрузка данных\n",
            "<ipython-input-39-63d548ab059b>:31: RuntimeWarning: Channels contain different highpass filters. Highest filter setting will be stored.\n",
            "  raw_data = mne.io.read_raw_edf(file_path, preload=True)  # Загрузка данных\n",
            "<ipython-input-39-63d548ab059b>:31: RuntimeWarning: Channels contain different lowpass filters. Lowest filter setting will be stored.\n",
            "  raw_data = mne.io.read_raw_edf(file_path, preload=True)  # Загрузка данных\n"
          ]
        },
        {
          "name": "stdout",
          "output_type": "stream",
          "text": [
            "Filtering raw data in 1 contiguous segment\n",
            "Setting up band-pass filter from 0.5 - 50 Hz\n",
            "\n",
            "FIR filter parameters\n",
            "---------------------\n",
            "Designing a one-pass, zero-phase, non-causal bandpass filter:\n",
            "- Windowed time-domain design (firwin) method\n",
            "- Hamming window with 0.0194 passband ripple and 53 dB stopband attenuation\n",
            "- Lower passband edge: 0.50\n",
            "- Lower transition bandwidth: 0.50 Hz (-6 dB cutoff frequency: 0.25 Hz)\n",
            "- Upper passband edge: 50.00 Hz\n",
            "- Upper transition bandwidth: 12.50 Hz (-6 dB cutoff frequency: 56.25 Hz)\n",
            "- Filter length: 845 samples (6.602 s)\n",
            "\n",
            "\n",
            "FIR filter parameters\n",
            "---------------------\n",
            "Designing a one-pass, zero-phase, non-causal allpass filter:\n",
            "- Windowed frequency-domain design (firwin2) method\n",
            "- Hamming window\n",
            "- Filter length: 1 samples (0.008 s)\n",
            "\n",
            "\n",
            "FIR filter parameters\n",
            "---------------------\n",
            "Designing a one-pass, zero-phase, non-causal allpass filter:\n",
            "- Windowed frequency-domain design (firwin2) method\n",
            "- Hamming window\n",
            "- Filter length: 1 samples (0.008 s)\n",
            "\n",
            "Creating RawArray with float64 data, n_channels=9, n_times=3686528\n",
            "    Range : 0 ... 3686527 =      0.000 ... 28800.992 secs\n",
            "Ready.\n",
            "Extracting EDF parameters from /content/drive/MyDrive/edf_process1/EEG_1687.edf...\n",
            "EDF file detected\n",
            "Setting channel info structure...\n",
            "Creating raw.info structure...\n",
            "Reading 0 ... 3766143  =      0.000 ... 29422.992 secs...\n"
          ]
        },
        {
          "name": "stderr",
          "output_type": "stream",
          "text": [
            "<ipython-input-39-63d548ab059b>:31: RuntimeWarning: Channel names are not unique, found duplicates for: {'EEG Fp2-G2', 'EEG Fp1-G2'}. Applying running numbers for duplicates.\n",
            "  raw_data = mne.io.read_raw_edf(file_path, preload=True)  # Загрузка данных\n",
            "<ipython-input-39-63d548ab059b>:31: RuntimeWarning: Channels contain different highpass filters. Highest filter setting will be stored.\n",
            "  raw_data = mne.io.read_raw_edf(file_path, preload=True)  # Загрузка данных\n",
            "<ipython-input-39-63d548ab059b>:31: RuntimeWarning: Channels contain different lowpass filters. Lowest filter setting will be stored.\n",
            "  raw_data = mne.io.read_raw_edf(file_path, preload=True)  # Загрузка данных\n"
          ]
        },
        {
          "name": "stdout",
          "output_type": "stream",
          "text": [
            "Filtering raw data in 1 contiguous segment\n",
            "Setting up band-pass filter from 0.5 - 50 Hz\n",
            "\n",
            "FIR filter parameters\n",
            "---------------------\n",
            "Designing a one-pass, zero-phase, non-causal bandpass filter:\n",
            "- Windowed time-domain design (firwin) method\n",
            "- Hamming window with 0.0194 passband ripple and 53 dB stopband attenuation\n",
            "- Lower passband edge: 0.50\n",
            "- Lower transition bandwidth: 0.50 Hz (-6 dB cutoff frequency: 0.25 Hz)\n",
            "- Upper passband edge: 50.00 Hz\n",
            "- Upper transition bandwidth: 12.50 Hz (-6 dB cutoff frequency: 56.25 Hz)\n",
            "- Filter length: 845 samples (6.602 s)\n",
            "\n",
            "\n",
            "FIR filter parameters\n",
            "---------------------\n",
            "Designing a one-pass, zero-phase, non-causal allpass filter:\n",
            "- Windowed frequency-domain design (firwin2) method\n",
            "- Hamming window\n",
            "- Filter length: 1 samples (0.008 s)\n",
            "\n",
            "\n",
            "FIR filter parameters\n",
            "---------------------\n",
            "Designing a one-pass, zero-phase, non-causal allpass filter:\n",
            "- Windowed frequency-domain design (firwin2) method\n",
            "- Hamming window\n",
            "- Filter length: 1 samples (0.008 s)\n",
            "\n",
            "Creating RawArray with float64 data, n_channels=9, n_times=3766144\n",
            "    Range : 0 ... 3766143 =      0.000 ... 29422.992 secs\n",
            "Ready.\n",
            "Extracting EDF parameters from /content/drive/MyDrive/edf_process1/EEG_793.edf...\n",
            "EDF file detected\n",
            "Setting channel info structure...\n",
            "Creating raw.info structure...\n",
            "Reading 0 ... 3686527  =      0.000 ... 28800.992 secs...\n"
          ]
        },
        {
          "name": "stderr",
          "output_type": "stream",
          "text": [
            "<ipython-input-39-63d548ab059b>:31: RuntimeWarning: Channel names are not unique, found duplicates for: {'EEG Fp2-G2', 'EEG Fp1-G2'}. Applying running numbers for duplicates.\n",
            "  raw_data = mne.io.read_raw_edf(file_path, preload=True)  # Загрузка данных\n",
            "<ipython-input-39-63d548ab059b>:31: RuntimeWarning: Channels contain different highpass filters. Highest filter setting will be stored.\n",
            "  raw_data = mne.io.read_raw_edf(file_path, preload=True)  # Загрузка данных\n",
            "<ipython-input-39-63d548ab059b>:31: RuntimeWarning: Channels contain different lowpass filters. Lowest filter setting will be stored.\n",
            "  raw_data = mne.io.read_raw_edf(file_path, preload=True)  # Загрузка данных\n"
          ]
        },
        {
          "name": "stdout",
          "output_type": "stream",
          "text": [
            "Filtering raw data in 1 contiguous segment\n",
            "Setting up band-pass filter from 0.5 - 50 Hz\n",
            "\n",
            "FIR filter parameters\n",
            "---------------------\n",
            "Designing a one-pass, zero-phase, non-causal bandpass filter:\n",
            "- Windowed time-domain design (firwin) method\n",
            "- Hamming window with 0.0194 passband ripple and 53 dB stopband attenuation\n",
            "- Lower passband edge: 0.50\n",
            "- Lower transition bandwidth: 0.50 Hz (-6 dB cutoff frequency: 0.25 Hz)\n",
            "- Upper passband edge: 50.00 Hz\n",
            "- Upper transition bandwidth: 12.50 Hz (-6 dB cutoff frequency: 56.25 Hz)\n",
            "- Filter length: 845 samples (6.602 s)\n",
            "\n",
            "\n",
            "FIR filter parameters\n",
            "---------------------\n",
            "Designing a one-pass, zero-phase, non-causal allpass filter:\n",
            "- Windowed frequency-domain design (firwin2) method\n",
            "- Hamming window\n",
            "- Filter length: 1 samples (0.008 s)\n",
            "\n",
            "\n",
            "FIR filter parameters\n",
            "---------------------\n",
            "Designing a one-pass, zero-phase, non-causal allpass filter:\n",
            "- Windowed frequency-domain design (firwin2) method\n",
            "- Hamming window\n",
            "- Filter length: 1 samples (0.008 s)\n",
            "\n",
            "Creating RawArray with float64 data, n_channels=9, n_times=3686528\n",
            "    Range : 0 ... 3686527 =      0.000 ... 28800.992 secs\n",
            "Ready.\n",
            "Extracting EDF parameters from /content/drive/MyDrive/edf_process1/EEG_792.edf...\n",
            "EDF file detected\n",
            "Setting channel info structure...\n",
            "Creating raw.info structure...\n",
            "Reading 0 ... 2930559  =      0.000 ... 22894.992 secs...\n"
          ]
        },
        {
          "name": "stderr",
          "output_type": "stream",
          "text": [
            "<ipython-input-39-63d548ab059b>:31: RuntimeWarning: Channel names are not unique, found duplicates for: {'EEG Fp2-G2', 'EEG Fp1-G2'}. Applying running numbers for duplicates.\n",
            "  raw_data = mne.io.read_raw_edf(file_path, preload=True)  # Загрузка данных\n",
            "<ipython-input-39-63d548ab059b>:31: RuntimeWarning: Channels contain different highpass filters. Highest filter setting will be stored.\n",
            "  raw_data = mne.io.read_raw_edf(file_path, preload=True)  # Загрузка данных\n",
            "<ipython-input-39-63d548ab059b>:31: RuntimeWarning: Channels contain different lowpass filters. Lowest filter setting will be stored.\n",
            "  raw_data = mne.io.read_raw_edf(file_path, preload=True)  # Загрузка данных\n"
          ]
        },
        {
          "name": "stdout",
          "output_type": "stream",
          "text": [
            "Filtering raw data in 1 contiguous segment\n",
            "Setting up band-pass filter from 0.5 - 50 Hz\n",
            "\n",
            "FIR filter parameters\n",
            "---------------------\n",
            "Designing a one-pass, zero-phase, non-causal bandpass filter:\n",
            "- Windowed time-domain design (firwin) method\n",
            "- Hamming window with 0.0194 passband ripple and 53 dB stopband attenuation\n",
            "- Lower passband edge: 0.50\n",
            "- Lower transition bandwidth: 0.50 Hz (-6 dB cutoff frequency: 0.25 Hz)\n",
            "- Upper passband edge: 50.00 Hz\n",
            "- Upper transition bandwidth: 12.50 Hz (-6 dB cutoff frequency: 56.25 Hz)\n",
            "- Filter length: 845 samples (6.602 s)\n",
            "\n",
            "\n",
            "FIR filter parameters\n",
            "---------------------\n",
            "Designing a one-pass, zero-phase, non-causal allpass filter:\n",
            "- Windowed frequency-domain design (firwin2) method\n",
            "- Hamming window\n",
            "- Filter length: 1 samples (0.008 s)\n",
            "\n",
            "\n",
            "FIR filter parameters\n",
            "---------------------\n",
            "Designing a one-pass, zero-phase, non-causal allpass filter:\n",
            "- Windowed frequency-domain design (firwin2) method\n",
            "- Hamming window\n",
            "- Filter length: 1 samples (0.008 s)\n",
            "\n",
            "Creating RawArray with float64 data, n_channels=9, n_times=2930560\n",
            "    Range : 0 ... 2930559 =      0.000 ... 22894.992 secs\n",
            "Ready.\n",
            "Extracting EDF parameters from /content/drive/MyDrive/edf_process1/EEG_665.edf...\n",
            "EDF file detected\n",
            "Setting channel info structure...\n",
            "Creating raw.info structure...\n",
            "Reading 0 ... 3686527  =      0.000 ... 28800.992 secs...\n"
          ]
        },
        {
          "name": "stderr",
          "output_type": "stream",
          "text": [
            "<ipython-input-39-63d548ab059b>:31: RuntimeWarning: Channel names are not unique, found duplicates for: {'EEG Fp2-G2', 'EEG Fp1-G2'}. Applying running numbers for duplicates.\n",
            "  raw_data = mne.io.read_raw_edf(file_path, preload=True)  # Загрузка данных\n",
            "<ipython-input-39-63d548ab059b>:31: RuntimeWarning: Channels contain different highpass filters. Highest filter setting will be stored.\n",
            "  raw_data = mne.io.read_raw_edf(file_path, preload=True)  # Загрузка данных\n",
            "<ipython-input-39-63d548ab059b>:31: RuntimeWarning: Channels contain different lowpass filters. Lowest filter setting will be stored.\n",
            "  raw_data = mne.io.read_raw_edf(file_path, preload=True)  # Загрузка данных\n"
          ]
        },
        {
          "name": "stdout",
          "output_type": "stream",
          "text": [
            "Filtering raw data in 1 contiguous segment\n",
            "Setting up band-pass filter from 0.5 - 50 Hz\n",
            "\n",
            "FIR filter parameters\n",
            "---------------------\n",
            "Designing a one-pass, zero-phase, non-causal bandpass filter:\n",
            "- Windowed time-domain design (firwin) method\n",
            "- Hamming window with 0.0194 passband ripple and 53 dB stopband attenuation\n",
            "- Lower passband edge: 0.50\n",
            "- Lower transition bandwidth: 0.50 Hz (-6 dB cutoff frequency: 0.25 Hz)\n",
            "- Upper passband edge: 50.00 Hz\n",
            "- Upper transition bandwidth: 12.50 Hz (-6 dB cutoff frequency: 56.25 Hz)\n",
            "- Filter length: 845 samples (6.602 s)\n",
            "\n",
            "\n",
            "FIR filter parameters\n",
            "---------------------\n",
            "Designing a one-pass, zero-phase, non-causal allpass filter:\n",
            "- Windowed frequency-domain design (firwin2) method\n",
            "- Hamming window\n",
            "- Filter length: 1 samples (0.008 s)\n",
            "\n",
            "\n",
            "FIR filter parameters\n",
            "---------------------\n",
            "Designing a one-pass, zero-phase, non-causal allpass filter:\n",
            "- Windowed frequency-domain design (firwin2) method\n",
            "- Hamming window\n",
            "- Filter length: 1 samples (0.008 s)\n",
            "\n",
            "Creating RawArray with float64 data, n_channels=9, n_times=3686528\n",
            "    Range : 0 ... 3686527 =      0.000 ... 28800.992 secs\n",
            "Ready.\n",
            "Extracting EDF parameters from /content/drive/MyDrive/edf_process1/EEG_595.edf...\n",
            "EDF file detected\n",
            "Setting channel info structure...\n",
            "Creating raw.info structure...\n",
            "Reading 0 ... 3686527  =      0.000 ... 28800.992 secs...\n"
          ]
        },
        {
          "name": "stderr",
          "output_type": "stream",
          "text": [
            "<ipython-input-39-63d548ab059b>:31: RuntimeWarning: Channel names are not unique, found duplicates for: {'EEG Fp2-G2', 'EEG Fp1-G2'}. Applying running numbers for duplicates.\n",
            "  raw_data = mne.io.read_raw_edf(file_path, preload=True)  # Загрузка данных\n",
            "<ipython-input-39-63d548ab059b>:31: RuntimeWarning: Channels contain different highpass filters. Highest filter setting will be stored.\n",
            "  raw_data = mne.io.read_raw_edf(file_path, preload=True)  # Загрузка данных\n",
            "<ipython-input-39-63d548ab059b>:31: RuntimeWarning: Channels contain different lowpass filters. Lowest filter setting will be stored.\n",
            "  raw_data = mne.io.read_raw_edf(file_path, preload=True)  # Загрузка данных\n"
          ]
        },
        {
          "name": "stdout",
          "output_type": "stream",
          "text": [
            "Filtering raw data in 1 contiguous segment\n",
            "Setting up band-pass filter from 0.5 - 50 Hz\n",
            "\n",
            "FIR filter parameters\n",
            "---------------------\n",
            "Designing a one-pass, zero-phase, non-causal bandpass filter:\n",
            "- Windowed time-domain design (firwin) method\n",
            "- Hamming window with 0.0194 passband ripple and 53 dB stopband attenuation\n",
            "- Lower passband edge: 0.50\n",
            "- Lower transition bandwidth: 0.50 Hz (-6 dB cutoff frequency: 0.25 Hz)\n",
            "- Upper passband edge: 50.00 Hz\n",
            "- Upper transition bandwidth: 12.50 Hz (-6 dB cutoff frequency: 56.25 Hz)\n",
            "- Filter length: 845 samples (6.602 s)\n",
            "\n",
            "\n",
            "FIR filter parameters\n",
            "---------------------\n",
            "Designing a one-pass, zero-phase, non-causal allpass filter:\n",
            "- Windowed frequency-domain design (firwin2) method\n",
            "- Hamming window\n",
            "- Filter length: 1 samples (0.008 s)\n",
            "\n",
            "\n",
            "FIR filter parameters\n",
            "---------------------\n",
            "Designing a one-pass, zero-phase, non-causal allpass filter:\n",
            "- Windowed frequency-domain design (firwin2) method\n",
            "- Hamming window\n",
            "- Filter length: 1 samples (0.008 s)\n",
            "\n",
            "Creating RawArray with float64 data, n_channels=9, n_times=3686528\n",
            "    Range : 0 ... 3686527 =      0.000 ... 28800.992 secs\n",
            "Ready.\n",
            "Extracting EDF parameters from /content/drive/MyDrive/edf_process1/EEG_531.edf...\n",
            "EDF file detected\n",
            "Setting channel info structure...\n",
            "Creating raw.info structure...\n",
            "Reading 0 ... 3687039  =      0.000 ... 28804.992 secs...\n"
          ]
        },
        {
          "name": "stderr",
          "output_type": "stream",
          "text": [
            "<ipython-input-39-63d548ab059b>:31: RuntimeWarning: Channel names are not unique, found duplicates for: {'EEG Fp2-G2', 'EEG Fp1-G2'}. Applying running numbers for duplicates.\n",
            "  raw_data = mne.io.read_raw_edf(file_path, preload=True)  # Загрузка данных\n",
            "<ipython-input-39-63d548ab059b>:31: RuntimeWarning: Channels contain different highpass filters. Highest filter setting will be stored.\n",
            "  raw_data = mne.io.read_raw_edf(file_path, preload=True)  # Загрузка данных\n",
            "<ipython-input-39-63d548ab059b>:31: RuntimeWarning: Channels contain different lowpass filters. Lowest filter setting will be stored.\n",
            "  raw_data = mne.io.read_raw_edf(file_path, preload=True)  # Загрузка данных\n"
          ]
        },
        {
          "name": "stdout",
          "output_type": "stream",
          "text": [
            "Filtering raw data in 1 contiguous segment\n",
            "Setting up band-pass filter from 0.5 - 50 Hz\n",
            "\n",
            "FIR filter parameters\n",
            "---------------------\n",
            "Designing a one-pass, zero-phase, non-causal bandpass filter:\n",
            "- Windowed time-domain design (firwin) method\n",
            "- Hamming window with 0.0194 passband ripple and 53 dB stopband attenuation\n",
            "- Lower passband edge: 0.50\n",
            "- Lower transition bandwidth: 0.50 Hz (-6 dB cutoff frequency: 0.25 Hz)\n",
            "- Upper passband edge: 50.00 Hz\n",
            "- Upper transition bandwidth: 12.50 Hz (-6 dB cutoff frequency: 56.25 Hz)\n",
            "- Filter length: 845 samples (6.602 s)\n",
            "\n",
            "\n",
            "FIR filter parameters\n",
            "---------------------\n",
            "Designing a one-pass, zero-phase, non-causal allpass filter:\n",
            "- Windowed frequency-domain design (firwin2) method\n",
            "- Hamming window\n",
            "- Filter length: 1 samples (0.008 s)\n",
            "\n",
            "\n",
            "FIR filter parameters\n",
            "---------------------\n",
            "Designing a one-pass, zero-phase, non-causal allpass filter:\n",
            "- Windowed frequency-domain design (firwin2) method\n",
            "- Hamming window\n",
            "- Filter length: 1 samples (0.008 s)\n",
            "\n",
            "Creating RawArray with float64 data, n_channels=9, n_times=3687040\n",
            "    Range : 0 ... 3687039 =      0.000 ... 28804.992 secs\n",
            "Ready.\n",
            "Extracting EDF parameters from /content/drive/MyDrive/edf_process1/EEG_423.edf...\n",
            "EDF file detected\n",
            "Setting channel info structure...\n",
            "Creating raw.info structure...\n",
            "Reading 0 ... 3686783  =      0.000 ... 28802.992 secs...\n"
          ]
        },
        {
          "name": "stderr",
          "output_type": "stream",
          "text": [
            "<ipython-input-39-63d548ab059b>:31: RuntimeWarning: Channel names are not unique, found duplicates for: {'EEG Fp2-G2', 'EEG Fp1-G2'}. Applying running numbers for duplicates.\n",
            "  raw_data = mne.io.read_raw_edf(file_path, preload=True)  # Загрузка данных\n",
            "<ipython-input-39-63d548ab059b>:31: RuntimeWarning: Channels contain different highpass filters. Highest filter setting will be stored.\n",
            "  raw_data = mne.io.read_raw_edf(file_path, preload=True)  # Загрузка данных\n",
            "<ipython-input-39-63d548ab059b>:31: RuntimeWarning: Channels contain different lowpass filters. Lowest filter setting will be stored.\n",
            "  raw_data = mne.io.read_raw_edf(file_path, preload=True)  # Загрузка данных\n"
          ]
        },
        {
          "name": "stdout",
          "output_type": "stream",
          "text": [
            "Filtering raw data in 1 contiguous segment\n",
            "Setting up band-pass filter from 0.5 - 50 Hz\n",
            "\n",
            "FIR filter parameters\n",
            "---------------------\n",
            "Designing a one-pass, zero-phase, non-causal bandpass filter:\n",
            "- Windowed time-domain design (firwin) method\n",
            "- Hamming window with 0.0194 passband ripple and 53 dB stopband attenuation\n",
            "- Lower passband edge: 0.50\n",
            "- Lower transition bandwidth: 0.50 Hz (-6 dB cutoff frequency: 0.25 Hz)\n",
            "- Upper passband edge: 50.00 Hz\n",
            "- Upper transition bandwidth: 12.50 Hz (-6 dB cutoff frequency: 56.25 Hz)\n",
            "- Filter length: 845 samples (6.602 s)\n",
            "\n",
            "\n",
            "FIR filter parameters\n",
            "---------------------\n",
            "Designing a one-pass, zero-phase, non-causal allpass filter:\n",
            "- Windowed frequency-domain design (firwin2) method\n",
            "- Hamming window\n",
            "- Filter length: 1 samples (0.008 s)\n",
            "\n",
            "\n",
            "FIR filter parameters\n",
            "---------------------\n",
            "Designing a one-pass, zero-phase, non-causal allpass filter:\n",
            "- Windowed frequency-domain design (firwin2) method\n",
            "- Hamming window\n",
            "- Filter length: 1 samples (0.008 s)\n",
            "\n",
            "Creating RawArray with float64 data, n_channels=9, n_times=3686784\n",
            "    Range : 0 ... 3686783 =      0.000 ... 28802.992 secs\n",
            "Ready.\n",
            "Extracting EDF parameters from /content/drive/MyDrive/edf_process1/EEG_330.edf...\n",
            "EDF file detected\n",
            "Setting channel info structure...\n",
            "Creating raw.info structure...\n",
            "Reading 0 ... 7373055  =      0.000 ... 28800.996 secs...\n",
            "Filtering raw data in 1 contiguous segment\n",
            "Setting up band-pass filter from 0.5 - 50 Hz\n",
            "\n",
            "FIR filter parameters\n",
            "---------------------\n",
            "Designing a one-pass, zero-phase, non-causal bandpass filter:\n",
            "- Windowed time-domain design (firwin) method\n",
            "- Hamming window with 0.0194 passband ripple and 53 dB stopband attenuation\n",
            "- Lower passband edge: 0.50\n",
            "- Lower transition bandwidth: 0.50 Hz (-6 dB cutoff frequency: 0.25 Hz)\n",
            "- Upper passband edge: 50.00 Hz\n",
            "- Upper transition bandwidth: 12.50 Hz (-6 dB cutoff frequency: 56.25 Hz)\n",
            "- Filter length: 1691 samples (6.605 s)\n",
            "\n",
            "\n",
            "FIR filter parameters\n",
            "---------------------\n",
            "Designing a one-pass, zero-phase, non-causal allpass filter:\n",
            "- Windowed frequency-domain design (firwin2) method\n",
            "- Hamming window\n",
            "- Filter length: 1 samples (0.004 s)\n",
            "\n",
            "\n",
            "FIR filter parameters\n",
            "---------------------\n",
            "Designing a one-pass, zero-phase, non-causal allpass filter:\n",
            "- Windowed frequency-domain design (firwin2) method\n",
            "- Hamming window\n",
            "- Filter length: 1 samples (0.004 s)\n",
            "\n",
            "Creating RawArray with float64 data, n_channels=1, n_times=7373056\n",
            "    Range : 0 ... 7373055 =      0.000 ... 28800.996 secs\n",
            "Ready.\n",
            "Extracting EDF parameters from /content/drive/MyDrive/edf_process1/EEG_261.edf...\n",
            "EDF file detected\n",
            "Setting channel info structure...\n",
            "Creating raw.info structure...\n",
            "Reading 0 ... 11822975  =      0.000 ... 92366.992 secs...\n"
          ]
        },
        {
          "name": "stderr",
          "output_type": "stream",
          "text": [
            "<ipython-input-39-63d548ab059b>:31: RuntimeWarning: Channel names are not unique, found duplicates for: {'EEG Fp2-G2', 'EEG Fp1-G2'}. Applying running numbers for duplicates.\n",
            "  raw_data = mne.io.read_raw_edf(file_path, preload=True)  # Загрузка данных\n",
            "<ipython-input-39-63d548ab059b>:31: RuntimeWarning: Channels contain different highpass filters. Highest filter setting will be stored.\n",
            "  raw_data = mne.io.read_raw_edf(file_path, preload=True)  # Загрузка данных\n",
            "<ipython-input-39-63d548ab059b>:31: RuntimeWarning: Channels contain different lowpass filters. Lowest filter setting will be stored.\n",
            "  raw_data = mne.io.read_raw_edf(file_path, preload=True)  # Загрузка данных\n"
          ]
        },
        {
          "name": "stdout",
          "output_type": "stream",
          "text": [
            "Filtering raw data in 1 contiguous segment\n",
            "Setting up band-pass filter from 0.5 - 50 Hz\n",
            "\n",
            "FIR filter parameters\n",
            "---------------------\n",
            "Designing a one-pass, zero-phase, non-causal bandpass filter:\n",
            "- Windowed time-domain design (firwin) method\n",
            "- Hamming window with 0.0194 passband ripple and 53 dB stopband attenuation\n",
            "- Lower passband edge: 0.50\n",
            "- Lower transition bandwidth: 0.50 Hz (-6 dB cutoff frequency: 0.25 Hz)\n",
            "- Upper passband edge: 50.00 Hz\n",
            "- Upper transition bandwidth: 12.50 Hz (-6 dB cutoff frequency: 56.25 Hz)\n",
            "- Filter length: 845 samples (6.602 s)\n",
            "\n",
            "\n",
            "FIR filter parameters\n",
            "---------------------\n",
            "Designing a one-pass, zero-phase, non-causal allpass filter:\n",
            "- Windowed frequency-domain design (firwin2) method\n",
            "- Hamming window\n",
            "- Filter length: 1 samples (0.008 s)\n",
            "\n",
            "\n",
            "FIR filter parameters\n",
            "---------------------\n",
            "Designing a one-pass, zero-phase, non-causal allpass filter:\n",
            "- Windowed frequency-domain design (firwin2) method\n",
            "- Hamming window\n",
            "- Filter length: 1 samples (0.008 s)\n",
            "\n",
            "Creating RawArray with float64 data, n_channels=9, n_times=11822976\n",
            "    Range : 0 ... 11822975 =      0.000 ... 92366.992 secs\n",
            "Ready.\n",
            "Extracting EDF parameters from /content/drive/MyDrive/edf_process1/EEG_239.edf...\n",
            "EDF file detected\n",
            "Setting channel info structure...\n",
            "Creating raw.info structure...\n",
            "Reading 0 ... 3686527  =      0.000 ... 28800.992 secs...\n"
          ]
        },
        {
          "name": "stderr",
          "output_type": "stream",
          "text": [
            "<ipython-input-39-63d548ab059b>:31: RuntimeWarning: Channel names are not unique, found duplicates for: {'EEG Fp2-G2', 'EEG Fp1-G2'}. Applying running numbers for duplicates.\n",
            "  raw_data = mne.io.read_raw_edf(file_path, preload=True)  # Загрузка данных\n",
            "<ipython-input-39-63d548ab059b>:31: RuntimeWarning: Channels contain different highpass filters. Highest filter setting will be stored.\n",
            "  raw_data = mne.io.read_raw_edf(file_path, preload=True)  # Загрузка данных\n",
            "<ipython-input-39-63d548ab059b>:31: RuntimeWarning: Channels contain different lowpass filters. Lowest filter setting will be stored.\n",
            "  raw_data = mne.io.read_raw_edf(file_path, preload=True)  # Загрузка данных\n"
          ]
        },
        {
          "name": "stdout",
          "output_type": "stream",
          "text": [
            "Filtering raw data in 1 contiguous segment\n",
            "Setting up band-pass filter from 0.5 - 50 Hz\n",
            "\n",
            "FIR filter parameters\n",
            "---------------------\n",
            "Designing a one-pass, zero-phase, non-causal bandpass filter:\n",
            "- Windowed time-domain design (firwin) method\n",
            "- Hamming window with 0.0194 passband ripple and 53 dB stopband attenuation\n",
            "- Lower passband edge: 0.50\n",
            "- Lower transition bandwidth: 0.50 Hz (-6 dB cutoff frequency: 0.25 Hz)\n",
            "- Upper passband edge: 50.00 Hz\n",
            "- Upper transition bandwidth: 12.50 Hz (-6 dB cutoff frequency: 56.25 Hz)\n",
            "- Filter length: 845 samples (6.602 s)\n",
            "\n",
            "\n",
            "FIR filter parameters\n",
            "---------------------\n",
            "Designing a one-pass, zero-phase, non-causal allpass filter:\n",
            "- Windowed frequency-domain design (firwin2) method\n",
            "- Hamming window\n",
            "- Filter length: 1 samples (0.008 s)\n",
            "\n",
            "\n",
            "FIR filter parameters\n",
            "---------------------\n",
            "Designing a one-pass, zero-phase, non-causal allpass filter:\n",
            "- Windowed frequency-domain design (firwin2) method\n",
            "- Hamming window\n",
            "- Filter length: 1 samples (0.008 s)\n",
            "\n",
            "Creating RawArray with float64 data, n_channels=9, n_times=3686528\n",
            "    Range : 0 ... 3686527 =      0.000 ... 28800.992 secs\n",
            "Ready.\n",
            "Extracting EDF parameters from /content/drive/MyDrive/edf_process1/EEG_152.edf...\n",
            "EDF file detected\n",
            "Setting channel info structure...\n",
            "Creating raw.info structure...\n",
            "Reading 0 ... 3686527  =      0.000 ... 28800.992 secs...\n"
          ]
        },
        {
          "name": "stderr",
          "output_type": "stream",
          "text": [
            "<ipython-input-39-63d548ab059b>:31: RuntimeWarning: Channel names are not unique, found duplicates for: {'EEG Fp2-G2', 'EEG Fp1-G2'}. Applying running numbers for duplicates.\n",
            "  raw_data = mne.io.read_raw_edf(file_path, preload=True)  # Загрузка данных\n",
            "<ipython-input-39-63d548ab059b>:31: RuntimeWarning: Channels contain different highpass filters. Highest filter setting will be stored.\n",
            "  raw_data = mne.io.read_raw_edf(file_path, preload=True)  # Загрузка данных\n",
            "<ipython-input-39-63d548ab059b>:31: RuntimeWarning: Channels contain different lowpass filters. Lowest filter setting will be stored.\n",
            "  raw_data = mne.io.read_raw_edf(file_path, preload=True)  # Загрузка данных\n"
          ]
        },
        {
          "name": "stdout",
          "output_type": "stream",
          "text": [
            "Filtering raw data in 1 contiguous segment\n",
            "Setting up band-pass filter from 0.5 - 50 Hz\n",
            "\n",
            "FIR filter parameters\n",
            "---------------------\n",
            "Designing a one-pass, zero-phase, non-causal bandpass filter:\n",
            "- Windowed time-domain design (firwin) method\n",
            "- Hamming window with 0.0194 passband ripple and 53 dB stopband attenuation\n",
            "- Lower passband edge: 0.50\n",
            "- Lower transition bandwidth: 0.50 Hz (-6 dB cutoff frequency: 0.25 Hz)\n",
            "- Upper passband edge: 50.00 Hz\n",
            "- Upper transition bandwidth: 12.50 Hz (-6 dB cutoff frequency: 56.25 Hz)\n",
            "- Filter length: 845 samples (6.602 s)\n",
            "\n",
            "\n",
            "FIR filter parameters\n",
            "---------------------\n",
            "Designing a one-pass, zero-phase, non-causal allpass filter:\n",
            "- Windowed frequency-domain design (firwin2) method\n",
            "- Hamming window\n",
            "- Filter length: 1 samples (0.008 s)\n",
            "\n",
            "\n",
            "FIR filter parameters\n",
            "---------------------\n",
            "Designing a one-pass, zero-phase, non-causal allpass filter:\n",
            "- Windowed frequency-domain design (firwin2) method\n",
            "- Hamming window\n",
            "- Filter length: 1 samples (0.008 s)\n",
            "\n",
            "Creating RawArray with float64 data, n_channels=9, n_times=3686528\n",
            "    Range : 0 ... 3686527 =      0.000 ... 28800.992 secs\n",
            "Ready.\n",
            "Extracting EDF parameters from /content/drive/MyDrive/edf_process1/EEG_109.edf...\n",
            "EDF file detected\n",
            "Setting channel info structure...\n",
            "Creating raw.info structure...\n",
            "Reading 0 ... 3686527  =      0.000 ... 28800.992 secs...\n"
          ]
        },
        {
          "name": "stderr",
          "output_type": "stream",
          "text": [
            "<ipython-input-39-63d548ab059b>:31: RuntimeWarning: Channel names are not unique, found duplicates for: {'EEG Fp2-G2', 'EEG Fp1-G2'}. Applying running numbers for duplicates.\n",
            "  raw_data = mne.io.read_raw_edf(file_path, preload=True)  # Загрузка данных\n",
            "<ipython-input-39-63d548ab059b>:31: RuntimeWarning: Channels contain different highpass filters. Highest filter setting will be stored.\n",
            "  raw_data = mne.io.read_raw_edf(file_path, preload=True)  # Загрузка данных\n",
            "<ipython-input-39-63d548ab059b>:31: RuntimeWarning: Channels contain different lowpass filters. Lowest filter setting will be stored.\n",
            "  raw_data = mne.io.read_raw_edf(file_path, preload=True)  # Загрузка данных\n"
          ]
        },
        {
          "name": "stdout",
          "output_type": "stream",
          "text": [
            "Filtering raw data in 1 contiguous segment\n",
            "Setting up band-pass filter from 0.5 - 50 Hz\n",
            "\n",
            "FIR filter parameters\n",
            "---------------------\n",
            "Designing a one-pass, zero-phase, non-causal bandpass filter:\n",
            "- Windowed time-domain design (firwin) method\n",
            "- Hamming window with 0.0194 passband ripple and 53 dB stopband attenuation\n",
            "- Lower passband edge: 0.50\n",
            "- Lower transition bandwidth: 0.50 Hz (-6 dB cutoff frequency: 0.25 Hz)\n",
            "- Upper passband edge: 50.00 Hz\n",
            "- Upper transition bandwidth: 12.50 Hz (-6 dB cutoff frequency: 56.25 Hz)\n",
            "- Filter length: 845 samples (6.602 s)\n",
            "\n",
            "\n",
            "FIR filter parameters\n",
            "---------------------\n",
            "Designing a one-pass, zero-phase, non-causal allpass filter:\n",
            "- Windowed frequency-domain design (firwin2) method\n",
            "- Hamming window\n",
            "- Filter length: 1 samples (0.008 s)\n",
            "\n",
            "\n",
            "FIR filter parameters\n",
            "---------------------\n",
            "Designing a one-pass, zero-phase, non-causal allpass filter:\n",
            "- Windowed frequency-domain design (firwin2) method\n",
            "- Hamming window\n",
            "- Filter length: 1 samples (0.008 s)\n",
            "\n",
            "Creating RawArray with float64 data, n_channels=9, n_times=3686528\n",
            "    Range : 0 ... 3686527 =      0.000 ... 28800.992 secs\n",
            "Ready.\n",
            "Extracting EDF parameters from /content/drive/MyDrive/edf_process1/EEG_95.edf...\n",
            "EDF file detected\n",
            "Setting channel info structure...\n",
            "Creating raw.info structure...\n",
            "Reading 0 ... 3686527  =      0.000 ... 28800.992 secs...\n"
          ]
        },
        {
          "name": "stderr",
          "output_type": "stream",
          "text": [
            "<ipython-input-39-63d548ab059b>:31: RuntimeWarning: Channel names are not unique, found duplicates for: {'EEG Fp2-G2', 'EEG Fp1-G2'}. Applying running numbers for duplicates.\n",
            "  raw_data = mne.io.read_raw_edf(file_path, preload=True)  # Загрузка данных\n",
            "<ipython-input-39-63d548ab059b>:31: RuntimeWarning: Channels contain different highpass filters. Highest filter setting will be stored.\n",
            "  raw_data = mne.io.read_raw_edf(file_path, preload=True)  # Загрузка данных\n",
            "<ipython-input-39-63d548ab059b>:31: RuntimeWarning: Channels contain different lowpass filters. Lowest filter setting will be stored.\n",
            "  raw_data = mne.io.read_raw_edf(file_path, preload=True)  # Загрузка данных\n"
          ]
        },
        {
          "name": "stdout",
          "output_type": "stream",
          "text": [
            "Filtering raw data in 1 contiguous segment\n",
            "Setting up band-pass filter from 0.5 - 50 Hz\n",
            "\n",
            "FIR filter parameters\n",
            "---------------------\n",
            "Designing a one-pass, zero-phase, non-causal bandpass filter:\n",
            "- Windowed time-domain design (firwin) method\n",
            "- Hamming window with 0.0194 passband ripple and 53 dB stopband attenuation\n",
            "- Lower passband edge: 0.50\n",
            "- Lower transition bandwidth: 0.50 Hz (-6 dB cutoff frequency: 0.25 Hz)\n",
            "- Upper passband edge: 50.00 Hz\n",
            "- Upper transition bandwidth: 12.50 Hz (-6 dB cutoff frequency: 56.25 Hz)\n",
            "- Filter length: 845 samples (6.602 s)\n",
            "\n",
            "\n",
            "FIR filter parameters\n",
            "---------------------\n",
            "Designing a one-pass, zero-phase, non-causal allpass filter:\n",
            "- Windowed frequency-domain design (firwin2) method\n",
            "- Hamming window\n",
            "- Filter length: 1 samples (0.008 s)\n",
            "\n",
            "\n",
            "FIR filter parameters\n",
            "---------------------\n",
            "Designing a one-pass, zero-phase, non-causal allpass filter:\n",
            "- Windowed frequency-domain design (firwin2) method\n",
            "- Hamming window\n",
            "- Filter length: 1 samples (0.008 s)\n",
            "\n",
            "Creating RawArray with float64 data, n_channels=9, n_times=3686528\n",
            "    Range : 0 ... 3686527 =      0.000 ... 28800.992 secs\n",
            "Ready.\n",
            "Extracting EDF parameters from /content/drive/MyDrive/edf_process1/EEG_85.edf...\n",
            "EDF file detected\n",
            "Setting channel info structure...\n",
            "Creating raw.info structure...\n",
            "Reading 0 ... 3686527  =      0.000 ... 28800.992 secs...\n"
          ]
        },
        {
          "name": "stderr",
          "output_type": "stream",
          "text": [
            "<ipython-input-39-63d548ab059b>:31: RuntimeWarning: Channel names are not unique, found duplicates for: {'EEG Fp2-G2', 'EEG Fp1-G2'}. Applying running numbers for duplicates.\n",
            "  raw_data = mne.io.read_raw_edf(file_path, preload=True)  # Загрузка данных\n",
            "<ipython-input-39-63d548ab059b>:31: RuntimeWarning: Channels contain different highpass filters. Highest filter setting will be stored.\n",
            "  raw_data = mne.io.read_raw_edf(file_path, preload=True)  # Загрузка данных\n",
            "<ipython-input-39-63d548ab059b>:31: RuntimeWarning: Channels contain different lowpass filters. Lowest filter setting will be stored.\n",
            "  raw_data = mne.io.read_raw_edf(file_path, preload=True)  # Загрузка данных\n"
          ]
        },
        {
          "name": "stdout",
          "output_type": "stream",
          "text": [
            "Filtering raw data in 1 contiguous segment\n",
            "Setting up band-pass filter from 0.5 - 50 Hz\n",
            "\n",
            "FIR filter parameters\n",
            "---------------------\n",
            "Designing a one-pass, zero-phase, non-causal bandpass filter:\n",
            "- Windowed time-domain design (firwin) method\n",
            "- Hamming window with 0.0194 passband ripple and 53 dB stopband attenuation\n",
            "- Lower passband edge: 0.50\n",
            "- Lower transition bandwidth: 0.50 Hz (-6 dB cutoff frequency: 0.25 Hz)\n",
            "- Upper passband edge: 50.00 Hz\n",
            "- Upper transition bandwidth: 12.50 Hz (-6 dB cutoff frequency: 56.25 Hz)\n",
            "- Filter length: 845 samples (6.602 s)\n",
            "\n",
            "\n",
            "FIR filter parameters\n",
            "---------------------\n",
            "Designing a one-pass, zero-phase, non-causal allpass filter:\n",
            "- Windowed frequency-domain design (firwin2) method\n",
            "- Hamming window\n",
            "- Filter length: 1 samples (0.008 s)\n",
            "\n",
            "\n",
            "FIR filter parameters\n",
            "---------------------\n",
            "Designing a one-pass, zero-phase, non-causal allpass filter:\n",
            "- Windowed frequency-domain design (firwin2) method\n",
            "- Hamming window\n",
            "- Filter length: 1 samples (0.008 s)\n",
            "\n",
            "Creating RawArray with float64 data, n_channels=9, n_times=3686528\n",
            "    Range : 0 ... 3686527 =      0.000 ... 28800.992 secs\n",
            "Ready.\n",
            "Extracting EDF parameters from /content/drive/MyDrive/edf_process1/EEG_80.edf...\n",
            "EDF file detected\n",
            "Setting channel info structure...\n",
            "Creating raw.info structure...\n",
            "Reading 0 ... 3686527  =      0.000 ... 28800.992 secs...\n"
          ]
        },
        {
          "name": "stderr",
          "output_type": "stream",
          "text": [
            "<ipython-input-39-63d548ab059b>:31: RuntimeWarning: Channel names are not unique, found duplicates for: {'EEG Fp2-G2', 'EEG Fp1-G2'}. Applying running numbers for duplicates.\n",
            "  raw_data = mne.io.read_raw_edf(file_path, preload=True)  # Загрузка данных\n",
            "<ipython-input-39-63d548ab059b>:31: RuntimeWarning: Channels contain different highpass filters. Highest filter setting will be stored.\n",
            "  raw_data = mne.io.read_raw_edf(file_path, preload=True)  # Загрузка данных\n",
            "<ipython-input-39-63d548ab059b>:31: RuntimeWarning: Channels contain different lowpass filters. Lowest filter setting will be stored.\n",
            "  raw_data = mne.io.read_raw_edf(file_path, preload=True)  # Загрузка данных\n"
          ]
        },
        {
          "name": "stdout",
          "output_type": "stream",
          "text": [
            "Filtering raw data in 1 contiguous segment\n",
            "Setting up band-pass filter from 0.5 - 50 Hz\n",
            "\n",
            "FIR filter parameters\n",
            "---------------------\n",
            "Designing a one-pass, zero-phase, non-causal bandpass filter:\n",
            "- Windowed time-domain design (firwin) method\n",
            "- Hamming window with 0.0194 passband ripple and 53 dB stopband attenuation\n",
            "- Lower passband edge: 0.50\n",
            "- Lower transition bandwidth: 0.50 Hz (-6 dB cutoff frequency: 0.25 Hz)\n",
            "- Upper passband edge: 50.00 Hz\n",
            "- Upper transition bandwidth: 12.50 Hz (-6 dB cutoff frequency: 56.25 Hz)\n",
            "- Filter length: 845 samples (6.602 s)\n",
            "\n",
            "\n",
            "FIR filter parameters\n",
            "---------------------\n",
            "Designing a one-pass, zero-phase, non-causal allpass filter:\n",
            "- Windowed frequency-domain design (firwin2) method\n",
            "- Hamming window\n",
            "- Filter length: 1 samples (0.008 s)\n",
            "\n",
            "\n",
            "FIR filter parameters\n",
            "---------------------\n",
            "Designing a one-pass, zero-phase, non-causal allpass filter:\n",
            "- Windowed frequency-domain design (firwin2) method\n",
            "- Hamming window\n",
            "- Filter length: 1 samples (0.008 s)\n",
            "\n",
            "Creating RawArray with float64 data, n_channels=9, n_times=3686528\n",
            "    Range : 0 ... 3686527 =      0.000 ... 28800.992 secs\n",
            "Ready.\n",
            "Extracting EDF parameters from /content/drive/MyDrive/edf_process1/EEG_70.edf...\n",
            "EDF file detected\n",
            "Setting channel info structure...\n",
            "Creating raw.info structure...\n",
            "Reading 0 ... 3686655  =      0.000 ... 28801.992 secs...\n"
          ]
        },
        {
          "name": "stderr",
          "output_type": "stream",
          "text": [
            "<ipython-input-39-63d548ab059b>:31: RuntimeWarning: Channel names are not unique, found duplicates for: {'EEG Fp2-G2', 'EEG Fp1-G2'}. Applying running numbers for duplicates.\n",
            "  raw_data = mne.io.read_raw_edf(file_path, preload=True)  # Загрузка данных\n",
            "<ipython-input-39-63d548ab059b>:31: RuntimeWarning: Channels contain different highpass filters. Highest filter setting will be stored.\n",
            "  raw_data = mne.io.read_raw_edf(file_path, preload=True)  # Загрузка данных\n",
            "<ipython-input-39-63d548ab059b>:31: RuntimeWarning: Channels contain different lowpass filters. Lowest filter setting will be stored.\n",
            "  raw_data = mne.io.read_raw_edf(file_path, preload=True)  # Загрузка данных\n"
          ]
        },
        {
          "name": "stdout",
          "output_type": "stream",
          "text": [
            "Filtering raw data in 1 contiguous segment\n",
            "Setting up band-pass filter from 0.5 - 50 Hz\n",
            "\n",
            "FIR filter parameters\n",
            "---------------------\n",
            "Designing a one-pass, zero-phase, non-causal bandpass filter:\n",
            "- Windowed time-domain design (firwin) method\n",
            "- Hamming window with 0.0194 passband ripple and 53 dB stopband attenuation\n",
            "- Lower passband edge: 0.50\n",
            "- Lower transition bandwidth: 0.50 Hz (-6 dB cutoff frequency: 0.25 Hz)\n",
            "- Upper passband edge: 50.00 Hz\n",
            "- Upper transition bandwidth: 12.50 Hz (-6 dB cutoff frequency: 56.25 Hz)\n",
            "- Filter length: 845 samples (6.602 s)\n",
            "\n",
            "\n",
            "FIR filter parameters\n",
            "---------------------\n",
            "Designing a one-pass, zero-phase, non-causal allpass filter:\n",
            "- Windowed frequency-domain design (firwin2) method\n",
            "- Hamming window\n",
            "- Filter length: 1 samples (0.008 s)\n",
            "\n",
            "\n",
            "FIR filter parameters\n",
            "---------------------\n",
            "Designing a one-pass, zero-phase, non-causal allpass filter:\n",
            "- Windowed frequency-domain design (firwin2) method\n",
            "- Hamming window\n",
            "- Filter length: 1 samples (0.008 s)\n",
            "\n",
            "Creating RawArray with float64 data, n_channels=9, n_times=3686656\n",
            "    Range : 0 ... 3686655 =      0.000 ... 28801.992 secs\n",
            "Ready.\n",
            "Extracting EDF parameters from /content/drive/MyDrive/edf_process1/EEG_68.edf...\n",
            "EDF file detected\n",
            "Setting channel info structure...\n",
            "Creating raw.info structure...\n",
            "Reading 0 ... 3686527  =      0.000 ... 28800.992 secs...\n"
          ]
        },
        {
          "name": "stderr",
          "output_type": "stream",
          "text": [
            "<ipython-input-39-63d548ab059b>:31: RuntimeWarning: Channel names are not unique, found duplicates for: {'EEG Fp2-G2', 'EEG Fp1-G2'}. Applying running numbers for duplicates.\n",
            "  raw_data = mne.io.read_raw_edf(file_path, preload=True)  # Загрузка данных\n",
            "<ipython-input-39-63d548ab059b>:31: RuntimeWarning: Channels contain different highpass filters. Highest filter setting will be stored.\n",
            "  raw_data = mne.io.read_raw_edf(file_path, preload=True)  # Загрузка данных\n",
            "<ipython-input-39-63d548ab059b>:31: RuntimeWarning: Channels contain different lowpass filters. Lowest filter setting will be stored.\n",
            "  raw_data = mne.io.read_raw_edf(file_path, preload=True)  # Загрузка данных\n"
          ]
        },
        {
          "name": "stdout",
          "output_type": "stream",
          "text": [
            "Filtering raw data in 1 contiguous segment\n",
            "Setting up band-pass filter from 0.5 - 50 Hz\n",
            "\n",
            "FIR filter parameters\n",
            "---------------------\n",
            "Designing a one-pass, zero-phase, non-causal bandpass filter:\n",
            "- Windowed time-domain design (firwin) method\n",
            "- Hamming window with 0.0194 passband ripple and 53 dB stopband attenuation\n",
            "- Lower passband edge: 0.50\n",
            "- Lower transition bandwidth: 0.50 Hz (-6 dB cutoff frequency: 0.25 Hz)\n",
            "- Upper passband edge: 50.00 Hz\n",
            "- Upper transition bandwidth: 12.50 Hz (-6 dB cutoff frequency: 56.25 Hz)\n",
            "- Filter length: 845 samples (6.602 s)\n",
            "\n",
            "\n",
            "FIR filter parameters\n",
            "---------------------\n",
            "Designing a one-pass, zero-phase, non-causal allpass filter:\n",
            "- Windowed frequency-domain design (firwin2) method\n",
            "- Hamming window\n",
            "- Filter length: 1 samples (0.008 s)\n",
            "\n",
            "\n",
            "FIR filter parameters\n",
            "---------------------\n",
            "Designing a one-pass, zero-phase, non-causal allpass filter:\n",
            "- Windowed frequency-domain design (firwin2) method\n",
            "- Hamming window\n",
            "- Filter length: 1 samples (0.008 s)\n",
            "\n",
            "Creating RawArray with float64 data, n_channels=9, n_times=3686528\n",
            "    Range : 0 ... 3686527 =      0.000 ... 28800.992 secs\n",
            "Ready.\n",
            "Extracting EDF parameters from /content/drive/MyDrive/edf_process1/EEG_53.edf...\n",
            "EDF file detected\n",
            "Setting channel info structure...\n",
            "Creating raw.info structure...\n"
          ]
        },
        {
          "name": "stderr",
          "output_type": "stream",
          "text": [
            "<ipython-input-39-63d548ab059b>:31: RuntimeWarning: Channel names are not unique, found duplicates for: {'EEG Fp2-G2', 'EEG Fp1-G2'}. Applying running numbers for duplicates.\n",
            "  raw_data = mne.io.read_raw_edf(file_path, preload=True)  # Загрузка данных\n",
            "<ipython-input-39-63d548ab059b>:31: RuntimeWarning: Channels contain different highpass filters. Highest filter setting will be stored.\n",
            "  raw_data = mne.io.read_raw_edf(file_path, preload=True)  # Загрузка данных\n",
            "<ipython-input-39-63d548ab059b>:31: RuntimeWarning: Channels contain different lowpass filters. Lowest filter setting will be stored.\n",
            "  raw_data = mne.io.read_raw_edf(file_path, preload=True)  # Загрузка данных\n"
          ]
        },
        {
          "name": "stdout",
          "output_type": "stream",
          "text": [
            "Reading 0 ... 32850559  =      0.000 ... 256644.992 secs...\n",
            "Filtering raw data in 1 contiguous segment\n",
            "Setting up band-pass filter from 0.5 - 50 Hz\n",
            "\n",
            "FIR filter parameters\n",
            "---------------------\n",
            "Designing a one-pass, zero-phase, non-causal bandpass filter:\n",
            "- Windowed time-domain design (firwin) method\n",
            "- Hamming window with 0.0194 passband ripple and 53 dB stopband attenuation\n",
            "- Lower passband edge: 0.50\n",
            "- Lower transition bandwidth: 0.50 Hz (-6 dB cutoff frequency: 0.25 Hz)\n",
            "- Upper passband edge: 50.00 Hz\n",
            "- Upper transition bandwidth: 12.50 Hz (-6 dB cutoff frequency: 56.25 Hz)\n",
            "- Filter length: 845 samples (6.602 s)\n",
            "\n",
            "\n",
            "FIR filter parameters\n",
            "---------------------\n",
            "Designing a one-pass, zero-phase, non-causal allpass filter:\n",
            "- Windowed frequency-domain design (firwin2) method\n",
            "- Hamming window\n",
            "- Filter length: 1 samples (0.008 s)\n",
            "\n",
            "\n",
            "FIR filter parameters\n",
            "---------------------\n",
            "Designing a one-pass, zero-phase, non-causal allpass filter:\n",
            "- Windowed frequency-domain design (firwin2) method\n",
            "- Hamming window\n",
            "- Filter length: 1 samples (0.008 s)\n",
            "\n",
            "Creating RawArray with float64 data, n_channels=9, n_times=32850560\n",
            "    Range : 0 ... 32850559 =      0.000 ... 256644.992 secs\n",
            "Ready.\n",
            "Extracting EDF parameters from /content/drive/MyDrive/edf_process1/EEG_47.edf...\n",
            "EDF file detected\n",
            "Setting channel info structure...\n",
            "Creating raw.info structure...\n",
            "Reading 0 ... 3686527  =      0.000 ... 28800.992 secs...\n"
          ]
        },
        {
          "name": "stderr",
          "output_type": "stream",
          "text": [
            "<ipython-input-39-63d548ab059b>:31: RuntimeWarning: Channel names are not unique, found duplicates for: {'EEG Fp2-G2', 'EEG Fp1-G2'}. Applying running numbers for duplicates.\n",
            "  raw_data = mne.io.read_raw_edf(file_path, preload=True)  # Загрузка данных\n",
            "<ipython-input-39-63d548ab059b>:31: RuntimeWarning: Channels contain different highpass filters. Highest filter setting will be stored.\n",
            "  raw_data = mne.io.read_raw_edf(file_path, preload=True)  # Загрузка данных\n",
            "<ipython-input-39-63d548ab059b>:31: RuntimeWarning: Channels contain different lowpass filters. Lowest filter setting will be stored.\n",
            "  raw_data = mne.io.read_raw_edf(file_path, preload=True)  # Загрузка данных\n"
          ]
        },
        {
          "name": "stdout",
          "output_type": "stream",
          "text": [
            "Filtering raw data in 1 contiguous segment\n",
            "Setting up band-pass filter from 0.5 - 50 Hz\n",
            "\n",
            "FIR filter parameters\n",
            "---------------------\n",
            "Designing a one-pass, zero-phase, non-causal bandpass filter:\n",
            "- Windowed time-domain design (firwin) method\n",
            "- Hamming window with 0.0194 passband ripple and 53 dB stopband attenuation\n",
            "- Lower passband edge: 0.50\n",
            "- Lower transition bandwidth: 0.50 Hz (-6 dB cutoff frequency: 0.25 Hz)\n",
            "- Upper passband edge: 50.00 Hz\n",
            "- Upper transition bandwidth: 12.50 Hz (-6 dB cutoff frequency: 56.25 Hz)\n",
            "- Filter length: 845 samples (6.602 s)\n",
            "\n",
            "\n",
            "FIR filter parameters\n",
            "---------------------\n",
            "Designing a one-pass, zero-phase, non-causal allpass filter:\n",
            "- Windowed frequency-domain design (firwin2) method\n",
            "- Hamming window\n",
            "- Filter length: 1 samples (0.008 s)\n",
            "\n",
            "\n",
            "FIR filter parameters\n",
            "---------------------\n",
            "Designing a one-pass, zero-phase, non-causal allpass filter:\n",
            "- Windowed frequency-domain design (firwin2) method\n",
            "- Hamming window\n",
            "- Filter length: 1 samples (0.008 s)\n",
            "\n",
            "Creating RawArray with float64 data, n_channels=9, n_times=3686528\n",
            "    Range : 0 ... 3686527 =      0.000 ... 28800.992 secs\n",
            "Ready.\n",
            "Extracting EDF parameters from /content/drive/MyDrive/edf_process1/EEG_28.edf...\n",
            "EDF file detected\n",
            "Setting channel info structure...\n",
            "Creating raw.info structure...\n",
            "Reading 0 ... 3686527  =      0.000 ... 28800.992 secs...\n"
          ]
        },
        {
          "name": "stderr",
          "output_type": "stream",
          "text": [
            "<ipython-input-39-63d548ab059b>:31: RuntimeWarning: Channel names are not unique, found duplicates for: {'EEG Fp2-G2', 'EEG Fp1-G2'}. Applying running numbers for duplicates.\n",
            "  raw_data = mne.io.read_raw_edf(file_path, preload=True)  # Загрузка данных\n",
            "<ipython-input-39-63d548ab059b>:31: RuntimeWarning: Channels contain different highpass filters. Highest filter setting will be stored.\n",
            "  raw_data = mne.io.read_raw_edf(file_path, preload=True)  # Загрузка данных\n",
            "<ipython-input-39-63d548ab059b>:31: RuntimeWarning: Channels contain different lowpass filters. Lowest filter setting will be stored.\n",
            "  raw_data = mne.io.read_raw_edf(file_path, preload=True)  # Загрузка данных\n"
          ]
        },
        {
          "name": "stdout",
          "output_type": "stream",
          "text": [
            "Filtering raw data in 1 contiguous segment\n",
            "Setting up band-pass filter from 0.5 - 50 Hz\n",
            "\n",
            "FIR filter parameters\n",
            "---------------------\n",
            "Designing a one-pass, zero-phase, non-causal bandpass filter:\n",
            "- Windowed time-domain design (firwin) method\n",
            "- Hamming window with 0.0194 passband ripple and 53 dB stopband attenuation\n",
            "- Lower passband edge: 0.50\n",
            "- Lower transition bandwidth: 0.50 Hz (-6 dB cutoff frequency: 0.25 Hz)\n",
            "- Upper passband edge: 50.00 Hz\n",
            "- Upper transition bandwidth: 12.50 Hz (-6 dB cutoff frequency: 56.25 Hz)\n",
            "- Filter length: 845 samples (6.602 s)\n",
            "\n",
            "\n",
            "FIR filter parameters\n",
            "---------------------\n",
            "Designing a one-pass, zero-phase, non-causal allpass filter:\n",
            "- Windowed frequency-domain design (firwin2) method\n",
            "- Hamming window\n",
            "- Filter length: 1 samples (0.008 s)\n",
            "\n",
            "\n",
            "FIR filter parameters\n",
            "---------------------\n",
            "Designing a one-pass, zero-phase, non-causal allpass filter:\n",
            "- Windowed frequency-domain design (firwin2) method\n",
            "- Hamming window\n",
            "- Filter length: 1 samples (0.008 s)\n",
            "\n",
            "Creating RawArray with float64 data, n_channels=9, n_times=3686528\n",
            "    Range : 0 ... 3686527 =      0.000 ... 28800.992 secs\n",
            "Ready.\n",
            "Extracting EDF parameters from /content/drive/MyDrive/SkolNeuro/EEG_21.edf...\n",
            "EDF file detected\n",
            "Setting channel info structure...\n",
            "Creating raw.info structure...\n",
            "Reading 0 ... 350719  =      0.000 ...  2739.992 secs...\n",
            "Filtering raw data in 1 contiguous segment\n",
            "Setting up band-pass filter from 0.5 - 50 Hz\n",
            "\n",
            "FIR filter parameters\n",
            "---------------------\n",
            "Designing a one-pass, zero-phase, non-causal bandpass filter:\n",
            "- Windowed time-domain design (firwin) method\n",
            "- Hamming window with 0.0194 passband ripple and 53 dB stopband attenuation\n",
            "- Lower passband edge: 0.50\n",
            "- Lower transition bandwidth: 0.50 Hz (-6 dB cutoff frequency: 0.25 Hz)\n",
            "- Upper passband edge: 50.00 Hz\n",
            "- Upper transition bandwidth: 12.50 Hz (-6 dB cutoff frequency: 56.25 Hz)\n",
            "- Filter length: 845 samples (6.602 s)\n",
            "\n"
          ]
        },
        {
          "name": "stderr",
          "output_type": "stream",
          "text": [
            "<ipython-input-39-63d548ab059b>:31: RuntimeWarning: Channel names are not unique, found duplicates for: {'EEG Fp2-G2', 'EEG Fp1-G2'}. Applying running numbers for duplicates.\n",
            "  raw_data = mne.io.read_raw_edf(file_path, preload=True)  # Загрузка данных\n",
            "<ipython-input-39-63d548ab059b>:31: RuntimeWarning: Channels contain different highpass filters. Highest filter setting will be stored.\n",
            "  raw_data = mne.io.read_raw_edf(file_path, preload=True)  # Загрузка данных\n",
            "<ipython-input-39-63d548ab059b>:31: RuntimeWarning: Channels contain different lowpass filters. Lowest filter setting will be stored.\n",
            "  raw_data = mne.io.read_raw_edf(file_path, preload=True)  # Загрузка данных\n"
          ]
        },
        {
          "name": "stdout",
          "output_type": "stream",
          "text": [
            "\n",
            "FIR filter parameters\n",
            "---------------------\n",
            "Designing a one-pass, zero-phase, non-causal allpass filter:\n",
            "- Windowed frequency-domain design (firwin2) method\n",
            "- Hamming window\n",
            "- Filter length: 1 samples (0.008 s)\n",
            "\n",
            "\n",
            "FIR filter parameters\n",
            "---------------------\n",
            "Designing a one-pass, zero-phase, non-causal allpass filter:\n",
            "- Windowed frequency-domain design (firwin2) method\n",
            "- Hamming window\n",
            "- Filter length: 1 samples (0.008 s)\n",
            "\n",
            "Creating RawArray with float64 data, n_channels=9, n_times=350720\n",
            "    Range : 0 ... 350719 =      0.000 ...  2739.992 secs\n",
            "Ready.\n",
            "Extracting EDF parameters from /content/drive/MyDrive/SkolNeuro/EEG_68.edf...\n",
            "EDF file detected\n",
            "Setting channel info structure...\n",
            "Creating raw.info structure...\n",
            "Reading 0 ... 3686527  =      0.000 ... 28800.992 secs...\n"
          ]
        },
        {
          "name": "stderr",
          "output_type": "stream",
          "text": [
            "<ipython-input-39-63d548ab059b>:31: RuntimeWarning: Channel names are not unique, found duplicates for: {'EEG Fp2-G2', 'EEG Fp1-G2'}. Applying running numbers for duplicates.\n",
            "  raw_data = mne.io.read_raw_edf(file_path, preload=True)  # Загрузка данных\n",
            "<ipython-input-39-63d548ab059b>:31: RuntimeWarning: Channels contain different highpass filters. Highest filter setting will be stored.\n",
            "  raw_data = mne.io.read_raw_edf(file_path, preload=True)  # Загрузка данных\n",
            "<ipython-input-39-63d548ab059b>:31: RuntimeWarning: Channels contain different lowpass filters. Lowest filter setting will be stored.\n",
            "  raw_data = mne.io.read_raw_edf(file_path, preload=True)  # Загрузка данных\n"
          ]
        },
        {
          "name": "stdout",
          "output_type": "stream",
          "text": [
            "Filtering raw data in 1 contiguous segment\n",
            "Setting up band-pass filter from 0.5 - 50 Hz\n",
            "\n",
            "FIR filter parameters\n",
            "---------------------\n",
            "Designing a one-pass, zero-phase, non-causal bandpass filter:\n",
            "- Windowed time-domain design (firwin) method\n",
            "- Hamming window with 0.0194 passband ripple and 53 dB stopband attenuation\n",
            "- Lower passband edge: 0.50\n",
            "- Lower transition bandwidth: 0.50 Hz (-6 dB cutoff frequency: 0.25 Hz)\n",
            "- Upper passband edge: 50.00 Hz\n",
            "- Upper transition bandwidth: 12.50 Hz (-6 dB cutoff frequency: 56.25 Hz)\n",
            "- Filter length: 845 samples (6.602 s)\n",
            "\n",
            "\n",
            "FIR filter parameters\n",
            "---------------------\n",
            "Designing a one-pass, zero-phase, non-causal allpass filter:\n",
            "- Windowed frequency-domain design (firwin2) method\n",
            "- Hamming window\n",
            "- Filter length: 1 samples (0.008 s)\n",
            "\n",
            "\n",
            "FIR filter parameters\n",
            "---------------------\n",
            "Designing a one-pass, zero-phase, non-causal allpass filter:\n",
            "- Windowed frequency-domain design (firwin2) method\n",
            "- Hamming window\n",
            "- Filter length: 1 samples (0.008 s)\n",
            "\n",
            "Creating RawArray with float64 data, n_channels=9, n_times=3686528\n",
            "    Range : 0 ... 3686527 =      0.000 ... 28800.992 secs\n",
            "Ready.\n",
            "Extracting EDF parameters from /content/drive/MyDrive/SkolNeuro/P010.EDF...\n",
            "EDF file detected\n",
            "Setting channel info structure...\n",
            "Creating raw.info structure...\n",
            "Reading 0 ... 3167999  =      0.000 ...  6335.998 secs...\n",
            "Filtering raw data in 1 contiguous segment\n",
            "Setting up band-pass filter from 0.5 - 50 Hz\n",
            "\n",
            "FIR filter parameters\n",
            "---------------------\n",
            "Designing a one-pass, zero-phase, non-causal bandpass filter:\n",
            "- Windowed time-domain design (firwin) method\n",
            "- Hamming window with 0.0194 passband ripple and 53 dB stopband attenuation\n",
            "- Lower passband edge: 0.50\n",
            "- Lower transition bandwidth: 0.50 Hz (-6 dB cutoff frequency: 0.25 Hz)\n",
            "- Upper passband edge: 50.00 Hz\n",
            "- Upper transition bandwidth: 12.50 Hz (-6 dB cutoff frequency: 56.25 Hz)\n",
            "- Filter length: 3301 samples (6.602 s)\n",
            "\n"
          ]
        },
        {
          "name": "stderr",
          "output_type": "stream",
          "text": [
            "[Parallel(n_jobs=1)]: Done  17 tasks      | elapsed:    1.8s\n"
          ]
        },
        {
          "name": "stdout",
          "output_type": "stream",
          "text": [
            "\n",
            "FIR filter parameters\n",
            "---------------------\n",
            "Designing a one-pass, zero-phase, non-causal allpass filter:\n",
            "- Windowed frequency-domain design (firwin2) method\n",
            "- Hamming window\n",
            "- Filter length: 1 samples (0.002 s)\n",
            "\n",
            "\n",
            "FIR filter parameters\n",
            "---------------------\n",
            "Designing a one-pass, zero-phase, non-causal allpass filter:\n",
            "- Windowed frequency-domain design (firwin2) method\n",
            "- Hamming window\n",
            "- Filter length: 1 samples (0.002 s)\n",
            "\n"
          ]
        },
        {
          "name": "stderr",
          "output_type": "stream",
          "text": [
            "/usr/local/lib/python3.10/dist-packages/pywt/_thresholding.py:22: RuntimeWarning: invalid value encountered in divide\n",
            "  thresholded = (1 - value/magnitude)\n"
          ]
        },
        {
          "name": "stdout",
          "output_type": "stream",
          "text": [
            "Creating RawArray with float64 data, n_channels=36, n_times=3168000\n",
            "    Range : 0 ... 3167999 =      0.000 ...  6335.998 secs\n",
            "Ready.\n"
          ]
        }
      ],
      "source": [
        "common_path = '/content/drive/MyDrive/edf_process1/'\n",
        "another_path = '/content/drive/MyDrive/SkolNeuro/'\n",
        "\n",
        "# Список путей к файлам EDF\n",
        "file_paths = [common_path+'EEG_7134.edf', common_path+'EEG_7129.edf', common_path+'EEG_2171.edf', common_path+'EEG_1747.edf',\n",
        "              common_path+'EEG_1732.edf', common_path+'EEG_1728.edf', common_path+'EEG_1714.edf', common_path+'EEG_1697.edf',\n",
        "              common_path+'EEG_1695.edf', common_path+'EEG_1687.edf', common_path+'EEG_793.edf', common_path+'EEG_792.edf',\n",
        "              common_path+'EEG_665.edf', common_path+'EEG_595.edf', common_path+'EEG_531.edf', common_path+'EEG_423.edf',\n",
        "              common_path+'EEG_330.edf', common_path+'EEG_261.edf', common_path+'EEG_239.edf', common_path+'EEG_152.edf',\n",
        "              common_path+'EEG_109.edf', common_path+'EEG_95.edf', common_path+'EEG_85.edf', common_path+'EEG_80.edf',\n",
        "              common_path+'EEG_70.edf', common_path+'EEG_68.edf', common_path+'EEG_53.edf', common_path+'EEG_47.edf',\n",
        "              common_path+'EEG_28.edf', another_path+'EEG_21.edf', another_path+'EEG_68.edf', another_path+'P010.EDF']\n",
        "\n",
        "def split_data_into_chunks(data, chunk_size=128):\n",
        "\n",
        "    num_channels, num_samples = data.shape\n",
        "    train_data = []\n",
        "\n",
        "    for channel in range(num_channels):\n",
        "        channel_data = data[channel]\n",
        "        channel_chunks = [channel_data[i:i + chunk_size] for i in range(0, num_samples, chunk_size)]\n",
        "        train_data.append(channel_chunks)\n",
        "\n",
        "    return np.array(train_data)\n",
        "\n",
        "# Пустой список для обработанных и разделенных данных\n",
        "processed_and_splitted_data = []\n",
        "\n",
        "# Обработка каждого файла\n",
        "for file_path in file_paths:\n",
        "    raw_data = mne.io.read_raw_edf(file_path, preload=True)  # Загрузка данных\n",
        "\n",
        "    # Выполнение обработки данных с помощью фильтрации или других преобразований\n",
        "\n",
        "    # Фильтрация сигнала фильтром Баттерворта\n",
        "    filtered_raw = raw_data.copy().filter(0.5, 50, method='fir', fir_design='firwin')\n",
        "\n",
        "    # Прямая и обратная фильтрация\n",
        "    filtered_signal = filtered_raw.get_data(picks='eeg')\n",
        "    forward_filtered_signal = mne.filter.filter_data(filtered_signal, sfreq=raw_data.info['sfreq'], l_freq=None, h_freq=None, method='fir',\n",
        "                                                     fir_window='hamming', fir_design='firwin2')\n",
        "    backward_filtered_signal = mne.filter.filter_data(forward_filtered_signal, sfreq=raw_data.info['sfreq'], l_freq=None, h_freq=None, method='fir',\n",
        "                                                     fir_window='hamming', fir_design='firwin2', iir_params=None, picks=None, n_jobs=1)\n",
        "\n",
        "    # Вейвлет-преобразование Добеши 4 порядка, 6 уровней\n",
        "    wavelet = pywt.Wavelet('db4')\n",
        "    coeffs = pywt.wavedec(backward_filtered_signal, wavelet, level=6)\n",
        "\n",
        "    coeffs[1:] = [pywt.threshold(i, value=0, mode='soft') if i is not None else None for i in coeffs[1:]]\n",
        "    wavelet_filtered = pywt.waverec(coeffs, wavelet)\n",
        "\n",
        "    # Проверяем и дополняем данные нулями, если необходимо\n",
        "    if len(wavelet_filtered) < len(raw_data.get_data()):\n",
        "        diff_len = len(raw_data.get_data()) - len(wavelet_filtered)\n",
        "        wavelet_filtered = np.concatenate([wavelet_filtered, np.zeros(diff_len)])\n",
        "\n",
        "    # Создаем новый объект RawArray\n",
        "    info = mne.create_info(ch_names=raw_data.info['ch_names'], sfreq=raw_data.info['sfreq'], ch_types='eeg')\n",
        "    raw_filt = mne.io.RawArray(wavelet_filtered, info)\n",
        "\n",
        "    # Разделяем данные на кусочки и добавляем в список\n",
        "    processed_and_splitted_data.append(split_data_into_chunks(raw_filt.get_data()))\n",
        "    #splitted_data = split_into_chunks(raw_filt.get_data(), chunk_size=128)\n",
        "    #processed_and_splitted_data.extend(splitted_data)  # Добавление кусочков в список\n"
      ]
    },
    {
      "cell_type": "code",
      "execution_count": null,
      "metadata": {
        "colab": {
          "base_uri": "https://localhost:8080/"
        },
        "id": "XZlPxM4nL055",
        "outputId": "b9ce91b1-1ee6-4282-80d5-0825d3690f3d"
      },
      "outputs": [
        {
          "name": "stdout",
          "output_type": "stream",
          "text": [
            "(1, 1186522, 128)\n"
          ]
        }
      ],
      "source": [
        "# Находим минимальную длину среди всех кусочков данных\n",
        "min_length = min(len(data) for data in processed_and_splitted_data)\n",
        "\n",
        "# Усекаем все кусочки данных до минимальной длины\n",
        "trimmed_data = [data[:min_length] for data in processed_and_splitted_data]\n",
        "\n",
        "# Результат\n",
        "pr_data = np.concatenate(trimmed_data, axis=1)  # Объединение данных из разных файлов\n",
        "print(pr_data.shape)  # Размерность массива данных"
      ]
    },
    {
      "cell_type": "code",
      "execution_count": null,
      "metadata": {
        "id": "QKCvAATFRQbM"
      },
      "outputs": [],
      "source": [
        "# Сохранение обработанных данных\n",
        "np.save('/content/drive/MyDrive/Colab_saved/processed_data128.npy', pr_data)"
      ]
    },
    {
      "cell_type": "code",
      "execution_count": null,
      "metadata": {
        "colab": {
          "base_uri": "https://localhost:8080/"
        },
        "id": "NqTPYhv6RcVf",
        "outputId": "fc75c9f9-3e96-49be-a20a-a04c4dd17889"
      },
      "outputs": [
        {
          "name": "stdout",
          "output_type": "stream",
          "text": [
            "(1, 1186522, 128)\n"
          ]
        }
      ],
      "source": [
        "# Загрузка обработанных данных\n",
        "#loaded_data = np.load('/content/drive/MyDrive/Colab_saved/processed_data_big.npy')\n",
        "data = np.load('/content/drive/MyDrive/Colab_saved/processed_data128.npy')\n",
        "\n",
        "#print(loaded_data.shape)\n",
        "print(data.shape)"
      ]
    },
    {
      "cell_type": "code",
      "execution_count": null,
      "metadata": {
        "colab": {
          "base_uri": "https://localhost:8080/"
        },
        "id": "o9MRfPcnFxsQ",
        "outputId": "9bb0353f-b002-4dfc-92c3-f452ba90e6b6"
      },
      "outputs": [
        {
          "name": "stdout",
          "output_type": "stream",
          "text": [
            "Train data shape: (1186522, 102)\n",
            "Validation data shape: (1186522, 26)\n"
          ]
        }
      ],
      "source": [
        "import numpy as np\n",
        "\n",
        "def match_channel_dimensions(data_list):\n",
        "    # Проверяем размеры всех массивов и находим максимальное количество каналов\n",
        "    max_channels = 0\n",
        "    max_samples = 0\n",
        "    for data in data_list:\n",
        "        if len(data.shape) > 2:\n",
        "            data = data.reshape(data.shape[0], -1)  # Упрощаем до двухмерного массива (каналы, образцы)\n",
        "        channels, samples = data.shape\n",
        "        if channels > max_channels:\n",
        "            max_channels = channels\n",
        "        if samples > max_samples:\n",
        "            max_samples = samples\n",
        "\n",
        "    matched_data_list = []\n",
        "    for data in data_list:\n",
        "        if len(data.shape) > 2:\n",
        "            data = data.reshape(data.shape[0], -1)\n",
        "        channels, samples = data.shape\n",
        "        if channels < max_channels:\n",
        "            # Дополняем нулями, если число каналов меньше максимального\n",
        "            padding = np.zeros((max_channels - channels, samples))\n",
        "            matched_data = np.vstack([data, padding])\n",
        "        else:\n",
        "            matched_data = data\n",
        "        matched_data_list.append(matched_data)\n",
        "\n",
        "    return matched_data_list\n",
        "\n",
        "# Приводим данные к одинаковым размерностям\n",
        "matched_pr_data = match_channel_dimensions(data)\n",
        "\n",
        "# Объединяем данные вдоль временной оси\n",
        "data = np.concatenate(matched_pr_data, axis=1)  # Объединение данных из разных файлов\n",
        "\n",
        "# Разделение данных на обучающую и валидационную выборки\n",
        "def split_train_val(data, val_ratio=0.2):\n",
        "    num_samples = data.shape[1]  # Количество образцов (временных шагов)\n",
        "    train_size = int(num_samples * (1 - val_ratio))\n",
        "\n",
        "    train_data = data[:, :train_size]\n",
        "    val_data = data[:, train_size:]\n",
        "\n",
        "    return train_data, val_data\n",
        "\n",
        "# Разделение данных на обучающую и валидационную выборки\n",
        "train_data, val_data = split_train_val(data, val_ratio=0.2)\n",
        "\n",
        "# Проверка размеров\n",
        "print(\"Train data shape:\", train_data.shape)\n",
        "print(\"Validation data shape:\", val_data.shape)\n"
      ]
    },
    {
      "cell_type": "code",
      "execution_count": null,
      "metadata": {
        "colab": {
          "base_uri": "https://localhost:8080/"
        },
        "id": "OAjiOBz6Uqkv",
        "outputId": "be8d5dad-b342-4213-f35a-58431f4c871b"
      },
      "outputs": [
        {
          "name": "stdout",
          "output_type": "stream",
          "text": [
            "Resized train_data shape: (1186522, 128)\n",
            "Resized train_data shape: (1186522, 128)\n"
          ]
        }
      ],
      "source": [
        "import numpy as np\n",
        "\n",
        "# Пример изменения размерности train_data\n",
        "# Если train_data имеет форму (1186522, 102), добавим нулей до формы (1186522, 128)\n",
        "\n",
        "desired_dim = 128\n",
        "current_dim = train_data.shape[1]\n",
        "\n",
        "if current_dim < desired_dim:\n",
        "    # Добавляем нулевые значения в конец каждого образца\n",
        "    train_data_resized = np.pad(train_data, ((0, 0), (0, desired_dim - current_dim)), mode='constant', constant_values=0)\n",
        "else:\n",
        "    # Обрезаем до нужной длины, если длина больше\n",
        "    train_data_resized = train_data[:, :desired_dim]\n",
        "\n",
        "# Проверяем размерность\n",
        "print(\"Resized train_data shape:\", train_data_resized.shape)\n",
        "\n",
        "import numpy as np\n",
        "\n",
        "# Пример изменения размерности train_data\n",
        "# Если train_data имеет форму (1186522, 102), добавим нулей до формы (1186522, 128)\n",
        "\n",
        "desired_dim = 128\n",
        "current_dim = val_data.shape[1]\n",
        "\n",
        "if current_dim < desired_dim:\n",
        "    # Добавляем нулевые значения в конец каждого образца\n",
        "    val_data_resized = np.pad(val_data, ((0, 0), (0, desired_dim - current_dim)), mode='constant', constant_values=0)\n",
        "else:\n",
        "    # Обрезаем до нужной длины, если длина больше\n",
        "    val_data_resized = val_data[:, :desired_dim]\n",
        "\n",
        "# Проверяем размерность\n",
        "print(\"Resized train_data shape:\", val_data_resized.shape)\n"
      ]
    },
    {
      "cell_type": "code",
      "execution_count": null,
      "metadata": {
        "id": "AmIrhZohQF-P"
      },
      "outputs": [],
      "source": [
        "# Сохранение train_data\n",
        "np.save('/content/drive/MyDrive/train_data128.npy', train_data_resized)\n",
        "\n",
        "# Сохранение val_data\n",
        "np.save('/content/drive/MyDrive/val_data128.npy', val_data_resized)\n"
      ]
    },
    {
      "cell_type": "markdown",
      "metadata": {
        "id": "PX7i1mxH4MS_"
      },
      "source": [
        "## Формирование обучающей выборки\n"
      ]
    },
    {
      "cell_type": "code",
      "execution_count": null,
      "metadata": {
        "id": "cgpI5Ih9L5io"
      },
      "outputs": [],
      "source": [
        "# Сохранение обработанных данных\n",
        "np.save('/content/drive/MyDrive/Colab_saved/processed_data_big.npy', data)"
      ]
    },
    {
      "cell_type": "code",
      "execution_count": null,
      "metadata": {
        "colab": {
          "base_uri": "https://localhost:8080/"
        },
        "id": "S2-wj5giL-N1",
        "outputId": "68a20150-8c89-46f5-ac3f-c21a6543dee8"
      },
      "outputs": [
        {
          "name": "stdout",
          "output_type": "stream",
          "text": [
            "(1, 1186522, 128)\n"
          ]
        }
      ],
      "source": [
        "# Загрузка обработанных данных\n",
        "loaded_data = np.load('/content/drive/MyDrive/Colab_saved/processed_data_big.npy')\n",
        "print(loaded_data.shape)"
      ]
    },
    {
      "cell_type": "code",
      "execution_count": null,
      "metadata": {
        "colab": {
          "base_uri": "https://localhost:8080/"
        },
        "id": "yRgZjqcvMB58",
        "outputId": "193808d8-cc78-447a-abde-1f97b7d4c931"
      },
      "outputs": [
        {
          "name": "stdout",
          "output_type": "stream",
          "text": [
            "(1, 200000, 128)\n"
          ]
        }
      ],
      "source": [
        "import numpy as np\n",
        "\n",
        "# Размер обучающей выборки\n",
        "num_samples = 200000\n",
        "\n",
        "# Получение случайных индексов для выбора кусочков\n",
        "random_indices = np.random.choice(data.shape[1], num_samples, replace=False)\n",
        "#random_indices = np.random.choice(loaded_data.shape[1], num_samples, replace=False)\n",
        "\n",
        "# Получение обучающей выборки из data\n",
        "train_data = data[:, random_indices, :]\n",
        "#train_data = loaded_data[:, random_indices, :]\n",
        "\n",
        "print(train_data.shape)  # Размерность обучающей выборки\n"
      ]
    },
    {
      "cell_type": "code",
      "execution_count": null,
      "metadata": {
        "colab": {
          "base_uri": "https://localhost:8080/"
        },
        "id": "BJSJ9sK4ME-2",
        "outputId": "9d96e24a-d8dd-42ea-de04-88b61ab3a9aa"
      },
      "outputs": [
        {
          "name": "stdout",
          "output_type": "stream",
          "text": [
            "(200000, 128)\n"
          ]
        }
      ],
      "source": [
        "# Изменение формы данных\n",
        "train_data_reshaped = train_data.reshape(-1, 128)\n",
        "print(train_data_reshaped.shape)"
      ]
    },
    {
      "cell_type": "markdown",
      "metadata": {
        "id": "H8BlzmOUREM0"
      },
      "source": [
        "## Формирование валидационной выборки"
      ]
    },
    {
      "cell_type": "code",
      "execution_count": null,
      "metadata": {
        "colab": {
          "base_uri": "https://localhost:8080/"
        },
        "id": "9KTu8kvFMIik",
        "outputId": "c6196916-1c29-4391-a4b7-c5daa0b83cdc"
      },
      "outputs": [
        {
          "name": "stdout",
          "output_type": "stream",
          "text": [
            "(1, 33152, 128)\n"
          ]
        }
      ],
      "source": [
        "# Размер валидационной выборки\n",
        "num_validation_samples = 40000\n",
        "\n",
        "# Получение случайных индексов для выбора кусочков для валидации\n",
        "validation_indices = np.random.choice(data.shape[1], num_validation_samples, replace=False)\n",
        "#validation_indices = np.random.choice(loaded_data.shape[1], num_validation_samples, replace=False)\n",
        "\n",
        "# Исключение из выбора индексов, которые уже были использованы в обучающей выборке\n",
        "validation_indices = np.setdiff1d(validation_indices, random_indices)\n",
        "\n",
        "# Получение валидационной выборки из оставшихся данных\n",
        "validation_data = data[:, validation_indices, :]\n",
        "#validation_data = loaded_data[:, validation_indices, :]\n",
        "\n",
        "print(validation_data.shape)  # Размерность валидационной выборки\n"
      ]
    },
    {
      "cell_type": "code",
      "execution_count": null,
      "metadata": {
        "colab": {
          "base_uri": "https://localhost:8080/"
        },
        "id": "dyYRjJcmMK89",
        "outputId": "0052d7be-d1cc-406d-8e32-db1e767a40c8"
      },
      "outputs": [
        {
          "name": "stdout",
          "output_type": "stream",
          "text": [
            "(33152, 128)\n"
          ]
        }
      ],
      "source": [
        "# Изменение формы данных\n",
        "validation_data_reshaped = validation_data.reshape(-1, 128)\n",
        "print(validation_data_reshaped.shape)"
      ]
    },
    {
      "cell_type": "code",
      "execution_count": null,
      "metadata": {
        "id": "CJChEW-rMPBd"
      },
      "outputs": [],
      "source": [
        "# Сохранение обучающей и валидационной выборок\n",
        "np.save('/content/drive/MyDrive/Colab_saved/train_data_big.npy', train_data_reshaped)\n",
        "np.save('/content/drive/MyDrive/Colab_saved/val_data_big.npy', validation_data_reshaped)\n"
      ]
    },
    {
      "cell_type": "markdown",
      "metadata": {
        "id": "NeU6ihZiwmWQ"
      },
      "source": [
        "# Модель НС"
      ]
    },
    {
      "cell_type": "markdown",
      "metadata": {
        "id": "26t6_NqJOg_E"
      },
      "source": [
        "## было тут"
      ]
    },
    {
      "cell_type": "code",
      "execution_count": null,
      "metadata": {
        "id": "LyYH8VvcMTsw"
      },
      "outputs": [],
      "source": [
        "import numpy as np\n",
        "from tensorflow.keras.models import Model\n",
        "from tensorflow.keras.layers import Input, Dense, Dropout, BatchNormalization\n",
        "\n",
        "# Примерный размер входных данных\n",
        "input_dim = 128  # Например, окно с 256 отсчетами\n",
        "encoding_dim = 16  # Размерность боттлнек слоя\n",
        "\n",
        "# Определение слоев\n",
        "input_layer = Input(shape=(input_dim,))\n",
        "encoded = Dense(64, activation='relu')(input_layer)\n",
        "#x = Dropout(0.1)(encoded)  # Добавление слоя Dropout\n",
        "#x = BatchNormalization()(x)  # Добавление слоя BatchNormalization\n",
        "encoded = Dense(32, activation='relu')(encoded)\n",
        "#x = Dropout(0.1)(encoded)  # Добавление слоя Dropout\n",
        "#x = BatchNormalization()(x)  # Добавление слоя BatchNormalization\n",
        "encoded = Dense(16, activation='relu')(encoded)\n",
        "#x = Dropout(0.1)(encoded)  # Добавление слоя Dropout\n",
        "#x = BatchNormalization()(x)  # Добавление слоя BatchNormalization\n",
        "\n",
        "bottleneck = Dense(encoding_dim, activation='relu')(encoded)\n",
        "#x = Dropout(0.1)(bottleneck)  # Добавление слоя Dropout\n",
        "#x = BatchNormalization()(x)  # Добавление слоя BatchNormalization\n",
        "\n",
        "decoded = Dense(16, activation='relu')(bottleneck)\n",
        "#x = Dropout(0.1)(decoded)  # Добавление слоя Dropout\n",
        "#x = BatchNormalization()(x)  # Добавление слоя BatchNormalization\n",
        "decoded = Dense(32, activation='relu')(decoded)\n",
        "#x = Dropout(0.1)(decoded)  # Добавление слоя Dropout\n",
        "#x = BatchNormalization()(x)  # Добавление слоя BatchNormalization\n",
        "decoded = Dense(64, activation='relu')(decoded)\n",
        "#x = Dropout(0.1)(decoded)  # Добавление слоя Dropout\n",
        "#x = BatchNormalization()(x)  # Добавление слоя BatchNormalization\n",
        "output_layer = Dense(input_dim, activation='sigmoid')(decoded)\n",
        "\n",
        "# Создание автоэнкодера\n",
        "autoencoder = Model(input_layer, output_layer)\n",
        "autoencoder.compile(optimizer=Adam(learning_rate=1), loss='mse')\n"
      ]
    },
    {
      "cell_type": "code",
      "execution_count": null,
      "metadata": {
        "id": "4fhpQQhvHDiL"
      },
      "outputs": [],
      "source": [
        "\n"
      ]
    },
    {
      "cell_type": "code",
      "execution_count": null,
      "metadata": {
        "colab": {
          "base_uri": "https://localhost:8080/",
          "height": 460
        },
        "id": "3wSKAydjMokv",
        "outputId": "4bd8866f-0c22-4144-f6c8-02a679d66b4f"
      },
      "outputs": [
        {
          "name": "stdout",
          "output_type": "stream",
          "text": [
            "Epoch 1/10\n",
            "4621/4635 [============================>.] - ETA: 0s - loss: 48.6473"
          ]
        },
        {
          "ename": "InternalError",
          "evalue": "Failed copying input tensor from /job:localhost/replica:0/task:0/device:CPU:0 to /job:localhost/replica:0/task:0/device:GPU:0 in order to run _EagerConst: Dst tensor is not initialized.",
          "output_type": "error",
          "traceback": [
            "\u001b[0;31m---------------------------------------------------------------------------\u001b[0m",
            "\u001b[0;31mInternalError\u001b[0m                             Traceback (most recent call last)",
            "\u001b[0;32m<ipython-input-33-4460036ee8d4>\u001b[0m in \u001b[0;36m<cell line: 12>\u001b[0;34m()\u001b[0m\n\u001b[1;32m     10\u001b[0m \u001b[0;34m\u001b[0m\u001b[0m\n\u001b[1;32m     11\u001b[0m \u001b[0;31m# Обучение автоэнкодера\u001b[0m\u001b[0;34m\u001b[0m\u001b[0;34m\u001b[0m\u001b[0m\n\u001b[0;32m---> 12\u001b[0;31m history = autoencoder.fit(train_data, train_data,\n\u001b[0m\u001b[1;32m     13\u001b[0m                 \u001b[0mepochs\u001b[0m\u001b[0;34m=\u001b[0m\u001b[0;36m10\u001b[0m\u001b[0;34m,\u001b[0m\u001b[0;34m\u001b[0m\u001b[0;34m\u001b[0m\u001b[0m\n\u001b[1;32m     14\u001b[0m                 \u001b[0mbatch_size\u001b[0m\u001b[0;34m=\u001b[0m\u001b[0;36m256\u001b[0m\u001b[0;34m,\u001b[0m\u001b[0;34m\u001b[0m\u001b[0;34m\u001b[0m\u001b[0m\n",
            "\u001b[0;32m/usr/local/lib/python3.10/dist-packages/keras/src/utils/traceback_utils.py\u001b[0m in \u001b[0;36merror_handler\u001b[0;34m(*args, **kwargs)\u001b[0m\n\u001b[1;32m     68\u001b[0m             \u001b[0;31m# To get the full stack trace, call:\u001b[0m\u001b[0;34m\u001b[0m\u001b[0;34m\u001b[0m\u001b[0m\n\u001b[1;32m     69\u001b[0m             \u001b[0;31m# `tf.debugging.disable_traceback_filtering()`\u001b[0m\u001b[0;34m\u001b[0m\u001b[0;34m\u001b[0m\u001b[0m\n\u001b[0;32m---> 70\u001b[0;31m             \u001b[0;32mraise\u001b[0m \u001b[0me\u001b[0m\u001b[0;34m.\u001b[0m\u001b[0mwith_traceback\u001b[0m\u001b[0;34m(\u001b[0m\u001b[0mfiltered_tb\u001b[0m\u001b[0;34m)\u001b[0m \u001b[0;32mfrom\u001b[0m \u001b[0;32mNone\u001b[0m\u001b[0;34m\u001b[0m\u001b[0;34m\u001b[0m\u001b[0m\n\u001b[0m\u001b[1;32m     71\u001b[0m         \u001b[0;32mfinally\u001b[0m\u001b[0;34m:\u001b[0m\u001b[0;34m\u001b[0m\u001b[0;34m\u001b[0m\u001b[0m\n\u001b[1;32m     72\u001b[0m             \u001b[0;32mdel\u001b[0m \u001b[0mfiltered_tb\u001b[0m\u001b[0;34m\u001b[0m\u001b[0;34m\u001b[0m\u001b[0m\n",
            "\u001b[0;32m/usr/local/lib/python3.10/dist-packages/tensorflow/python/framework/constant_op.py\u001b[0m in \u001b[0;36mconvert_to_eager_tensor\u001b[0;34m(value, ctx, dtype)\u001b[0m\n\u001b[1;32m    101\u001b[0m       \u001b[0mdtype\u001b[0m \u001b[0;34m=\u001b[0m \u001b[0mdtypes\u001b[0m\u001b[0;34m.\u001b[0m\u001b[0mas_dtype\u001b[0m\u001b[0;34m(\u001b[0m\u001b[0mdtype\u001b[0m\u001b[0;34m)\u001b[0m\u001b[0;34m.\u001b[0m\u001b[0mas_datatype_enum\u001b[0m\u001b[0;34m\u001b[0m\u001b[0;34m\u001b[0m\u001b[0m\n\u001b[1;32m    102\u001b[0m   \u001b[0mctx\u001b[0m\u001b[0;34m.\u001b[0m\u001b[0mensure_initialized\u001b[0m\u001b[0;34m(\u001b[0m\u001b[0;34m)\u001b[0m\u001b[0;34m\u001b[0m\u001b[0;34m\u001b[0m\u001b[0m\n\u001b[0;32m--> 103\u001b[0;31m   \u001b[0;32mreturn\u001b[0m \u001b[0mops\u001b[0m\u001b[0;34m.\u001b[0m\u001b[0mEagerTensor\u001b[0m\u001b[0;34m(\u001b[0m\u001b[0mvalue\u001b[0m\u001b[0;34m,\u001b[0m \u001b[0mctx\u001b[0m\u001b[0;34m.\u001b[0m\u001b[0mdevice_name\u001b[0m\u001b[0;34m,\u001b[0m \u001b[0mdtype\u001b[0m\u001b[0;34m)\u001b[0m\u001b[0;34m\u001b[0m\u001b[0;34m\u001b[0m\u001b[0m\n\u001b[0m\u001b[1;32m    104\u001b[0m \u001b[0;34m\u001b[0m\u001b[0m\n\u001b[1;32m    105\u001b[0m \u001b[0;34m\u001b[0m\u001b[0m\n",
            "\u001b[0;31mInternalError\u001b[0m: Failed copying input tensor from /job:localhost/replica:0/task:0/device:CPU:0 to /job:localhost/replica:0/task:0/device:GPU:0 in order to run _EagerConst: Dst tensor is not initialized."
          ]
        }
      ],
      "source": [
        "import tensorflow as tf\n",
        "\n",
        "class GradientMonitor(tf.keras.callbacks.Callback):\n",
        "    def on_epoch_end(self, epoch, logs=None):\n",
        "        weights = [layer.get_weights() for layer in self.model.layers if len(layer.get_weights()) > 0]\n",
        "        for i, weight in enumerate(weights):\n",
        "            print(f\"Layer {i} - weights mean: {tf.reduce_mean(weight[0])}, std: {tf.math.reduce_std(weight[0])}\")\n",
        "\n",
        "monitor = GradientMonitor()\n",
        "\n",
        "# Обучение автоэнкодера\n",
        "history = autoencoder.fit(train_data, train_data,\n",
        "                epochs=10,\n",
        "                batch_size=256,\n",
        "                shuffle=True,\n",
        "                validation_data=(val_data, val_data),\n",
        "                callbacks=[monitor])\n"
      ]
    },
    {
      "cell_type": "code",
      "execution_count": null,
      "metadata": {
        "colab": {
          "base_uri": "https://localhost:8080/",
          "height": 472
        },
        "id": "GbQL-_3aF_Yj",
        "outputId": "477aeb5d-182c-4953-a451-fc2eeed51541"
      },
      "outputs": [
        {
          "data": {
            "image/png": "[encoded data removed]",
            "text/plain": [
              "<Figure size 640x480 with 1 Axes>"
            ]
          },
          "metadata": {},
          "output_type": "display_data"
        }
      ],
      "source": [
        "# Визуализация потерь\n",
        "plt.plot(history.history['loss'], label='Training Loss')\n",
        "plt.plot(history.history['val_loss'], label='Validation Loss')\n",
        "plt.xlabel('Epoch')\n",
        "plt.ylabel('Loss')\n",
        "plt.legend()\n",
        "plt.title('Training and Validation Loss')\n",
        "plt.show()\n"
      ]
    },
    {
      "cell_type": "code",
      "execution_count": null,
      "metadata": {
        "id": "qGeZsLUjHPoq"
      },
      "outputs": [],
      "source": [
        "import numpy as np\n",
        "from tensorflow.keras.models import Model\n",
        "from tensorflow.keras.layers import Input, Dense, Dropout, BatchNormalization\n",
        "from tensorflow.keras.optimizers import Adam\n",
        "from tensorflow.keras.initializers import HeNormal\n",
        "import matplotlib.pyplot as plt\n",
        "from sklearn.preprocessing import StandardScaler\n",
        "import tensorflow as tf\n",
        "\n",
        "# Примерный размер входных данных\n",
        "input_dim = 128  # Например, окно с 128 отсчетами\n",
        "encoding_dim = 8  # Размерность bottleneck слоя\n",
        "\n",
        "# Нормализация данных\n",
        "scaler = StandardScaler()\n",
        "x_train_normalized = scaler.fit_transform(train_data_reshaped)\n",
        "x_val_normalized = scaler.transform(validation_data_reshaped)\n",
        "\n",
        "# Определение слоев\n",
        "input_layer = Input(shape=(input_dim,))\n",
        "encoded = Dense(64, activation='relu', kernel_initializer=HeNormal())(input_layer)\n",
        "x = Dropout(0.1)(encoded)\n",
        "x = BatchNormalization()(x)\n",
        "encoded = Dense(32, activation='relu', kernel_initializer=HeNormal())(x)\n",
        "x = Dropout(0.1)(encoded)\n",
        "x = BatchNormalization()(x)\n",
        "encoded = Dense(16, activation='relu', kernel_initializer=HeNormal())(x)\n",
        "x = Dropout(0.1)(encoded)\n",
        "x = BatchNormalization()(x)\n",
        "\n",
        "bottleneck = Dense(encoding_dim, activation='relu', kernel_initializer=HeNormal())(x)\n",
        "x = Dropout(0.1)(bottleneck)\n",
        "x = BatchNormalization()(x)\n",
        "\n",
        "decoded = Dense(16, activation='relu', kernel_initializer=HeNormal())(x)\n",
        "x = Dropout(0.1)(decoded)\n",
        "x = BatchNormalization()(x)\n",
        "decoded = Dense(32, activation='relu', kernel_initializer=HeNormal())(x)\n",
        "x = Dropout(0.1)(decoded)\n",
        "x = BatchNormalization()(x)\n",
        "decoded = Dense(64, activation='relu', kernel_initializer=HeNormal())(x)\n",
        "x = Dropout(0.1)(decoded)\n",
        "x = BatchNormalization()(x)\n",
        "output_layer = Dense(input_dim, activation='sigmoid', kernel_initializer=HeNormal())(x)\n",
        "\n",
        "# Создание автоэнкодера\n",
        "autoencoder = Model(input_layer, output_layer)\n",
        "autoencoder.compile(optimizer=Adam(learning_rate=0.01), loss='mse')\n",
        "\n",
        "# Callback для мониторинга градиентов\n",
        "class GradientMonitor(tf.keras.callbacks.Callback):\n",
        "    def on_epoch_end(self, epoch, logs=None):\n",
        "        weights = [layer.get_weights() for layer in self.model.layers if len(layer.get_weights()) > 0]\n",
        "        for i, weight in enumerate(weights):\n",
        "            print(f\"Layer {i} - weights mean: {tf.reduce_mean(weight[0])}, std: {tf.math.reduce_std(weight[0])}\")\n",
        "\n",
        "monitor = GradientMonitor()\n",
        "\n",
        "# Обучение модели\n",
        "history = autoencoder.fit(x_train_normalized, x_train_normalized,\n",
        "                          epochs=50,\n",
        "                          batch_size=256,\n",
        "                          shuffle=True,\n",
        "                          validation_data=(x_val_normalized, x_val_normalized),\n",
        "                          callbacks=[monitor])\n",
        "\n",
        "# Визуализация потерь\n",
        "plt.plot(history.history['loss'], label='Training Loss')\n",
        "plt.plot(history.history['val_loss'], label='Validation Loss')\n",
        "plt.xlabel('Epoch')\n",
        "plt.ylabel('Loss')\n",
        "plt.legend()\n",
        "plt.title('Training and Validation Loss')\n",
        "plt.show()\n"
      ]
    },
    {
      "cell_type": "code",
      "execution_count": null,
      "metadata": {
        "id": "xPgXmAtvOmK-"
      },
      "outputs": [],
      "source": []
    },
    {
      "cell_type": "markdown",
      "metadata": {
        "id": "AD3gOXCrOm6G"
      },
      "source": [
        "## немного измененное\n"
      ]
    },
    {
      "cell_type": "code",
      "execution_count": null,
      "metadata": {
        "colab": {
          "base_uri": "https://localhost:8080/"
        },
        "id": "ing4o4X6Q4-K",
        "outputId": "c40af09b-1e5d-4d7b-a877-9f6b963adb8d"
      },
      "outputs": [
        {
          "output_type": "stream",
          "name": "stdout",
          "text": [
            "(1186522, 128)\n",
            "(1186522, 128)\n"
          ]
        }
      ],
      "source": [
        "# Загрузка train_data\n",
        "train_data = np.load('/content/drive/MyDrive/train_data128.npy')\n",
        "\n",
        "# Загрузка val_data\n",
        "val_data = np.load('/content/drive/MyDrive/val_data128.npy')\n",
        "\n",
        "print(train_data.shape)\n",
        "print(val_data.shape)"
      ]
    },
    {
      "cell_type": "markdown",
      "metadata": {
        "id": "hhn4NR8QMC7Z"
      },
      "source": [
        "с разделением на энкодер и декодер\n"
      ]
    },
    {
      "cell_type": "code",
      "execution_count": null,
      "metadata": {
        "id": "2r1983gOMF-2"
      },
      "outputs": [],
      "source": [
        "import numpy as np\n",
        "from tensorflow.keras.models import Model\n",
        "from tensorflow.keras.layers import Input, Dense, Dropout, BatchNormalization\n",
        "from tensorflow.keras.optimizers import Adam\n",
        "from tensorflow.keras.initializers import HeNormal\n",
        "import matplotlib.pyplot as plt\n",
        "from sklearn.preprocessing import StandardScaler\n",
        "import tensorflow as tf\n",
        "\n",
        "# Примерный размер входных данных\n",
        "input_dim = 128  # Например, окно с 128 отсчетами\n",
        "encoding_dim = 16  # Размерность bottleneck слоя\n",
        "\n",
        "# Нормализация данных\n",
        "scaler = StandardScaler()\n",
        "x_train_normalized = scaler.fit_transform(train_data)\n",
        "x_val_normalized = scaler.transform(val_data)\n",
        "\n",
        "# Определение энкодера\n",
        "input_layer = Input(shape=(input_dim,))\n",
        "encoded = Dense(64, activation='relu', kernel_initializer=HeNormal())(input_layer)\n",
        "encoded = Dropout(0.3)(encoded)\n",
        "encoded = BatchNormalization()(encoded)\n",
        "encoded = Dense(32, activation='relu', kernel_initializer=HeNormal())(encoded)\n",
        "encoded = Dropout(0.2)(encoded)\n",
        "encoded = BatchNormalization()(encoded)\n",
        "#encoded = Dense(32, activation='relu', kernel_initializer=HeNormal())(encoded)\n",
        "#encoded = Dropout(0.2)(encoded)\n",
        "#encoded = BatchNormalization()(encoded)\n",
        "#encoded = Dense(16, activation='relu', kernel_initializer=HeNormal())(encoded)\n",
        "#encoded = Dropout(0.1)(encoded)\n",
        "#encoded = BatchNormalization()(encoded)\n",
        "\n",
        "bottleneck = Dense(encoding_dim, activation='relu', kernel_initializer=HeNormal())(encoded)\n",
        "bottleneck = Dropout(0.1)(bottleneck)\n",
        "bottleneck = BatchNormalization()(bottleneck)\n",
        "\n",
        "encoder = Model(input_layer, bottleneck, name=\"encoder\")\n",
        "\n",
        "# Определение декодера\n",
        "encoded_input = Input(shape=(encoding_dim,))\n",
        "decoded = Dense(32, activation='relu', kernel_initializer=HeNormal())(encoded_input)\n",
        "decoded = Dropout(0.2)(decoded)\n",
        "decoded = BatchNormalization()(decoded)\n",
        "decoded = Dense(64, activation='relu', kernel_initializer=HeNormal())(decoded)\n",
        "decoded = Dropout(0.3)(decoded)\n",
        "decoded = BatchNormalization()(decoded)\n",
        "#decoded = Dense(64, activation='relu', kernel_initializer=HeNormal())(decoded)\n",
        "#decoded = Dropout(0.3)(decoded)\n",
        "#decoded = BatchNormalization()(decoded)\n",
        "#decoded = Dense(128, activation='relu', kernel_initializer=HeNormal())(decoded)\n",
        "#decoded = Dropout(0.4)(decoded)\n",
        "#decoded = BatchNormalization()(decoded)\n",
        "output_layer = Dense(input_dim, activation='sigmoid', kernel_initializer=HeNormal())(decoded)\n",
        "\n",
        "decoder = Model(encoded_input, output_layer, name=\"decoder\")\n",
        "\n",
        "# Создание автоэнкодера\n",
        "autoencoder_input = Input(shape=(input_dim,))\n",
        "encoded_repr = encoder(autoencoder_input)\n",
        "reconstructed_output = decoder(encoded_repr)\n",
        "\n",
        "autoencoder = Model(autoencoder_input, reconstructed_output, name=\"autoencoder\")\n",
        "autoencoder.compile(optimizer=Adam(learning_rate=16), loss='mse')\n",
        "\n"
      ]
    },
    {
      "cell_type": "code",
      "execution_count": null,
      "metadata": {
        "colab": {
          "base_uri": "https://localhost:8080/"
        },
        "collapsed": true,
        "id": "Rdfn0CDxMRin",
        "outputId": "ac117250-d48b-4ae5-8b6b-a4f023ad4f1e"
      },
      "outputs": [
        {
          "name": "stdout",
          "output_type": "stream",
          "text": [
            "Epoch 1/20\n",
            "9269/9270 [============================>.] - ETA: 0s - loss: 0.7937Layer 0 - weights mean: 8.397931098937988, std: 158.57177734375\n",
            "Layer 1 - weights mean: 37.46942138671875, std: 780.262451171875\n",
            "9270/9270 [==============================] - 80s 8ms/step - loss: 0.7937 - val_loss: 0.2455 - lr: 16.0000\n",
            "Epoch 2/20\n",
            "9266/9270 [============================>.] - ETA: 0s - loss: 0.8052Layer 0 - weights mean: 5.594205856323242, std: 165.13848876953125\n",
            "Layer 1 - weights mean: 55.7041130065918, std: 952.7457885742188\n",
            "9270/9270 [==============================] - 77s 8ms/step - loss: 0.8053 - val_loss: 0.2470 - lr: 16.0000\n",
            "Epoch 3/20\n",
            "9267/9270 [============================>.] - ETA: 0s - loss: 0.8310Layer 0 - weights mean: -13.86880111694336, std: 239.22589111328125\n",
            "Layer 1 - weights mean: 125.27581787109375, std: 1247.1575927734375\n",
            "9270/9270 [==============================] - 75s 8ms/step - loss: 0.8310 - val_loss: 0.2548 - lr: 16.0000\n",
            "Epoch 4/20\n",
            "9265/9270 [============================>.] - ETA: 0s - loss: 0.8207Layer 0 - weights mean: -15.188278198242188, std: 248.09329223632812\n",
            "Layer 1 - weights mean: 112.74530029296875, std: 1271.1966552734375\n",
            "9270/9270 [==============================] - 74s 8ms/step - loss: 0.8206 - val_loss: 0.2548 - lr: 8.0000\n",
            "Epoch 5/20\n",
            "9263/9270 [============================>.] - ETA: 0s - loss: 0.8244Layer 0 - weights mean: -15.188278198242188, std: 248.09329223632812\n",
            "Layer 1 - weights mean: 112.74529266357422, std: 1271.19677734375\n",
            "9270/9270 [==============================] - 75s 8ms/step - loss: 0.8245 - val_loss: 0.2548 - lr: 8.0000\n",
            "Epoch 6/20\n",
            "9269/9270 [============================>.] - ETA: 0s - loss: 0.8180Layer 0 - weights mean: -15.62126350402832, std: 246.01754760742188\n",
            "Layer 1 - weights mean: 107.6380615234375, std: 1270.9534912109375\n",
            "9270/9270 [==============================] - 76s 8ms/step - loss: 0.8180 - val_loss: 0.2548 - lr: 4.0000\n",
            "Epoch 7/20\n",
            "9265/9270 [============================>.] - ETA: 0s - loss: 0.8144Layer 0 - weights mean: -14.836398124694824, std: 247.8469696044922\n",
            "Layer 1 - weights mean: 96.25750732421875, std: 1275.2158203125\n",
            "9270/9270 [==============================] - 76s 8ms/step - loss: 0.8145 - val_loss: 0.2548 - lr: 4.0000\n",
            "Epoch 8/20\n",
            "9264/9270 [============================>.] - ETA: 0s - loss: 0.8182Layer 0 - weights mean: -14.711769104003906, std: 247.92666625976562\n",
            "Layer 1 - weights mean: 98.79704284667969, std: 1277.255859375\n",
            "9270/9270 [==============================] - 75s 8ms/step - loss: 0.8181 - val_loss: 0.2626 - lr: 2.0000\n",
            "Epoch 9/20\n",
            "9268/9270 [============================>.] - ETA: 0s - loss: 0.8209Layer 0 - weights mean: -14.705142974853516, std: 247.93899536132812\n",
            "Layer 1 - weights mean: 99.27796936035156, std: 1279.9959716796875\n",
            "9270/9270 [==============================] - 76s 8ms/step - loss: 0.8209 - val_loss: 0.2626 - lr: 2.0000\n",
            "Epoch 10/20\n",
            "9267/9270 [============================>.] - ETA: 0s - loss: 0.8116Layer 0 - weights mean: -14.688446998596191, std: 247.9155731201172\n",
            "Layer 1 - weights mean: 100.04680633544922, std: 1280.8690185546875\n",
            "9270/9270 [==============================] - 75s 8ms/step - loss: 0.8116 - val_loss: 0.2548 - lr: 1.0000\n",
            "Epoch 11/20\n",
            "9265/9270 [============================>.] - ETA: 0s - loss: 0.8093Layer 0 - weights mean: -14.688459396362305, std: 247.91552734375\n",
            "Layer 1 - weights mean: 99.80613708496094, std: 1280.83984375\n",
            "9270/9270 [==============================] - 75s 8ms/step - loss: 0.8092 - val_loss: 0.2548 - lr: 1.0000\n",
            "Epoch 12/20\n",
            "9267/9270 [============================>.] - ETA: 0s - loss: 0.8098Layer 0 - weights mean: -14.688421249389648, std: 247.91836547851562\n",
            "Layer 1 - weights mean: 99.44151306152344, std: 1280.6630859375\n",
            "9270/9270 [==============================] - 75s 8ms/step - loss: 0.8098 - val_loss: 0.2548 - lr: 0.5000\n",
            "Epoch 13/20\n",
            "9263/9270 [============================>.] - ETA: 0s - loss: 0.8101Layer 0 - weights mean: -14.66301441192627, std: 247.86270141601562\n",
            "Layer 1 - weights mean: 100.2585220336914, std: 1280.2958984375\n",
            "9270/9270 [==============================] - 75s 8ms/step - loss: 0.8102 - val_loss: 0.2548 - lr: 0.5000\n",
            "Epoch 14/20\n",
            "9265/9270 [============================>.] - ETA: 0s - loss: 0.8107Layer 0 - weights mean: -14.61190414428711, std: 248.185791015625\n",
            "Layer 1 - weights mean: 99.84768676757812, std: 1280.6944580078125\n",
            "9270/9270 [==============================] - 75s 8ms/step - loss: 0.8106 - val_loss: 0.2548 - lr: 0.2500\n",
            "Epoch 15/20\n",
            "9266/9270 [============================>.] - ETA: 0s - loss: 0.8107Layer 0 - weights mean: -14.612869262695312, std: 248.18560791015625\n",
            "Layer 1 - weights mean: 100.07869720458984, std: 1280.6859130859375\n",
            "9270/9270 [==============================] - 75s 8ms/step - loss: 0.8108 - val_loss: 0.2548 - lr: 0.2500\n",
            "Epoch 16/20\n",
            "9263/9270 [============================>.] - ETA: 0s - loss: 0.8105Layer 0 - weights mean: -14.646713256835938, std: 248.09251403808594\n",
            "Layer 1 - weights mean: 100.30250549316406, std: 1280.46923828125\n",
            "9270/9270 [==============================] - 75s 8ms/step - loss: 0.8104 - val_loss: 0.2548 - lr: 0.1250\n",
            "Epoch 17/20\n",
            "9267/9270 [============================>.] - ETA: 0s - loss: 0.8100Layer 0 - weights mean: -14.651266098022461, std: 248.08148193359375\n",
            "Layer 1 - weights mean: 100.1499252319336, std: 1280.4168701171875\n",
            "9270/9270 [==============================] - 75s 8ms/step - loss: 0.8101 - val_loss: 0.2548 - lr: 0.1250\n",
            "Epoch 18/20\n",
            "9263/9270 [============================>.] - ETA: 0s - loss: 0.8103Layer 0 - weights mean: -14.650568008422852, std: 248.08111572265625\n",
            "Layer 1 - weights mean: 100.11630249023438, std: 1280.4130859375\n",
            "9270/9270 [==============================] - 75s 8ms/step - loss: 0.8102 - val_loss: 0.2548 - lr: 0.0625\n",
            "Epoch 19/20\n",
            "9270/9270 [==============================] - ETA: 0s - loss: 0.8099Layer 0 - weights mean: -14.65092658996582, std: 248.0820770263672\n",
            "Layer 1 - weights mean: 99.9629135131836, std: 1280.370849609375\n",
            "9270/9270 [==============================] - 75s 8ms/step - loss: 0.8099 - val_loss: 0.2548 - lr: 0.0625\n",
            "Epoch 20/20\n",
            "9270/9270 [==============================] - ETA: 0s - loss: 0.8098Layer 0 - weights mean: -14.645269393920898, std: 248.07691955566406\n",
            "Layer 1 - weights mean: 99.90956115722656, std: 1280.3525390625\n",
            "9270/9270 [==============================] - 75s 8ms/step - loss: 0.8098 - val_loss: 0.2548 - lr: 0.0312\n"
          ]
        }
      ],
      "source": [
        "# Callback для мониторинга градиентов\n",
        "class GradientMonitor(tf.keras.callbacks.Callback):\n",
        "    def on_epoch_end(self, epoch, logs=None):\n",
        "        weights = [layer.get_weights() for layer in self.model.layers if len(layer.get_weights()) > 0]\n",
        "        for i, weight in enumerate(weights):\n",
        "            print(f\"Layer {i} - weights mean: {tf.reduce_mean(weight[0])}, std: {tf.math.reduce_std(weight[0])}\")\n",
        "\n",
        "grad = GradientMonitor()\n",
        "\n",
        "from tensorflow.keras.callbacks import ReduceLROnPlateau\n",
        "\n",
        "new_var = 0.001\n",
        "\n",
        "reduce_lr = ReduceLROnPlateau(monitor='val_loss', factor=0.5,\n",
        "                              patience=2, min_lr=new_var)\n",
        "\n",
        "# Обучение модели\n",
        "history = autoencoder.fit(x_train_normalized, x_train_normalized,\n",
        "                          epochs=20,\n",
        "                          batch_size=128,\n",
        "                          shuffle=True,\n",
        "                          validation_data=(x_val_normalized, x_val_normalized),\n",
        "                          callbacks=[grad, reduce_lr])\n"
      ]
    },
    {
      "cell_type": "markdown",
      "source": [
        "## Циклическая настройка learning_rate"
      ],
      "metadata": {
        "id": "BcAxQwFs6JDA"
      }
    },
    {
      "cell_type": "code",
      "execution_count": null,
      "metadata": {
        "colab": {
          "base_uri": "https://localhost:8080/",
          "height": 1000
        },
        "id": "2z_dp9vH0mTq",
        "outputId": "e7dc88fd-7eb2-48a8-ec0d-ae2205dcb1a4"
      },
      "outputs": [
        {
          "output_type": "display_data",
          "data": {
            "text/plain": [
              "<Figure size 640x480 with 1 Axes>"
            ],
            "image/png": "[encoded data removed]"
          },
          "metadata": {}
        },
        {
          "output_type": "stream",
          "name": "stdout",
          "text": [
            "Epoch 1/32\n",
            "9266/9270 [============================>.] - ETA: 0s - loss: 0.7616Layer 0 - weights mean: -0.7850435972213745, std: 59.95163345336914\n",
            "Layer 1 - weights mean: 1.2844843864440918, std: 414.4254150390625\n",
            "9270/9270 [==============================] - 81s 9ms/step - loss: 0.7615 - val_loss: 0.2157\n",
            "Epoch 2/32\n",
            "9268/9270 [============================>.] - ETA: 0s - loss: 0.7476Layer 0 - weights mean: -0.6612130403518677, std: 61.26865005493164\n",
            "Layer 1 - weights mean: 2.018944263458252, std: 419.3699035644531\n",
            "9270/9270 [==============================] - 80s 9ms/step - loss: 0.7475 - val_loss: 0.2132\n",
            "Epoch 3/32\n",
            "9263/9270 [============================>.] - ETA: 0s - loss: 0.7397Layer 0 - weights mean: -0.7202298045158386, std: 60.5769157409668\n",
            "Layer 1 - weights mean: 0.9106230735778809, std: 419.5503234863281\n",
            "9270/9270 [==============================] - 80s 9ms/step - loss: 0.7396 - val_loss: 0.2149\n",
            "Epoch 4/32\n",
            "9269/9270 [============================>.] - ETA: 0s - loss: 0.7389Layer 0 - weights mean: -0.7030134201049805, std: 60.717525482177734\n",
            "Layer 1 - weights mean: 1.2271714210510254, std: 419.48406982421875\n",
            "9270/9270 [==============================] - 80s 9ms/step - loss: 0.7389 - val_loss: 0.2147\n",
            "Epoch 5/32\n",
            "9268/9270 [============================>.] - ETA: 0s - loss: 0.7385Layer 0 - weights mean: -0.7478491067886353, std: 60.76055908203125\n",
            "Layer 1 - weights mean: 1.4302563667297363, std: 419.5272216796875\n",
            "9270/9270 [==============================] - 81s 9ms/step - loss: 0.7385 - val_loss: 0.2161\n",
            "Epoch 6/32\n",
            "9265/9270 [============================>.] - ETA: 0s - loss: 0.7381Layer 0 - weights mean: -0.7512760758399963, std: 60.785457611083984\n",
            "Layer 1 - weights mean: 1.4555943012237549, std: 419.60260009765625\n",
            "9270/9270 [==============================] - 80s 9ms/step - loss: 0.7381 - val_loss: 0.2161\n",
            "Epoch 7/32\n",
            "9266/9270 [============================>.] - ETA: 0s - loss: 0.7380Layer 0 - weights mean: -0.744766354560852, std: 60.79546356201172\n",
            "Layer 1 - weights mean: 1.5333008766174316, std: 419.6340637207031\n",
            "9270/9270 [==============================] - 81s 9ms/step - loss: 0.7379 - val_loss: 0.2161\n",
            "Epoch 8/32\n",
            "9264/9270 [============================>.] - ETA: 0s - loss: 0.7369Layer 0 - weights mean: -0.7174764275550842, std: 60.799251556396484\n",
            "Layer 1 - weights mean: 1.5134196281433105, std: 419.6445617675781\n",
            "9270/9270 [==============================] - 80s 9ms/step - loss: 0.7369 - val_loss: 0.2157\n",
            "Epoch 9/32\n",
            "9264/9270 [============================>.] - ETA: 0s - loss: 0.7367Layer 0 - weights mean: -0.7081352472305298, std: 60.71767807006836\n",
            "Layer 1 - weights mean: 1.4521608352661133, std: 419.5614013671875\n",
            "9270/9270 [==============================] - 79s 9ms/step - loss: 0.7368 - val_loss: 0.2161\n",
            "Epoch 10/32\n",
            "9266/9270 [============================>.] - ETA: 0s - loss: 0.7362Layer 0 - weights mean: -0.7213354110717773, std: 60.74114227294922\n",
            "Layer 1 - weights mean: 1.383922815322876, std: 419.5610656738281\n",
            "9270/9270 [==============================] - 79s 9ms/step - loss: 0.7364 - val_loss: 0.2161\n",
            "Epoch 11/32\n",
            "9265/9270 [============================>.] - ETA: 0s - loss: 0.7361Layer 0 - weights mean: -0.7078347206115723, std: 60.739036560058594\n",
            "Layer 1 - weights mean: 1.3523674011230469, std: 419.47235107421875\n",
            "9270/9270 [==============================] - 80s 9ms/step - loss: 0.7362 - val_loss: 0.2161\n",
            "Epoch 12/32\n",
            "9265/9270 [============================>.] - ETA: 0s - loss: 0.7357Layer 0 - weights mean: -0.6765260100364685, std: 60.662864685058594\n",
            "Layer 1 - weights mean: 1.4559919834136963, std: 419.5374755859375\n",
            "9270/9270 [==============================] - 80s 9ms/step - loss: 0.7358 - val_loss: 0.2157\n",
            "Epoch 13/32\n",
            "9269/9270 [============================>.] - ETA: 0s - loss: 0.7358Layer 0 - weights mean: -0.6811308860778809, std: 60.61803436279297\n",
            "Layer 1 - weights mean: 1.4603850841522217, std: 419.57403564453125\n",
            "9270/9270 [==============================] - 80s 9ms/step - loss: 0.7357 - val_loss: 0.2161\n",
            "Epoch 14/32\n",
            "9270/9270 [==============================] - ETA: 0s - loss: 0.7353Layer 0 - weights mean: -0.6794213652610779, std: 60.65484619140625\n",
            "Layer 1 - weights mean: 1.5158686637878418, std: 419.63995361328125\n",
            "9270/9270 [==============================] - 80s 9ms/step - loss: 0.7353 - val_loss: 0.2161\n",
            "Epoch 15/32\n",
            "9270/9270 [==============================] - ETA: 0s - loss: 0.7351Layer 0 - weights mean: -0.6445039510726929, std: 60.580631256103516\n",
            "Layer 1 - weights mean: 1.604783535003662, std: 419.6442565917969\n",
            "9270/9270 [==============================] - 80s 9ms/step - loss: 0.7351 - val_loss: 0.2161\n",
            "Epoch 16/32\n",
            "9266/9270 [============================>.] - ETA: 0s - loss: 0.7346Layer 0 - weights mean: -0.6346970796585083, std: 60.581443786621094\n",
            "Layer 1 - weights mean: 1.7320051193237305, std: 419.62408447265625\n",
            "9270/9270 [==============================] - 80s 9ms/step - loss: 0.7345 - val_loss: 0.2161\n",
            "Epoch 17/32\n",
            "9264/9270 [============================>.] - ETA: 0s - loss: 0.7343Layer 0 - weights mean: -0.63945472240448, std: 60.602073669433594\n",
            "Layer 1 - weights mean: 1.7269468307495117, std: 419.64508056640625\n",
            "9270/9270 [==============================] - 80s 9ms/step - loss: 0.7342 - val_loss: 0.2161\n",
            "Epoch 18/32\n",
            "9267/9270 [============================>.] - ETA: 0s - loss: 0.7339Layer 0 - weights mean: -0.6577237248420715, std: 60.59461212158203\n",
            "Layer 1 - weights mean: 1.715219497680664, std: 419.71112060546875\n",
            "9270/9270 [==============================] - 79s 9ms/step - loss: 0.7338 - val_loss: 0.2157\n",
            "Epoch 19/32\n",
            "9270/9270 [==============================] - ETA: 0s - loss: 0.7330Layer 0 - weights mean: -0.6159820556640625, std: 60.53019332885742\n",
            "Layer 1 - weights mean: 1.9308037757873535, std: 419.7464294433594\n",
            "9270/9270 [==============================] - 80s 9ms/step - loss: 0.7330 - val_loss: 0.2161\n",
            "Epoch 20/32\n",
            "9265/9270 [============================>.] - ETA: 0s - loss: 0.7328Layer 0 - weights mean: -0.6144090890884399, std: 60.506900787353516\n",
            "Layer 1 - weights mean: 1.9120264053344727, std: 419.74139404296875\n",
            "9270/9270 [==============================] - 79s 9ms/step - loss: 0.7327 - val_loss: 0.2161\n",
            "Epoch 21/32\n",
            "9269/9270 [============================>.] - ETA: 0s - loss: 0.7325Layer 0 - weights mean: -0.5854673385620117, std: 60.50935363769531\n",
            "Layer 1 - weights mean: 1.9970746040344238, std: 419.7269287109375\n",
            "9270/9270 [==============================] - 80s 9ms/step - loss: 0.7324 - val_loss: 0.2161\n",
            "Epoch 22/32\n",
            "9267/9270 [============================>.] - ETA: 0s - loss: 0.7328Layer 0 - weights mean: -0.5773628950119019, std: 60.466426849365234\n",
            "Layer 1 - weights mean: 2.0073442459106445, std: 419.6365051269531\n",
            "9270/9270 [==============================] - 79s 9ms/step - loss: 0.7328 - val_loss: 0.2161\n",
            "Epoch 23/32\n",
            "9270/9270 [==============================] - ETA: 0s - loss: 0.7325Layer 0 - weights mean: -0.5867902040481567, std: 60.469970703125\n",
            "Layer 1 - weights mean: 2.0310680866241455, std: 419.7107849121094\n",
            "9270/9270 [==============================] - 79s 9ms/step - loss: 0.7325 - val_loss: 0.2161\n",
            "Epoch 24/32\n",
            "9270/9270 [==============================] - ETA: 0s - loss: 0.7319Layer 0 - weights mean: -0.5569247007369995, std: 60.458457946777344\n",
            "Layer 1 - weights mean: 1.993772029876709, std: 419.8937072753906\n",
            "9270/9270 [==============================] - 79s 9ms/step - loss: 0.7319 - val_loss: 0.2161\n",
            "Epoch 25/32\n",
            "9264/9270 [============================>.] - ETA: 0s - loss: 0.7313Layer 0 - weights mean: -0.5621929168701172, std: 60.51155090332031\n",
            "Layer 1 - weights mean: 2.0906834602355957, std: 419.8617248535156\n",
            "9270/9270 [==============================] - 79s 9ms/step - loss: 0.7313 - val_loss: 0.2159\n",
            "Epoch 26/32\n",
            "9265/9270 [============================>.] - ETA: 0s - loss: 0.7308Layer 0 - weights mean: -0.5296316146850586, std: 60.59504699707031\n",
            "Layer 1 - weights mean: 2.113450527191162, std: 419.6311340332031\n",
            "9270/9270 [==============================] - 80s 9ms/step - loss: 0.7308 - val_loss: 0.2165\n",
            "Epoch 27/32\n",
            "9267/9270 [============================>.] - ETA: 0s - loss: 0.7301Layer 0 - weights mean: -0.5199987888336182, std: 60.66348648071289\n",
            "Layer 1 - weights mean: 2.0941667556762695, std: 419.65869140625\n",
            "9270/9270 [==============================] - 81s 9ms/step - loss: 0.7302 - val_loss: 0.2157\n",
            "Epoch 28/32\n",
            "9265/9270 [============================>.] - ETA: 0s - loss: 0.7301Layer 0 - weights mean: -0.5337886214256287, std: 60.60611343383789\n",
            "Layer 1 - weights mean: 2.221327543258667, std: 419.67926025390625\n",
            "9270/9270 [==============================] - 80s 9ms/step - loss: 0.7301 - val_loss: 0.2163\n",
            "Epoch 29/32\n",
            "9268/9270 [============================>.] - ETA: 0s - loss: 0.7291Layer 0 - weights mean: -0.5074677467346191, std: 60.56547546386719\n",
            "Layer 1 - weights mean: 2.227311849594116, std: 419.68170166015625\n",
            "9270/9270 [==============================] - 80s 9ms/step - loss: 0.7291 - val_loss: 0.2157\n",
            "Epoch 30/32\n",
            "9270/9270 [==============================] - ETA: 0s - loss: 0.7287Layer 0 - weights mean: -0.47575369477272034, std: 60.57612991333008\n",
            "Layer 1 - weights mean: 2.2239668369293213, std: 419.73187255859375\n",
            "9270/9270 [==============================] - 79s 9ms/step - loss: 0.7287 - val_loss: 0.2157\n",
            "Epoch 31/32\n",
            "9266/9270 [============================>.] - ETA: 0s - loss: 0.7284Layer 0 - weights mean: -0.4807092547416687, std: 60.56829071044922\n",
            "Layer 1 - weights mean: 2.206660032272339, std: 419.710205078125\n",
            "9270/9270 [==============================] - 80s 9ms/step - loss: 0.7284 - val_loss: 0.2157\n",
            "Epoch 32/32\n",
            "9266/9270 [============================>.] - ETA: 0s - loss: 0.7282Layer 0 - weights mean: -0.46615564823150635, std: 60.618099212646484\n",
            "Layer 1 - weights mean: 2.1547651290893555, std: 419.6971435546875\n",
            "9270/9270 [==============================] - 80s 9ms/step - loss: 0.7281 - val_loss: 0.2163\n"
          ]
        }
      ],
      "source": [
        "import numpy as np\n",
        "import matplotlib.pyplot as plt\n",
        "from tensorflow.keras.callbacks import Callback\n",
        "import tensorflow.keras.backend as K\n",
        "\n",
        "# Callback для мониторинга градиентов\n",
        "class GradientMonitor(tf.keras.callbacks.Callback):\n",
        "    def on_epoch_end(self, epoch, logs=None):\n",
        "        weights = [layer.get_weights() for layer in self.model.layers if len(layer.get_weights()) > 0]\n",
        "        for i, weight in enumerate(weights):\n",
        "            print(f\"Layer {i} - weights mean: {tf.reduce_mean(weight[0])}, std: {tf.math.reduce_std(weight[0])}\")\n",
        "\n",
        "grad = GradientMonitor()\n",
        "\n",
        "class CyclicLR(Callback):\n",
        "    def __init__(self, base_lr=0.001, max_lr=0.006, step_size=2000., mode='triangular', gamma=1., scale_fn=None, scale_mode='cycle'):\n",
        "        super(CyclicLR, self).__init__()\n",
        "\n",
        "        self.base_lr = base_lr\n",
        "        self.max_lr = max_lr\n",
        "        self.step_size = step_size\n",
        "        self.mode = mode\n",
        "        self.gamma = gamma\n",
        "        self.scale_fn = scale_fn\n",
        "        self.scale_mode = scale_mode\n",
        "        self.clr_iterations = 0.\n",
        "        self.trn_iterations = 0.\n",
        "        self.history = {'lr': [], 'iterations': []}\n",
        "\n",
        "        if self.scale_fn == None:\n",
        "            if self.mode == 'triangular':\n",
        "                self.scale_fn = lambda x: 1.\n",
        "                self.scale_mode = 'cycle'\n",
        "            elif self.mode == 'triangular2':\n",
        "                self.scale_fn = lambda x: 1/(2.**(x-1))\n",
        "                self.scale_mode = 'cycle'\n",
        "\n",
        "        self.clr()\n",
        "        self.plot_lr()\n",
        "\n",
        "    def clr(self):\n",
        "        cycle = np.floor(1+self.clr_iterations/(2*self.step_size))\n",
        "        x = np.abs(self.clr_iterations/self.step_size - 2*cycle + 1)\n",
        "        if self.scale_mode == 'cycle':\n",
        "            self.lr = self.base_lr + (self.max_lr-self.base_lr)*np.maximum(0, (1-x))*self.scale_fn(cycle)\n",
        "        else:\n",
        "            self.lr = self.base_lr + (self.max_lr-self.base_lr)*np.maximum(0, (1-x))*self.scale_fn(self.clr_iterations)\n",
        "\n",
        "        self.clr_iterations += 1\n",
        "        return self.lr\n",
        "\n",
        "    def on_train_begin(self, logs=None):\n",
        "        logs = logs or {}\n",
        "\n",
        "    def on_batch_end(self, batch, logs=None):\n",
        "        logs = logs or {}\n",
        "        self.trn_iterations += 1\n",
        "\n",
        "        self.history['lr'].append(K.get_value(self.model.optimizer.lr))\n",
        "        self.history['iterations'].append(self.trn_iterations)\n",
        "\n",
        "        for k, v in logs.items():\n",
        "            self.history.setdefault(k, []).append(v)\n",
        "\n",
        "        K.set_value(self.model.optimizer.lr, self.clr())\n",
        "\n",
        "    def plot_lr(self):\n",
        "        plt.xlabel(\"Iterations\")\n",
        "        plt.ylabel(\"Learning Rate\")\n",
        "        plt.title(\"CLR - Cyclical Learning Rate\")\n",
        "        plt.plot(self.history['iterations'], self.history['lr'])\n",
        "        plt.show()\n",
        "\n",
        "\n",
        "clr = CyclicLR(base_lr=0.03, max_lr=16, step_size=2000, mode='triangular2')\n",
        "#history = autoencoder.fit(X_train, y_train, epochs=5, batch_size=128, callbacks=[clr])\n",
        "# Обучение модели\n",
        "history = autoencoder.fit(x_train_normalized, x_train_normalized,\n",
        "                          epochs=32,\n",
        "                          batch_size=128,\n",
        "                          shuffle=True,\n",
        "                          validation_data=(x_val_normalized, x_val_normalized),\n",
        "                          callbacks=[grad, clr])"
      ]
    },
    {
      "cell_type": "markdown",
      "metadata": {
        "id": "Ci01oHXMthBE"
      },
      "source": [
        "## построилочки"
      ]
    },
    {
      "cell_type": "code",
      "execution_count": null,
      "metadata": {
        "id": "019Gd0dlKCi2",
        "colab": {
          "base_uri": "https://localhost:8080/",
          "height": 472
        },
        "outputId": "cf54063e-d3a9-42f5-f2ee-ef49daafef27"
      },
      "outputs": [
        {
          "output_type": "display_data",
          "data": {
            "text/plain": [
              "<Figure size 640x480 with 1 Axes>"
            ],
            "image/png": "[encoded data removed]"
          },
          "metadata": {}
        }
      ],
      "source": [
        "# Визуализация потерь\n",
        "plt.plot(history.history['loss'], label='Training Loss')\n",
        "plt.plot(history.history['val_loss'], label='Validation Loss')\n",
        "plt.xlabel('Epoch')\n",
        "plt.ylabel('Loss')\n",
        "plt.legend()\n",
        "plt.title('Training and Validation Loss')\n",
        "plt.show()\n"
      ]
    },
    {
      "cell_type": "code",
      "execution_count": null,
      "metadata": {
        "id": "_mXyMsDvKBzk",
        "colab": {
          "base_uri": "https://localhost:8080/",
          "height": 472
        },
        "outputId": "e7fb6dc8-dd6e-43f5-f771-3ee5cf0c81e7"
      },
      "outputs": [
        {
          "output_type": "display_data",
          "data": {
            "text/plain": [
              "<Figure size 640x480 with 1 Axes>"
            ],
            "image/png": "[encoded data removed]"
          },
          "metadata": {}
        }
      ],
      "source": [
        "# Визуализация потерь\n",
        "plt.plot(history.history['loss'], label='Training Loss')\n",
        "#plt.plot(history.history['val_loss'], label='Validation Loss')\n",
        "plt.xlabel('Epoch')\n",
        "plt.ylabel('Loss')\n",
        "plt.legend()\n",
        "plt.title('Training and Validation Loss')\n",
        "plt.show()\n"
      ]
    },
    {
      "cell_type": "code",
      "execution_count": null,
      "metadata": {
        "id": "ja-dynZnMd6s",
        "colab": {
          "base_uri": "https://localhost:8080/",
          "height": 472
        },
        "outputId": "9595b92e-0395-4eaf-ef8b-34ffa1767832"
      },
      "outputs": [
        {
          "output_type": "display_data",
          "data": {
            "text/plain": [
              "<Figure size 640x480 with 1 Axes>"
            ],
            "image/png": "[encoded data removed]"
          },
          "metadata": {}
        }
      ],
      "source": [
        "# Визуализация потерь\n",
        "#plt.plot(history.history['loss'], label='Training Loss')\n",
        "plt.plot(history.history['val_loss'], label='Validation Loss')\n",
        "plt.xlabel('Epoch')\n",
        "plt.ylabel('Loss')\n",
        "plt.legend()\n",
        "plt.title('Training and Validation Loss')\n",
        "plt.show()\n"
      ]
    },
    {
      "cell_type": "code",
      "execution_count": null,
      "metadata": {
        "id": "bXhhomezMfsQ",
        "colab": {
          "base_uri": "https://localhost:8080/"
        },
        "outputId": "f0251839-e38b-4b15-a32f-053a443c2fa2"
      },
      "outputs": [
        {
          "output_type": "stream",
          "name": "stderr",
          "text": [
            "/usr/local/lib/python3.10/dist-packages/keras/src/engine/training.py:3103: UserWarning: You are saving your model as an HDF5 file via `model.save()`. This file format is considered legacy. We recommend using instead the native Keras format, e.g. `model.save('my_model.keras')`.\n",
            "  saving_api.save_model(\n",
            "WARNING:tensorflow:Compiled the loaded model, but the compiled metrics have yet to be built. `model.compile_metrics` will be empty until you train or evaluate the model.\n",
            "WARNING:tensorflow:Compiled the loaded model, but the compiled metrics have yet to be built. `model.compile_metrics` will be empty until you train or evaluate the model.\n"
          ]
        }
      ],
      "source": [
        "# Сохранение энкодера для использования\n",
        "encoder.save('encoder_model_gem0031632.h5')\n",
        "# Сохранение энкодера на диск\n",
        "encoder.save('/content/drive/MyDrive/encoder_model_gem0031632.h5')"
      ]
    },
    {
      "cell_type": "markdown",
      "source": [
        "## Дальнейшие действия"
      ],
      "metadata": {
        "id": "ysrQ_HTk6rjH"
      }
    },
    {
      "cell_type": "code",
      "execution_count": null,
      "metadata": {
        "colab": {
          "base_uri": "https://localhost:8080/"
        },
        "id": "juH0ur8reeuT",
        "outputId": "8c9e98e0-d116-43f6-be32-8e15bca17a37"
      },
      "outputs": [
        {
          "output_type": "stream",
          "name": "stderr",
          "text": [
            "WARNING:tensorflow:No training configuration found in the save file, so the model was *not* compiled. Compile it manually.\n"
          ]
        }
      ],
      "source": [
        "from tensorflow.keras.models import load_model\n",
        "\n",
        "# Загрузка модели с Google Drive (путь к модели должен быть корректным)\n",
        "model_path = '/content/drive/MyDrive/encoder_model_gem0031632.h5'\n",
        "loaded_model = load_model(model_path)\n",
        "\n",
        "# Повторная компиляция модели\n",
        "loaded_model.compile(optimizer='adam', loss='mse', metrics=['accuracy'])\n"
      ]
    },
    {
      "cell_type": "code",
      "execution_count": null,
      "metadata": {
        "id": "FdKzyojDMioA"
      },
      "outputs": [],
      "source": [
        "from tensorflow.keras.models import load_model\n",
        "\n",
        "# Загрузка обученного энкодера\n",
        "trained_encoder = load_model('encoder_model_gem0031632.h5')\n",
        "\n",
        "# Повторная компиляция модели\n",
        "trained_encoder.compile(optimizer='adam', loss='mse', metrics=['accuracy'])\n"
      ]
    },
    {
      "cell_type": "code",
      "source": [
        "# Использование энкодера для сжатия данных\n",
        "#features = trained_encoder.predict(train_data)\n",
        "features = loaded_model.predict(train_data)\n",
        "\n",
        "print(features.shape)  # (число образцов, encoding_dim)"
      ],
      "metadata": {
        "colab": {
          "base_uri": "https://localhost:8080/"
        },
        "id": "9g84r7yG7HVJ",
        "outputId": "0742695a-0ba0-48c6-f012-c216447c0bc9"
      },
      "execution_count": null,
      "outputs": [
        {
          "output_type": "stream",
          "name": "stdout",
          "text": [
            "37079/37079 [==============================] - 53s 1ms/step\n",
            "(1186522, 16)\n"
          ]
        }
      ]
    },
    {
      "cell_type": "markdown",
      "metadata": {
        "id": "qk38liPKMmsE"
      },
      "source": [
        "остальное"
      ]
    },
    {
      "cell_type": "code",
      "execution_count": null,
      "metadata": {
        "colab": {
          "base_uri": "https://localhost:8080/"
        },
        "id": "tnsrqsfuOpS8",
        "outputId": "a8cf8896-4d96-4769-d2ed-8219969e0016"
      },
      "outputs": [
        {
          "name": "stdout",
          "output_type": "stream",
          "text": [
            "6250/6250 [==============================] - 9s 1ms/step\n"
          ]
        }
      ],
      "source": [
        "# Создание модели для выделения признаков\n",
        "#encoder = Model(input_layer, bottleneck)\n",
        "\n",
        "# Получение признаков\n",
        "#features = encoder.predict(train_data_reshaped)"
      ]
    },
    {
      "cell_type": "code",
      "execution_count": null,
      "metadata": {
        "id": "MZ6OO3NZq_i1",
        "colab": {
          "base_uri": "https://localhost:8080/"
        },
        "outputId": "6e91bb80-f9b6-44c8-feee-8083d972766a"
      },
      "outputs": [
        {
          "output_type": "stream",
          "name": "stdout",
          "text": [
            "37079/37079 [==============================] - 48s 1ms/step\n"
          ]
        }
      ],
      "source": [
        "#features = encoder.predict(val_data)"
      ]
    },
    {
      "cell_type": "code",
      "execution_count": null,
      "metadata": {
        "id": "mYngo49LHVq5",
        "colab": {
          "base_uri": "https://localhost:8080/"
        },
        "outputId": "0c48f509-fd06-42dd-aec8-de81c8b74d04"
      },
      "outputs": [
        {
          "output_type": "stream",
          "name": "stderr",
          "text": [
            "/usr/local/lib/python3.10/dist-packages/sklearn/cluster/_kmeans.py:870: FutureWarning: The default value of `n_init` will change from 10 to 'auto' in 1.4. Set the value of `n_init` explicitly to suppress the warning\n",
            "  warnings.warn(\n"
          ]
        },
        {
          "output_type": "stream",
          "name": "stdout",
          "text": [
            "[0 0 0 ... 0 0 0]\n"
          ]
        }
      ],
      "source": [
        "from sklearn.cluster import KMeans\n",
        "\n",
        "# Определение числа кластеров (например, 2 для \"здоровых\" и \"эпилептических\" данных)\n",
        "num_clusters = 2\n",
        "kmeans = KMeans(n_clusters=num_clusters, random_state=0)\n",
        "kmeans.fit(features)\n",
        "\n",
        "# Метки кластеров\n",
        "labels = kmeans.labels_\n",
        "\n",
        "clusters = kmeans.predict(features)\n",
        "print(clusters)"
      ]
    },
    {
      "cell_type": "code",
      "execution_count": null,
      "metadata": {
        "id": "vSYcbBwGI0Ll",
        "colab": {
          "base_uri": "https://localhost:8080/",
          "height": 472
        },
        "outputId": "f7bef43c-76d5-4478-b739-fc5b0fdb927a"
      },
      "outputs": [
        {
          "output_type": "display_data",
          "data": {
            "text/plain": [
              "<Figure size 640x480 with 1 Axes>"
            ],
            "image/png": "[encoded data removed]"
          },
          "metadata": {}
        }
      ],
      "source": [
        "import matplotlib.pyplot as plt\n",
        "from sklearn.decomposition import PCA\n",
        "\n",
        "# Снижение размерности для визуализации\n",
        "pca = PCA(n_components=2)\n",
        "reduced_features = pca.fit_transform(features)\n",
        "\n",
        "# Визуализация кластеров\n",
        "plt.scatter(reduced_features[:, 0], reduced_features[:, 1], c=labels)\n",
        "plt.xlabel('PCA Component 1')\n",
        "plt.ylabel('PCA Component 2')\n",
        "plt.title('KMeans Clusters')\n",
        "plt.show()\n"
      ]
    },
    {
      "cell_type": "code",
      "source": [
        "from sklearn.linear_model import LogisticRegression\n",
        "from sklearn.model_selection import train_test_split\n",
        "\n",
        "# Разделение данных на обучающий и тестовый наборы\n",
        "X_train, X_test, y_train, y_test = train_test_split(features, clusters, test_size=0.2, random_state=42)\n",
        "\n",
        "# Создание классификатора softmax (логистическая регрессия)\n",
        "clf = LogisticRegression(max_iter=1000)\n",
        "\n",
        "# Обучение классификатора на данных кластеризации\n",
        "clf.fit(X_train, y_train)\n",
        "\n",
        "# Оценка производительности классификатора\n",
        "accuracy = clf.score(X_test, y_test)\n",
        "print(f\"Accuracy: {accuracy}\")\n"
      ],
      "metadata": {
        "colab": {
          "base_uri": "https://localhost:8080/"
        },
        "id": "r-fzBzkt4HDA",
        "outputId": "a4c44c54-1583-4bfe-84a6-a83d4387bb97"
      },
      "execution_count": null,
      "outputs": [
        {
          "output_type": "stream",
          "name": "stdout",
          "text": [
            "Accuracy: 1.0\n"
          ]
        }
      ]
    },
    {
      "cell_type": "code",
      "source": [
        "# Проведение кластеризации на основе z\n",
        "predicted_clusters = kmeans.predict(features)\n",
        "print(predicted_clusters)"
      ],
      "metadata": {
        "colab": {
          "base_uri": "https://localhost:8080/"
        },
        "id": "oK0kfkbl4OUF",
        "outputId": "eeaa74dc-b7c6-4b13-b359-ea32922b8495"
      },
      "execution_count": null,
      "outputs": [
        {
          "output_type": "stream",
          "name": "stdout",
          "text": [
            "[0 0 0 ... 0 0 0]\n"
          ]
        }
      ]
    },
    {
      "cell_type": "code",
      "source": [
        "# Предсказание классов с помощью классификатора\n",
        "predicted_classes = clf.predict(features)\n",
        "print(predicted_classes)\n"
      ],
      "metadata": {
        "colab": {
          "base_uri": "https://localhost:8080/"
        },
        "id": "NhcMWI5M3xWg",
        "outputId": "4b800e49-bd0c-4ab3-f95b-f914ef0b5a8e"
      },
      "execution_count": null,
      "outputs": [
        {
          "output_type": "stream",
          "name": "stdout",
          "text": [
            "[0 0 0 ... 0 0 0]\n"
          ]
        }
      ]
    },
    {
      "cell_type": "code",
      "source": [
        "from collections import Counter\n",
        "\n",
        "class_counts = Counter(predicted_classes)\n",
        "print(class_counts)\n"
      ],
      "metadata": {
        "colab": {
          "base_uri": "https://localhost:8080/"
        },
        "id": "MS9eZMvx4YuP",
        "outputId": "2422e5ff-a4a2-47a8-8e70-5551e23e7586"
      },
      "execution_count": null,
      "outputs": [
        {
          "output_type": "stream",
          "name": "stdout",
          "text": [
            "Counter({0: 1157723, 1: 28799})\n"
          ]
        }
      ]
    },
    {
      "cell_type": "code",
      "source": [
        "unique, counts = np.unique(predicted_classes, return_counts=True)\n",
        "class_counts = dict(zip(unique, counts))\n",
        "\n",
        "print(class_counts)\n"
      ],
      "metadata": {
        "colab": {
          "base_uri": "https://localhost:8080/"
        },
        "id": "QD-4pGlG4a88",
        "outputId": "a8a0dfa2-3ba8-4bd6-89dd-ebe1b3d7cc6e"
      },
      "execution_count": null,
      "outputs": [
        {
          "output_type": "stream",
          "name": "stdout",
          "text": [
            "{0: 1157723, 1: 28799}\n"
          ]
        }
      ]
    },
    {
      "cell_type": "code",
      "source": [
        "from statistics import mode\n",
        "\n",
        "dominant_class = mode(predicted_classes)\n",
        "print(f\"Преобладающий класс: {dominant_class}\")\n"
      ],
      "metadata": {
        "colab": {
          "base_uri": "https://localhost:8080/"
        },
        "id": "fIX0-a3k4dHV",
        "outputId": "297f3555-c2f0-4d5a-b3e4-5a5b06aa0268"
      },
      "execution_count": null,
      "outputs": [
        {
          "output_type": "stream",
          "name": "stdout",
          "text": [
            "Преобладающий класс: 0\n"
          ]
        }
      ]
    },
    {
      "cell_type": "code",
      "execution_count": null,
      "metadata": {
        "colab": {
          "base_uri": "https://localhost:8080/"
        },
        "id": "tyEQNVyKq54S",
        "outputId": "373e99e1-b656-4a95-8eaf-0126d0712d8e"
      },
      "outputs": [
        {
          "name": "stdout",
          "output_type": "stream",
          "text": [
            "              precision    recall  f1-score   support\n",
            "\n",
            "           0       0.67      1.00      0.80         2\n",
            "           1       1.00      0.67      0.80         3\n",
            "\n",
            "    accuracy                           0.80         5\n",
            "   macro avg       0.83      0.83      0.80         5\n",
            "weighted avg       0.87      0.80      0.80         5\n",
            "\n"
          ]
        }
      ],
      "source": [
        "from sklearn.metrics import classification_report\n",
        "\n",
        "# Пример истинных и предсказанных меток\n",
        "y_true = [0, 1, 1, 0, 1]\n",
        "y_pred = [0, 1, 0, 0, 1]\n",
        "\n",
        "# Вывод classification report\n",
        "print(classification_report(y_true, y_pred))\n"
      ]
    }
  ],
  "metadata": {
    "accelerator": "GPU",
    "colab": {
      "collapsed_sections": [
        "PX7i1mxH4MS_",
        "H8BlzmOUREM0",
        "26t6_NqJOg_E"
      ],
      "gpuType": "T4",
      "machine_shape": "hm",
      "toc_visible": true,
      "provenance": [],
      "include_colab_link": true
    },
    "kernelspec": {
      "display_name": "Python 3",
      "name": "python3"
    },
    "language_info": {
      "name": "python"
    }
  },
  "nbformat": 4,
  "nbformat_minor": 0
}