{
  "nbformat": 4,
  "nbformat_minor": 0,
  "metadata": {
    "colab": {
      "provenance": [],
      "authorship_tag": "ABX9TyMTTeM/wx8AvTx5F7+toxzu",
      "include_colab_link": true
    },
    "kernelspec": {
      "name": "python3",
      "display_name": "Python 3"
    },
    "language_info": {
      "name": "python"
    }
  },
  "cells": [
    {
      "cell_type": "markdown",
      "metadata": {
        "id": "view-in-github",
        "colab_type": "text"
      },
      "source": [
        "<a href=\"https://colab.research.google.com/github/TAUforPython/BioMedAI/blob/main/NN%20ECG%20LSTM%20CNN%20Attention%20classification.ipynb\" target=\"_parent\"><img src=\"https://colab.research.google.com/assets/colab-badge.svg\" alt=\"Open In Colab\"/></a>"
      ]
    },
    {
      "cell_type": "markdown",
      "source": [
        "https://www.kaggle.com/code/polomarco/ecg-classification-cnn-lstm-attention-mechanism/input?select=mitbih_with_syntetic_test.csv"
      ],
      "metadata": {
        "id": "iDso53T4XdPb"
      }
    },
    {
      "cell_type": "code",
      "execution_count": 1,
      "metadata": {
        "id": "ul0LWU6hancv"
      },
      "outputs": [],
      "source": [
        "import os\n",
        "import itertools\n",
        "import time\n",
        "import random\n",
        "\n",
        "import numpy as np # linear algebra\n",
        "import pandas as pd # data processing, CSV file I/O (e.g. pd.read_csv)\n",
        "import matplotlib.pyplot as plt\n",
        "import matplotlib.colors as mcolors\n",
        "import seaborn as sns\n",
        "\n",
        "import torch\n",
        "import torch.nn as nn\n",
        "import torch.nn.functional as F\n",
        "from torch.utils.data import Dataset, DataLoader\n",
        "from torch.optim import AdamW\n",
        "from torch.optim import Adam\n",
        "from torch.optim.lr_scheduler import (CosineAnnealingLR,\n",
        "                                      CosineAnnealingWarmRestarts,\n",
        "                                      StepLR,\n",
        "                                      ExponentialLR)\n",
        "\n",
        "from sklearn.model_selection import train_test_split\n",
        "from sklearn.metrics import precision_recall_curve\n",
        "from sklearn.metrics import classification_report, confusion_matrix\n",
        "from sklearn.metrics import accuracy_score, auc, f1_score, precision_score, recall_score"
      ]
    },
    {
      "cell_type": "markdown",
      "source": [
        "https://www.physionet.org/content/mitdb/1.0.0/"
      ],
      "metadata": {
        "id": "s7ptj63-hLU5"
      }
    },
    {
      "cell_type": "code",
      "source": [
        "from google.colab import drive\n",
        "drive.mount('/content/drive')\n",
        "file_path_train = '/content/drive/MyDrive/edf_process/mitbih_train.csv'\n",
        "file_path_test = '/content/drive/MyDrive/edf_process/mitbih_test.csv'"
      ],
      "metadata": {
        "colab": {
          "base_uri": "https://localhost:8080/"
        },
        "id": "xY_r4qfHf63F",
        "outputId": "e3f338f6-fbb0-457b-bf09-76e85fef6499"
      },
      "execution_count": 2,
      "outputs": [
        {
          "output_type": "stream",
          "name": "stdout",
          "text": [
            "Drive already mounted at /content/drive; to attempt to forcibly remount, call drive.mount(\"/content/drive\", force_remount=True).\n"
          ]
        }
      ]
    },
    {
      "cell_type": "code",
      "source": [
        "import random\n",
        "\n",
        "n = 100000 #number of records in file\n",
        "s = 1000 #desired sample size\n",
        "skip = sorted(random.sample(range(n),n-s))"
      ],
      "metadata": {
        "id": "s-zHoF2XEoDX"
      },
      "execution_count": 3,
      "outputs": []
    },
    {
      "cell_type": "code",
      "source": [
        "df_mitbih_train = pd.read_csv(file_path_train, header=None, skiprows=skip)\n",
        "df_mitbih_test = pd.read_csv(file_path_test, header=None, skiprows=skip)\n",
        "df_mitbih = pd.concat([df_mitbih_train, df_mitbih_test], axis=0)\n"
      ],
      "metadata": {
        "id": "qDuU_DlYgpoH"
      },
      "execution_count": 13,
      "outputs": []
    },
    {
      "cell_type": "code",
      "source": [
        "df_mitbih.rename(columns={187: 'class'}, inplace=True)\n",
        "\n",
        "df_mitbih_test.rename(columns={187: 'class'}, inplace=True)\n",
        "df_mitbih_train.rename(columns={187: 'class'}, inplace=True)"
      ],
      "metadata": {
        "id": "98vOsSa0Xicu"
      },
      "execution_count": 14,
      "outputs": []
    },
    {
      "cell_type": "code",
      "source": [
        "id_to_label = {\n",
        "    0: \"Normal\",\n",
        "    1: \"Artial Premature\",\n",
        "    2: \"Premature ventricular contraction\",\n",
        "    3: \"Fusion of ventricular and normal\",\n",
        "    4: \"Fusion of paced and normal\"\n",
        "}\n",
        "df_mitbih['label'] = df_mitbih.iloc[:, -1].map(id_to_label)\n",
        "df_mitbih_test['label'] = df_mitbih_test.iloc[:, -1].map(id_to_label)\n",
        "df_mitbih_train['label'] = df_mitbih_train.iloc[:, -1].map(id_to_label)\n",
        "\n",
        "\n",
        "print(df_mitbih.info())"
      ],
      "metadata": {
        "colab": {
          "base_uri": "https://localhost:8080/"
        },
        "id": "U3XAX0OWhCB8",
        "outputId": "8c8be8c2-3dc7-494c-a39a-6cc0eb603ec1"
      },
      "execution_count": 15,
      "outputs": [
        {
          "output_type": "stream",
          "name": "stdout",
          "text": [
            "<class 'pandas.core.frame.DataFrame'>\n",
            "Index: 1081 entries, 0 to 215\n",
            "Columns: 189 entries, 0 to label\n",
            "dtypes: float64(188), object(1)\n",
            "memory usage: 1.6+ MB\n",
            "None\n"
          ]
        }
      ]
    },
    {
      "cell_type": "code",
      "source": [
        "df_mitbih_train.head()"
      ],
      "metadata": {
        "colab": {
          "base_uri": "https://localhost:8080/",
          "height": 233
        },
        "id": "0Spm2gZXKQZP",
        "outputId": "2abf89a9-ef5e-4095-9f01-cf0cdd6d5aab"
      },
      "execution_count": 16,
      "outputs": [
        {
          "output_type": "execute_result",
          "data": {
            "text/plain": [
              "          0         1         2         3         4         5         6  \\\n",
              "0  1.000000  0.558065  0.000000  0.103226  0.100000  0.090323  0.100000   \n",
              "1  0.986486  0.792793  0.468468  0.121622  0.058559  0.112613  0.157658   \n",
              "2  1.000000  0.764179  0.382090  0.098507  0.011940  0.073134  0.153731   \n",
              "3  0.915929  0.973451  0.561947  0.092920  0.000000  0.053097  0.106195   \n",
              "4  1.000000  0.786885  0.415797  0.138599  0.043219  0.128167  0.177347   \n",
              "\n",
              "          7         8         9  ...  179  180  181  182  183  184  185  186  \\\n",
              "0  0.077419  0.090323  0.083871  ...  0.0  0.0  0.0  0.0  0.0  0.0  0.0  0.0   \n",
              "1  0.162162  0.189189  0.175676  ...  0.0  0.0  0.0  0.0  0.0  0.0  0.0  0.0   \n",
              "2  0.149254  0.134328  0.126866  ...  0.0  0.0  0.0  0.0  0.0  0.0  0.0  0.0   \n",
              "3  0.154867  0.132743  0.132743  ...  0.0  0.0  0.0  0.0  0.0  0.0  0.0  0.0   \n",
              "4  0.146051  0.131148  0.132638  ...  0.0  0.0  0.0  0.0  0.0  0.0  0.0  0.0   \n",
              "\n",
              "   class   label  \n",
              "0    0.0  Normal  \n",
              "1    0.0  Normal  \n",
              "2    0.0  Normal  \n",
              "3    0.0  Normal  \n",
              "4    0.0  Normal  \n",
              "\n",
              "[5 rows x 189 columns]"
            ],
            "text/html": [
              "\n",
              "  <div id=\"df-d02b95fd-9032-4921-bd6b-e9670e1bbca8\" class=\"colab-df-container\">\n",
              "    <div>\n",
              "<style scoped>\n",
              "    .dataframe tbody tr th:only-of-type {\n",
              "        vertical-align: middle;\n",
              "    }\n",
              "\n",
              "    .dataframe tbody tr th {\n",
              "        vertical-align: top;\n",
              "    }\n",
              "\n",
              "    .dataframe thead th {\n",
              "        text-align: right;\n",
              "    }\n",
              "</style>\n",
              "<table border=\"1\" class=\"dataframe\">\n",
              "  <thead>\n",
              "    <tr style=\"text-align: right;\">\n",
              "      <th></th>\n",
              "      <th>0</th>\n",
              "      <th>1</th>\n",
              "      <th>2</th>\n",
              "      <th>3</th>\n",
              "      <th>4</th>\n",
              "      <th>5</th>\n",
              "      <th>6</th>\n",
              "      <th>7</th>\n",
              "      <th>8</th>\n",
              "      <th>9</th>\n",
              "      <th>...</th>\n",
              "      <th>179</th>\n",
              "      <th>180</th>\n",
              "      <th>181</th>\n",
              "      <th>182</th>\n",
              "      <th>183</th>\n",
              "      <th>184</th>\n",
              "      <th>185</th>\n",
              "      <th>186</th>\n",
              "      <th>class</th>\n",
              "      <th>label</th>\n",
              "    </tr>\n",
              "  </thead>\n",
              "  <tbody>\n",
              "    <tr>\n",
              "      <th>0</th>\n",
              "      <td>1.000000</td>\n",
              "      <td>0.558065</td>\n",
              "      <td>0.000000</td>\n",
              "      <td>0.103226</td>\n",
              "      <td>0.100000</td>\n",
              "      <td>0.090323</td>\n",
              "      <td>0.100000</td>\n",
              "      <td>0.077419</td>\n",
              "      <td>0.090323</td>\n",
              "      <td>0.083871</td>\n",
              "      <td>...</td>\n",
              "      <td>0.0</td>\n",
              "      <td>0.0</td>\n",
              "      <td>0.0</td>\n",
              "      <td>0.0</td>\n",
              "      <td>0.0</td>\n",
              "      <td>0.0</td>\n",
              "      <td>0.0</td>\n",
              "      <td>0.0</td>\n",
              "      <td>0.0</td>\n",
              "      <td>Normal</td>\n",
              "    </tr>\n",
              "    <tr>\n",
              "      <th>1</th>\n",
              "      <td>0.986486</td>\n",
              "      <td>0.792793</td>\n",
              "      <td>0.468468</td>\n",
              "      <td>0.121622</td>\n",
              "      <td>0.058559</td>\n",
              "      <td>0.112613</td>\n",
              "      <td>0.157658</td>\n",
              "      <td>0.162162</td>\n",
              "      <td>0.189189</td>\n",
              "      <td>0.175676</td>\n",
              "      <td>...</td>\n",
              "      <td>0.0</td>\n",
              "      <td>0.0</td>\n",
              "      <td>0.0</td>\n",
              "      <td>0.0</td>\n",
              "      <td>0.0</td>\n",
              "      <td>0.0</td>\n",
              "      <td>0.0</td>\n",
              "      <td>0.0</td>\n",
              "      <td>0.0</td>\n",
              "      <td>Normal</td>\n",
              "    </tr>\n",
              "    <tr>\n",
              "      <th>2</th>\n",
              "      <td>1.000000</td>\n",
              "      <td>0.764179</td>\n",
              "      <td>0.382090</td>\n",
              "      <td>0.098507</td>\n",
              "      <td>0.011940</td>\n",
              "      <td>0.073134</td>\n",
              "      <td>0.153731</td>\n",
              "      <td>0.149254</td>\n",
              "      <td>0.134328</td>\n",
              "      <td>0.126866</td>\n",
              "      <td>...</td>\n",
              "      <td>0.0</td>\n",
              "      <td>0.0</td>\n",
              "      <td>0.0</td>\n",
              "      <td>0.0</td>\n",
              "      <td>0.0</td>\n",
              "      <td>0.0</td>\n",
              "      <td>0.0</td>\n",
              "      <td>0.0</td>\n",
              "      <td>0.0</td>\n",
              "      <td>Normal</td>\n",
              "    </tr>\n",
              "    <tr>\n",
              "      <th>3</th>\n",
              "      <td>0.915929</td>\n",
              "      <td>0.973451</td>\n",
              "      <td>0.561947</td>\n",
              "      <td>0.092920</td>\n",
              "      <td>0.000000</td>\n",
              "      <td>0.053097</td>\n",
              "      <td>0.106195</td>\n",
              "      <td>0.154867</td>\n",
              "      <td>0.132743</td>\n",
              "      <td>0.132743</td>\n",
              "      <td>...</td>\n",
              "      <td>0.0</td>\n",
              "      <td>0.0</td>\n",
              "      <td>0.0</td>\n",
              "      <td>0.0</td>\n",
              "      <td>0.0</td>\n",
              "      <td>0.0</td>\n",
              "      <td>0.0</td>\n",
              "      <td>0.0</td>\n",
              "      <td>0.0</td>\n",
              "      <td>Normal</td>\n",
              "    </tr>\n",
              "    <tr>\n",
              "      <th>4</th>\n",
              "      <td>1.000000</td>\n",
              "      <td>0.786885</td>\n",
              "      <td>0.415797</td>\n",
              "      <td>0.138599</td>\n",
              "      <td>0.043219</td>\n",
              "      <td>0.128167</td>\n",
              "      <td>0.177347</td>\n",
              "      <td>0.146051</td>\n",
              "      <td>0.131148</td>\n",
              "      <td>0.132638</td>\n",
              "      <td>...</td>\n",
              "      <td>0.0</td>\n",
              "      <td>0.0</td>\n",
              "      <td>0.0</td>\n",
              "      <td>0.0</td>\n",
              "      <td>0.0</td>\n",
              "      <td>0.0</td>\n",
              "      <td>0.0</td>\n",
              "      <td>0.0</td>\n",
              "      <td>0.0</td>\n",
              "      <td>Normal</td>\n",
              "    </tr>\n",
              "  </tbody>\n",
              "</table>\n",
              "<p>5 rows × 189 columns</p>\n",
              "</div>\n",
              "    <div class=\"colab-df-buttons\">\n",
              "\n",
              "  <div class=\"colab-df-container\">\n",
              "    <button class=\"colab-df-convert\" onclick=\"convertToInteractive('df-d02b95fd-9032-4921-bd6b-e9670e1bbca8')\"\n",
              "            title=\"Convert this dataframe to an interactive table.\"\n",
              "            style=\"display:none;\">\n",
              "\n",
              "  <svg xmlns=\"http://www.w3.org/2000/svg\" height=\"24px\" viewBox=\"0 -960 960 960\">\n",
              "    <path d=\"M120-120v-720h720v720H120Zm60-500h600v-160H180v160Zm220 220h160v-160H400v160Zm0 220h160v-160H400v160ZM180-400h160v-160H180v160Zm440 0h160v-160H620v160ZM180-180h160v-160H180v160Zm440 0h160v-160H620v160Z\"/>\n",
              "  </svg>\n",
              "    </button>\n",
              "\n",
              "  <style>\n",
              "    .colab-df-container {\n",
              "      display:flex;\n",
              "      gap: 12px;\n",
              "    }\n",
              "\n",
              "    .colab-df-convert {\n",
              "      background-color: #E8F0FE;\n",
              "      border: none;\n",
              "      border-radius: 50%;\n",
              "      cursor: pointer;\n",
              "      display: none;\n",
              "      fill: #1967D2;\n",
              "      height: 32px;\n",
              "      padding: 0 0 0 0;\n",
              "      width: 32px;\n",
              "    }\n",
              "\n",
              "    .colab-df-convert:hover {\n",
              "      background-color: #E2EBFA;\n",
              "      box-shadow: 0px 1px 2px rgba(60, 64, 67, 0.3), 0px 1px 3px 1px rgba(60, 64, 67, 0.15);\n",
              "      fill: #174EA6;\n",
              "    }\n",
              "\n",
              "    .colab-df-buttons div {\n",
              "      margin-bottom: 4px;\n",
              "    }\n",
              "\n",
              "    [theme=dark] .colab-df-convert {\n",
              "      background-color: #3B4455;\n",
              "      fill: #D2E3FC;\n",
              "    }\n",
              "\n",
              "    [theme=dark] .colab-df-convert:hover {\n",
              "      background-color: #434B5C;\n",
              "      box-shadow: 0px 1px 3px 1px rgba(0, 0, 0, 0.15);\n",
              "      filter: drop-shadow(0px 1px 2px rgba(0, 0, 0, 0.3));\n",
              "      fill: #FFFFFF;\n",
              "    }\n",
              "  </style>\n",
              "\n",
              "    <script>\n",
              "      const buttonEl =\n",
              "        document.querySelector('#df-d02b95fd-9032-4921-bd6b-e9670e1bbca8 button.colab-df-convert');\n",
              "      buttonEl.style.display =\n",
              "        google.colab.kernel.accessAllowed ? 'block' : 'none';\n",
              "\n",
              "      async function convertToInteractive(key) {\n",
              "        const element = document.querySelector('#df-d02b95fd-9032-4921-bd6b-e9670e1bbca8');\n",
              "        const dataTable =\n",
              "          await google.colab.kernel.invokeFunction('convertToInteractive',\n",
              "                                                    [key], {});\n",
              "        if (!dataTable) return;\n",
              "\n",
              "        const docLinkHtml = 'Like what you see? Visit the ' +\n",
              "          '<a target=\"_blank\" href=https://colab.research.google.com/notebooks/data_table.ipynb>data table notebook</a>'\n",
              "          + ' to learn more about interactive tables.';\n",
              "        element.innerHTML = '';\n",
              "        dataTable['output_type'] = 'display_data';\n",
              "        await google.colab.output.renderOutput(dataTable, element);\n",
              "        const docLink = document.createElement('div');\n",
              "        docLink.innerHTML = docLinkHtml;\n",
              "        element.appendChild(docLink);\n",
              "      }\n",
              "    </script>\n",
              "  </div>\n",
              "\n",
              "\n",
              "<div id=\"df-5cfbd6df-da18-490d-ba9a-afae21211ba5\">\n",
              "  <button class=\"colab-df-quickchart\" onclick=\"quickchart('df-5cfbd6df-da18-490d-ba9a-afae21211ba5')\"\n",
              "            title=\"Suggest charts\"\n",
              "            style=\"display:none;\">\n",
              "\n",
              "<svg xmlns=\"http://www.w3.org/2000/svg\" height=\"24px\"viewBox=\"0 0 24 24\"\n",
              "     width=\"24px\">\n",
              "    <g>\n",
              "        <path d=\"M19 3H5c-1.1 0-2 .9-2 2v14c0 1.1.9 2 2 2h14c1.1 0 2-.9 2-2V5c0-1.1-.9-2-2-2zM9 17H7v-7h2v7zm4 0h-2V7h2v10zm4 0h-2v-4h2v4z\"/>\n",
              "    </g>\n",
              "</svg>\n",
              "  </button>\n",
              "\n",
              "<style>\n",
              "  .colab-df-quickchart {\n",
              "      --bg-color: #E8F0FE;\n",
              "      --fill-color: #1967D2;\n",
              "      --hover-bg-color: #E2EBFA;\n",
              "      --hover-fill-color: #174EA6;\n",
              "      --disabled-fill-color: #AAA;\n",
              "      --disabled-bg-color: #DDD;\n",
              "  }\n",
              "\n",
              "  [theme=dark] .colab-df-quickchart {\n",
              "      --bg-color: #3B4455;\n",
              "      --fill-color: #D2E3FC;\n",
              "      --hover-bg-color: #434B5C;\n",
              "      --hover-fill-color: #FFFFFF;\n",
              "      --disabled-bg-color: #3B4455;\n",
              "      --disabled-fill-color: #666;\n",
              "  }\n",
              "\n",
              "  .colab-df-quickchart {\n",
              "    background-color: var(--bg-color);\n",
              "    border: none;\n",
              "    border-radius: 50%;\n",
              "    cursor: pointer;\n",
              "    display: none;\n",
              "    fill: var(--fill-color);\n",
              "    height: 32px;\n",
              "    padding: 0;\n",
              "    width: 32px;\n",
              "  }\n",
              "\n",
              "  .colab-df-quickchart:hover {\n",
              "    background-color: var(--hover-bg-color);\n",
              "    box-shadow: 0 1px 2px rgba(60, 64, 67, 0.3), 0 1px 3px 1px rgba(60, 64, 67, 0.15);\n",
              "    fill: var(--button-hover-fill-color);\n",
              "  }\n",
              "\n",
              "  .colab-df-quickchart-complete:disabled,\n",
              "  .colab-df-quickchart-complete:disabled:hover {\n",
              "    background-color: var(--disabled-bg-color);\n",
              "    fill: var(--disabled-fill-color);\n",
              "    box-shadow: none;\n",
              "  }\n",
              "\n",
              "  .colab-df-spinner {\n",
              "    border: 2px solid var(--fill-color);\n",
              "    border-color: transparent;\n",
              "    border-bottom-color: var(--fill-color);\n",
              "    animation:\n",
              "      spin 1s steps(1) infinite;\n",
              "  }\n",
              "\n",
              "  @keyframes spin {\n",
              "    0% {\n",
              "      border-color: transparent;\n",
              "      border-bottom-color: var(--fill-color);\n",
              "      border-left-color: var(--fill-color);\n",
              "    }\n",
              "    20% {\n",
              "      border-color: transparent;\n",
              "      border-left-color: var(--fill-color);\n",
              "      border-top-color: var(--fill-color);\n",
              "    }\n",
              "    30% {\n",
              "      border-color: transparent;\n",
              "      border-left-color: var(--fill-color);\n",
              "      border-top-color: var(--fill-color);\n",
              "      border-right-color: var(--fill-color);\n",
              "    }\n",
              "    40% {\n",
              "      border-color: transparent;\n",
              "      border-right-color: var(--fill-color);\n",
              "      border-top-color: var(--fill-color);\n",
              "    }\n",
              "    60% {\n",
              "      border-color: transparent;\n",
              "      border-right-color: var(--fill-color);\n",
              "    }\n",
              "    80% {\n",
              "      border-color: transparent;\n",
              "      border-right-color: var(--fill-color);\n",
              "      border-bottom-color: var(--fill-color);\n",
              "    }\n",
              "    90% {\n",
              "      border-color: transparent;\n",
              "      border-bottom-color: var(--fill-color);\n",
              "    }\n",
              "  }\n",
              "</style>\n",
              "\n",
              "  <script>\n",
              "    async function quickchart(key) {\n",
              "      const quickchartButtonEl =\n",
              "        document.querySelector('#' + key + ' button');\n",
              "      quickchartButtonEl.disabled = true;  // To prevent multiple clicks.\n",
              "      quickchartButtonEl.classList.add('colab-df-spinner');\n",
              "      try {\n",
              "        const charts = await google.colab.kernel.invokeFunction(\n",
              "            'suggestCharts', [key], {});\n",
              "      } catch (error) {\n",
              "        console.error('Error during call to suggestCharts:', error);\n",
              "      }\n",
              "      quickchartButtonEl.classList.remove('colab-df-spinner');\n",
              "      quickchartButtonEl.classList.add('colab-df-quickchart-complete');\n",
              "    }\n",
              "    (() => {\n",
              "      let quickchartButtonEl =\n",
              "        document.querySelector('#df-5cfbd6df-da18-490d-ba9a-afae21211ba5 button');\n",
              "      quickchartButtonEl.style.display =\n",
              "        google.colab.kernel.accessAllowed ? 'block' : 'none';\n",
              "    })();\n",
              "  </script>\n",
              "</div>\n",
              "    </div>\n",
              "  </div>\n"
            ],
            "application/vnd.google.colaboratory.intrinsic+json": {
              "type": "dataframe",
              "variable_name": "df_mitbih_train"
            }
          },
          "metadata": {},
          "execution_count": 16
        }
      ]
    },
    {
      "cell_type": "code",
      "source": [
        "df_mitbih['label'].value_counts()"
      ],
      "metadata": {
        "colab": {
          "base_uri": "https://localhost:8080/",
          "height": 269
        },
        "id": "22r5EPJ-hWkg",
        "outputId": "b78de06b-cf78-4d30-aba2-3b6e35f9ec9a"
      },
      "execution_count": 17,
      "outputs": [
        {
          "output_type": "execute_result",
          "data": {
            "text/plain": [
              "label\n",
              "Normal                               890\n",
              "Premature ventricular contraction     87\n",
              "Fusion of paced and normal            66\n",
              "Artial Premature                      28\n",
              "Fusion of ventricular and normal      10\n",
              "Name: count, dtype: int64"
            ],
            "text/html": [
              "<div>\n",
              "<style scoped>\n",
              "    .dataframe tbody tr th:only-of-type {\n",
              "        vertical-align: middle;\n",
              "    }\n",
              "\n",
              "    .dataframe tbody tr th {\n",
              "        vertical-align: top;\n",
              "    }\n",
              "\n",
              "    .dataframe thead th {\n",
              "        text-align: right;\n",
              "    }\n",
              "</style>\n",
              "<table border=\"1\" class=\"dataframe\">\n",
              "  <thead>\n",
              "    <tr style=\"text-align: right;\">\n",
              "      <th></th>\n",
              "      <th>count</th>\n",
              "    </tr>\n",
              "    <tr>\n",
              "      <th>label</th>\n",
              "      <th></th>\n",
              "    </tr>\n",
              "  </thead>\n",
              "  <tbody>\n",
              "    <tr>\n",
              "      <th>Normal</th>\n",
              "      <td>890</td>\n",
              "    </tr>\n",
              "    <tr>\n",
              "      <th>Premature ventricular contraction</th>\n",
              "      <td>87</td>\n",
              "    </tr>\n",
              "    <tr>\n",
              "      <th>Fusion of paced and normal</th>\n",
              "      <td>66</td>\n",
              "    </tr>\n",
              "    <tr>\n",
              "      <th>Artial Premature</th>\n",
              "      <td>28</td>\n",
              "    </tr>\n",
              "    <tr>\n",
              "      <th>Fusion of ventricular and normal</th>\n",
              "      <td>10</td>\n",
              "    </tr>\n",
              "  </tbody>\n",
              "</table>\n",
              "</div><br><label><b>dtype:</b> int64</label>"
            ]
          },
          "metadata": {},
          "execution_count": 17
        }
      ]
    },
    {
      "cell_type": "code",
      "source": [
        "class ECGDataset(Dataset):\n",
        "\n",
        "    def __init__(self, df):\n",
        "        self.df = df\n",
        "        self.data_columns = self.df.columns[:-2].tolist()\n",
        "\n",
        "    def __getitem__(self, idx):\n",
        "        signal = self.df.loc[idx, self.data_columns].astype('float32')\n",
        "        signal = torch.FloatTensor([signal.values])\n",
        "        target = torch.LongTensor(np.array(self.df.loc[idx, 'class']))\n",
        "        return signal, target\n",
        "\n",
        "    def __len__(self):\n",
        "        return len(self.df)"
      ],
      "metadata": {
        "id": "HYU4iD0ihhcu"
      },
      "execution_count": 19,
      "outputs": []
    },
    {
      "cell_type": "code",
      "source": [
        "#def get_dataloader(df, phase: str, batch_size: int = 96) -> DataLoader:\n",
        "def get_dataloader(df, phase: str, batch_size: int = 96):\n",
        "\n",
        "    '''\n",
        "    Dataset and DataLoader.\n",
        "    Parameters:\n",
        "        pahse: training or validation phase.\n",
        "        batch_size: data per iteration.\n",
        "    Returns:\n",
        "        data generator\n",
        "    '''\n",
        "    #df = pd.read_csv(config.train_csv_path)\n",
        "    train_df, val_df = train_test_split(\n",
        "        df, test_size=0.15, random_state=123, stratify=df['label']\n",
        "    )\n",
        "    train_df, val_df = train_df.reset_index(drop=True), val_df.reset_index(drop=True)\n",
        "    df = train_df if phase == 'train' else val_df\n",
        "    dataset = ECGDataset(df)\n",
        "    dataloader = DataLoader(dataset=dataset, batch_size=batch_size, num_workers=4)\n",
        "    return dataloader"
      ],
      "metadata": {
        "id": "yeMj4nO1hrru"
      },
      "execution_count": 20,
      "outputs": []
    },
    {
      "cell_type": "code",
      "source": [
        "class Swish(nn.Module):\n",
        "    def forward(self, x):\n",
        "        return x * torch.sigmoid(x)\n",
        "\n",
        "x = torch.linspace(-10.0, 10.0, 100)\n",
        "swish = Swish()\n",
        "swish_out = swish(x)\n",
        "relu_out = torch.relu(x)\n",
        "\n",
        "plt.title('Swish function')\n",
        "plt.plot(x.numpy(), swish_out.numpy(), label='Swish')\n",
        "plt.plot(x.numpy(), relu_out.numpy(), label='ReLU')\n",
        "plt.legend();\n",
        "plt.show()"
      ],
      "metadata": {
        "colab": {
          "base_uri": "https://localhost:8080/",
          "height": 452
        },
        "id": "nmez-AwIihRN",
        "outputId": "1383af4f-c763-4482-b309-678ba0f01f99"
      },
      "execution_count": 21,
      "outputs": [
        {
          "output_type": "display_data",
          "data": {
            "text/plain": [
              "<Figure size 640x480 with 1 Axes>"
            ],
            "image/png": "[encoded data removed]"
          },
          "metadata": {}
        }
      ]
    },
    {
      "cell_type": "markdown",
      "source": [
        "# NN Models"
      ],
      "metadata": {
        "id": "gHbV-NCJiuz7"
      }
    },
    {
      "cell_type": "code",
      "source": [
        "class RNN(nn.Module):\n",
        "    \"\"\"RNN module(cell type lstm or gru)\"\"\"\n",
        "    def __init__(\n",
        "        self,\n",
        "        input_size,\n",
        "        hid_size,\n",
        "        num_rnn_layers=1,\n",
        "        dropout_p = 0.2,\n",
        "        bidirectional = False,\n",
        "        rnn_type = 'lstm',\n",
        "    ):\n",
        "        super().__init__()\n",
        "\n",
        "        if rnn_type == 'lstm':\n",
        "            self.rnn_layer = nn.LSTM(\n",
        "                input_size=input_size,\n",
        "                hidden_size=hid_size,\n",
        "                num_layers=num_rnn_layers,\n",
        "                dropout=dropout_p if num_rnn_layers>1 else 0,\n",
        "                bidirectional=bidirectional,\n",
        "                batch_first=True,\n",
        "            )\n",
        "\n",
        "        else:\n",
        "            self.rnn_layer = nn.GRU(\n",
        "                input_size=input_size,\n",
        "                hidden_size=hid_size,\n",
        "                num_layers=num_rnn_layers,\n",
        "                dropout=dropout_p if num_rnn_layers>1 else 0,\n",
        "                bidirectional=bidirectional,\n",
        "                batch_first=True,\n",
        "            )\n",
        "    def forward(self, input):\n",
        "        outputs, hidden_states = self.rnn_layer(input)\n",
        "        return outputs, hidden_states"
      ],
      "metadata": {
        "id": "BkBv2c3omouX"
      },
      "execution_count": 22,
      "outputs": []
    },
    {
      "cell_type": "code",
      "source": [
        "class ConvNormPool(nn.Module):\n",
        "    \"\"\"Conv Skip-connection module\"\"\"\n",
        "    def __init__(\n",
        "        self,\n",
        "        input_size,\n",
        "        hidden_size,\n",
        "        kernel_size,\n",
        "        norm_type='bachnorm'\n",
        "    ):\n",
        "        super().__init__()\n",
        "\n",
        "        self.kernel_size = kernel_size\n",
        "        self.conv_1 = nn.Conv1d(\n",
        "            in_channels=input_size,\n",
        "            out_channels=hidden_size,\n",
        "            kernel_size=kernel_size\n",
        "        )\n",
        "        self.conv_2 = nn.Conv1d(\n",
        "            in_channels=hidden_size,\n",
        "            out_channels=hidden_size,\n",
        "            kernel_size=kernel_size\n",
        "        )\n",
        "        self.conv_3 = nn.Conv1d(\n",
        "            in_channels=hidden_size,\n",
        "            out_channels=hidden_size,\n",
        "            kernel_size=kernel_size\n",
        "        )\n",
        "        self.swish_1 = Swish()\n",
        "        self.swish_2 = Swish()\n",
        "        self.swish_3 = Swish()\n",
        "        if norm_type == 'group':\n",
        "            self.normalization_1 = nn.GroupNorm(\n",
        "                num_groups=8,\n",
        "                num_channels=hidden_size\n",
        "            )\n",
        "            self.normalization_2 = nn.GroupNorm(\n",
        "                num_groups=8,\n",
        "                num_channels=hidden_size\n",
        "            )\n",
        "            self.normalization_3 = nn.GroupNorm(\n",
        "                num_groups=8,\n",
        "                num_channels=hidden_size\n",
        "            )\n",
        "        else:\n",
        "            self.normalization_1 = nn.BatchNorm1d(num_features=hidden_size)\n",
        "            self.normalization_2 = nn.BatchNorm1d(num_features=hidden_size)\n",
        "            self.normalization_3 = nn.BatchNorm1d(num_features=hidden_size)\n",
        "\n",
        "        self.pool = nn.MaxPool1d(kernel_size=2)\n",
        "\n",
        "    def forward(self, input):\n",
        "        conv1 = self.conv_1(input)\n",
        "        x = self.normalization_1(conv1)\n",
        "        x = self.swish_1(x)\n",
        "        x = F.pad(x, pad=(self.kernel_size - 1, 0))\n",
        "\n",
        "        x = self.conv_2(x)\n",
        "        x = self.normalization_2(x)\n",
        "        x = self.swish_2(x)\n",
        "        x = F.pad(x, pad=(self.kernel_size - 1, 0))\n",
        "\n",
        "        conv3 = self.conv_3(x)\n",
        "        x = self.normalization_3(conv1+conv3)\n",
        "        x = self.swish_3(x)\n",
        "        x = F.pad(x, pad=(self.kernel_size - 1, 0))\n",
        "\n",
        "        x = self.pool(x)\n",
        "        return x"
      ],
      "metadata": {
        "id": "ew0jNl10mwwb"
      },
      "execution_count": 23,
      "outputs": []
    },
    {
      "cell_type": "code",
      "source": [
        "class RNNModel(nn.Module):\n",
        "    def __init__(\n",
        "        self,\n",
        "        input_size,\n",
        "        hid_size,\n",
        "        rnn_type,\n",
        "        bidirectional,\n",
        "        n_classes=5,\n",
        "        kernel_size=5,\n",
        "    ):\n",
        "        super().__init__()\n",
        "\n",
        "        self.rnn_layer = RNN(\n",
        "            input_size=46,#hid_size * 2 if bidirectional else hid_size,\n",
        "            hid_size=hid_size,\n",
        "            rnn_type=rnn_type,\n",
        "            bidirectional=bidirectional\n",
        "        )\n",
        "        self.conv1 = ConvNormPool(\n",
        "            input_size=input_size,\n",
        "            hidden_size=hid_size,\n",
        "            kernel_size=kernel_size,\n",
        "        )\n",
        "        self.conv2 = ConvNormPool(\n",
        "            input_size=hid_size,\n",
        "            hidden_size=hid_size,\n",
        "            kernel_size=kernel_size,\n",
        "        )\n",
        "        self.avgpool = nn.AdaptiveAvgPool1d((1))\n",
        "        self.fc = nn.Linear(in_features=hid_size, out_features=n_classes)\n",
        "\n",
        "    def forward(self, input):\n",
        "        x = self.conv1(input)\n",
        "        x = self.conv2(x)\n",
        "        x, _ = self.rnn_layer(x)\n",
        "        x = self.avgpool(x)\n",
        "        x = x.view(-1, x.size(1) * x.size(2))\n",
        "        x = F.softmax(self.fc(x), dim=1)#.squeeze(1)\n",
        "        return x"
      ],
      "metadata": {
        "id": "Y2x6VP5qizNk"
      },
      "execution_count": 24,
      "outputs": []
    },
    {
      "cell_type": "code",
      "source": [
        "class RNNAttentionModel(nn.Module):\n",
        "    def __init__(\n",
        "        self,\n",
        "        input_size,\n",
        "        hid_size,\n",
        "        rnn_type,\n",
        "        bidirectional,\n",
        "        n_classes=5,\n",
        "        kernel_size=5,\n",
        "    ):\n",
        "        super().__init__()\n",
        "\n",
        "        self.rnn_layer = RNN(\n",
        "            input_size=46,\n",
        "            hid_size=hid_size,\n",
        "            rnn_type=rnn_type,\n",
        "            bidirectional=bidirectional\n",
        "        )\n",
        "        self.conv1 = ConvNormPool(\n",
        "            input_size=input_size,\n",
        "            hidden_size=hid_size,\n",
        "            kernel_size=kernel_size,\n",
        "        )\n",
        "        self.conv2 = ConvNormPool(\n",
        "            input_size=hid_size,\n",
        "            hidden_size=hid_size,\n",
        "            kernel_size=kernel_size,\n",
        "        )\n",
        "        self.avgpool = nn.AdaptiveMaxPool1d((1))\n",
        "        self.attn = nn.Linear(hid_size, hid_size, bias=False)\n",
        "        self.fc = nn.Linear(in_features=hid_size, out_features=n_classes)\n",
        "\n",
        "    def forward(self, input):\n",
        "        x = self.conv1(input)\n",
        "        x = self.conv2(x)\n",
        "        x_out, hid_states = self.rnn_layer(x)\n",
        "        x = torch.cat([hid_states[0], hid_states[1]], dim=0).transpose(0, 1)\n",
        "        x_attn = torch.tanh(self.attn(x))\n",
        "        x = x_attn.bmm(x_out)\n",
        "        x = x.transpose(2, 1)\n",
        "        x = self.avgpool(x)\n",
        "        x = x.view(-1, x.size(1) * x.size(2))\n",
        "        x = F.softmax(self.fc(x), dim=-1)\n",
        "        return x"
      ],
      "metadata": {
        "id": "b2dwcGF_i4lW"
      },
      "execution_count": 25,
      "outputs": []
    },
    {
      "cell_type": "code",
      "source": [
        "class Meter:\n",
        "    def __init__(self, n_classes=5):\n",
        "        self.metrics = {}\n",
        "        self.confusion = torch.zeros((n_classes, n_classes))\n",
        "\n",
        "    def update(self, x, y, loss):\n",
        "        x = np.argmax(x.detach().cpu().numpy(), axis=1)\n",
        "        y = y.detach().cpu().numpy()\n",
        "        self.metrics['loss'] += loss\n",
        "        self.metrics['accuracy'] += accuracy_score(x,y)\n",
        "        self.metrics['f1'] += f1_score(x,y,average='macro')\n",
        "        self.metrics['precision'] += precision_score(x, y, average='macro', zero_division=1)\n",
        "        self.metrics['recall'] += recall_score(x,y, average='macro', zero_division=1)\n",
        "\n",
        "        self._compute_cm(x, y)\n",
        "\n",
        "    def _compute_cm(self, x, y):\n",
        "        for prob, target in zip(x, y):\n",
        "            if prob == target:\n",
        "                self.confusion[target][target] += 1\n",
        "            else:\n",
        "                self.confusion[target][prob] += 1\n",
        "\n",
        "    def init_metrics(self):\n",
        "        self.metrics['loss'] = 0\n",
        "        self.metrics['accuracy'] = 0\n",
        "        self.metrics['f1'] = 0\n",
        "        self.metrics['precision'] = 0\n",
        "        self.metrics['recall'] = 0\n",
        "\n",
        "    def get_metrics(self):\n",
        "        return self.metrics\n",
        "\n",
        "    def get_confusion_matrix(self):\n",
        "        return self.confusion"
      ],
      "metadata": {
        "id": "C0l9TELOi8Y5"
      },
      "execution_count": 26,
      "outputs": []
    },
    {
      "cell_type": "code",
      "source": [
        "class Trainer:\n",
        "    def __init__(self, df, net, lr, batch_size, num_epochs):\n",
        "        #self.net = net.to(config.device)\n",
        "        self.num_epochs = num_epochs\n",
        "        self.criterion = nn.CrossEntropyLoss()\n",
        "        #self.optimizer = AdamW(self.net.parameters(), lr=lr)\n",
        "        self.optimizer = AdamW(net.parameters(), lr=lr)\n",
        "        self.scheduler = CosineAnnealingLR(self.optimizer, T_max=num_epochs, eta_min=5e-6)\n",
        "        self.best_loss = float('inf')\n",
        "        self.phases = ['train', 'val']\n",
        "        self.dataloaders = {\n",
        "            phase: get_dataloader(df, phase, batch_size) for phase in self.phases\n",
        "        }\n",
        "        self.train_df_logs = pd.DataFrame()\n",
        "        self.val_df_logs = pd.DataFrame()\n",
        "\n",
        "    def _train_epoch(self, phase, net):\n",
        "        print(f\"{phase} mode | time: {time.strftime('%H:%M:%S')}\")\n",
        "\n",
        "        #self.net.train() if phase == 'train' else self.net.eval()\n",
        "        net.train() if phase == 'train' else net.eval()\n",
        "        meter = Meter()\n",
        "        meter.init_metrics()\n",
        "\n",
        "        for i, (data, target) in enumerate(self.dataloaders[phase]):\n",
        "            device = 'cuda:0' if torch.cuda.is_available() else 'cpu'\n",
        "            data = data.to(device)\n",
        "            target = target.to(device)\n",
        "            #data = data.to(config.device)\n",
        "            #target = target.to(config.device)\n",
        "\n",
        "            #output = self.net(data)\n",
        "            output = net(data)\n",
        "            loss = self.criterion(output, target)\n",
        "\n",
        "            if phase == 'train':\n",
        "                self.optimizer.zero_grad()\n",
        "                loss.backward()\n",
        "                self.optimizer.step()\n",
        "\n",
        "            meter.update(output, target, loss.item())\n",
        "\n",
        "        metrics = meter.get_metrics()\n",
        "        metrics = {k:v / i for k, v in metrics.items()}\n",
        "        df_logs = pd.DataFrame([metrics])\n",
        "        confusion_matrix = meter.get_confusion_matrix()\n",
        "\n",
        "        if phase == 'train':\n",
        "            self.train_df_logs = pd.concat([self.train_df_logs, df_logs], axis=0)\n",
        "        else:\n",
        "            self.val_df_logs = pd.concat([self.val_df_logs, df_logs], axis=0)\n",
        "\n",
        "        # show logs\n",
        "        print('{}: {}, {}: {}, {}: {}, {}: {}, {}: {}'\n",
        "              .format(*(x for kv in metrics.items() for x in kv))\n",
        "             )\n",
        "        fig, ax = plt.subplots(figsize=(5, 5))\n",
        "        cm_ = ax.imshow(confusion_matrix, cmap='hot')\n",
        "        ax.set_title('Confusion matrix', fontsize=15)\n",
        "        ax.set_xlabel('Actual', fontsize=13)\n",
        "        ax.set_ylabel('Predicted', fontsize=13)\n",
        "        plt.colorbar(cm_)\n",
        "        plt.show()\n",
        "\n",
        "        return loss\n",
        "\n",
        "    def run(self, net):\n",
        "        for epoch in range(self.num_epochs):\n",
        "            self._train_epoch(phase='train',net=net)\n",
        "            with torch.no_grad():\n",
        "                val_loss = self._train_epoch(phase='val',net=net)\n",
        "                self.scheduler.step()\n",
        "\n",
        "            if val_loss < self.best_loss:\n",
        "                self.best_loss = val_loss\n",
        "                print('\\nNew checkpoint\\n')\n",
        "                self.best_loss = val_loss\n",
        "                #torch.save(self.net.state_dict(), f\"best_model_epoc{epoch}.pth\")\n",
        "                torch.save(net.state_dict(), f\"best_model_epoc{epoch}.pth\")\n",
        "            #clear_output()\n"
      ],
      "metadata": {
        "id": "AaSDmrzDjGhD"
      },
      "execution_count": 27,
      "outputs": []
    },
    {
      "cell_type": "markdown",
      "source": [
        "# Modeling"
      ],
      "metadata": {
        "id": "1yOBR4fyjeNu"
      }
    },
    {
      "cell_type": "code",
      "source": [
        "#model = RNNAttentionModel(1, 64, 'lstm', False)\n",
        "model = RNNModel(input_size=1, hid_size=64, rnn_type='lstm', bidirectional=True)\n",
        "#model = CNN(num_classes=5, hid_size=128)"
      ],
      "metadata": {
        "id": "zdvHVa-ejX7H"
      },
      "execution_count": 28,
      "outputs": []
    },
    {
      "cell_type": "code",
      "source": [
        "model._modules.items()\n",
        "#model.state_dict()"
      ],
      "metadata": {
        "colab": {
          "base_uri": "https://localhost:8080/"
        },
        "id": "7qM7_trRonIv",
        "outputId": "d33ea84f-fbc6-4ac4-b725-a440264e8144"
      },
      "execution_count": 29,
      "outputs": [
        {
          "output_type": "execute_result",
          "data": {
            "text/plain": [
              "dict_items([('rnn_layer', RNN(\n",
              "  (rnn_layer): LSTM(46, 64, batch_first=True, bidirectional=True)\n",
              ")), ('conv1', ConvNormPool(\n",
              "  (conv_1): Conv1d(1, 64, kernel_size=(5,), stride=(1,))\n",
              "  (conv_2): Conv1d(64, 64, kernel_size=(5,), stride=(1,))\n",
              "  (conv_3): Conv1d(64, 64, kernel_size=(5,), stride=(1,))\n",
              "  (swish_1): Swish()\n",
              "  (swish_2): Swish()\n",
              "  (swish_3): Swish()\n",
              "  (normalization_1): BatchNorm1d(64, eps=1e-05, momentum=0.1, affine=True, track_running_stats=True)\n",
              "  (normalization_2): BatchNorm1d(64, eps=1e-05, momentum=0.1, affine=True, track_running_stats=True)\n",
              "  (normalization_3): BatchNorm1d(64, eps=1e-05, momentum=0.1, affine=True, track_running_stats=True)\n",
              "  (pool): MaxPool1d(kernel_size=2, stride=2, padding=0, dilation=1, ceil_mode=False)\n",
              ")), ('conv2', ConvNormPool(\n",
              "  (conv_1): Conv1d(64, 64, kernel_size=(5,), stride=(1,))\n",
              "  (conv_2): Conv1d(64, 64, kernel_size=(5,), stride=(1,))\n",
              "  (conv_3): Conv1d(64, 64, kernel_size=(5,), stride=(1,))\n",
              "  (swish_1): Swish()\n",
              "  (swish_2): Swish()\n",
              "  (swish_3): Swish()\n",
              "  (normalization_1): BatchNorm1d(64, eps=1e-05, momentum=0.1, affine=True, track_running_stats=True)\n",
              "  (normalization_2): BatchNorm1d(64, eps=1e-05, momentum=0.1, affine=True, track_running_stats=True)\n",
              "  (normalization_3): BatchNorm1d(64, eps=1e-05, momentum=0.1, affine=True, track_running_stats=True)\n",
              "  (pool): MaxPool1d(kernel_size=2, stride=2, padding=0, dilation=1, ceil_mode=False)\n",
              ")), ('avgpool', AdaptiveAvgPool1d(output_size=1)), ('fc', Linear(in_features=64, out_features=5, bias=True))])"
            ]
          },
          "metadata": {},
          "execution_count": 29
        }
      ]
    },
    {
      "cell_type": "code",
      "source": [
        "trainer = Trainer(df=df_mitbih, net=model, lr=1e-3, batch_size=96, num_epochs=1)"
      ],
      "metadata": {
        "colab": {
          "base_uri": "https://localhost:8080/"
        },
        "id": "_YCQBe7RnjXA",
        "outputId": "2c44440d-32cd-4b46-fb6e-069683f7c905"
      },
      "execution_count": 30,
      "outputs": [
        {
          "output_type": "stream",
          "name": "stderr",
          "text": [
            "/usr/local/lib/python3.10/dist-packages/torch/utils/data/dataloader.py:617: UserWarning: This DataLoader will create 4 worker processes in total. Our suggested max number of worker in current system is 2, which is smaller than what this DataLoader is going to create. Please be aware that excessive worker creation might get DataLoader running slow or even freeze, lower the worker number to avoid potential slowness/freeze if necessary.\n",
            "  warnings.warn(\n",
            "/usr/local/lib/python3.10/dist-packages/torch/utils/data/dataloader.py:617: UserWarning: This DataLoader will create 4 worker processes in total. Our suggested max number of worker in current system is 2, which is smaller than what this DataLoader is going to create. Please be aware that excessive worker creation might get DataLoader running slow or even freeze, lower the worker number to avoid potential slowness/freeze if necessary.\n",
            "  warnings.warn(\n"
          ]
        }
      ]
    },
    {
      "cell_type": "code",
      "source": [
        "trainer.run(net=model)"
      ],
      "metadata": {
        "colab": {
          "base_uri": "https://localhost:8080/",
          "height": 1000
        },
        "id": "yj3SfnrGvWv1",
        "outputId": "3820253d-2ba4-4e1a-90af-186e50badcc6"
      },
      "execution_count": 31,
      "outputs": [
        {
          "output_type": "stream",
          "name": "stdout",
          "text": [
            "train mode | time: 15:42:22\n"
          ]
        },
        {
          "output_type": "stream",
          "name": "stderr",
          "text": [
            "/usr/local/lib/python3.10/dist-packages/torch/utils/data/dataloader.py:617: UserWarning: This DataLoader will create 4 worker processes in total. Our suggested max number of worker in current system is 2, which is smaller than what this DataLoader is going to create. Please be aware that excessive worker creation might get DataLoader running slow or even freeze, lower the worker number to avoid potential slowness/freeze if necessary.\n",
            "  warnings.warn(\n",
            "<ipython-input-19-e5acc32f7d01>:9: UserWarning: Creating a tensor from a list of numpy.ndarrays is extremely slow. Please consider converting the list to a single numpy.ndarray with numpy.array() before converting to a tensor. (Triggered internally at ../torch/csrc/utils/tensor_new.cpp:278.)\n",
            "  signal = torch.FloatTensor([signal.values])\n",
            "<ipython-input-19-e5acc32f7d01>:9: UserWarning: Creating a tensor from a list of numpy.ndarrays is extremely slow. Please consider converting the list to a single numpy.ndarray with numpy.array() before converting to a tensor. (Triggered internally at ../torch/csrc/utils/tensor_new.cpp:278.)\n",
            "  signal = torch.FloatTensor([signal.values])\n",
            "<ipython-input-19-e5acc32f7d01>:9: UserWarning: Creating a tensor from a list of numpy.ndarrays is extremely slow. Please consider converting the list to a single numpy.ndarray with numpy.array() before converting to a tensor. (Triggered internally at ../torch/csrc/utils/tensor_new.cpp:278.)\n",
            "  signal = torch.FloatTensor([signal.values])\n",
            "<ipython-input-19-e5acc32f7d01>:9: UserWarning: Creating a tensor from a list of numpy.ndarrays is extremely slow. Please consider converting the list to a single numpy.ndarray with numpy.array() before converting to a tensor. (Triggered internally at ../torch/csrc/utils/tensor_new.cpp:278.)\n",
            "  signal = torch.FloatTensor([signal.values])\n"
          ]
        },
        {
          "output_type": "stream",
          "name": "stdout",
          "text": [
            "loss: 1.7672050264146593, accuracy: 0.40997942386831276, f1: 0.1145222352134317, precision: 0.25832455613194977, recall: 0.8751503124908623\n"
          ]
        },
        {
          "output_type": "display_data",
          "data": {
            "text/plain": [
              "<Figure size 500x500 with 2 Axes>"
            ],
            "image/png": "[encoded data removed]"
          },
          "metadata": {}
        },
        {
          "output_type": "stream",
          "name": "stdout",
          "text": [
            "val mode | time: 15:42:31\n"
          ]
        },
        {
          "output_type": "stream",
          "name": "stderr",
          "text": [
            "/usr/local/lib/python3.10/dist-packages/torch/utils/data/dataloader.py:617: UserWarning: This DataLoader will create 4 worker processes in total. Our suggested max number of worker in current system is 2, which is smaller than what this DataLoader is going to create. Please be aware that excessive worker creation might get DataLoader running slow or even freeze, lower the worker number to avoid potential slowness/freeze if necessary.\n",
            "  warnings.warn(\n",
            "<ipython-input-19-e5acc32f7d01>:9: UserWarning: Creating a tensor from a list of numpy.ndarrays is extremely slow. Please consider converting the list to a single numpy.ndarray with numpy.array() before converting to a tensor. (Triggered internally at ../torch/csrc/utils/tensor_new.cpp:278.)\n",
            "  signal = torch.FloatTensor([signal.values])\n",
            "<ipython-input-19-e5acc32f7d01>:9: UserWarning: Creating a tensor from a list of numpy.ndarrays is extremely slow. Please consider converting the list to a single numpy.ndarray with numpy.array() before converting to a tensor. (Triggered internally at ../torch/csrc/utils/tensor_new.cpp:278.)\n",
            "  signal = torch.FloatTensor([signal.values])\n"
          ]
        },
        {
          "output_type": "stream",
          "name": "stdout",
          "text": [
            "loss: 3.2296805381774902, accuracy: 0.05068407960199005, f1: 0.022656018929310854, precision: 0.45, recall: 1.5616293532338308\n"
          ]
        },
        {
          "output_type": "display_data",
          "data": {
            "text/plain": [
              "<Figure size 500x500 with 2 Axes>"
            ],
            "image/png": "[encoded data removed]"
          },
          "metadata": {}
        },
        {
          "output_type": "stream",
          "name": "stdout",
          "text": [
            "\n",
            "New checkpoint\n",
            "\n"
          ]
        }
      ]
    },
    {
      "cell_type": "code",
      "source": [
        "model.eval()"
      ],
      "metadata": {
        "colab": {
          "base_uri": "https://localhost:8080/"
        },
        "id": "MmsymCh3NW4X",
        "outputId": "cd42cebd-0ad3-4f2d-a230-67261c1d6b80"
      },
      "execution_count": 32,
      "outputs": [
        {
          "output_type": "execute_result",
          "data": {
            "text/plain": [
              "RNNModel(\n",
              "  (rnn_layer): RNN(\n",
              "    (rnn_layer): LSTM(46, 64, batch_first=True, bidirectional=True)\n",
              "  )\n",
              "  (conv1): ConvNormPool(\n",
              "    (conv_1): Conv1d(1, 64, kernel_size=(5,), stride=(1,))\n",
              "    (conv_2): Conv1d(64, 64, kernel_size=(5,), stride=(1,))\n",
              "    (conv_3): Conv1d(64, 64, kernel_size=(5,), stride=(1,))\n",
              "    (swish_1): Swish()\n",
              "    (swish_2): Swish()\n",
              "    (swish_3): Swish()\n",
              "    (normalization_1): BatchNorm1d(64, eps=1e-05, momentum=0.1, affine=True, track_running_stats=True)\n",
              "    (normalization_2): BatchNorm1d(64, eps=1e-05, momentum=0.1, affine=True, track_running_stats=True)\n",
              "    (normalization_3): BatchNorm1d(64, eps=1e-05, momentum=0.1, affine=True, track_running_stats=True)\n",
              "    (pool): MaxPool1d(kernel_size=2, stride=2, padding=0, dilation=1, ceil_mode=False)\n",
              "  )\n",
              "  (conv2): ConvNormPool(\n",
              "    (conv_1): Conv1d(64, 64, kernel_size=(5,), stride=(1,))\n",
              "    (conv_2): Conv1d(64, 64, kernel_size=(5,), stride=(1,))\n",
              "    (conv_3): Conv1d(64, 64, kernel_size=(5,), stride=(1,))\n",
              "    (swish_1): Swish()\n",
              "    (swish_2): Swish()\n",
              "    (swish_3): Swish()\n",
              "    (normalization_1): BatchNorm1d(64, eps=1e-05, momentum=0.1, affine=True, track_running_stats=True)\n",
              "    (normalization_2): BatchNorm1d(64, eps=1e-05, momentum=0.1, affine=True, track_running_stats=True)\n",
              "    (normalization_3): BatchNorm1d(64, eps=1e-05, momentum=0.1, affine=True, track_running_stats=True)\n",
              "    (pool): MaxPool1d(kernel_size=2, stride=2, padding=0, dilation=1, ceil_mode=False)\n",
              "  )\n",
              "  (avgpool): AdaptiveAvgPool1d(output_size=1)\n",
              "  (fc): Linear(in_features=64, out_features=5, bias=True)\n",
              ")"
            ]
          },
          "metadata": {},
          "execution_count": 32
        }
      ]
    },
    {
      "cell_type": "code",
      "source": [
        "def make_test_stage(dataloader, model, probs=False):\n",
        "    cls_predictions = []\n",
        "    cls_ground_truths = []\n",
        "\n",
        "    for i, (data, cls_target) in enumerate(dataloader):\n",
        "        with torch.no_grad():\n",
        "            device = 'cuda:0' if torch.cuda.is_available() else 'cpu'\n",
        "            data = data.to(device)\n",
        "            cls_target = cls_target.cpu()\n",
        "            cls_prediction = model(data)\n",
        "\n",
        "            if not probs:\n",
        "                cls_prediction = torch.argmax(cls_prediction, dim=1)\n",
        "\n",
        "            cls_predictions.append(cls_prediction.detach().cpu())\n",
        "            cls_ground_truths.append(cls_target)\n",
        "\n",
        "    predictions_cls = torch.cat(cls_predictions).numpy()\n",
        "    ground_truths_cls = torch.cat(cls_ground_truths).numpy()\n",
        "    return predictions_cls, ground_truths_cls"
      ],
      "metadata": {
        "id": "MJnIQC_cx3sY"
      },
      "execution_count": 33,
      "outputs": []
    },
    {
      "cell_type": "code",
      "source": [
        "test_dataset = ECGDataset(df_mitbih_test)\n",
        "print(df_mitbih_test.shape)\n",
        "test_dataloader = torch.utils.data.DataLoader(dataset=test_dataset, batch_size=96, num_workers=0, shuffle=False)"
      ],
      "metadata": {
        "colab": {
          "base_uri": "https://localhost:8080/"
        },
        "id": "hI2YeVVTyRl1",
        "outputId": "fa0b341f-a3ee-4e25-b297-303a1a9d4d70"
      },
      "execution_count": 34,
      "outputs": [
        {
          "output_type": "stream",
          "name": "stdout",
          "text": [
            "(216, 189)\n"
          ]
        }
      ]
    },
    {
      "cell_type": "code",
      "source": [
        "test_dataset[:]"
      ],
      "metadata": {
        "colab": {
          "base_uri": "https://localhost:8080/"
        },
        "id": "udYhITOnS7C1",
        "outputId": "5077f072-6604-454e-fe88-7910374ff7ed"
      },
      "execution_count": 37,
      "outputs": [
        {
          "output_type": "execute_result",
          "data": {
            "text/plain": [
              "(tensor([[[1.0000, 0.6592, 0.5177,  ..., 0.0000, 0.0000, 0.0000],\n",
              "          [0.9463, 0.8023, 0.5621,  ..., 0.0000, 0.0000, 0.0000],\n",
              "          [1.0000, 0.8714, 0.5679,  ..., 0.0000, 0.0000, 0.0000],\n",
              "          ...,\n",
              "          [0.6335, 0.5466, 0.4487,  ..., 0.0000, 0.0000, 0.0000],\n",
              "          [1.0000, 0.5450, 0.5811,  ..., 0.0000, 0.0000, 0.0000],\n",
              "          [1.0000, 0.4635, 0.4807,  ..., 0.0000, 0.0000, 0.0000]]]),\n",
              " tensor([0, 0, 0, 0, 0, 0, 0, 0, 0, 0, 0, 0, 0, 0, 0, 0, 0, 0, 0, 0, 0, 0, 0, 0,\n",
              "         0, 0, 0, 0, 0, 0, 0, 0, 0, 0, 0, 0, 0, 0, 0, 0, 0, 0, 0, 0, 0, 0, 0, 0,\n",
              "         0, 0, 0, 0, 0, 0, 0, 0, 0, 0, 0, 0, 0, 0, 0, 0, 0, 0, 0, 0, 0, 0, 0, 0,\n",
              "         0, 0, 0, 0, 0, 0, 0, 0, 0, 0, 0, 0, 0, 0, 0, 0, 0, 0, 0, 0, 0, 0, 0, 0,\n",
              "         0, 0, 0, 0, 0, 0, 0, 0, 0, 0, 0, 0, 0, 0, 0, 0, 0, 0, 0, 0, 0, 0, 0, 0,\n",
              "         0, 0, 0, 0, 0, 0, 0, 0, 0, 0, 0, 0, 0, 0, 0, 0, 0, 0, 0, 0, 0, 0, 0, 0,\n",
              "         0, 0, 0, 0, 0, 0, 0, 0, 0, 0, 0, 0, 0, 0, 0, 0, 0, 0, 0, 0, 0, 0, 0, 0,\n",
              "         0, 0, 0, 0, 0, 1, 1, 1, 1, 1, 2, 2, 2, 2, 2, 2, 2, 2, 2, 2, 2, 2, 2, 2,\n",
              "         2, 2, 2, 2, 2, 2, 2, 2, 3, 3, 4, 4, 4, 4, 4, 4, 4, 4, 4, 4, 4, 4, 4, 4]))"
            ]
          },
          "metadata": {},
          "execution_count": 37
        }
      ]
    },
    {
      "cell_type": "code",
      "source": [
        "#models = [cnn_model, lstm_model, attn_model]\n",
        "models = [model]"
      ],
      "metadata": {
        "id": "VvFUqsj1x7U5"
      },
      "execution_count": 39,
      "outputs": []
    },
    {
      "cell_type": "code",
      "source": [
        "y_pred, y_true = make_test_stage(test_dataloader, models[0])\n",
        "y_pred.shape, y_true.shape"
      ],
      "metadata": {
        "colab": {
          "base_uri": "https://localhost:8080/"
        },
        "id": "kAOAekQkyla0",
        "outputId": "09d03a1d-b4b8-4afa-8bbd-951c7afe9ade"
      },
      "execution_count": 40,
      "outputs": [
        {
          "output_type": "execute_result",
          "data": {
            "text/plain": [
              "((216,), (216,))"
            ]
          },
          "metadata": {},
          "execution_count": 40
        }
      ]
    },
    {
      "cell_type": "code",
      "source": [
        "report = pd.DataFrame(\n",
        "    classification_report(\n",
        "        y_pred,\n",
        "        y_true,\n",
        "        output_dict=True\n",
        "    )\n",
        ").transpose()"
      ],
      "metadata": {
        "colab": {
          "base_uri": "https://localhost:8080/"
        },
        "id": "Q3ILjI09ypOd",
        "outputId": "548b2fbf-e50a-494b-ed3c-a36e58920916"
      },
      "execution_count": 41,
      "outputs": [
        {
          "output_type": "stream",
          "name": "stderr",
          "text": [
            "/usr/local/lib/python3.10/dist-packages/sklearn/metrics/_classification.py:1531: UndefinedMetricWarning: Recall is ill-defined and being set to 0.0 in labels with no true samples. Use `zero_division` parameter to control this behavior.\n",
            "  _warn_prf(average, modifier, f\"{metric.capitalize()} is\", len(result))\n",
            "/usr/local/lib/python3.10/dist-packages/sklearn/metrics/_classification.py:1531: UndefinedMetricWarning: Recall is ill-defined and being set to 0.0 in labels with no true samples. Use `zero_division` parameter to control this behavior.\n",
            "  _warn_prf(average, modifier, f\"{metric.capitalize()} is\", len(result))\n",
            "/usr/local/lib/python3.10/dist-packages/sklearn/metrics/_classification.py:1531: UndefinedMetricWarning: Recall is ill-defined and being set to 0.0 in labels with no true samples. Use `zero_division` parameter to control this behavior.\n",
            "  _warn_prf(average, modifier, f\"{metric.capitalize()} is\", len(result))\n"
          ]
        }
      ]
    },
    {
      "cell_type": "code",
      "source": [
        "clf_report = classification_report(y_pred,\n",
        "                                   y_true,\n",
        "                                   labels=[0,1,2,3,4],\n",
        "                                   target_names=list(id_to_label.values()),#['N', 'S', 'V', 'F', 'Q'],\n",
        "                                   output_dict=True)\n",
        "\n",
        "\n",
        "plt.figure(figsize=(10, 8))\n",
        "ax = sns.heatmap(pd.DataFrame(clf_report).iloc[:-1, :].T, annot=True)\n",
        "ax.set_xticklabels(ax.get_xticklabels(),fontsize=15)\n",
        "ax.set_yticklabels(ax.get_yticklabels(),fontsize=12, rotation=0)\n",
        "plt.title(\"Ensemble Classification Report\", fontsize=20)\n",
        "plt.savefig(f\"ensemble result.svg\",format=\"svg\",bbox_inches='tight', pad_inches=0.2)\n",
        "plt.savefig(f\"ensemble result.png\", format=\"png\",bbox_inches='tight', pad_inches=0.2)"
      ],
      "metadata": {
        "id": "Ab6XDXiqxlGv",
        "colab": {
          "base_uri": "https://localhost:8080/",
          "height": 835
        },
        "outputId": "db26f2ec-b891-448b-8d4c-99e5002ad3f6"
      },
      "execution_count": 42,
      "outputs": [
        {
          "output_type": "stream",
          "name": "stderr",
          "text": [
            "/usr/local/lib/python3.10/dist-packages/sklearn/metrics/_classification.py:1531: UndefinedMetricWarning: Recall is ill-defined and being set to 0.0 in labels with no true samples. Use `zero_division` parameter to control this behavior.\n",
            "  _warn_prf(average, modifier, f\"{metric.capitalize()} is\", len(result))\n",
            "/usr/local/lib/python3.10/dist-packages/sklearn/metrics/_classification.py:1531: UndefinedMetricWarning: Recall is ill-defined and being set to 0.0 in labels with no true samples. Use `zero_division` parameter to control this behavior.\n",
            "  _warn_prf(average, modifier, f\"{metric.capitalize()} is\", len(result))\n",
            "/usr/local/lib/python3.10/dist-packages/sklearn/metrics/_classification.py:1531: UndefinedMetricWarning: Recall is ill-defined and being set to 0.0 in labels with no true samples. Use `zero_division` parameter to control this behavior.\n",
            "  _warn_prf(average, modifier, f\"{metric.capitalize()} is\", len(result))\n"
          ]
        },
        {
          "output_type": "display_data",
          "data": {
            "text/plain": [
              "<Figure size 1000x800 with 2 Axes>"
            ],
            "image/png": "[encoded data removed]"
          },
          "metadata": {}
        }
      ]
    }
  ]
}